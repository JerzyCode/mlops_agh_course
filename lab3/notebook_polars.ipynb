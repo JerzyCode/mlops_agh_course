{
 "cells": [
  {
   "cell_type": "markdown",
   "id": "15710735-72e1-48cc-b404-bd7e7d09b0d9",
   "metadata": {
    "collapsed": true,
    "jupyter": {
     "outputs_hidden": true
    }
   },
   "source": [
    "# Polars introduction"
   ]
  },
  {
   "cell_type": "markdown",
   "id": "de66090e-1982-4ac9-a5d6-db28ef65d8c2",
   "metadata": {},
   "source": [
    "This notebook is loosely based on:\n",
    "- [\"A Practical Introduction to Polars for Python Data Processing\" P. Darugar](https://www.parand.com/a-practical-introduction-to-polars.html)\n",
    "- [\"Modern Polars\" K. Heavey](https://kevinheavey.github.io/modern-polars/)\n",
    "- [Polars user guide](https://pola-rs.github.io/polars-book/user-guide/)\n",
    "- [Polars blog - A bird's eye view of Polars](https://pola.rs/posts/polars_birds_eye_view/)"
   ]
  },
  {
   "cell_type": "markdown",
   "id": "7ca15f7e-ddd4-4347-95ba-6ef62a1cef7b",
   "metadata": {},
   "source": [
    "## Downloading data"
   ]
  },
  {
   "cell_type": "markdown",
   "id": "c0bc1b13-f9a9-4158-9727-8ef908f9b2a1",
   "metadata": {},
   "source": [
    "We will use [New York City yellow taxi trips](https://www.nyc.gov/site/tlc/about/tlc-trip-record-data.page) from 2024. This is a typical raw input to ML pipelines, with individual events as rows. We will download full 2024 data. Due to its size, it's already distributed as Parquet files. Feature descriptions are available [as a data dictionary document](https://www.nyc.gov/assets/tlc/downloads/pdf/data_dictionary_trip_records_yellow.pdf)."
   ]
  },
  {
   "cell_type": "code",
   "execution_count": 1,
   "id": "850e343c",
   "metadata": {},
   "outputs": [],
   "source": [
    "import os\n",
    "import subprocess\n",
    "\n",
    "DATA_DIR = \"data\"\n",
    "if not os.path.exists(DATA_DIR):\n",
    "    os.mkdir(DATA_DIR)"
   ]
  },
  {
   "cell_type": "code",
   "execution_count": 2,
   "id": "397cd0f3-f57c-4779-9f89-3fd116d3f33d",
   "metadata": {
    "scrolled": true
   },
   "outputs": [
    {
     "name": "stdout",
     "output_type": "stream",
     "text": [
      "Total dataset size: 660 MB\n"
     ]
    }
   ],
   "source": [
    "for month in range(1, 13):\n",
    "    if not os.path.exists(f\"{DATA_DIR}/{month}.parquet\"):\n",
    "        subprocess.run(\n",
    "            [\n",
    "                \"wget\",\n",
    "                f\"https://d37ci6vzurychx.cloudfront.net/trip-data/yellow_tripdata_2024-{month:02}.parquet\",\n",
    "                \"-O\",\n",
    "                f\"{DATA_DIR}/{month}.parquet\",\n",
    "            ]\n",
    "        )\n",
    "\n",
    "\n",
    "total_size = sum(\n",
    "    os.path.getsize(f\"{DATA_DIR}/{month}.parquet\") for month in range(1, 13)\n",
    ")  # bytes\n",
    "total_size_mb = total_size // (1024 * 1024)\n",
    "print(f\"Total dataset size: {total_size_mb} MB\")"
   ]
  },
  {
   "cell_type": "markdown",
   "id": "296cf618-247b-4559-b900-8d046fa3ea24",
   "metadata": {},
   "source": [
    "For later queries, we will also download mapping for location IDs."
   ]
  },
  {
   "cell_type": "code",
   "execution_count": 3,
   "id": "28473247-a398-478a-ab7f-e668cda55276",
   "metadata": {
    "scrolled": true
   },
   "outputs": [],
   "source": [
    "if not os.path.exists(f\"{DATA_DIR}/taxi_zone_lookup.csv\"):\n",
    "    subprocess.run(\n",
    "        [\n",
    "            \"wget\",\n",
    "            \"https://d37ci6vzurychx.cloudfront.net/misc/taxi_zone_lookup.csv\",\n",
    "            \"-O\",\n",
    "            f\"{DATA_DIR}/taxi_zone_lookup.csv\",\n",
    "        ]\n",
    "    )"
   ]
  },
  {
   "cell_type": "markdown",
   "id": "b9c68e8a-48c9-410f-a233-71c902910d69",
   "metadata": {},
   "source": [
    "## DataFrames, selecting and filtering"
   ]
  },
  {
   "cell_type": "markdown",
   "id": "62e6e0ae-712f-4627-8a41-c171633aa323",
   "metadata": {},
   "source": [
    "Polars works generally very similarly to Pandas. We will use mostly eager evaluation here. If you run into memory problems, use only later month, e.g. 6-12."
   ]
  },
  {
   "cell_type": "code",
   "execution_count": 3,
   "id": "950a2447-2b9b-4a53-b5fd-93fe8d073ced",
   "metadata": {
    "scrolled": true
   },
   "outputs": [
    {
     "data": {
      "text/html": [
       "<div><style>\n",
       ".dataframe > thead > tr,\n",
       ".dataframe > tbody > tr {\n",
       "  text-align: right;\n",
       "  white-space: pre-wrap;\n",
       "}\n",
       "</style>\n",
       "<small>shape: (2_964_624, 19)</small><table border=\"1\" class=\"dataframe\"><thead><tr><th>VendorID</th><th>tpep_pickup_datetime</th><th>tpep_dropoff_datetime</th><th>passenger_count</th><th>trip_distance</th><th>RatecodeID</th><th>store_and_fwd_flag</th><th>PULocationID</th><th>DOLocationID</th><th>payment_type</th><th>fare_amount</th><th>extra</th><th>mta_tax</th><th>tip_amount</th><th>tolls_amount</th><th>improvement_surcharge</th><th>total_amount</th><th>congestion_surcharge</th><th>Airport_fee</th></tr><tr><td>i32</td><td>datetime[ns]</td><td>datetime[ns]</td><td>i64</td><td>f64</td><td>i64</td><td>str</td><td>i32</td><td>i32</td><td>i64</td><td>f64</td><td>f64</td><td>f64</td><td>f64</td><td>f64</td><td>f64</td><td>f64</td><td>f64</td><td>f64</td></tr></thead><tbody><tr><td>2</td><td>2024-01-01 00:57:55</td><td>2024-01-01 01:17:43</td><td>1</td><td>1.72</td><td>1</td><td>&quot;N&quot;</td><td>186</td><td>79</td><td>2</td><td>17.7</td><td>1.0</td><td>0.5</td><td>0.0</td><td>0.0</td><td>1.0</td><td>22.7</td><td>2.5</td><td>0.0</td></tr><tr><td>1</td><td>2024-01-01 00:03:00</td><td>2024-01-01 00:09:36</td><td>1</td><td>1.8</td><td>1</td><td>&quot;N&quot;</td><td>140</td><td>236</td><td>1</td><td>10.0</td><td>3.5</td><td>0.5</td><td>3.75</td><td>0.0</td><td>1.0</td><td>18.75</td><td>2.5</td><td>0.0</td></tr><tr><td>1</td><td>2024-01-01 00:17:06</td><td>2024-01-01 00:35:01</td><td>1</td><td>4.7</td><td>1</td><td>&quot;N&quot;</td><td>236</td><td>79</td><td>1</td><td>23.3</td><td>3.5</td><td>0.5</td><td>3.0</td><td>0.0</td><td>1.0</td><td>31.3</td><td>2.5</td><td>0.0</td></tr><tr><td>1</td><td>2024-01-01 00:36:38</td><td>2024-01-01 00:44:56</td><td>1</td><td>1.4</td><td>1</td><td>&quot;N&quot;</td><td>79</td><td>211</td><td>1</td><td>10.0</td><td>3.5</td><td>0.5</td><td>2.0</td><td>0.0</td><td>1.0</td><td>17.0</td><td>2.5</td><td>0.0</td></tr><tr><td>1</td><td>2024-01-01 00:46:51</td><td>2024-01-01 00:52:57</td><td>1</td><td>0.8</td><td>1</td><td>&quot;N&quot;</td><td>211</td><td>148</td><td>1</td><td>7.9</td><td>3.5</td><td>0.5</td><td>3.2</td><td>0.0</td><td>1.0</td><td>16.1</td><td>2.5</td><td>0.0</td></tr><tr><td>&hellip;</td><td>&hellip;</td><td>&hellip;</td><td>&hellip;</td><td>&hellip;</td><td>&hellip;</td><td>&hellip;</td><td>&hellip;</td><td>&hellip;</td><td>&hellip;</td><td>&hellip;</td><td>&hellip;</td><td>&hellip;</td><td>&hellip;</td><td>&hellip;</td><td>&hellip;</td><td>&hellip;</td><td>&hellip;</td><td>&hellip;</td></tr><tr><td>2</td><td>2024-01-31 23:45:59</td><td>2024-01-31 23:54:36</td><td>null</td><td>3.18</td><td>null</td><td>null</td><td>107</td><td>263</td><td>0</td><td>15.77</td><td>0.0</td><td>0.5</td><td>2.0</td><td>0.0</td><td>1.0</td><td>21.77</td><td>null</td><td>null</td></tr><tr><td>1</td><td>2024-01-31 23:13:07</td><td>2024-01-31 23:27:52</td><td>null</td><td>4.0</td><td>null</td><td>null</td><td>114</td><td>236</td><td>0</td><td>18.4</td><td>1.0</td><td>0.5</td><td>2.34</td><td>0.0</td><td>1.0</td><td>25.74</td><td>null</td><td>null</td></tr><tr><td>2</td><td>2024-01-31 23:19:00</td><td>2024-01-31 23:38:00</td><td>null</td><td>3.33</td><td>null</td><td>null</td><td>211</td><td>25</td><td>0</td><td>19.97</td><td>0.0</td><td>0.5</td><td>0.0</td><td>0.0</td><td>1.0</td><td>23.97</td><td>null</td><td>null</td></tr><tr><td>2</td><td>2024-01-31 23:07:23</td><td>2024-01-31 23:25:14</td><td>null</td><td>3.06</td><td>null</td><td>null</td><td>107</td><td>13</td><td>0</td><td>23.88</td><td>0.0</td><td>0.5</td><td>5.58</td><td>0.0</td><td>1.0</td><td>33.46</td><td>null</td><td>null</td></tr><tr><td>1</td><td>2024-01-31 23:58:25</td><td>2024-02-01 00:13:30</td><td>null</td><td>8.1</td><td>null</td><td>null</td><td>138</td><td>75</td><td>0</td><td>32.4</td><td>7.75</td><td>0.5</td><td>7.29</td><td>6.94</td><td>1.0</td><td>55.88</td><td>null</td><td>null</td></tr></tbody></table></div>"
      ],
      "text/plain": [
       "shape: (2_964_624, 19)\n",
       "┌──────────┬───────────┬───────────┬───────────┬───┬───────────┬───────────┬───────────┬───────────┐\n",
       "│ VendorID ┆ tpep_pick ┆ tpep_drop ┆ passenger ┆ … ┆ improveme ┆ total_amo ┆ congestio ┆ Airport_f │\n",
       "│ ---      ┆ up_dateti ┆ off_datet ┆ _count    ┆   ┆ nt_surcha ┆ unt       ┆ n_surchar ┆ ee        │\n",
       "│ i32      ┆ me        ┆ ime       ┆ ---       ┆   ┆ rge       ┆ ---       ┆ ge        ┆ ---       │\n",
       "│          ┆ ---       ┆ ---       ┆ i64       ┆   ┆ ---       ┆ f64       ┆ ---       ┆ f64       │\n",
       "│          ┆ datetime[ ┆ datetime[ ┆           ┆   ┆ f64       ┆           ┆ f64       ┆           │\n",
       "│          ┆ ns]       ┆ ns]       ┆           ┆   ┆           ┆           ┆           ┆           │\n",
       "╞══════════╪═══════════╪═══════════╪═══════════╪═══╪═══════════╪═══════════╪═══════════╪═══════════╡\n",
       "│ 2        ┆ 2024-01-0 ┆ 2024-01-0 ┆ 1         ┆ … ┆ 1.0       ┆ 22.7      ┆ 2.5       ┆ 0.0       │\n",
       "│          ┆ 1         ┆ 1         ┆           ┆   ┆           ┆           ┆           ┆           │\n",
       "│          ┆ 00:57:55  ┆ 01:17:43  ┆           ┆   ┆           ┆           ┆           ┆           │\n",
       "│ 1        ┆ 2024-01-0 ┆ 2024-01-0 ┆ 1         ┆ … ┆ 1.0       ┆ 18.75     ┆ 2.5       ┆ 0.0       │\n",
       "│          ┆ 1         ┆ 1         ┆           ┆   ┆           ┆           ┆           ┆           │\n",
       "│          ┆ 00:03:00  ┆ 00:09:36  ┆           ┆   ┆           ┆           ┆           ┆           │\n",
       "│ 1        ┆ 2024-01-0 ┆ 2024-01-0 ┆ 1         ┆ … ┆ 1.0       ┆ 31.3      ┆ 2.5       ┆ 0.0       │\n",
       "│          ┆ 1         ┆ 1         ┆           ┆   ┆           ┆           ┆           ┆           │\n",
       "│          ┆ 00:17:06  ┆ 00:35:01  ┆           ┆   ┆           ┆           ┆           ┆           │\n",
       "│ 1        ┆ 2024-01-0 ┆ 2024-01-0 ┆ 1         ┆ … ┆ 1.0       ┆ 17.0      ┆ 2.5       ┆ 0.0       │\n",
       "│          ┆ 1         ┆ 1         ┆           ┆   ┆           ┆           ┆           ┆           │\n",
       "│          ┆ 00:36:38  ┆ 00:44:56  ┆           ┆   ┆           ┆           ┆           ┆           │\n",
       "│ 1        ┆ 2024-01-0 ┆ 2024-01-0 ┆ 1         ┆ … ┆ 1.0       ┆ 16.1      ┆ 2.5       ┆ 0.0       │\n",
       "│          ┆ 1         ┆ 1         ┆           ┆   ┆           ┆           ┆           ┆           │\n",
       "│          ┆ 00:46:51  ┆ 00:52:57  ┆           ┆   ┆           ┆           ┆           ┆           │\n",
       "│ …        ┆ …         ┆ …         ┆ …         ┆ … ┆ …         ┆ …         ┆ …         ┆ …         │\n",
       "│ 2        ┆ 2024-01-3 ┆ 2024-01-3 ┆ null      ┆ … ┆ 1.0       ┆ 21.77     ┆ null      ┆ null      │\n",
       "│          ┆ 1         ┆ 1         ┆           ┆   ┆           ┆           ┆           ┆           │\n",
       "│          ┆ 23:45:59  ┆ 23:54:36  ┆           ┆   ┆           ┆           ┆           ┆           │\n",
       "│ 1        ┆ 2024-01-3 ┆ 2024-01-3 ┆ null      ┆ … ┆ 1.0       ┆ 25.74     ┆ null      ┆ null      │\n",
       "│          ┆ 1         ┆ 1         ┆           ┆   ┆           ┆           ┆           ┆           │\n",
       "│          ┆ 23:13:07  ┆ 23:27:52  ┆           ┆   ┆           ┆           ┆           ┆           │\n",
       "│ 2        ┆ 2024-01-3 ┆ 2024-01-3 ┆ null      ┆ … ┆ 1.0       ┆ 23.97     ┆ null      ┆ null      │\n",
       "│          ┆ 1         ┆ 1         ┆           ┆   ┆           ┆           ┆           ┆           │\n",
       "│          ┆ 23:19:00  ┆ 23:38:00  ┆           ┆   ┆           ┆           ┆           ┆           │\n",
       "│ 2        ┆ 2024-01-3 ┆ 2024-01-3 ┆ null      ┆ … ┆ 1.0       ┆ 33.46     ┆ null      ┆ null      │\n",
       "│          ┆ 1         ┆ 1         ┆           ┆   ┆           ┆           ┆           ┆           │\n",
       "│          ┆ 23:07:23  ┆ 23:25:14  ┆           ┆   ┆           ┆           ┆           ┆           │\n",
       "│ 1        ┆ 2024-01-3 ┆ 2024-02-0 ┆ null      ┆ … ┆ 1.0       ┆ 55.88     ┆ null      ┆ null      │\n",
       "│          ┆ 1         ┆ 1         ┆           ┆   ┆           ┆           ┆           ┆           │\n",
       "│          ┆ 23:58:25  ┆ 00:13:30  ┆           ┆   ┆           ┆           ┆           ┆           │\n",
       "└──────────┴───────────┴───────────┴───────────┴───┴───────────┴───────────┴───────────┴───────────┘"
      ]
     },
     "execution_count": 3,
     "metadata": {},
     "output_type": "execute_result"
    }
   ],
   "source": [
    "import polars as pl\n",
    "\n",
    "df = pl.read_parquet(f\"{DATA_DIR}/1.parquet\")\n",
    "df"
   ]
  },
  {
   "cell_type": "code",
   "execution_count": 5,
   "id": "5d4d82c5-256b-4e86-a16d-37b173c5be53",
   "metadata": {},
   "outputs": [
    {
     "data": {
      "text/plain": [
       "polars.dataframe.frame.DataFrame"
      ]
     },
     "execution_count": 5,
     "metadata": {},
     "output_type": "execute_result"
    }
   ],
   "source": [
    "type(df)"
   ]
  },
  {
   "cell_type": "markdown",
   "id": "a6e3330c-0b7b-43fa-bcbd-e2fbb6ffcbfe",
   "metadata": {},
   "source": [
    "Checking columns, data types, and shape is also similar to Pandas."
   ]
  },
  {
   "cell_type": "code",
   "execution_count": 6,
   "id": "2ce6888f-7806-4e4d-bce8-aacadb05e53c",
   "metadata": {
    "scrolled": true
   },
   "outputs": [
    {
     "data": {
      "text/plain": [
       "['VendorID',\n",
       " 'tpep_pickup_datetime',\n",
       " 'tpep_dropoff_datetime',\n",
       " 'passenger_count',\n",
       " 'trip_distance',\n",
       " 'RatecodeID',\n",
       " 'store_and_fwd_flag',\n",
       " 'PULocationID',\n",
       " 'DOLocationID',\n",
       " 'payment_type',\n",
       " 'fare_amount',\n",
       " 'extra',\n",
       " 'mta_tax',\n",
       " 'tip_amount',\n",
       " 'tolls_amount',\n",
       " 'improvement_surcharge',\n",
       " 'total_amount',\n",
       " 'congestion_surcharge',\n",
       " 'Airport_fee']"
      ]
     },
     "execution_count": 6,
     "metadata": {},
     "output_type": "execute_result"
    }
   ],
   "source": [
    "# Python list of strings\n",
    "df.columns"
   ]
  },
  {
   "cell_type": "code",
   "execution_count": 7,
   "id": "746407a6-20be-428c-8725-3a67e6d9ba60",
   "metadata": {
    "scrolled": true
   },
   "outputs": [
    {
     "data": {
      "text/plain": [
       "[Int32,\n",
       " Datetime(time_unit='ns', time_zone=None),\n",
       " Datetime(time_unit='ns', time_zone=None),\n",
       " Int64,\n",
       " Float64,\n",
       " Int64,\n",
       " String,\n",
       " Int32,\n",
       " Int32,\n",
       " Int64,\n",
       " Float64,\n",
       " Float64,\n",
       " Float64,\n",
       " Float64,\n",
       " Float64,\n",
       " Float64,\n",
       " Float64,\n",
       " Float64,\n",
       " Float64]"
      ]
     },
     "execution_count": 7,
     "metadata": {},
     "output_type": "execute_result"
    }
   ],
   "source": [
    "# Python list of data types from pd.datatypes\n",
    "df.dtypes"
   ]
  },
  {
   "cell_type": "code",
   "execution_count": 8,
   "id": "60f1393e-812a-49f6-8e6d-a1d9924f4eca",
   "metadata": {},
   "outputs": [
    {
     "data": {
      "text/plain": [
       "(2964624, 19)"
      ]
     },
     "execution_count": 8,
     "metadata": {},
     "output_type": "execute_result"
    }
   ],
   "source": [
    "# tuple of integers\n",
    "df.shape"
   ]
  },
  {
   "cell_type": "markdown",
   "id": "9f30ba94-91e4-4366-afe2-61268d7b2075",
   "metadata": {},
   "source": [
    "A few basics:\n",
    "- **selecting** columns is done with `.select()`\n",
    "- **filtering** rows is done with `.filter()`\n",
    "- **columns** are used either as strings for simple uses, or as objects created with `pl.col(col_name)` for more complex transformations\n",
    "- **expressions** are lazily evaluated objects (always, even in eager mode), representing data transformations\n",
    "- **methods** are typically run on expressions, e.g. `.is_null()`\n",
    "\n",
    "Selecting and filtering operations take columns or expressions. A single column is also an expression. Let's see a few examples."
   ]
  },
  {
   "cell_type": "code",
   "execution_count": 9,
   "id": "d39b2bc6-11ed-40a7-be12-f28e9be82312",
   "metadata": {
    "scrolled": true
   },
   "outputs": [
    {
     "data": {
      "text/html": [
       "<div><style>\n",
       ".dataframe > thead > tr,\n",
       ".dataframe > tbody > tr {\n",
       "  text-align: right;\n",
       "  white-space: pre-wrap;\n",
       "}\n",
       "</style>\n",
       "<small>shape: (2_964_624, 1)</small><table border=\"1\" class=\"dataframe\"><thead><tr><th>passenger_count</th></tr><tr><td>i64</td></tr></thead><tbody><tr><td>1</td></tr><tr><td>1</td></tr><tr><td>1</td></tr><tr><td>1</td></tr><tr><td>1</td></tr><tr><td>&hellip;</td></tr><tr><td>null</td></tr><tr><td>null</td></tr><tr><td>null</td></tr><tr><td>null</td></tr><tr><td>null</td></tr></tbody></table></div>"
      ],
      "text/plain": [
       "shape: (2_964_624, 1)\n",
       "┌─────────────────┐\n",
       "│ passenger_count │\n",
       "│ ---             │\n",
       "│ i64             │\n",
       "╞═════════════════╡\n",
       "│ 1               │\n",
       "│ 1               │\n",
       "│ 1               │\n",
       "│ 1               │\n",
       "│ 1               │\n",
       "│ …               │\n",
       "│ null            │\n",
       "│ null            │\n",
       "│ null            │\n",
       "│ null            │\n",
       "│ null            │\n",
       "└─────────────────┘"
      ]
     },
     "execution_count": 9,
     "metadata": {},
     "output_type": "execute_result"
    }
   ],
   "source": [
    "df.select(\"passenger_count\")"
   ]
  },
  {
   "cell_type": "code",
   "execution_count": 10,
   "id": "03f3712c-a35e-40b4-9f44-743912fce177",
   "metadata": {
    "scrolled": true
   },
   "outputs": [
    {
     "data": {
      "text/html": [
       "<div><style>\n",
       ".dataframe > thead > tr,\n",
       ".dataframe > tbody > tr {\n",
       "  text-align: right;\n",
       "  white-space: pre-wrap;\n",
       "}\n",
       "</style>\n",
       "<small>shape: (2_964_624, 1)</small><table border=\"1\" class=\"dataframe\"><thead><tr><th>passenger_count</th></tr><tr><td>i64</td></tr></thead><tbody><tr><td>1</td></tr><tr><td>1</td></tr><tr><td>1</td></tr><tr><td>1</td></tr><tr><td>1</td></tr><tr><td>&hellip;</td></tr><tr><td>null</td></tr><tr><td>null</td></tr><tr><td>null</td></tr><tr><td>null</td></tr><tr><td>null</td></tr></tbody></table></div>"
      ],
      "text/plain": [
       "shape: (2_964_624, 1)\n",
       "┌─────────────────┐\n",
       "│ passenger_count │\n",
       "│ ---             │\n",
       "│ i64             │\n",
       "╞═════════════════╡\n",
       "│ 1               │\n",
       "│ 1               │\n",
       "│ 1               │\n",
       "│ 1               │\n",
       "│ 1               │\n",
       "│ …               │\n",
       "│ null            │\n",
       "│ null            │\n",
       "│ null            │\n",
       "│ null            │\n",
       "│ null            │\n",
       "└─────────────────┘"
      ]
     },
     "execution_count": 10,
     "metadata": {},
     "output_type": "execute_result"
    }
   ],
   "source": [
    "df.select(pl.col(\"passenger_count\"))"
   ]
  },
  {
   "cell_type": "code",
   "execution_count": 11,
   "id": "9e1ef2e9-fe11-4e64-84f8-e068645054fa",
   "metadata": {},
   "outputs": [
    {
     "data": {
      "text/html": [
       "<div><style>\n",
       ".dataframe > thead > tr,\n",
       ".dataframe > tbody > tr {\n",
       "  text-align: right;\n",
       "  white-space: pre-wrap;\n",
       "}\n",
       "</style>\n",
       "<small>shape: (2_824_462, 19)</small><table border=\"1\" class=\"dataframe\"><thead><tr><th>VendorID</th><th>tpep_pickup_datetime</th><th>tpep_dropoff_datetime</th><th>passenger_count</th><th>trip_distance</th><th>RatecodeID</th><th>store_and_fwd_flag</th><th>PULocationID</th><th>DOLocationID</th><th>payment_type</th><th>fare_amount</th><th>extra</th><th>mta_tax</th><th>tip_amount</th><th>tolls_amount</th><th>improvement_surcharge</th><th>total_amount</th><th>congestion_surcharge</th><th>Airport_fee</th></tr><tr><td>i32</td><td>datetime[ns]</td><td>datetime[ns]</td><td>i64</td><td>f64</td><td>i64</td><td>str</td><td>i32</td><td>i32</td><td>i64</td><td>f64</td><td>f64</td><td>f64</td><td>f64</td><td>f64</td><td>f64</td><td>f64</td><td>f64</td><td>f64</td></tr></thead><tbody><tr><td>2</td><td>2024-01-01 00:57:55</td><td>2024-01-01 01:17:43</td><td>1</td><td>1.72</td><td>1</td><td>&quot;N&quot;</td><td>186</td><td>79</td><td>2</td><td>17.7</td><td>1.0</td><td>0.5</td><td>0.0</td><td>0.0</td><td>1.0</td><td>22.7</td><td>2.5</td><td>0.0</td></tr><tr><td>1</td><td>2024-01-01 00:03:00</td><td>2024-01-01 00:09:36</td><td>1</td><td>1.8</td><td>1</td><td>&quot;N&quot;</td><td>140</td><td>236</td><td>1</td><td>10.0</td><td>3.5</td><td>0.5</td><td>3.75</td><td>0.0</td><td>1.0</td><td>18.75</td><td>2.5</td><td>0.0</td></tr><tr><td>1</td><td>2024-01-01 00:17:06</td><td>2024-01-01 00:35:01</td><td>1</td><td>4.7</td><td>1</td><td>&quot;N&quot;</td><td>236</td><td>79</td><td>1</td><td>23.3</td><td>3.5</td><td>0.5</td><td>3.0</td><td>0.0</td><td>1.0</td><td>31.3</td><td>2.5</td><td>0.0</td></tr><tr><td>1</td><td>2024-01-01 00:36:38</td><td>2024-01-01 00:44:56</td><td>1</td><td>1.4</td><td>1</td><td>&quot;N&quot;</td><td>79</td><td>211</td><td>1</td><td>10.0</td><td>3.5</td><td>0.5</td><td>2.0</td><td>0.0</td><td>1.0</td><td>17.0</td><td>2.5</td><td>0.0</td></tr><tr><td>1</td><td>2024-01-01 00:46:51</td><td>2024-01-01 00:52:57</td><td>1</td><td>0.8</td><td>1</td><td>&quot;N&quot;</td><td>211</td><td>148</td><td>1</td><td>7.9</td><td>3.5</td><td>0.5</td><td>3.2</td><td>0.0</td><td>1.0</td><td>16.1</td><td>2.5</td><td>0.0</td></tr><tr><td>&hellip;</td><td>&hellip;</td><td>&hellip;</td><td>&hellip;</td><td>&hellip;</td><td>&hellip;</td><td>&hellip;</td><td>&hellip;</td><td>&hellip;</td><td>&hellip;</td><td>&hellip;</td><td>&hellip;</td><td>&hellip;</td><td>&hellip;</td><td>&hellip;</td><td>&hellip;</td><td>&hellip;</td><td>&hellip;</td><td>&hellip;</td></tr><tr><td>2</td><td>2024-01-31 23:10:28</td><td>2024-01-31 23:18:30</td><td>1</td><td>3.51</td><td>1</td><td>&quot;N&quot;</td><td>138</td><td>129</td><td>1</td><td>16.3</td><td>6.0</td><td>0.5</td><td>4.76</td><td>0.0</td><td>1.0</td><td>30.31</td><td>0.0</td><td>1.75</td></tr><tr><td>2</td><td>2024-01-31 23:01:04</td><td>2024-01-31 23:17:35</td><td>1</td><td>3.36</td><td>1</td><td>&quot;N&quot;</td><td>162</td><td>261</td><td>1</td><td>18.4</td><td>1.0</td><td>0.5</td><td>5.85</td><td>0.0</td><td>1.0</td><td>29.25</td><td>2.5</td><td>0.0</td></tr><tr><td>1</td><td>2024-01-31 23:08:13</td><td>2024-01-31 23:25:00</td><td>3</td><td>3.3</td><td>1</td><td>&quot;N&quot;</td><td>43</td><td>249</td><td>1</td><td>17.7</td><td>3.5</td><td>0.5</td><td>1.0</td><td>0.0</td><td>1.0</td><td>23.7</td><td>2.5</td><td>0.0</td></tr><tr><td>1</td><td>2024-01-31 23:49:46</td><td>2024-01-31 23:53:10</td><td>0</td><td>0.4</td><td>1</td><td>&quot;N&quot;</td><td>142</td><td>163</td><td>2</td><td>5.1</td><td>3.5</td><td>0.5</td><td>0.0</td><td>0.0</td><td>1.0</td><td>10.1</td><td>2.5</td><td>0.0</td></tr><tr><td>2</td><td>2024-01-31 23:03:26</td><td>2024-01-31 23:09:12</td><td>1</td><td>1.58</td><td>1</td><td>&quot;N&quot;</td><td>140</td><td>263</td><td>1</td><td>8.6</td><td>1.0</td><td>0.5</td><td>2.72</td><td>0.0</td><td>1.0</td><td>16.32</td><td>2.5</td><td>0.0</td></tr></tbody></table></div>"
      ],
      "text/plain": [
       "shape: (2_824_462, 19)\n",
       "┌──────────┬───────────┬───────────┬───────────┬───┬───────────┬───────────┬───────────┬───────────┐\n",
       "│ VendorID ┆ tpep_pick ┆ tpep_drop ┆ passenger ┆ … ┆ improveme ┆ total_amo ┆ congestio ┆ Airport_f │\n",
       "│ ---      ┆ up_dateti ┆ off_datet ┆ _count    ┆   ┆ nt_surcha ┆ unt       ┆ n_surchar ┆ ee        │\n",
       "│ i32      ┆ me        ┆ ime       ┆ ---       ┆   ┆ rge       ┆ ---       ┆ ge        ┆ ---       │\n",
       "│          ┆ ---       ┆ ---       ┆ i64       ┆   ┆ ---       ┆ f64       ┆ ---       ┆ f64       │\n",
       "│          ┆ datetime[ ┆ datetime[ ┆           ┆   ┆ f64       ┆           ┆ f64       ┆           │\n",
       "│          ┆ ns]       ┆ ns]       ┆           ┆   ┆           ┆           ┆           ┆           │\n",
       "╞══════════╪═══════════╪═══════════╪═══════════╪═══╪═══════════╪═══════════╪═══════════╪═══════════╡\n",
       "│ 2        ┆ 2024-01-0 ┆ 2024-01-0 ┆ 1         ┆ … ┆ 1.0       ┆ 22.7      ┆ 2.5       ┆ 0.0       │\n",
       "│          ┆ 1         ┆ 1         ┆           ┆   ┆           ┆           ┆           ┆           │\n",
       "│          ┆ 00:57:55  ┆ 01:17:43  ┆           ┆   ┆           ┆           ┆           ┆           │\n",
       "│ 1        ┆ 2024-01-0 ┆ 2024-01-0 ┆ 1         ┆ … ┆ 1.0       ┆ 18.75     ┆ 2.5       ┆ 0.0       │\n",
       "│          ┆ 1         ┆ 1         ┆           ┆   ┆           ┆           ┆           ┆           │\n",
       "│          ┆ 00:03:00  ┆ 00:09:36  ┆           ┆   ┆           ┆           ┆           ┆           │\n",
       "│ 1        ┆ 2024-01-0 ┆ 2024-01-0 ┆ 1         ┆ … ┆ 1.0       ┆ 31.3      ┆ 2.5       ┆ 0.0       │\n",
       "│          ┆ 1         ┆ 1         ┆           ┆   ┆           ┆           ┆           ┆           │\n",
       "│          ┆ 00:17:06  ┆ 00:35:01  ┆           ┆   ┆           ┆           ┆           ┆           │\n",
       "│ 1        ┆ 2024-01-0 ┆ 2024-01-0 ┆ 1         ┆ … ┆ 1.0       ┆ 17.0      ┆ 2.5       ┆ 0.0       │\n",
       "│          ┆ 1         ┆ 1         ┆           ┆   ┆           ┆           ┆           ┆           │\n",
       "│          ┆ 00:36:38  ┆ 00:44:56  ┆           ┆   ┆           ┆           ┆           ┆           │\n",
       "│ 1        ┆ 2024-01-0 ┆ 2024-01-0 ┆ 1         ┆ … ┆ 1.0       ┆ 16.1      ┆ 2.5       ┆ 0.0       │\n",
       "│          ┆ 1         ┆ 1         ┆           ┆   ┆           ┆           ┆           ┆           │\n",
       "│          ┆ 00:46:51  ┆ 00:52:57  ┆           ┆   ┆           ┆           ┆           ┆           │\n",
       "│ …        ┆ …         ┆ …         ┆ …         ┆ … ┆ …         ┆ …         ┆ …         ┆ …         │\n",
       "│ 2        ┆ 2024-01-3 ┆ 2024-01-3 ┆ 1         ┆ … ┆ 1.0       ┆ 30.31     ┆ 0.0       ┆ 1.75      │\n",
       "│          ┆ 1         ┆ 1         ┆           ┆   ┆           ┆           ┆           ┆           │\n",
       "│          ┆ 23:10:28  ┆ 23:18:30  ┆           ┆   ┆           ┆           ┆           ┆           │\n",
       "│ 2        ┆ 2024-01-3 ┆ 2024-01-3 ┆ 1         ┆ … ┆ 1.0       ┆ 29.25     ┆ 2.5       ┆ 0.0       │\n",
       "│          ┆ 1         ┆ 1         ┆           ┆   ┆           ┆           ┆           ┆           │\n",
       "│          ┆ 23:01:04  ┆ 23:17:35  ┆           ┆   ┆           ┆           ┆           ┆           │\n",
       "│ 1        ┆ 2024-01-3 ┆ 2024-01-3 ┆ 3         ┆ … ┆ 1.0       ┆ 23.7      ┆ 2.5       ┆ 0.0       │\n",
       "│          ┆ 1         ┆ 1         ┆           ┆   ┆           ┆           ┆           ┆           │\n",
       "│          ┆ 23:08:13  ┆ 23:25:00  ┆           ┆   ┆           ┆           ┆           ┆           │\n",
       "│ 1        ┆ 2024-01-3 ┆ 2024-01-3 ┆ 0         ┆ … ┆ 1.0       ┆ 10.1      ┆ 2.5       ┆ 0.0       │\n",
       "│          ┆ 1         ┆ 1         ┆           ┆   ┆           ┆           ┆           ┆           │\n",
       "│          ┆ 23:49:46  ┆ 23:53:10  ┆           ┆   ┆           ┆           ┆           ┆           │\n",
       "│ 2        ┆ 2024-01-3 ┆ 2024-01-3 ┆ 1         ┆ … ┆ 1.0       ┆ 16.32     ┆ 2.5       ┆ 0.0       │\n",
       "│          ┆ 1         ┆ 1         ┆           ┆   ┆           ┆           ┆           ┆           │\n",
       "│          ┆ 23:03:26  ┆ 23:09:12  ┆           ┆   ┆           ┆           ┆           ┆           │\n",
       "└──────────┴───────────┴───────────┴───────────┴───┴───────────┴───────────┴───────────┴───────────┘"
      ]
     },
     "execution_count": 11,
     "metadata": {},
     "output_type": "execute_result"
    }
   ],
   "source": [
    "df.filter(pl.col(\"passenger_count\").is_not_null())"
   ]
  },
  {
   "cell_type": "markdown",
   "id": "51406a91-c296-4a46-b646-94bbf8871e9f",
   "metadata": {},
   "source": [
    "Filters can be combined with `&` (AND) and `|` (OR), or negated with `~`, like in Pandas. For AND, you can also pass filters as a list."
   ]
  },
  {
   "cell_type": "code",
   "execution_count": 12,
   "id": "e1738167-17d3-41e9-8ab6-bb9753ecd164",
   "metadata": {},
   "outputs": [
    {
     "data": {
      "text/html": [
       "<div><style>\n",
       ".dataframe > thead > tr,\n",
       ".dataframe > tbody > tr {\n",
       "  text-align: right;\n",
       "  white-space: pre-wrap;\n",
       "}\n",
       "</style>\n",
       "<small>shape: (635_622, 19)</small><table border=\"1\" class=\"dataframe\"><thead><tr><th>VendorID</th><th>tpep_pickup_datetime</th><th>tpep_dropoff_datetime</th><th>passenger_count</th><th>trip_distance</th><th>RatecodeID</th><th>store_and_fwd_flag</th><th>PULocationID</th><th>DOLocationID</th><th>payment_type</th><th>fare_amount</th><th>extra</th><th>mta_tax</th><th>tip_amount</th><th>tolls_amount</th><th>improvement_surcharge</th><th>total_amount</th><th>congestion_surcharge</th><th>Airport_fee</th></tr><tr><td>i32</td><td>datetime[ns]</td><td>datetime[ns]</td><td>i64</td><td>f64</td><td>i64</td><td>str</td><td>i32</td><td>i32</td><td>i64</td><td>f64</td><td>f64</td><td>f64</td><td>f64</td><td>f64</td><td>f64</td><td>f64</td><td>f64</td><td>f64</td></tr></thead><tbody><tr><td>2</td><td>2024-01-01 00:57:55</td><td>2024-01-01 01:17:43</td><td>1</td><td>1.72</td><td>1</td><td>&quot;N&quot;</td><td>186</td><td>79</td><td>2</td><td>17.7</td><td>1.0</td><td>0.5</td><td>0.0</td><td>0.0</td><td>1.0</td><td>22.7</td><td>2.5</td><td>0.0</td></tr><tr><td>1</td><td>2024-01-01 00:30:40</td><td>2024-01-01 00:58:40</td><td>0</td><td>3.0</td><td>1</td><td>&quot;N&quot;</td><td>246</td><td>231</td><td>2</td><td>25.4</td><td>3.5</td><td>0.5</td><td>0.0</td><td>0.0</td><td>1.0</td><td>30.4</td><td>2.5</td><td>0.0</td></tr><tr><td>2</td><td>2024-01-01 00:26:01</td><td>2024-01-01 00:54:12</td><td>1</td><td>5.44</td><td>1</td><td>&quot;N&quot;</td><td>161</td><td>261</td><td>2</td><td>31.0</td><td>1.0</td><td>0.5</td><td>0.0</td><td>0.0</td><td>1.0</td><td>36.0</td><td>2.5</td><td>0.0</td></tr><tr><td>2</td><td>2024-01-01 00:28:08</td><td>2024-01-01 00:29:16</td><td>1</td><td>0.04</td><td>1</td><td>&quot;N&quot;</td><td>113</td><td>113</td><td>2</td><td>3.0</td><td>1.0</td><td>0.5</td><td>0.0</td><td>0.0</td><td>1.0</td><td>8.0</td><td>2.5</td><td>0.0</td></tr><tr><td>2</td><td>2024-01-01 00:35:22</td><td>2024-01-01 00:41:41</td><td>2</td><td>0.75</td><td>1</td><td>&quot;N&quot;</td><td>107</td><td>137</td><td>1</td><td>7.9</td><td>1.0</td><td>0.5</td><td>0.0</td><td>0.0</td><td>1.0</td><td>12.9</td><td>2.5</td><td>0.0</td></tr><tr><td>&hellip;</td><td>&hellip;</td><td>&hellip;</td><td>&hellip;</td><td>&hellip;</td><td>&hellip;</td><td>&hellip;</td><td>&hellip;</td><td>&hellip;</td><td>&hellip;</td><td>&hellip;</td><td>&hellip;</td><td>&hellip;</td><td>&hellip;</td><td>&hellip;</td><td>&hellip;</td><td>&hellip;</td><td>&hellip;</td><td>&hellip;</td></tr><tr><td>1</td><td>2024-01-31 23:44:29</td><td>2024-01-31 23:56:23</td><td>2</td><td>1.3</td><td>1</td><td>&quot;N&quot;</td><td>68</td><td>246</td><td>2</td><td>10.0</td><td>3.5</td><td>0.5</td><td>0.0</td><td>0.0</td><td>1.0</td><td>15.0</td><td>2.5</td><td>0.0</td></tr><tr><td>1</td><td>2024-01-31 23:31:32</td><td>2024-01-31 23:40:41</td><td>1</td><td>1.6</td><td>1</td><td>&quot;Y&quot;</td><td>234</td><td>48</td><td>1</td><td>10.7</td><td>3.5</td><td>0.5</td><td>0.0</td><td>0.0</td><td>1.0</td><td>15.7</td><td>2.5</td><td>0.0</td></tr><tr><td>2</td><td>2024-01-31 23:25:48</td><td>2024-01-31 23:25:55</td><td>1</td><td>0.0</td><td>2</td><td>&quot;N&quot;</td><td>50</td><td>50</td><td>2</td><td>70.0</td><td>0.0</td><td>0.5</td><td>0.0</td><td>0.0</td><td>1.0</td><td>74.0</td><td>2.5</td><td>0.0</td></tr><tr><td>2</td><td>2024-01-31 23:26:33</td><td>2024-01-31 23:29:26</td><td>1</td><td>0.09</td><td>1</td><td>&quot;N&quot;</td><td>50</td><td>50</td><td>2</td><td>4.4</td><td>1.0</td><td>0.5</td><td>0.0</td><td>0.0</td><td>1.0</td><td>9.4</td><td>2.5</td><td>0.0</td></tr><tr><td>1</td><td>2024-01-31 23:49:46</td><td>2024-01-31 23:53:10</td><td>0</td><td>0.4</td><td>1</td><td>&quot;N&quot;</td><td>142</td><td>163</td><td>2</td><td>5.1</td><td>3.5</td><td>0.5</td><td>0.0</td><td>0.0</td><td>1.0</td><td>10.1</td><td>2.5</td><td>0.0</td></tr></tbody></table></div>"
      ],
      "text/plain": [
       "shape: (635_622, 19)\n",
       "┌──────────┬───────────┬───────────┬───────────┬───┬───────────┬───────────┬───────────┬───────────┐\n",
       "│ VendorID ┆ tpep_pick ┆ tpep_drop ┆ passenger ┆ … ┆ improveme ┆ total_amo ┆ congestio ┆ Airport_f │\n",
       "│ ---      ┆ up_dateti ┆ off_datet ┆ _count    ┆   ┆ nt_surcha ┆ unt       ┆ n_surchar ┆ ee        │\n",
       "│ i32      ┆ me        ┆ ime       ┆ ---       ┆   ┆ rge       ┆ ---       ┆ ge        ┆ ---       │\n",
       "│          ┆ ---       ┆ ---       ┆ i64       ┆   ┆ ---       ┆ f64       ┆ ---       ┆ f64       │\n",
       "│          ┆ datetime[ ┆ datetime[ ┆           ┆   ┆ f64       ┆           ┆ f64       ┆           │\n",
       "│          ┆ ns]       ┆ ns]       ┆           ┆   ┆           ┆           ┆           ┆           │\n",
       "╞══════════╪═══════════╪═══════════╪═══════════╪═══╪═══════════╪═══════════╪═══════════╪═══════════╡\n",
       "│ 2        ┆ 2024-01-0 ┆ 2024-01-0 ┆ 1         ┆ … ┆ 1.0       ┆ 22.7      ┆ 2.5       ┆ 0.0       │\n",
       "│          ┆ 1         ┆ 1         ┆           ┆   ┆           ┆           ┆           ┆           │\n",
       "│          ┆ 00:57:55  ┆ 01:17:43  ┆           ┆   ┆           ┆           ┆           ┆           │\n",
       "│ 1        ┆ 2024-01-0 ┆ 2024-01-0 ┆ 0         ┆ … ┆ 1.0       ┆ 30.4      ┆ 2.5       ┆ 0.0       │\n",
       "│          ┆ 1         ┆ 1         ┆           ┆   ┆           ┆           ┆           ┆           │\n",
       "│          ┆ 00:30:40  ┆ 00:58:40  ┆           ┆   ┆           ┆           ┆           ┆           │\n",
       "│ 2        ┆ 2024-01-0 ┆ 2024-01-0 ┆ 1         ┆ … ┆ 1.0       ┆ 36.0      ┆ 2.5       ┆ 0.0       │\n",
       "│          ┆ 1         ┆ 1         ┆           ┆   ┆           ┆           ┆           ┆           │\n",
       "│          ┆ 00:26:01  ┆ 00:54:12  ┆           ┆   ┆           ┆           ┆           ┆           │\n",
       "│ 2        ┆ 2024-01-0 ┆ 2024-01-0 ┆ 1         ┆ … ┆ 1.0       ┆ 8.0       ┆ 2.5       ┆ 0.0       │\n",
       "│          ┆ 1         ┆ 1         ┆           ┆   ┆           ┆           ┆           ┆           │\n",
       "│          ┆ 00:28:08  ┆ 00:29:16  ┆           ┆   ┆           ┆           ┆           ┆           │\n",
       "│ 2        ┆ 2024-01-0 ┆ 2024-01-0 ┆ 2         ┆ … ┆ 1.0       ┆ 12.9      ┆ 2.5       ┆ 0.0       │\n",
       "│          ┆ 1         ┆ 1         ┆           ┆   ┆           ┆           ┆           ┆           │\n",
       "│          ┆ 00:35:22  ┆ 00:41:41  ┆           ┆   ┆           ┆           ┆           ┆           │\n",
       "│ …        ┆ …         ┆ …         ┆ …         ┆ … ┆ …         ┆ …         ┆ …         ┆ …         │\n",
       "│ 1        ┆ 2024-01-3 ┆ 2024-01-3 ┆ 2         ┆ … ┆ 1.0       ┆ 15.0      ┆ 2.5       ┆ 0.0       │\n",
       "│          ┆ 1         ┆ 1         ┆           ┆   ┆           ┆           ┆           ┆           │\n",
       "│          ┆ 23:44:29  ┆ 23:56:23  ┆           ┆   ┆           ┆           ┆           ┆           │\n",
       "│ 1        ┆ 2024-01-3 ┆ 2024-01-3 ┆ 1         ┆ … ┆ 1.0       ┆ 15.7      ┆ 2.5       ┆ 0.0       │\n",
       "│          ┆ 1         ┆ 1         ┆           ┆   ┆           ┆           ┆           ┆           │\n",
       "│          ┆ 23:31:32  ┆ 23:40:41  ┆           ┆   ┆           ┆           ┆           ┆           │\n",
       "│ 2        ┆ 2024-01-3 ┆ 2024-01-3 ┆ 1         ┆ … ┆ 1.0       ┆ 74.0      ┆ 2.5       ┆ 0.0       │\n",
       "│          ┆ 1         ┆ 1         ┆           ┆   ┆           ┆           ┆           ┆           │\n",
       "│          ┆ 23:25:48  ┆ 23:25:55  ┆           ┆   ┆           ┆           ┆           ┆           │\n",
       "│ 2        ┆ 2024-01-3 ┆ 2024-01-3 ┆ 1         ┆ … ┆ 1.0       ┆ 9.4       ┆ 2.5       ┆ 0.0       │\n",
       "│          ┆ 1         ┆ 1         ┆           ┆   ┆           ┆           ┆           ┆           │\n",
       "│          ┆ 23:26:33  ┆ 23:29:26  ┆           ┆   ┆           ┆           ┆           ┆           │\n",
       "│ 1        ┆ 2024-01-3 ┆ 2024-01-3 ┆ 0         ┆ … ┆ 1.0       ┆ 10.1      ┆ 2.5       ┆ 0.0       │\n",
       "│          ┆ 1         ┆ 1         ┆           ┆   ┆           ┆           ┆           ┆           │\n",
       "│          ┆ 23:49:46  ┆ 23:53:10  ┆           ┆   ┆           ┆           ┆           ┆           │\n",
       "└──────────┴───────────┴───────────┴───────────┴───┴───────────┴───────────┴───────────┴───────────┘"
      ]
     },
     "execution_count": 12,
     "metadata": {},
     "output_type": "execute_result"
    }
   ],
   "source": [
    "df.filter(pl.col(\"passenger_count\").is_not_null(), pl.col(\"tip_amount\") < 1.0)"
   ]
  },
  {
   "cell_type": "code",
   "execution_count": 13,
   "id": "78f329b4-9ef0-406b-a56d-308bac33d627",
   "metadata": {},
   "outputs": [
    {
     "data": {
      "text/html": [
       "<div><style>\n",
       ".dataframe > thead > tr,\n",
       ".dataframe > tbody > tr {\n",
       "  text-align: right;\n",
       "  white-space: pre-wrap;\n",
       "}\n",
       "</style>\n",
       "<small>shape: (635_622, 19)</small><table border=\"1\" class=\"dataframe\"><thead><tr><th>VendorID</th><th>tpep_pickup_datetime</th><th>tpep_dropoff_datetime</th><th>passenger_count</th><th>trip_distance</th><th>RatecodeID</th><th>store_and_fwd_flag</th><th>PULocationID</th><th>DOLocationID</th><th>payment_type</th><th>fare_amount</th><th>extra</th><th>mta_tax</th><th>tip_amount</th><th>tolls_amount</th><th>improvement_surcharge</th><th>total_amount</th><th>congestion_surcharge</th><th>Airport_fee</th></tr><tr><td>i32</td><td>datetime[ns]</td><td>datetime[ns]</td><td>i64</td><td>f64</td><td>i64</td><td>str</td><td>i32</td><td>i32</td><td>i64</td><td>f64</td><td>f64</td><td>f64</td><td>f64</td><td>f64</td><td>f64</td><td>f64</td><td>f64</td><td>f64</td></tr></thead><tbody><tr><td>2</td><td>2024-01-01 00:57:55</td><td>2024-01-01 01:17:43</td><td>1</td><td>1.72</td><td>1</td><td>&quot;N&quot;</td><td>186</td><td>79</td><td>2</td><td>17.7</td><td>1.0</td><td>0.5</td><td>0.0</td><td>0.0</td><td>1.0</td><td>22.7</td><td>2.5</td><td>0.0</td></tr><tr><td>1</td><td>2024-01-01 00:30:40</td><td>2024-01-01 00:58:40</td><td>0</td><td>3.0</td><td>1</td><td>&quot;N&quot;</td><td>246</td><td>231</td><td>2</td><td>25.4</td><td>3.5</td><td>0.5</td><td>0.0</td><td>0.0</td><td>1.0</td><td>30.4</td><td>2.5</td><td>0.0</td></tr><tr><td>2</td><td>2024-01-01 00:26:01</td><td>2024-01-01 00:54:12</td><td>1</td><td>5.44</td><td>1</td><td>&quot;N&quot;</td><td>161</td><td>261</td><td>2</td><td>31.0</td><td>1.0</td><td>0.5</td><td>0.0</td><td>0.0</td><td>1.0</td><td>36.0</td><td>2.5</td><td>0.0</td></tr><tr><td>2</td><td>2024-01-01 00:28:08</td><td>2024-01-01 00:29:16</td><td>1</td><td>0.04</td><td>1</td><td>&quot;N&quot;</td><td>113</td><td>113</td><td>2</td><td>3.0</td><td>1.0</td><td>0.5</td><td>0.0</td><td>0.0</td><td>1.0</td><td>8.0</td><td>2.5</td><td>0.0</td></tr><tr><td>2</td><td>2024-01-01 00:35:22</td><td>2024-01-01 00:41:41</td><td>2</td><td>0.75</td><td>1</td><td>&quot;N&quot;</td><td>107</td><td>137</td><td>1</td><td>7.9</td><td>1.0</td><td>0.5</td><td>0.0</td><td>0.0</td><td>1.0</td><td>12.9</td><td>2.5</td><td>0.0</td></tr><tr><td>&hellip;</td><td>&hellip;</td><td>&hellip;</td><td>&hellip;</td><td>&hellip;</td><td>&hellip;</td><td>&hellip;</td><td>&hellip;</td><td>&hellip;</td><td>&hellip;</td><td>&hellip;</td><td>&hellip;</td><td>&hellip;</td><td>&hellip;</td><td>&hellip;</td><td>&hellip;</td><td>&hellip;</td><td>&hellip;</td><td>&hellip;</td></tr><tr><td>1</td><td>2024-01-31 23:44:29</td><td>2024-01-31 23:56:23</td><td>2</td><td>1.3</td><td>1</td><td>&quot;N&quot;</td><td>68</td><td>246</td><td>2</td><td>10.0</td><td>3.5</td><td>0.5</td><td>0.0</td><td>0.0</td><td>1.0</td><td>15.0</td><td>2.5</td><td>0.0</td></tr><tr><td>1</td><td>2024-01-31 23:31:32</td><td>2024-01-31 23:40:41</td><td>1</td><td>1.6</td><td>1</td><td>&quot;Y&quot;</td><td>234</td><td>48</td><td>1</td><td>10.7</td><td>3.5</td><td>0.5</td><td>0.0</td><td>0.0</td><td>1.0</td><td>15.7</td><td>2.5</td><td>0.0</td></tr><tr><td>2</td><td>2024-01-31 23:25:48</td><td>2024-01-31 23:25:55</td><td>1</td><td>0.0</td><td>2</td><td>&quot;N&quot;</td><td>50</td><td>50</td><td>2</td><td>70.0</td><td>0.0</td><td>0.5</td><td>0.0</td><td>0.0</td><td>1.0</td><td>74.0</td><td>2.5</td><td>0.0</td></tr><tr><td>2</td><td>2024-01-31 23:26:33</td><td>2024-01-31 23:29:26</td><td>1</td><td>0.09</td><td>1</td><td>&quot;N&quot;</td><td>50</td><td>50</td><td>2</td><td>4.4</td><td>1.0</td><td>0.5</td><td>0.0</td><td>0.0</td><td>1.0</td><td>9.4</td><td>2.5</td><td>0.0</td></tr><tr><td>1</td><td>2024-01-31 23:49:46</td><td>2024-01-31 23:53:10</td><td>0</td><td>0.4</td><td>1</td><td>&quot;N&quot;</td><td>142</td><td>163</td><td>2</td><td>5.1</td><td>3.5</td><td>0.5</td><td>0.0</td><td>0.0</td><td>1.0</td><td>10.1</td><td>2.5</td><td>0.0</td></tr></tbody></table></div>"
      ],
      "text/plain": [
       "shape: (635_622, 19)\n",
       "┌──────────┬───────────┬───────────┬───────────┬───┬───────────┬───────────┬───────────┬───────────┐\n",
       "│ VendorID ┆ tpep_pick ┆ tpep_drop ┆ passenger ┆ … ┆ improveme ┆ total_amo ┆ congestio ┆ Airport_f │\n",
       "│ ---      ┆ up_dateti ┆ off_datet ┆ _count    ┆   ┆ nt_surcha ┆ unt       ┆ n_surchar ┆ ee        │\n",
       "│ i32      ┆ me        ┆ ime       ┆ ---       ┆   ┆ rge       ┆ ---       ┆ ge        ┆ ---       │\n",
       "│          ┆ ---       ┆ ---       ┆ i64       ┆   ┆ ---       ┆ f64       ┆ ---       ┆ f64       │\n",
       "│          ┆ datetime[ ┆ datetime[ ┆           ┆   ┆ f64       ┆           ┆ f64       ┆           │\n",
       "│          ┆ ns]       ┆ ns]       ┆           ┆   ┆           ┆           ┆           ┆           │\n",
       "╞══════════╪═══════════╪═══════════╪═══════════╪═══╪═══════════╪═══════════╪═══════════╪═══════════╡\n",
       "│ 2        ┆ 2024-01-0 ┆ 2024-01-0 ┆ 1         ┆ … ┆ 1.0       ┆ 22.7      ┆ 2.5       ┆ 0.0       │\n",
       "│          ┆ 1         ┆ 1         ┆           ┆   ┆           ┆           ┆           ┆           │\n",
       "│          ┆ 00:57:55  ┆ 01:17:43  ┆           ┆   ┆           ┆           ┆           ┆           │\n",
       "│ 1        ┆ 2024-01-0 ┆ 2024-01-0 ┆ 0         ┆ … ┆ 1.0       ┆ 30.4      ┆ 2.5       ┆ 0.0       │\n",
       "│          ┆ 1         ┆ 1         ┆           ┆   ┆           ┆           ┆           ┆           │\n",
       "│          ┆ 00:30:40  ┆ 00:58:40  ┆           ┆   ┆           ┆           ┆           ┆           │\n",
       "│ 2        ┆ 2024-01-0 ┆ 2024-01-0 ┆ 1         ┆ … ┆ 1.0       ┆ 36.0      ┆ 2.5       ┆ 0.0       │\n",
       "│          ┆ 1         ┆ 1         ┆           ┆   ┆           ┆           ┆           ┆           │\n",
       "│          ┆ 00:26:01  ┆ 00:54:12  ┆           ┆   ┆           ┆           ┆           ┆           │\n",
       "│ 2        ┆ 2024-01-0 ┆ 2024-01-0 ┆ 1         ┆ … ┆ 1.0       ┆ 8.0       ┆ 2.5       ┆ 0.0       │\n",
       "│          ┆ 1         ┆ 1         ┆           ┆   ┆           ┆           ┆           ┆           │\n",
       "│          ┆ 00:28:08  ┆ 00:29:16  ┆           ┆   ┆           ┆           ┆           ┆           │\n",
       "│ 2        ┆ 2024-01-0 ┆ 2024-01-0 ┆ 2         ┆ … ┆ 1.0       ┆ 12.9      ┆ 2.5       ┆ 0.0       │\n",
       "│          ┆ 1         ┆ 1         ┆           ┆   ┆           ┆           ┆           ┆           │\n",
       "│          ┆ 00:35:22  ┆ 00:41:41  ┆           ┆   ┆           ┆           ┆           ┆           │\n",
       "│ …        ┆ …         ┆ …         ┆ …         ┆ … ┆ …         ┆ …         ┆ …         ┆ …         │\n",
       "│ 1        ┆ 2024-01-3 ┆ 2024-01-3 ┆ 2         ┆ … ┆ 1.0       ┆ 15.0      ┆ 2.5       ┆ 0.0       │\n",
       "│          ┆ 1         ┆ 1         ┆           ┆   ┆           ┆           ┆           ┆           │\n",
       "│          ┆ 23:44:29  ┆ 23:56:23  ┆           ┆   ┆           ┆           ┆           ┆           │\n",
       "│ 1        ┆ 2024-01-3 ┆ 2024-01-3 ┆ 1         ┆ … ┆ 1.0       ┆ 15.7      ┆ 2.5       ┆ 0.0       │\n",
       "│          ┆ 1         ┆ 1         ┆           ┆   ┆           ┆           ┆           ┆           │\n",
       "│          ┆ 23:31:32  ┆ 23:40:41  ┆           ┆   ┆           ┆           ┆           ┆           │\n",
       "│ 2        ┆ 2024-01-3 ┆ 2024-01-3 ┆ 1         ┆ … ┆ 1.0       ┆ 74.0      ┆ 2.5       ┆ 0.0       │\n",
       "│          ┆ 1         ┆ 1         ┆           ┆   ┆           ┆           ┆           ┆           │\n",
       "│          ┆ 23:25:48  ┆ 23:25:55  ┆           ┆   ┆           ┆           ┆           ┆           │\n",
       "│ 2        ┆ 2024-01-3 ┆ 2024-01-3 ┆ 1         ┆ … ┆ 1.0       ┆ 9.4       ┆ 2.5       ┆ 0.0       │\n",
       "│          ┆ 1         ┆ 1         ┆           ┆   ┆           ┆           ┆           ┆           │\n",
       "│          ┆ 23:26:33  ┆ 23:29:26  ┆           ┆   ┆           ┆           ┆           ┆           │\n",
       "│ 1        ┆ 2024-01-3 ┆ 2024-01-3 ┆ 0         ┆ … ┆ 1.0       ┆ 10.1      ┆ 2.5       ┆ 0.0       │\n",
       "│          ┆ 1         ┆ 1         ┆           ┆   ┆           ┆           ┆           ┆           │\n",
       "│          ┆ 23:49:46  ┆ 23:53:10  ┆           ┆   ┆           ┆           ┆           ┆           │\n",
       "└──────────┴───────────┴───────────┴───────────┴───┴───────────┴───────────┴───────────┴───────────┘"
      ]
     },
     "execution_count": 13,
     "metadata": {},
     "output_type": "execute_result"
    }
   ],
   "source": [
    "# alternative syntax with &\n",
    "df.filter((pl.col(\"passenger_count\").is_not_null()) & (pl.col(\"tip_amount\") < 1.0))"
   ]
  },
  {
   "cell_type": "code",
   "execution_count": 14,
   "id": "6fbf9466-17de-4bda-bfb9-314b002a2ae6",
   "metadata": {
    "scrolled": true
   },
   "outputs": [
    {
     "data": {
      "text/html": [
       "<div><style>\n",
       ".dataframe > thead > tr,\n",
       ".dataframe > tbody > tr {\n",
       "  text-align: right;\n",
       "  white-space: pre-wrap;\n",
       "}\n",
       "</style>\n",
       "<small>shape: (2_916_745, 19)</small><table border=\"1\" class=\"dataframe\"><thead><tr><th>VendorID</th><th>tpep_pickup_datetime</th><th>tpep_dropoff_datetime</th><th>passenger_count</th><th>trip_distance</th><th>RatecodeID</th><th>store_and_fwd_flag</th><th>PULocationID</th><th>DOLocationID</th><th>payment_type</th><th>fare_amount</th><th>extra</th><th>mta_tax</th><th>tip_amount</th><th>tolls_amount</th><th>improvement_surcharge</th><th>total_amount</th><th>congestion_surcharge</th><th>Airport_fee</th></tr><tr><td>i32</td><td>datetime[ns]</td><td>datetime[ns]</td><td>i64</td><td>f64</td><td>i64</td><td>str</td><td>i32</td><td>i32</td><td>i64</td><td>f64</td><td>f64</td><td>f64</td><td>f64</td><td>f64</td><td>f64</td><td>f64</td><td>f64</td><td>f64</td></tr></thead><tbody><tr><td>2</td><td>2024-01-01 00:57:55</td><td>2024-01-01 01:17:43</td><td>1</td><td>1.72</td><td>1</td><td>&quot;N&quot;</td><td>186</td><td>79</td><td>2</td><td>17.7</td><td>1.0</td><td>0.5</td><td>0.0</td><td>0.0</td><td>1.0</td><td>22.7</td><td>2.5</td><td>0.0</td></tr><tr><td>1</td><td>2024-01-01 00:03:00</td><td>2024-01-01 00:09:36</td><td>1</td><td>1.8</td><td>1</td><td>&quot;N&quot;</td><td>140</td><td>236</td><td>1</td><td>10.0</td><td>3.5</td><td>0.5</td><td>3.75</td><td>0.0</td><td>1.0</td><td>18.75</td><td>2.5</td><td>0.0</td></tr><tr><td>1</td><td>2024-01-01 00:17:06</td><td>2024-01-01 00:35:01</td><td>1</td><td>4.7</td><td>1</td><td>&quot;N&quot;</td><td>236</td><td>79</td><td>1</td><td>23.3</td><td>3.5</td><td>0.5</td><td>3.0</td><td>0.0</td><td>1.0</td><td>31.3</td><td>2.5</td><td>0.0</td></tr><tr><td>1</td><td>2024-01-01 00:36:38</td><td>2024-01-01 00:44:56</td><td>1</td><td>1.4</td><td>1</td><td>&quot;N&quot;</td><td>79</td><td>211</td><td>1</td><td>10.0</td><td>3.5</td><td>0.5</td><td>2.0</td><td>0.0</td><td>1.0</td><td>17.0</td><td>2.5</td><td>0.0</td></tr><tr><td>1</td><td>2024-01-01 00:46:51</td><td>2024-01-01 00:52:57</td><td>1</td><td>0.8</td><td>1</td><td>&quot;N&quot;</td><td>211</td><td>148</td><td>1</td><td>7.9</td><td>3.5</td><td>0.5</td><td>3.2</td><td>0.0</td><td>1.0</td><td>16.1</td><td>2.5</td><td>0.0</td></tr><tr><td>&hellip;</td><td>&hellip;</td><td>&hellip;</td><td>&hellip;</td><td>&hellip;</td><td>&hellip;</td><td>&hellip;</td><td>&hellip;</td><td>&hellip;</td><td>&hellip;</td><td>&hellip;</td><td>&hellip;</td><td>&hellip;</td><td>&hellip;</td><td>&hellip;</td><td>&hellip;</td><td>&hellip;</td><td>&hellip;</td><td>&hellip;</td></tr><tr><td>1</td><td>2024-01-31 23:33:12</td><td>2024-01-31 23:48:42</td><td>null</td><td>2.6</td><td>null</td><td>null</td><td>161</td><td>249</td><td>0</td><td>15.01</td><td>0.0</td><td>0.5</td><td>0.0</td><td>0.0</td><td>1.0</td><td>19.01</td><td>null</td><td>null</td></tr><tr><td>1</td><td>2024-01-31 23:22:09</td><td>2024-01-31 23:33:41</td><td>null</td><td>2.3</td><td>null</td><td>null</td><td>211</td><td>170</td><td>0</td><td>12.1</td><td>1.0</td><td>0.5</td><td>0.0</td><td>0.0</td><td>1.0</td><td>17.1</td><td>null</td><td>null</td></tr><tr><td>2</td><td>2024-01-31 23:46:39</td><td>2024-01-31 23:57:31</td><td>null</td><td>3.27</td><td>null</td><td>null</td><td>161</td><td>24</td><td>0</td><td>15.73</td><td>0.0</td><td>0.5</td><td>0.0</td><td>0.0</td><td>1.0</td><td>19.73</td><td>null</td><td>null</td></tr><tr><td>1</td><td>2024-01-31 23:01:28</td><td>2024-01-31 23:20:46</td><td>null</td><td>4.0</td><td>null</td><td>null</td><td>255</td><td>90</td><td>0</td><td>21.91</td><td>0.0</td><td>0.5</td><td>0.0</td><td>0.0</td><td>1.0</td><td>25.91</td><td>null</td><td>null</td></tr><tr><td>2</td><td>2024-01-31 23:19:00</td><td>2024-01-31 23:38:00</td><td>null</td><td>3.33</td><td>null</td><td>null</td><td>211</td><td>25</td><td>0</td><td>19.97</td><td>0.0</td><td>0.5</td><td>0.0</td><td>0.0</td><td>1.0</td><td>23.97</td><td>null</td><td>null</td></tr></tbody></table></div>"
      ],
      "text/plain": [
       "shape: (2_916_745, 19)\n",
       "┌──────────┬───────────┬───────────┬───────────┬───┬───────────┬───────────┬───────────┬───────────┐\n",
       "│ VendorID ┆ tpep_pick ┆ tpep_drop ┆ passenger ┆ … ┆ improveme ┆ total_amo ┆ congestio ┆ Airport_f │\n",
       "│ ---      ┆ up_dateti ┆ off_datet ┆ _count    ┆   ┆ nt_surcha ┆ unt       ┆ n_surchar ┆ ee        │\n",
       "│ i32      ┆ me        ┆ ime       ┆ ---       ┆   ┆ rge       ┆ ---       ┆ ge        ┆ ---       │\n",
       "│          ┆ ---       ┆ ---       ┆ i64       ┆   ┆ ---       ┆ f64       ┆ ---       ┆ f64       │\n",
       "│          ┆ datetime[ ┆ datetime[ ┆           ┆   ┆ f64       ┆           ┆ f64       ┆           │\n",
       "│          ┆ ns]       ┆ ns]       ┆           ┆   ┆           ┆           ┆           ┆           │\n",
       "╞══════════╪═══════════╪═══════════╪═══════════╪═══╪═══════════╪═══════════╪═══════════╪═══════════╡\n",
       "│ 2        ┆ 2024-01-0 ┆ 2024-01-0 ┆ 1         ┆ … ┆ 1.0       ┆ 22.7      ┆ 2.5       ┆ 0.0       │\n",
       "│          ┆ 1         ┆ 1         ┆           ┆   ┆           ┆           ┆           ┆           │\n",
       "│          ┆ 00:57:55  ┆ 01:17:43  ┆           ┆   ┆           ┆           ┆           ┆           │\n",
       "│ 1        ┆ 2024-01-0 ┆ 2024-01-0 ┆ 1         ┆ … ┆ 1.0       ┆ 18.75     ┆ 2.5       ┆ 0.0       │\n",
       "│          ┆ 1         ┆ 1         ┆           ┆   ┆           ┆           ┆           ┆           │\n",
       "│          ┆ 00:03:00  ┆ 00:09:36  ┆           ┆   ┆           ┆           ┆           ┆           │\n",
       "│ 1        ┆ 2024-01-0 ┆ 2024-01-0 ┆ 1         ┆ … ┆ 1.0       ┆ 31.3      ┆ 2.5       ┆ 0.0       │\n",
       "│          ┆ 1         ┆ 1         ┆           ┆   ┆           ┆           ┆           ┆           │\n",
       "│          ┆ 00:17:06  ┆ 00:35:01  ┆           ┆   ┆           ┆           ┆           ┆           │\n",
       "│ 1        ┆ 2024-01-0 ┆ 2024-01-0 ┆ 1         ┆ … ┆ 1.0       ┆ 17.0      ┆ 2.5       ┆ 0.0       │\n",
       "│          ┆ 1         ┆ 1         ┆           ┆   ┆           ┆           ┆           ┆           │\n",
       "│          ┆ 00:36:38  ┆ 00:44:56  ┆           ┆   ┆           ┆           ┆           ┆           │\n",
       "│ 1        ┆ 2024-01-0 ┆ 2024-01-0 ┆ 1         ┆ … ┆ 1.0       ┆ 16.1      ┆ 2.5       ┆ 0.0       │\n",
       "│          ┆ 1         ┆ 1         ┆           ┆   ┆           ┆           ┆           ┆           │\n",
       "│          ┆ 00:46:51  ┆ 00:52:57  ┆           ┆   ┆           ┆           ┆           ┆           │\n",
       "│ …        ┆ …         ┆ …         ┆ …         ┆ … ┆ …         ┆ …         ┆ …         ┆ …         │\n",
       "│ 1        ┆ 2024-01-3 ┆ 2024-01-3 ┆ null      ┆ … ┆ 1.0       ┆ 19.01     ┆ null      ┆ null      │\n",
       "│          ┆ 1         ┆ 1         ┆           ┆   ┆           ┆           ┆           ┆           │\n",
       "│          ┆ 23:33:12  ┆ 23:48:42  ┆           ┆   ┆           ┆           ┆           ┆           │\n",
       "│ 1        ┆ 2024-01-3 ┆ 2024-01-3 ┆ null      ┆ … ┆ 1.0       ┆ 17.1      ┆ null      ┆ null      │\n",
       "│          ┆ 1         ┆ 1         ┆           ┆   ┆           ┆           ┆           ┆           │\n",
       "│          ┆ 23:22:09  ┆ 23:33:41  ┆           ┆   ┆           ┆           ┆           ┆           │\n",
       "│ 2        ┆ 2024-01-3 ┆ 2024-01-3 ┆ null      ┆ … ┆ 1.0       ┆ 19.73     ┆ null      ┆ null      │\n",
       "│          ┆ 1         ┆ 1         ┆           ┆   ┆           ┆           ┆           ┆           │\n",
       "│          ┆ 23:46:39  ┆ 23:57:31  ┆           ┆   ┆           ┆           ┆           ┆           │\n",
       "│ 1        ┆ 2024-01-3 ┆ 2024-01-3 ┆ null      ┆ … ┆ 1.0       ┆ 25.91     ┆ null      ┆ null      │\n",
       "│          ┆ 1         ┆ 1         ┆           ┆   ┆           ┆           ┆           ┆           │\n",
       "│          ┆ 23:01:28  ┆ 23:20:46  ┆           ┆   ┆           ┆           ┆           ┆           │\n",
       "│ 2        ┆ 2024-01-3 ┆ 2024-01-3 ┆ null      ┆ … ┆ 1.0       ┆ 23.97     ┆ null      ┆ null      │\n",
       "│          ┆ 1         ┆ 1         ┆           ┆   ┆           ┆           ┆           ┆           │\n",
       "│          ┆ 23:19:00  ┆ 23:38:00  ┆           ┆   ┆           ┆           ┆           ┆           │\n",
       "└──────────┴───────────┴───────────┴───────────┴───┴───────────┴───────────┴───────────┴───────────┘"
      ]
     },
     "execution_count": 14,
     "metadata": {},
     "output_type": "execute_result"
    }
   ],
   "source": [
    "df.filter((pl.col(\"passenger_count\").is_not_null()) | (pl.col(\"tip_amount\") < 1.0))"
   ]
  },
  {
   "cell_type": "code",
   "execution_count": 15,
   "id": "f3f03e20-20e8-49df-89f5-1db13c4cd723",
   "metadata": {},
   "outputs": [
    {
     "data": {
      "text/html": [
       "<div><style>\n",
       ".dataframe > thead > tr,\n",
       ".dataframe > tbody > tr {\n",
       "  text-align: right;\n",
       "  white-space: pre-wrap;\n",
       "}\n",
       "</style>\n",
       "<small>shape: (2_964_624, 2)</small><table border=\"1\" class=\"dataframe\"><thead><tr><th>tpep_pickup_datetime</th><th>tpep_dropoff_datetime</th></tr><tr><td>datetime[ns]</td><td>datetime[ns]</td></tr></thead><tbody><tr><td>2024-01-01 00:57:55</td><td>2024-01-01 01:17:43</td></tr><tr><td>2024-01-01 00:03:00</td><td>2024-01-01 00:09:36</td></tr><tr><td>2024-01-01 00:17:06</td><td>2024-01-01 00:35:01</td></tr><tr><td>2024-01-01 00:36:38</td><td>2024-01-01 00:44:56</td></tr><tr><td>2024-01-01 00:46:51</td><td>2024-01-01 00:52:57</td></tr><tr><td>&hellip;</td><td>&hellip;</td></tr><tr><td>2024-01-31 23:45:59</td><td>2024-01-31 23:54:36</td></tr><tr><td>2024-01-31 23:13:07</td><td>2024-01-31 23:27:52</td></tr><tr><td>2024-01-31 23:19:00</td><td>2024-01-31 23:38:00</td></tr><tr><td>2024-01-31 23:07:23</td><td>2024-01-31 23:25:14</td></tr><tr><td>2024-01-31 23:58:25</td><td>2024-02-01 00:13:30</td></tr></tbody></table></div>"
      ],
      "text/plain": [
       "shape: (2_964_624, 2)\n",
       "┌──────────────────────┬───────────────────────┐\n",
       "│ tpep_pickup_datetime ┆ tpep_dropoff_datetime │\n",
       "│ ---                  ┆ ---                   │\n",
       "│ datetime[ns]         ┆ datetime[ns]          │\n",
       "╞══════════════════════╪═══════════════════════╡\n",
       "│ 2024-01-01 00:57:55  ┆ 2024-01-01 01:17:43   │\n",
       "│ 2024-01-01 00:03:00  ┆ 2024-01-01 00:09:36   │\n",
       "│ 2024-01-01 00:17:06  ┆ 2024-01-01 00:35:01   │\n",
       "│ 2024-01-01 00:36:38  ┆ 2024-01-01 00:44:56   │\n",
       "│ 2024-01-01 00:46:51  ┆ 2024-01-01 00:52:57   │\n",
       "│ …                    ┆ …                     │\n",
       "│ 2024-01-31 23:45:59  ┆ 2024-01-31 23:54:36   │\n",
       "│ 2024-01-31 23:13:07  ┆ 2024-01-31 23:27:52   │\n",
       "│ 2024-01-31 23:19:00  ┆ 2024-01-31 23:38:00   │\n",
       "│ 2024-01-31 23:07:23  ┆ 2024-01-31 23:25:14   │\n",
       "│ 2024-01-31 23:58:25  ┆ 2024-02-01 00:13:30   │\n",
       "└──────────────────────┴───────────────────────┘"
      ]
     },
     "execution_count": 15,
     "metadata": {},
     "output_type": "execute_result"
    }
   ],
   "source": [
    "# similarly for selecting many columns, you can also use strings directly\n",
    "df.select([\"tpep_pickup_datetime\", \"tpep_dropoff_datetime\"])"
   ]
  },
  {
   "cell_type": "markdown",
   "id": "369f74fc-b413-4f51-91ec-aebf9acf9603",
   "metadata": {},
   "source": [
    "There is also a shortcut syntax for selecting columns with `[]`, like in Pandas. It's quite limited though, you can also read the data this way, and not e.g. create new columns or assign values. However, it's useful for simple analytics."
   ]
  },
  {
   "cell_type": "code",
   "execution_count": 16,
   "id": "c6ac5ad9-db7d-4b80-8676-032db3a65e1a",
   "metadata": {},
   "outputs": [
    {
     "data": {
      "text/plain": [
       "3.3358700158940904"
      ]
     },
     "execution_count": 16,
     "metadata": {},
     "output_type": "execute_result"
    }
   ],
   "source": [
    "df[\"tip_amount\"].mean()"
   ]
  },
  {
   "cell_type": "code",
   "execution_count": 17,
   "id": "102b4ba6-48a3-4f6c-bba6-d74ff52f11f9",
   "metadata": {},
   "outputs": [
    {
     "data": {
      "text/plain": [
       "3782748"
      ]
     },
     "execution_count": 17,
     "metadata": {},
     "output_type": "execute_result"
    }
   ],
   "source": [
    "# .mean(), .sum() etc. ignore NULL values by default, like in Pandas\n",
    "df[\"passenger_count\"].sum()"
   ]
  },
  {
   "cell_type": "code",
   "execution_count": 18,
   "id": "5efdb38b-ba4c-4d76-9fda-336526b1d9c0",
   "metadata": {},
   "outputs": [
    {
     "data": {
      "text/plain": [
       "19.15"
      ]
     },
     "execution_count": 18,
     "metadata": {},
     "output_type": "execute_result"
    }
   ],
   "source": [
    "# you can combine both syntax styles\n",
    "df.filter(pl.col(\"Airport_fee\") == 0)[\"total_amount\"].median()"
   ]
  },
  {
   "cell_type": "markdown",
   "id": "854f1a8f-ecc3-4028-9187-b344e57a07e1",
   "metadata": {},
   "source": [
    "To create new columns or overwrite values of existing ones, use `.with_columns()`. You can rename them either by using a keyword argument, or by using `.alias()`. You can also rename columns with `.rename()`. If you don't need any old column, just create a value and use it further, you can just use `.select()` and create column inside.\n",
    "\n",
    "For chaining many operations, it's very useful to wrap the entire pipelines in parentheses `()`. This is a proper multiline Python syntax for making many method calls one after another, and a great pattern overall. It avoids making ugly backslash `\\` after every line."
   ]
  },
  {
   "cell_type": "code",
   "execution_count": 4,
   "id": "62b043bb-bbd3-42a6-a895-320570b37632",
   "metadata": {
    "scrolled": true
   },
   "outputs": [
    {
     "data": {
      "text/html": [
       "<div><style>\n",
       ".dataframe > thead > tr,\n",
       ".dataframe > tbody > tr {\n",
       "  text-align: right;\n",
       "  white-space: pre-wrap;\n",
       "}\n",
       "</style>\n",
       "<small>shape: (2_964_624, 19)</small><table border=\"1\" class=\"dataframe\"><thead><tr><th>VendorID</th><th>tpep_pickup_datetime</th><th>tpep_dropoff_datetime</th><th>passenger_count</th><th>trip_distance</th><th>RatecodeID</th><th>store_and_fwd_flag</th><th>PULocationID</th><th>DOLocationID</th><th>payment_type</th><th>fare_amount</th><th>extra</th><th>mta_tax</th><th>tip_amount</th><th>tolls_amount</th><th>improvement_surcharge</th><th>total_amount</th><th>congestion_surcharge</th><th>airport_fee</th></tr><tr><td>i32</td><td>datetime[ns]</td><td>datetime[ns]</td><td>i64</td><td>f64</td><td>i64</td><td>str</td><td>i32</td><td>i32</td><td>i64</td><td>f64</td><td>f64</td><td>f64</td><td>f64</td><td>f64</td><td>f64</td><td>f64</td><td>f64</td><td>f64</td></tr></thead><tbody><tr><td>2</td><td>2024-01-01 00:57:55</td><td>2024-01-01 01:17:43</td><td>1</td><td>1.72</td><td>1</td><td>&quot;N&quot;</td><td>186</td><td>79</td><td>2</td><td>17.7</td><td>1.0</td><td>0.5</td><td>0.0</td><td>0.0</td><td>1.0</td><td>22.7</td><td>2.5</td><td>0.0</td></tr><tr><td>1</td><td>2024-01-01 00:03:00</td><td>2024-01-01 00:09:36</td><td>1</td><td>1.8</td><td>1</td><td>&quot;N&quot;</td><td>140</td><td>236</td><td>1</td><td>10.0</td><td>3.5</td><td>0.5</td><td>3.75</td><td>0.0</td><td>1.0</td><td>18.75</td><td>2.5</td><td>0.0</td></tr><tr><td>1</td><td>2024-01-01 00:17:06</td><td>2024-01-01 00:35:01</td><td>1</td><td>4.7</td><td>1</td><td>&quot;N&quot;</td><td>236</td><td>79</td><td>1</td><td>23.3</td><td>3.5</td><td>0.5</td><td>3.0</td><td>0.0</td><td>1.0</td><td>31.3</td><td>2.5</td><td>0.0</td></tr><tr><td>1</td><td>2024-01-01 00:36:38</td><td>2024-01-01 00:44:56</td><td>1</td><td>1.4</td><td>1</td><td>&quot;N&quot;</td><td>79</td><td>211</td><td>1</td><td>10.0</td><td>3.5</td><td>0.5</td><td>2.0</td><td>0.0</td><td>1.0</td><td>17.0</td><td>2.5</td><td>0.0</td></tr><tr><td>1</td><td>2024-01-01 00:46:51</td><td>2024-01-01 00:52:57</td><td>1</td><td>0.8</td><td>1</td><td>&quot;N&quot;</td><td>211</td><td>148</td><td>1</td><td>7.9</td><td>3.5</td><td>0.5</td><td>3.2</td><td>0.0</td><td>1.0</td><td>16.1</td><td>2.5</td><td>0.0</td></tr><tr><td>&hellip;</td><td>&hellip;</td><td>&hellip;</td><td>&hellip;</td><td>&hellip;</td><td>&hellip;</td><td>&hellip;</td><td>&hellip;</td><td>&hellip;</td><td>&hellip;</td><td>&hellip;</td><td>&hellip;</td><td>&hellip;</td><td>&hellip;</td><td>&hellip;</td><td>&hellip;</td><td>&hellip;</td><td>&hellip;</td><td>&hellip;</td></tr><tr><td>2</td><td>2024-01-31 23:45:59</td><td>2024-01-31 23:54:36</td><td>null</td><td>3.18</td><td>null</td><td>null</td><td>107</td><td>263</td><td>0</td><td>15.77</td><td>0.0</td><td>0.5</td><td>2.0</td><td>0.0</td><td>1.0</td><td>21.77</td><td>null</td><td>null</td></tr><tr><td>1</td><td>2024-01-31 23:13:07</td><td>2024-01-31 23:27:52</td><td>null</td><td>4.0</td><td>null</td><td>null</td><td>114</td><td>236</td><td>0</td><td>18.4</td><td>1.0</td><td>0.5</td><td>2.34</td><td>0.0</td><td>1.0</td><td>25.74</td><td>null</td><td>null</td></tr><tr><td>2</td><td>2024-01-31 23:19:00</td><td>2024-01-31 23:38:00</td><td>null</td><td>3.33</td><td>null</td><td>null</td><td>211</td><td>25</td><td>0</td><td>19.97</td><td>0.0</td><td>0.5</td><td>0.0</td><td>0.0</td><td>1.0</td><td>23.97</td><td>null</td><td>null</td></tr><tr><td>2</td><td>2024-01-31 23:07:23</td><td>2024-01-31 23:25:14</td><td>null</td><td>3.06</td><td>null</td><td>null</td><td>107</td><td>13</td><td>0</td><td>23.88</td><td>0.0</td><td>0.5</td><td>5.58</td><td>0.0</td><td>1.0</td><td>33.46</td><td>null</td><td>null</td></tr><tr><td>1</td><td>2024-01-31 23:58:25</td><td>2024-02-01 00:13:30</td><td>null</td><td>8.1</td><td>null</td><td>null</td><td>138</td><td>75</td><td>0</td><td>32.4</td><td>7.75</td><td>0.5</td><td>7.29</td><td>6.94</td><td>1.0</td><td>55.88</td><td>null</td><td>null</td></tr></tbody></table></div>"
      ],
      "text/plain": [
       "shape: (2_964_624, 19)\n",
       "┌──────────┬───────────┬───────────┬───────────┬───┬───────────┬───────────┬───────────┬───────────┐\n",
       "│ VendorID ┆ tpep_pick ┆ tpep_drop ┆ passenger ┆ … ┆ improveme ┆ total_amo ┆ congestio ┆ airport_f │\n",
       "│ ---      ┆ up_dateti ┆ off_datet ┆ _count    ┆   ┆ nt_surcha ┆ unt       ┆ n_surchar ┆ ee        │\n",
       "│ i32      ┆ me        ┆ ime       ┆ ---       ┆   ┆ rge       ┆ ---       ┆ ge        ┆ ---       │\n",
       "│          ┆ ---       ┆ ---       ┆ i64       ┆   ┆ ---       ┆ f64       ┆ ---       ┆ f64       │\n",
       "│          ┆ datetime[ ┆ datetime[ ┆           ┆   ┆ f64       ┆           ┆ f64       ┆           │\n",
       "│          ┆ ns]       ┆ ns]       ┆           ┆   ┆           ┆           ┆           ┆           │\n",
       "╞══════════╪═══════════╪═══════════╪═══════════╪═══╪═══════════╪═══════════╪═══════════╪═══════════╡\n",
       "│ 2        ┆ 2024-01-0 ┆ 2024-01-0 ┆ 1         ┆ … ┆ 1.0       ┆ 22.7      ┆ 2.5       ┆ 0.0       │\n",
       "│          ┆ 1         ┆ 1         ┆           ┆   ┆           ┆           ┆           ┆           │\n",
       "│          ┆ 00:57:55  ┆ 01:17:43  ┆           ┆   ┆           ┆           ┆           ┆           │\n",
       "│ 1        ┆ 2024-01-0 ┆ 2024-01-0 ┆ 1         ┆ … ┆ 1.0       ┆ 18.75     ┆ 2.5       ┆ 0.0       │\n",
       "│          ┆ 1         ┆ 1         ┆           ┆   ┆           ┆           ┆           ┆           │\n",
       "│          ┆ 00:03:00  ┆ 00:09:36  ┆           ┆   ┆           ┆           ┆           ┆           │\n",
       "│ 1        ┆ 2024-01-0 ┆ 2024-01-0 ┆ 1         ┆ … ┆ 1.0       ┆ 31.3      ┆ 2.5       ┆ 0.0       │\n",
       "│          ┆ 1         ┆ 1         ┆           ┆   ┆           ┆           ┆           ┆           │\n",
       "│          ┆ 00:17:06  ┆ 00:35:01  ┆           ┆   ┆           ┆           ┆           ┆           │\n",
       "│ 1        ┆ 2024-01-0 ┆ 2024-01-0 ┆ 1         ┆ … ┆ 1.0       ┆ 17.0      ┆ 2.5       ┆ 0.0       │\n",
       "│          ┆ 1         ┆ 1         ┆           ┆   ┆           ┆           ┆           ┆           │\n",
       "│          ┆ 00:36:38  ┆ 00:44:56  ┆           ┆   ┆           ┆           ┆           ┆           │\n",
       "│ 1        ┆ 2024-01-0 ┆ 2024-01-0 ┆ 1         ┆ … ┆ 1.0       ┆ 16.1      ┆ 2.5       ┆ 0.0       │\n",
       "│          ┆ 1         ┆ 1         ┆           ┆   ┆           ┆           ┆           ┆           │\n",
       "│          ┆ 00:46:51  ┆ 00:52:57  ┆           ┆   ┆           ┆           ┆           ┆           │\n",
       "│ …        ┆ …         ┆ …         ┆ …         ┆ … ┆ …         ┆ …         ┆ …         ┆ …         │\n",
       "│ 2        ┆ 2024-01-3 ┆ 2024-01-3 ┆ null      ┆ … ┆ 1.0       ┆ 21.77     ┆ null      ┆ null      │\n",
       "│          ┆ 1         ┆ 1         ┆           ┆   ┆           ┆           ┆           ┆           │\n",
       "│          ┆ 23:45:59  ┆ 23:54:36  ┆           ┆   ┆           ┆           ┆           ┆           │\n",
       "│ 1        ┆ 2024-01-3 ┆ 2024-01-3 ┆ null      ┆ … ┆ 1.0       ┆ 25.74     ┆ null      ┆ null      │\n",
       "│          ┆ 1         ┆ 1         ┆           ┆   ┆           ┆           ┆           ┆           │\n",
       "│          ┆ 23:13:07  ┆ 23:27:52  ┆           ┆   ┆           ┆           ┆           ┆           │\n",
       "│ 2        ┆ 2024-01-3 ┆ 2024-01-3 ┆ null      ┆ … ┆ 1.0       ┆ 23.97     ┆ null      ┆ null      │\n",
       "│          ┆ 1         ┆ 1         ┆           ┆   ┆           ┆           ┆           ┆           │\n",
       "│          ┆ 23:19:00  ┆ 23:38:00  ┆           ┆   ┆           ┆           ┆           ┆           │\n",
       "│ 2        ┆ 2024-01-3 ┆ 2024-01-3 ┆ null      ┆ … ┆ 1.0       ┆ 33.46     ┆ null      ┆ null      │\n",
       "│          ┆ 1         ┆ 1         ┆           ┆   ┆           ┆           ┆           ┆           │\n",
       "│          ┆ 23:07:23  ┆ 23:25:14  ┆           ┆   ┆           ┆           ┆           ┆           │\n",
       "│ 1        ┆ 2024-01-3 ┆ 2024-02-0 ┆ null      ┆ … ┆ 1.0       ┆ 55.88     ┆ null      ┆ null      │\n",
       "│          ┆ 1         ┆ 1         ┆           ┆   ┆           ┆           ┆           ┆           │\n",
       "│          ┆ 23:58:25  ┆ 00:13:30  ┆           ┆   ┆           ┆           ┆           ┆           │\n",
       "└──────────┴───────────┴───────────┴───────────┴───┴───────────┴───────────┴───────────┴───────────┘"
      ]
     },
     "execution_count": 4,
     "metadata": {},
     "output_type": "execute_result"
    }
   ],
   "source": [
    "# set strict=False so you can run this cell twice without errors\n",
    "df = df.rename({\"Airport_fee\": \"airport_fee\"}, strict=False)\n",
    "df"
   ]
  },
  {
   "cell_type": "code",
   "execution_count": 20,
   "id": "97aa8480-b725-4bb0-a437-82fc2b2392b8",
   "metadata": {},
   "outputs": [
    {
     "data": {
      "text/html": [
       "<div><style>\n",
       ".dataframe > thead > tr,\n",
       ".dataframe > tbody > tr {\n",
       "  text-align: right;\n",
       "  white-space: pre-wrap;\n",
       "}\n",
       "</style>\n",
       "<small>shape: (1, 1)</small><table border=\"1\" class=\"dataframe\"><thead><tr><th>trip_time</th></tr><tr><td>duration[ns]</td></tr></thead><tbody><tr><td>15m 36s 777037155ns</td></tr></tbody></table></div>"
      ],
      "text/plain": [
       "shape: (1, 1)\n",
       "┌─────────────────────┐\n",
       "│ trip_time           │\n",
       "│ ---                 │\n",
       "│ duration[ns]        │\n",
       "╞═════════════════════╡\n",
       "│ 15m 36s 777037155ns │\n",
       "└─────────────────────┘"
      ]
     },
     "execution_count": 20,
     "metadata": {},
     "output_type": "execute_result"
    }
   ],
   "source": [
    "# what is the average trip time?\n",
    "(\n",
    "    df.with_columns(\n",
    "        (pl.col(\"tpep_dropoff_datetime\") - pl.col(\"tpep_pickup_datetime\")).alias(\n",
    "            \"trip_time\"\n",
    "        )\n",
    "    )\n",
    "    .select(\"trip_time\")\n",
    "    .mean()\n",
    ")"
   ]
  },
  {
   "cell_type": "code",
   "execution_count": 21,
   "id": "3c7bd6e6-dc71-4fdb-bf26-eb98c8efd4a0",
   "metadata": {},
   "outputs": [
    {
     "data": {
      "text/html": [
       "<div><style>\n",
       ".dataframe > thead > tr,\n",
       ".dataframe > tbody > tr {\n",
       "  text-align: right;\n",
       "  white-space: pre-wrap;\n",
       "}\n",
       "</style>\n",
       "<small>shape: (1, 1)</small><table border=\"1\" class=\"dataframe\"><thead><tr><th>trip_time</th></tr><tr><td>duration[ns]</td></tr></thead><tbody><tr><td>15m 36s 777037155ns</td></tr></tbody></table></div>"
      ],
      "text/plain": [
       "shape: (1, 1)\n",
       "┌─────────────────────┐\n",
       "│ trip_time           │\n",
       "│ ---                 │\n",
       "│ duration[ns]        │\n",
       "╞═════════════════════╡\n",
       "│ 15m 36s 777037155ns │\n",
       "└─────────────────────┘"
      ]
     },
     "execution_count": 21,
     "metadata": {},
     "output_type": "execute_result"
    }
   ],
   "source": [
    "# another way of aliasing columns are keyword arguments\n",
    "(\n",
    "    df.with_columns(\n",
    "        trip_time=(pl.col(\"tpep_dropoff_datetime\") - pl.col(\"tpep_pickup_datetime\"))\n",
    "    )\n",
    "    .select(\"trip_time\")\n",
    "    .mean()\n",
    ")"
   ]
  },
  {
   "cell_type": "code",
   "execution_count": 22,
   "id": "de1c2500-de8d-424f-8d53-a4050493c9ff",
   "metadata": {},
   "outputs": [
    {
     "data": {
      "text/html": [
       "<div><style>\n",
       ".dataframe > thead > tr,\n",
       ".dataframe > tbody > tr {\n",
       "  text-align: right;\n",
       "  white-space: pre-wrap;\n",
       "}\n",
       "</style>\n",
       "<small>shape: (1, 1)</small><table border=\"1\" class=\"dataframe\"><thead><tr><th>trip_time</th></tr><tr><td>duration[ns]</td></tr></thead><tbody><tr><td>11m 19s</td></tr></tbody></table></div>"
      ],
      "text/plain": [
       "shape: (1, 1)\n",
       "┌──────────────┐\n",
       "│ trip_time    │\n",
       "│ ---          │\n",
       "│ duration[ns] │\n",
       "╞══════════════╡\n",
       "│ 11m 19s      │\n",
       "└──────────────┘"
      ]
     },
     "execution_count": 22,
     "metadata": {},
     "output_type": "execute_result"
    }
   ],
   "source": [
    "# you can build any pipelines, data filtering etc. this way\n",
    "(\n",
    "    df.filter(pl.col(\"passenger_count\").is_not_null(), pl.col(\"tip_amount\") < 1.0)\n",
    "    .select(\n",
    "        (pl.col(\"tpep_dropoff_datetime\") - pl.col(\"tpep_pickup_datetime\")).alias(\n",
    "            \"trip_time\"\n",
    "        )\n",
    "    )\n",
    "    .median()\n",
    ")"
   ]
  },
  {
   "cell_type": "markdown",
   "id": "b7216b78-9afa-4512-ad40-a5d46f3a23ce",
   "metadata": {},
   "source": [
    "Since Polars expressions are objects, they can be created beforehand. They are executed lazily, only when you call appropriate methods on the actual DataFrame. This is very useful for building more complex pipelines, as it helps avoid code repetition with common operations and increases readability with variable names. You can also write regular Python functions, objects, and tests working on Polars expressions."
   ]
  },
  {
   "cell_type": "code",
   "execution_count": 23,
   "id": "90d97fee-4ac7-4fbd-b386-c637f0d1a067",
   "metadata": {},
   "outputs": [
    {
     "data": {
      "text/html": [
       "<div><style>\n",
       ".dataframe > thead > tr,\n",
       ".dataframe > tbody > tr {\n",
       "  text-align: right;\n",
       "  white-space: pre-wrap;\n",
       "}\n",
       "</style>\n",
       "<small>shape: (1, 1)</small><table border=\"1\" class=\"dataframe\"><thead><tr><th>trip_time</th></tr><tr><td>duration[ns]</td></tr></thead><tbody><tr><td>11m 19s</td></tr></tbody></table></div>"
      ],
      "text/plain": [
       "shape: (1, 1)\n",
       "┌──────────────┐\n",
       "│ trip_time    │\n",
       "│ ---          │\n",
       "│ duration[ns] │\n",
       "╞══════════════╡\n",
       "│ 11m 19s      │\n",
       "└──────────────┘"
      ]
     },
     "execution_count": 23,
     "metadata": {},
     "output_type": "execute_result"
    }
   ],
   "source": [
    "# same pipeline as above, but with pre-built expressions\n",
    "trip_time = (pl.col(\"tpep_dropoff_datetime\") - pl.col(\"tpep_pickup_datetime\")).alias(\n",
    "    \"trip_time\"\n",
    ")\n",
    "non_tipping_passengers = pl.col(\"passenger_count\").is_not_null() & (\n",
    "    pl.col(\"tip_amount\") < 1.0\n",
    ")\n",
    "\n",
    "(df.filter(non_tipping_passengers).select(trip_time).median())"
   ]
  },
  {
   "cell_type": "markdown",
   "id": "3324f625-6bec-4b14-a4c0-a2d62f699841",
   "metadata": {},
   "source": [
    "Results of Polars data processing can be easily transformed to Pandas DataFrame for integration with frameworks that don't support Polars directly. This uses `.to_pandas()` method."
   ]
  },
  {
   "cell_type": "code",
   "execution_count": 24,
   "id": "6bb729a8-d395-4c1b-b829-a687a069b7a1",
   "metadata": {},
   "outputs": [
    {
     "data": {
      "text/html": [
       "<div>\n",
       "<style scoped>\n",
       "    .dataframe tbody tr th:only-of-type {\n",
       "        vertical-align: middle;\n",
       "    }\n",
       "\n",
       "    .dataframe tbody tr th {\n",
       "        vertical-align: top;\n",
       "    }\n",
       "\n",
       "    .dataframe thead th {\n",
       "        text-align: right;\n",
       "    }\n",
       "</style>\n",
       "<table border=\"1\" class=\"dataframe\">\n",
       "  <thead>\n",
       "    <tr style=\"text-align: right;\">\n",
       "      <th></th>\n",
       "      <th>passenger_count</th>\n",
       "    </tr>\n",
       "  </thead>\n",
       "  <tbody>\n",
       "    <tr>\n",
       "      <th>0</th>\n",
       "      <td>1</td>\n",
       "    </tr>\n",
       "    <tr>\n",
       "      <th>1</th>\n",
       "      <td>1</td>\n",
       "    </tr>\n",
       "    <tr>\n",
       "      <th>2</th>\n",
       "      <td>1</td>\n",
       "    </tr>\n",
       "    <tr>\n",
       "      <th>3</th>\n",
       "      <td>1</td>\n",
       "    </tr>\n",
       "    <tr>\n",
       "      <th>4</th>\n",
       "      <td>1</td>\n",
       "    </tr>\n",
       "    <tr>\n",
       "      <th>...</th>\n",
       "      <td>...</td>\n",
       "    </tr>\n",
       "    <tr>\n",
       "      <th>2824457</th>\n",
       "      <td>1</td>\n",
       "    </tr>\n",
       "    <tr>\n",
       "      <th>2824458</th>\n",
       "      <td>1</td>\n",
       "    </tr>\n",
       "    <tr>\n",
       "      <th>2824459</th>\n",
       "      <td>3</td>\n",
       "    </tr>\n",
       "    <tr>\n",
       "      <th>2824460</th>\n",
       "      <td>0</td>\n",
       "    </tr>\n",
       "    <tr>\n",
       "      <th>2824461</th>\n",
       "      <td>1</td>\n",
       "    </tr>\n",
       "  </tbody>\n",
       "</table>\n",
       "<p>2824462 rows × 1 columns</p>\n",
       "</div>"
      ],
      "text/plain": [
       "         passenger_count\n",
       "0                      1\n",
       "1                      1\n",
       "2                      1\n",
       "3                      1\n",
       "4                      1\n",
       "...                  ...\n",
       "2824457                1\n",
       "2824458                1\n",
       "2824459                3\n",
       "2824460                0\n",
       "2824461                1\n",
       "\n",
       "[2824462 rows x 1 columns]"
      ]
     },
     "execution_count": 24,
     "metadata": {},
     "output_type": "execute_result"
    }
   ],
   "source": [
    "df_passengers = (\n",
    "    df.filter(pl.col(\"passenger_count\").is_not_null())\n",
    "    .select(\"passenger_count\")\n",
    "    .to_pandas()\n",
    ")\n",
    "df_passengers"
   ]
  },
  {
   "cell_type": "markdown",
   "id": "7472cfb6-1946-4bd7-a105-0b745304cc69",
   "metadata": {},
   "source": [
    "**Exercises**\n",
    "\n",
    "1. How many passengers paid by card, and how many by cash? Check [the data dictionary](https://www.nyc.gov/assets/tlc/downloads/pdf/data_dictionary_trip_records_yellow.pdf) and `payment_type` meaning.\n",
    "2. What percentage of passengers paying by card gave any tip?\n",
    "3. What percentage of passengers had to pay any additional charge (`extra`, `tolls_amount`, `congestion_surcharge`, or `airport_fee`)?\n",
    "4. Plot a histogram of trip times with a single passenger. Exclude any trips over 120 minutes. Use [temporal .dt attributes](https://docs.pola.rs/api/python/stable/reference/expressions/temporal.html).s\n",
    "5. What is the Pearson correlation between trip time (in minutes) and trip length?\n"
   ]
  },
  {
   "cell_type": "markdown",
   "id": "4893fa2c",
   "metadata": {},
   "source": [
    "### Ex. 1"
   ]
  },
  {
   "cell_type": "code",
   "execution_count": 25,
   "id": "58672140-706b-488b-b18b-583e8a4ca8e9",
   "metadata": {
    "scrolled": true
   },
   "outputs": [
    {
     "data": {
      "text/html": [
       "<div><style>\n",
       ".dataframe > thead > tr,\n",
       ".dataframe > tbody > tr {\n",
       "  text-align: right;\n",
       "  white-space: pre-wrap;\n",
       "}\n",
       "</style>\n",
       "<small>shape: (1, 2)</small><table border=\"1\" class=\"dataframe\"><thead><tr><th>card_payments</th><th>cash_payments</th></tr><tr><td>u32</td><td>u32</td></tr></thead><tbody><tr><td>2319046</td><td>439191</td></tr></tbody></table></div>"
      ],
      "text/plain": [
       "shape: (1, 2)\n",
       "┌───────────────┬───────────────┐\n",
       "│ card_payments ┆ cash_payments │\n",
       "│ ---           ┆ ---           │\n",
       "│ u32           ┆ u32           │\n",
       "╞═══════════════╪═══════════════╡\n",
       "│ 2319046       ┆ 439191        │\n",
       "└───────────────┴───────────────┘"
      ]
     },
     "execution_count": 25,
     "metadata": {},
     "output_type": "execute_result"
    }
   ],
   "source": [
    "CARD_CODE = 1\n",
    "CASH_CODE = 2\n",
    "\n",
    "df.select(\n",
    "    (pl.col(\"payment_type\") == CARD_CODE).sum().alias(\"card_payments\"),\n",
    "    (pl.col(\"payment_type\") == CASH_CODE).sum().alias(\"cash_payments\"),\n",
    ")\n"
   ]
  },
  {
   "cell_type": "markdown",
   "id": "93243a89",
   "metadata": {},
   "source": [
    "### Ex. 2"
   ]
  },
  {
   "cell_type": "code",
   "execution_count": 27,
   "id": "7fdae5f1",
   "metadata": {},
   "outputs": [
    {
     "data": {
      "text/html": [
       "<div><style>\n",
       ".dataframe > thead > tr,\n",
       ".dataframe > tbody > tr {\n",
       "  text-align: right;\n",
       "  white-space: pre-wrap;\n",
       "}\n",
       "</style>\n",
       "<small>shape: (1, 1)</small><table border=\"1\" class=\"dataframe\"><thead><tr><th>percentage</th></tr><tr><td>f64</td></tr></thead><tbody><tr><td>0.95075</td></tr></tbody></table></div>"
      ],
      "text/plain": [
       "shape: (1, 1)\n",
       "┌────────────┐\n",
       "│ percentage │\n",
       "│ ---        │\n",
       "│ f64        │\n",
       "╞════════════╡\n",
       "│ 0.95075    │\n",
       "└────────────┘"
      ]
     },
     "execution_count": 27,
     "metadata": {},
     "output_type": "execute_result"
    }
   ],
   "source": [
    "(\n",
    "    df.filter(pl.col(\"payment_type\") == CARD_CODE).select(\n",
    "        ((pl.col(\"tip_amount\") > 0).sum() / pl.len()).alias(\"percentage\")\n",
    "    )\n",
    ")"
   ]
  },
  {
   "cell_type": "markdown",
   "id": "9072fc89",
   "metadata": {},
   "source": [
    "### Ex. 3"
   ]
  },
  {
   "cell_type": "code",
   "execution_count": 28,
   "id": "0d4ab3c8",
   "metadata": {},
   "outputs": [
    {
     "data": {
      "text/html": [
       "<div><style>\n",
       ".dataframe > thead > tr,\n",
       ".dataframe > tbody > tr {\n",
       "  text-align: right;\n",
       "  white-space: pre-wrap;\n",
       "}\n",
       "</style>\n",
       "<small>shape: (1, 1)</small><table border=\"1\" class=\"dataframe\"><thead><tr><th>percentage_with_additional_payment</th></tr><tr><td>f64</td></tr></thead><tbody><tr><td>0.922946</td></tr></tbody></table></div>"
      ],
      "text/plain": [
       "shape: (1, 1)\n",
       "┌─────────────────────────────────┐\n",
       "│ percentage_with_additional_pay… │\n",
       "│ ---                             │\n",
       "│ f64                             │\n",
       "╞═════════════════════════════════╡\n",
       "│ 0.922946                        │\n",
       "└─────────────────────────────────┘"
      ]
     },
     "execution_count": 28,
     "metadata": {},
     "output_type": "execute_result"
    }
   ],
   "source": [
    "(\n",
    "    df.select(\n",
    "        (\n",
    "            (\n",
    "                (pl.col(\"extra\") > 0)\n",
    "                | (pl.col(\"tolls_amount\") > 0)\n",
    "                | (pl.col(\"airport_fee\") > 0)\n",
    "                | (pl.col(\"congestion_surcharge\") > 0)\n",
    "            ).sum()\n",
    "            / pl.len()\n",
    "        ).alias(\"percentage_with_additional_payment\")\n",
    "    )\n",
    ")"
   ]
  },
  {
   "cell_type": "markdown",
   "id": "7aabb544",
   "metadata": {},
   "source": [
    "### Ex .4"
   ]
  },
  {
   "cell_type": "code",
   "execution_count": 5,
   "id": "23eeb693",
   "metadata": {},
   "outputs": [],
   "source": [
    "from matplotlib import pyplot as plt"
   ]
  },
  {
   "cell_type": "code",
   "execution_count": 30,
   "id": "1bba7602",
   "metadata": {},
   "outputs": [
    {
     "data": {
      "image/png": "[encoded data removed]",
      "text/plain": [
       "<Figure size 800x500 with 1 Axes>"
      ]
     },
     "metadata": {},
     "output_type": "display_data"
    }
   ],
   "source": [
    "trip_times_single_df = df.with_columns(\n",
    "    (\n",
    "        (pl.col(\"tpep_dropoff_datetime\") - pl.col(\"tpep_pickup_datetime\"))\n",
    "        .dt.total_minutes()\n",
    "        .alias(\"trip_time\"),\n",
    "        pl.col(\"passenger_count\").alias(\n",
    "            \"passenger_count\",\n",
    "        ),\n",
    "    )\n",
    ").filter((pl.col(\"trip_time\") <= 120) & (pl.col(\"passenger_count\") == 1))\n",
    "\n",
    "\n",
    "plt.figure(figsize=(8, 5))\n",
    "plt.hist(trip_times_single_df[\"trip_time\"], bins=24, color=\"skyblue\", edgecolor=\"black\")\n",
    "plt.xlabel(\"Trip Time (minutes)\")\n",
    "plt.ylabel(\"Count\")\n",
    "plt.title(\"Histogram of trip times for signle pasenger\")\n",
    "plt.show()"
   ]
  },
  {
   "cell_type": "markdown",
   "id": "547d2bf0",
   "metadata": {},
   "source": [
    "### Ex. 5"
   ]
  },
  {
   "cell_type": "code",
   "execution_count": 31,
   "id": "2f130966",
   "metadata": {},
   "outputs": [
    {
     "name": "stdout",
     "output_type": "stream",
     "text": [
      "Preason correlation between trip_distance nad trip_time: 0.0054\n"
     ]
    }
   ],
   "source": [
    "pearson_corr = (\n",
    "    df.with_columns(\n",
    "        (pl.col(\"tpep_dropoff_datetime\") - pl.col(\"tpep_pickup_datetime\"))\n",
    "        .dt.total_minutes()\n",
    "        .alias(\"trip_time\")\n",
    "    )\n",
    "    .select(pl.corr(\"trip_distance\", \"trip_time\", method=\"pearson\"))\n",
    "    .item()\n",
    ")\n",
    "\n",
    "print(f\"Preason correlation between trip_distance nad trip_time: {pearson_corr:.4f}\")\n"
   ]
  },
  {
   "cell_type": "markdown",
   "id": "ceeb567d-7586-4acd-9f04-fbd38a5ecf83",
   "metadata": {},
   "source": [
    "## Joining and aggregations"
   ]
  },
  {
   "cell_type": "markdown",
   "id": "7dee496d-268a-452d-93a4-922658118385",
   "metadata": {},
   "source": [
    "Polars also supports other typical SQL operations for analytics:\n",
    "- joining DataFrames with `.join()` method\n",
    "- GROUP BY with `.group_by()`\n",
    "- windowing functions for time aggregations with `.group_by_dynamic()`\n",
    "- sorting data with `.sort()`\n",
    "\n",
    "Making an alias to explicitly name a column after grouping is very useful.\n",
    "\n",
    "As an example of grouping, we will calculate the average cost of trips starting in each location (PU - pickup location, DO - dropoff location)."
   ]
  },
  {
   "cell_type": "code",
   "execution_count": 32,
   "id": "46a942a5-f001-438a-869d-23accb649113",
   "metadata": {
    "scrolled": true
   },
   "outputs": [
    {
     "data": {
      "text/html": [
       "<div><style>\n",
       ".dataframe > thead > tr,\n",
       ".dataframe > tbody > tr {\n",
       "  text-align: right;\n",
       "  white-space: pre-wrap;\n",
       "}\n",
       "</style>\n",
       "<small>shape: (260, 2)</small><table border=\"1\" class=\"dataframe\"><thead><tr><th>PULocationID</th><th>average_cost</th></tr><tr><td>i32</td><td>f64</td></tr></thead><tbody><tr><td>176</td><td>61.525</td></tr><tr><td>21</td><td>35.823103</td></tr><tr><td>158</td><td>24.097659</td></tr><tr><td>140</td><td>22.093779</td></tr><tr><td>18</td><td>40.589519</td></tr><tr><td>&hellip;</td><td>&hellip;</td></tr><tr><td>131</td><td>35.319419</td></tr><tr><td>244</td><td>30.050338</td></tr><tr><td>116</td><td>26.40455</td></tr><tr><td>89</td><td>34.247798</td></tr><tr><td>95</td><td>31.719724</td></tr></tbody></table></div>"
      ],
      "text/plain": [
       "shape: (260, 2)\n",
       "┌──────────────┬──────────────┐\n",
       "│ PULocationID ┆ average_cost │\n",
       "│ ---          ┆ ---          │\n",
       "│ i32          ┆ f64          │\n",
       "╞══════════════╪══════════════╡\n",
       "│ 176          ┆ 61.525       │\n",
       "│ 21           ┆ 35.823103    │\n",
       "│ 158          ┆ 24.097659    │\n",
       "│ 140          ┆ 22.093779    │\n",
       "│ 18           ┆ 40.589519    │\n",
       "│ …            ┆ …            │\n",
       "│ 131          ┆ 35.319419    │\n",
       "│ 244          ┆ 30.050338    │\n",
       "│ 116          ┆ 26.40455     │\n",
       "│ 89           ┆ 34.247798    │\n",
       "│ 95           ┆ 31.719724    │\n",
       "└──────────────┴──────────────┘"
      ]
     },
     "execution_count": 32,
     "metadata": {},
     "output_type": "execute_result"
    }
   ],
   "source": [
    "df_pu_location_means = df.group_by([\"PULocationID\"]).agg(\n",
    "    pl.col(\"total_amount\").mean().alias(\"average_cost\")\n",
    ")\n",
    "df_pu_location_means"
   ]
  },
  {
   "cell_type": "markdown",
   "id": "1a4f52dd-09a9-449b-868a-d1114ca69a69",
   "metadata": {},
   "source": [
    "Those IDs aren't very informative. However, we can join them with information from `taxi_zone_lookup.csv`, to get a clearer picture."
   ]
  },
  {
   "cell_type": "code",
   "execution_count": 6,
   "id": "a9c0a8ff-e888-49a6-839b-4dcb9f981c2d",
   "metadata": {},
   "outputs": [
    {
     "data": {
      "text/html": [
       "<div><style>\n",
       ".dataframe > thead > tr,\n",
       ".dataframe > tbody > tr {\n",
       "  text-align: right;\n",
       "  white-space: pre-wrap;\n",
       "}\n",
       "</style>\n",
       "<small>shape: (265, 4)</small><table border=\"1\" class=\"dataframe\"><thead><tr><th>LocationID</th><th>Borough</th><th>Zone</th><th>service_zone</th></tr><tr><td>i64</td><td>str</td><td>str</td><td>str</td></tr></thead><tbody><tr><td>1</td><td>&quot;EWR&quot;</td><td>&quot;Newark Airport&quot;</td><td>&quot;EWR&quot;</td></tr><tr><td>2</td><td>&quot;Queens&quot;</td><td>&quot;Jamaica Bay&quot;</td><td>&quot;Boro Zone&quot;</td></tr><tr><td>3</td><td>&quot;Bronx&quot;</td><td>&quot;Allerton/Pelham Gardens&quot;</td><td>&quot;Boro Zone&quot;</td></tr><tr><td>4</td><td>&quot;Manhattan&quot;</td><td>&quot;Alphabet City&quot;</td><td>&quot;Yellow Zone&quot;</td></tr><tr><td>5</td><td>&quot;Staten Island&quot;</td><td>&quot;Arden Heights&quot;</td><td>&quot;Boro Zone&quot;</td></tr><tr><td>&hellip;</td><td>&hellip;</td><td>&hellip;</td><td>&hellip;</td></tr><tr><td>261</td><td>&quot;Manhattan&quot;</td><td>&quot;World Trade Center&quot;</td><td>&quot;Yellow Zone&quot;</td></tr><tr><td>262</td><td>&quot;Manhattan&quot;</td><td>&quot;Yorkville East&quot;</td><td>&quot;Yellow Zone&quot;</td></tr><tr><td>263</td><td>&quot;Manhattan&quot;</td><td>&quot;Yorkville West&quot;</td><td>&quot;Yellow Zone&quot;</td></tr><tr><td>264</td><td>&quot;Unknown&quot;</td><td>&quot;N/A&quot;</td><td>&quot;N/A&quot;</td></tr><tr><td>265</td><td>&quot;N/A&quot;</td><td>&quot;Outside of NYC&quot;</td><td>&quot;N/A&quot;</td></tr></tbody></table></div>"
      ],
      "text/plain": [
       "shape: (265, 4)\n",
       "┌────────────┬───────────────┬─────────────────────────┬──────────────┐\n",
       "│ LocationID ┆ Borough       ┆ Zone                    ┆ service_zone │\n",
       "│ ---        ┆ ---           ┆ ---                     ┆ ---          │\n",
       "│ i64        ┆ str           ┆ str                     ┆ str          │\n",
       "╞════════════╪═══════════════╪═════════════════════════╪══════════════╡\n",
       "│ 1          ┆ EWR           ┆ Newark Airport          ┆ EWR          │\n",
       "│ 2          ┆ Queens        ┆ Jamaica Bay             ┆ Boro Zone    │\n",
       "│ 3          ┆ Bronx         ┆ Allerton/Pelham Gardens ┆ Boro Zone    │\n",
       "│ 4          ┆ Manhattan     ┆ Alphabet City           ┆ Yellow Zone  │\n",
       "│ 5          ┆ Staten Island ┆ Arden Heights           ┆ Boro Zone    │\n",
       "│ …          ┆ …             ┆ …                       ┆ …            │\n",
       "│ 261        ┆ Manhattan     ┆ World Trade Center      ┆ Yellow Zone  │\n",
       "│ 262        ┆ Manhattan     ┆ Yorkville East          ┆ Yellow Zone  │\n",
       "│ 263        ┆ Manhattan     ┆ Yorkville West          ┆ Yellow Zone  │\n",
       "│ 264        ┆ Unknown       ┆ N/A                     ┆ N/A          │\n",
       "│ 265        ┆ N/A           ┆ Outside of NYC          ┆ N/A          │\n",
       "└────────────┴───────────────┴─────────────────────────┴──────────────┘"
      ]
     },
     "execution_count": 6,
     "metadata": {},
     "output_type": "execute_result"
    }
   ],
   "source": [
    "df_taxi_zones = pl.read_csv(\"data/taxi_zone_lookup.csv\")\n",
    "df_taxi_zones"
   ]
  },
  {
   "cell_type": "code",
   "execution_count": 34,
   "id": "4450b3f4-3d78-4b51-8865-4cfc8373e77e",
   "metadata": {
    "scrolled": true
   },
   "outputs": [
    {
     "data": {
      "text/html": [
       "<div><style>\n",
       ".dataframe > thead > tr,\n",
       ".dataframe > tbody > tr {\n",
       "  text-align: right;\n",
       "  white-space: pre-wrap;\n",
       "}\n",
       "</style>\n",
       "<small>shape: (260, 3)</small><table border=\"1\" class=\"dataframe\"><thead><tr><th>Borough</th><th>Zone</th><th>average_cost</th></tr><tr><td>str</td><td>str</td><td>f64</td></tr></thead><tbody><tr><td>&quot;Staten Island&quot;</td><td>&quot;Charleston/Tottenville&quot;</td><td>354.23</td></tr><tr><td>&quot;Staten Island&quot;</td><td>&quot;Port Richmond&quot;</td><td>121.51</td></tr><tr><td>&quot;Staten Island&quot;</td><td>&quot;Great Kills&quot;</td><td>111.48</td></tr><tr><td>&quot;Staten Island&quot;</td><td>&quot;Heartland Village/Todt Hill&quot;</td><td>105.842222</td></tr><tr><td>&quot;EWR&quot;</td><td>&quot;Newark Airport&quot;</td><td>104.196712</td></tr><tr><td>&hellip;</td><td>&hellip;</td><td>&hellip;</td></tr><tr><td>&quot;Queens&quot;</td><td>&quot;Saint Michaels Cemetery/Woodsi…</td><td>13.256995</td></tr><tr><td>&quot;Queens&quot;</td><td>&quot;Queensbridge/Ravenswood&quot;</td><td>10.274222</td></tr><tr><td>&quot;Bronx&quot;</td><td>&quot;Rikers Island&quot;</td><td>10.2</td></tr><tr><td>&quot;Staten Island&quot;</td><td>&quot;Mariners Harbor&quot;</td><td>2.25</td></tr><tr><td>&quot;Staten Island&quot;</td><td>&quot;West Brighton&quot;</td><td>0.0</td></tr></tbody></table></div>"
      ],
      "text/plain": [
       "shape: (260, 3)\n",
       "┌───────────────┬─────────────────────────────────┬──────────────┐\n",
       "│ Borough       ┆ Zone                            ┆ average_cost │\n",
       "│ ---           ┆ ---                             ┆ ---          │\n",
       "│ str           ┆ str                             ┆ f64          │\n",
       "╞═══════════════╪═════════════════════════════════╪══════════════╡\n",
       "│ Staten Island ┆ Charleston/Tottenville          ┆ 354.23       │\n",
       "│ Staten Island ┆ Port Richmond                   ┆ 121.51       │\n",
       "│ Staten Island ┆ Great Kills                     ┆ 111.48       │\n",
       "│ Staten Island ┆ Heartland Village/Todt Hill     ┆ 105.842222   │\n",
       "│ EWR           ┆ Newark Airport                  ┆ 104.196712   │\n",
       "│ …             ┆ …                               ┆ …            │\n",
       "│ Queens        ┆ Saint Michaels Cemetery/Woodsi… ┆ 13.256995    │\n",
       "│ Queens        ┆ Queensbridge/Ravenswood         ┆ 10.274222    │\n",
       "│ Bronx         ┆ Rikers Island                   ┆ 10.2         │\n",
       "│ Staten Island ┆ Mariners Harbor                 ┆ 2.25         │\n",
       "│ Staten Island ┆ West Brighton                   ┆ 0.0          │\n",
       "└───────────────┴─────────────────────────────────┴──────────────┘"
      ]
     },
     "execution_count": 34,
     "metadata": {},
     "output_type": "execute_result"
    }
   ],
   "source": [
    "(\n",
    "    df_pu_location_means.join(\n",
    "        df_taxi_zones, left_on=\"PULocationID\", right_on=\"LocationID\"\n",
    "    )\n",
    "    .select([\"Borough\", \"Zone\", \"average_cost\"])\n",
    "    .sort(\"average_cost\", descending=True)\n",
    ")"
   ]
  },
  {
   "cell_type": "markdown",
   "id": "e4e87f41-b666-4465-bd71-123a5f5993a0",
   "metadata": {},
   "source": [
    "Grouping this way is perfect for analyzing different data segments, such as regions or customer types. However, for analyzing groups changing in time, SQL and DataFrame framework use a concept of windows and window functions. They are basically groups, but dynamic in time. Those calculations are very common in analytics, but also very computationally intensive.\n",
    "\n",
    "As an example, we will compute the average daily travel time in different days. Note that in Polars, window functions need a sorted input column."
   ]
  },
  {
   "cell_type": "code",
   "execution_count": 35,
   "id": "196a38cb-4582-4d7d-aa8f-7ed1f8557183",
   "metadata": {
    "scrolled": true
   },
   "outputs": [
    {
     "data": {
      "text/plain": [
       "<Axes: xlabel='tpep_dropoff_datetime'>"
      ]
     },
     "execution_count": 35,
     "metadata": {},
     "output_type": "execute_result"
    },
    {
     "data": {
      "image/png": "[encoded data removed]",
      "text/plain": [
       "<Figure size 640x480 with 1 Axes>"
      ]
     },
     "metadata": {},
     "output_type": "display_data"
    }
   ],
   "source": [
    "df_daily_avg_trip_times = (\n",
    "    df.with_columns(\n",
    "        (pl.col(\"tpep_dropoff_datetime\") - pl.col(\"tpep_pickup_datetime\"))\n",
    "        .dt.total_minutes()\n",
    "        .alias(\"trip_time\")\n",
    "    )\n",
    "    # we have some errors in the data, we'll clean them in the next section\n",
    "    .filter(pl.col(\"trip_time\") < 120)\n",
    "    .filter(pl.col(\"tpep_dropoff_datetime\").dt.year() == 2024)\n",
    "    .sort(\"tpep_dropoff_datetime\")\n",
    "    .group_by_dynamic(\"tpep_dropoff_datetime\", every=\"1d\")\n",
    "    .agg(pl.col(\"trip_time\").mean().alias(\"avg_trip_time\"))\n",
    "    .to_pandas()\n",
    "    .plot.line(x=\"tpep_dropoff_datetime\", y=\"avg_trip_time\")\n",
    ")\n",
    "df_daily_avg_trip_times"
   ]
  },
  {
   "cell_type": "markdown",
   "id": "4444794b-44ca-47ed-bbb4-2cef2166b3dc",
   "metadata": {},
   "source": [
    "**Exercises**\n",
    "\n",
    "1. What is the mean distance of trips with different number of passengers? Plot them on a bar plot. Exclude null values.\n",
    "2. What is the median total trip cost (`total_amount`) during the day, and during the night? Assume that day hours are 6:30-19:30. [pl.time](https://docs.pola.rs/api/python/dev/reference/expressions/api/polars.time.html) may be useful.\n",
    "3. What are the top 5 pairs of boroughs with the highest average trip time?\n",
    "4. Calculate average costs of trip per minute, if starts and ends in the same borough and zone. What are the names of 5 boroughs and zones with the highest cost? Ignore trips under 1 minute.\n",
    "5. What are daily total number of trips? Plot them on a line plot. Include only samples from 2024."
   ]
  },
  {
   "cell_type": "markdown",
   "id": "e7c6faeb",
   "metadata": {},
   "source": [
    "### Ex. 1\n",
    "\n",
    "1. What is the mean distance of trips with different number of passengers? Plot them on a bar plot. Exclude null values.\n"
   ]
  },
  {
   "cell_type": "code",
   "execution_count": 57,
   "id": "626656d6",
   "metadata": {},
   "outputs": [
    {
     "data": {
      "image/png": "[encoded data removed]",
      "text/plain": [
       "<Figure size 600x400 with 1 Axes>"
      ]
     },
     "metadata": {},
     "output_type": "display_data"
    }
   ],
   "source": [
    "mean_distances = (\n",
    "    df.filter(pl.col(\"passenger_count\").is_not_null())\n",
    "    .group_by(\"passenger_count\")\n",
    "    .agg(pl.col(\"trip_distance\").mean().alias(\"avg_trip_distance\"))\n",
    "    .select([\"passenger_count\", \"avg_trip_distance\"])\n",
    ")\n",
    "\n",
    "mean_distances_pd = mean_distances.to_pandas()\n",
    "\n",
    "plt.figure(figsize=(6, 4))\n",
    "plt.bar(mean_distances_pd[\"passenger_count\"], mean_distances_pd[\"avg_trip_distance\"])\n",
    "plt.xlabel(\"Passenger Count\")\n",
    "plt.ylabel(\"Mean Trip Distance\")\n",
    "plt.title(\"Mean Trip Distances by Passenger Count\")\n",
    "plt.show()"
   ]
  },
  {
   "cell_type": "markdown",
   "id": "344ee1c0",
   "metadata": {},
   "source": [
    "### Ex. 2\n",
    "\n",
    "What is the median total trip cost (`total_amount`) during the day, and during the night? Assume that day hours are 6:30-19:30. [pl.time](https://docs.pola.rs/api/python/dev/reference/expressions/api/polars.time.html) may be useful.\n"
   ]
  },
  {
   "cell_type": "code",
   "execution_count": 84,
   "id": "cc9a161a",
   "metadata": {},
   "outputs": [
    {
     "data": {
      "text/html": [
       "<div><style>\n",
       ".dataframe > thead > tr,\n",
       ".dataframe > tbody > tr {\n",
       "  text-align: right;\n",
       "  white-space: pre-wrap;\n",
       "}\n",
       "</style>\n",
       "<small>shape: (2, 2)</small><table border=\"1\" class=\"dataframe\"><thead><tr><th>period</th><th>total_amount_median</th></tr><tr><td>cat</td><td>f64</td></tr></thead><tbody><tr><td>&quot;DAT&quot;</td><td>19.8</td></tr><tr><td>&quot;NIGHT&quot;</td><td>20.52</td></tr></tbody></table></div>"
      ],
      "text/plain": [
       "shape: (2, 2)\n",
       "┌────────┬─────────────────────┐\n",
       "│ period ┆ total_amount_median │\n",
       "│ ---    ┆ ---                 │\n",
       "│ cat    ┆ f64                 │\n",
       "╞════════╪═════════════════════╡\n",
       "│ DAT    ┆ 19.8                │\n",
       "│ NIGHT  ┆ 20.52               │\n",
       "└────────┴─────────────────────┘"
      ]
     },
     "execution_count": 84,
     "metadata": {},
     "output_type": "execute_result"
    }
   ],
   "source": [
    "df_period = (\n",
    "    df.select(\n",
    "        pl.col(\"tpep_pickup_datetime\").dt.hour().alias(\"hour\"),\n",
    "        pl.col(\"tpep_pickup_datetime\").dt.minute().alias(\"minutes\"),\n",
    "        pl.col(\"total_amount\"),\n",
    "    )\n",
    "    .with_columns(\n",
    "        pl.when(\n",
    "            ((pl.col(\"hour\") > 6) | ((pl.col(\"hour\") == 6) & (pl.col(\"minutes\") >= 30)))\n",
    "            & (\n",
    "                (pl.col(\"hour\") < 19)\n",
    "                | ((pl.col(\"hour\") == 19) & (pl.col(\"minutes\") <= 30))\n",
    "            )\n",
    "        )\n",
    "        .then(pl.lit(\"DAT\"))\n",
    "        .otherwise(pl.lit(\"NIGHT\"))\n",
    "        .alias(\"period\")\n",
    "        .cast(pl.Categorical)\n",
    "    )\n",
    "    .select([\"period\", \"total_amount\"])\n",
    "    .group_by(\"period\")\n",
    "    .agg(pl.col(\"total_amount\").median().alias(\"total_amount_median\"))\n",
    ")\n",
    "\n",
    "df_period"
   ]
  },
  {
   "cell_type": "markdown",
   "id": "3a8ecc6c",
   "metadata": {},
   "source": [
    "### Ex. 3\n",
    "\n",
    "What are the top 5 pairs of boroughs with the highest average trip time?\n"
   ]
  },
  {
   "cell_type": "code",
   "execution_count": 7,
   "id": "a77a09fb",
   "metadata": {},
   "outputs": [
    {
     "data": {
      "text/html": [
       "<div><style>\n",
       ".dataframe > thead > tr,\n",
       ".dataframe > tbody > tr {\n",
       "  text-align: right;\n",
       "  white-space: pre-wrap;\n",
       "}\n",
       "</style>\n",
       "<small>shape: (3, 4)</small><table border=\"1\" class=\"dataframe\"><thead><tr><th>LocationID</th><th>Borough</th><th>Zone</th><th>service_zone</th></tr><tr><td>i64</td><td>str</td><td>str</td><td>str</td></tr></thead><tbody><tr><td>1</td><td>&quot;EWR&quot;</td><td>&quot;Newark Airport&quot;</td><td>&quot;EWR&quot;</td></tr><tr><td>2</td><td>&quot;Queens&quot;</td><td>&quot;Jamaica Bay&quot;</td><td>&quot;Boro Zone&quot;</td></tr><tr><td>3</td><td>&quot;Bronx&quot;</td><td>&quot;Allerton/Pelham Gardens&quot;</td><td>&quot;Boro Zone&quot;</td></tr></tbody></table></div>"
      ],
      "text/plain": [
       "shape: (3, 4)\n",
       "┌────────────┬─────────┬─────────────────────────┬──────────────┐\n",
       "│ LocationID ┆ Borough ┆ Zone                    ┆ service_zone │\n",
       "│ ---        ┆ ---     ┆ ---                     ┆ ---          │\n",
       "│ i64        ┆ str     ┆ str                     ┆ str          │\n",
       "╞════════════╪═════════╪═════════════════════════╪══════════════╡\n",
       "│ 1          ┆ EWR     ┆ Newark Airport          ┆ EWR          │\n",
       "│ 2          ┆ Queens  ┆ Jamaica Bay             ┆ Boro Zone    │\n",
       "│ 3          ┆ Bronx   ┆ Allerton/Pelham Gardens ┆ Boro Zone    │\n",
       "└────────────┴─────────┴─────────────────────────┴──────────────┘"
      ]
     },
     "execution_count": 7,
     "metadata": {},
     "output_type": "execute_result"
    }
   ],
   "source": [
    "taxi_zone_df = pl.read_csv(\"data/taxi_zone_lookup.csv\")\n",
    "taxi_zone_df.head(3)"
   ]
  },
  {
   "cell_type": "code",
   "execution_count": 151,
   "id": "48d8d75e",
   "metadata": {},
   "outputs": [
    {
     "data": {
      "text/html": [
       "<div><style>\n",
       ".dataframe > thead > tr,\n",
       ".dataframe > tbody > tr {\n",
       "  text-align: right;\n",
       "  white-space: pre-wrap;\n",
       "}\n",
       "</style>\n",
       "<small>shape: (5, 3)</small><table border=\"1\" class=\"dataframe\"><thead><tr><th>Borough</th><th>Borough_right</th><th>mean_trip_time_in_minutes</th></tr><tr><td>str</td><td>str</td><td>f64</td></tr></thead><tbody><tr><td>&quot;Staten Island&quot;</td><td>&quot;Queens&quot;</td><td>219.333333</td></tr><tr><td>&quot;Bronx&quot;</td><td>&quot;Staten Island&quot;</td><td>209.9</td></tr><tr><td>&quot;Brooklyn&quot;</td><td>&quot;Staten Island&quot;</td><td>73.166092</td></tr><tr><td>&quot;Brooklyn&quot;</td><td>&quot;Bronx&quot;</td><td>72.750995</td></tr><tr><td>&quot;Bronx&quot;</td><td>&quot;Brooklyn&quot;</td><td>70.596698</td></tr></tbody></table></div>"
      ],
      "text/plain": [
       "shape: (5, 3)\n",
       "┌───────────────┬───────────────┬───────────────────────────┐\n",
       "│ Borough       ┆ Borough_right ┆ mean_trip_time_in_minutes │\n",
       "│ ---           ┆ ---           ┆ ---                       │\n",
       "│ str           ┆ str           ┆ f64                       │\n",
       "╞═══════════════╪═══════════════╪═══════════════════════════╡\n",
       "│ Staten Island ┆ Queens        ┆ 219.333333                │\n",
       "│ Bronx         ┆ Staten Island ┆ 209.9                     │\n",
       "│ Brooklyn      ┆ Staten Island ┆ 73.166092                 │\n",
       "│ Brooklyn      ┆ Bronx         ┆ 72.750995                 │\n",
       "│ Bronx         ┆ Brooklyn      ┆ 70.596698                 │\n",
       "└───────────────┴───────────────┴───────────────────────────┘"
      ]
     },
     "execution_count": 151,
     "metadata": {},
     "output_type": "execute_result"
    }
   ],
   "source": [
    "(\n",
    "    df.with_columns(\n",
    "        (\n",
    "            (\n",
    "                pl.col(\"tpep_dropoff_datetime\") - pl.col(\"tpep_pickup_datetime\")\n",
    "            ).dt.total_seconds()\n",
    "            / 60\n",
    "        ).alias(\"trip_time_minutes\"),\n",
    "        pl.col(\"PULocationID\"),\n",
    "        pl.col(\"DOLocationID\"),\n",
    "    )\n",
    "    .select([\"trip_time_minutes\", \"PULocationID\", \"DOLocationID\"])\n",
    "    .join(taxi_zone_df, left_on=\"PULocationID\", right_on=\"LocationID\")\n",
    "    .join(taxi_zone_df, left_on=\"DOLocationID\", right_on=\"LocationID\")\n",
    "    .group_by([\"Borough\", \"Borough_right\"])\n",
    "    .agg(pl.col(\"trip_time_minutes\").mean().alias(\"mean_trip_time_in_minutes\"))\n",
    "    .sort(by=\"mean_trip_time_in_minutes\", descending=True)\n",
    "    .head(5)\n",
    ")"
   ]
  },
  {
   "cell_type": "markdown",
   "id": "7299cb1f",
   "metadata": {},
   "source": [
    "### Ex. 4\n",
    "\n",
    "Calculate average costs of trip per minute, if starts and ends in the same borough and zone. What are the names of 5 boroughs and zones with the highest cost? Ignore trips under 1 minute.\n"
   ]
  },
  {
   "cell_type": "code",
   "execution_count": 12,
   "id": "bc04e8b2",
   "metadata": {},
   "outputs": [
    {
     "data": {
      "text/html": [
       "<div><style>\n",
       ".dataframe > thead > tr,\n",
       ".dataframe > tbody > tr {\n",
       "  text-align: right;\n",
       "  white-space: pre-wrap;\n",
       "}\n",
       "</style>\n",
       "<small>shape: (236, 3)</small><table border=\"1\" class=\"dataframe\"><thead><tr><th>Borough</th><th>Zone</th><th>cost_per_minute</th></tr><tr><td>str</td><td>str</td><td>f64</td></tr></thead><tbody><tr><td>&quot;Bronx&quot;</td><td>&quot;Norwood&quot;</td><td>1209.230769</td></tr><tr><td>&quot;Bronx&quot;</td><td>&quot;Eastchester&quot;</td><td>940.8</td></tr><tr><td>&quot;Bronx&quot;</td><td>&quot;Bronx Park&quot;</td><td>873.4</td></tr><tr><td>&quot;Brooklyn&quot;</td><td>&quot;Sheepshead Bay&quot;</td><td>822.857143</td></tr><tr><td>&quot;Brooklyn&quot;</td><td>&quot;Coney Island&quot;</td><td>788.347826</td></tr><tr><td>&hellip;</td><td>&hellip;</td><td>&hellip;</td></tr><tr><td>&quot;Queens&quot;</td><td>&quot;Queensbridge/Ravenswood&quot;</td><td>16.767941</td></tr><tr><td>&quot;Queens&quot;</td><td>&quot;Saint Michaels Cemetery/Woodsi…</td><td>11.340839</td></tr><tr><td>&quot;Staten Island&quot;</td><td>&quot;Mariners Harbor&quot;</td><td>5.744681</td></tr><tr><td>&quot;Brooklyn&quot;</td><td>&quot;Bath Beach&quot;</td><td>5.689655</td></tr><tr><td>&quot;Queens&quot;</td><td>&quot;Laurelton&quot;</td><td>0.0</td></tr></tbody></table></div>"
      ],
      "text/plain": [
       "shape: (236, 3)\n",
       "┌───────────────┬─────────────────────────────────┬─────────────────┐\n",
       "│ Borough       ┆ Zone                            ┆ cost_per_minute │\n",
       "│ ---           ┆ ---                             ┆ ---             │\n",
       "│ str           ┆ str                             ┆ f64             │\n",
       "╞═══════════════╪═════════════════════════════════╪═════════════════╡\n",
       "│ Bronx         ┆ Norwood                         ┆ 1209.230769     │\n",
       "│ Bronx         ┆ Eastchester                     ┆ 940.8           │\n",
       "│ Bronx         ┆ Bronx Park                      ┆ 873.4           │\n",
       "│ Brooklyn      ┆ Sheepshead Bay                  ┆ 822.857143      │\n",
       "│ Brooklyn      ┆ Coney Island                    ┆ 788.347826      │\n",
       "│ …             ┆ …                               ┆ …               │\n",
       "│ Queens        ┆ Queensbridge/Ravenswood         ┆ 16.767941       │\n",
       "│ Queens        ┆ Saint Michaels Cemetery/Woodsi… ┆ 11.340839       │\n",
       "│ Staten Island ┆ Mariners Harbor                 ┆ 5.744681        │\n",
       "│ Brooklyn      ┆ Bath Beach                      ┆ 5.689655        │\n",
       "│ Queens        ┆ Laurelton                       ┆ 0.0             │\n",
       "└───────────────┴─────────────────────────────────┴─────────────────┘"
      ]
     },
     "execution_count": 12,
     "metadata": {},
     "output_type": "execute_result"
    }
   ],
   "source": [
    "(\n",
    "    df.with_columns(\n",
    "        (\n",
    "            (\n",
    "                pl.col(\"tpep_dropoff_datetime\") - pl.col(\"tpep_pickup_datetime\")\n",
    "            ).dt.total_seconds()\n",
    "            / 60\n",
    "        ).alias(\"trip_time_minutes\"),\n",
    "        pl.col(\"total_amount\"),\n",
    "        pl.col(\"PULocationID\"),\n",
    "        pl.col(\"DOLocationID\"),\n",
    "    )\n",
    "    .filter(pl.col(\"PULocationID\") == pl.col(\"DOLocationID\"))  # TODO - add zones\n",
    "    .filter(pl.col(\"trip_time_minutes\") < 1)\n",
    "    .select(\n",
    "        [\n",
    "            pl.col(\"total_amount\"),\n",
    "            pl.col(\"trip_time_minutes\"),\n",
    "            pl.col(\"DOLocationID\").alias(\"location\"),\n",
    "        ]\n",
    "    )\n",
    "    .join(taxi_zone_df, left_on=\"location\", right_on=\"LocationID\")\n",
    "    .select([\"total_amount\", \"trip_time_minutes\", \"Borough\", \"Zone\"])\n",
    "    .group_by([\"Borough\", \"Zone\"])\n",
    "    .agg(\n",
    "        (pl.sum(\"total_amount\") / pl.sum(\"trip_time_minutes\")).alias(\"cost_per_minute\")\n",
    "    )\n",
    "    .sort(by=\"cost_per_minute\", descending=True)\n",
    ")"
   ]
  },
  {
   "cell_type": "markdown",
   "id": "682d3905",
   "metadata": {},
   "source": [
    "### Ex. 5\n",
    "\n",
    "What are daily total number of trips? Plot them on a line plot. Include only samples from 2024."
   ]
  },
  {
   "cell_type": "code",
   "execution_count": 26,
   "id": "498a92c7",
   "metadata": {},
   "outputs": [
    {
     "data": {
      "image/png": "[encoded data removed]",
      "text/plain": [
       "<Figure size 1200x500 with 1 Axes>"
      ]
     },
     "metadata": {},
     "output_type": "display_data"
    }
   ],
   "source": [
    "trips_per_day_df = (\n",
    "    df.filter(pl.col(\"tpep_pickup_datetime\").dt.year() == 2024)\n",
    "    .select((pl.col(\"tpep_pickup_datetime\").dt.strftime(\"%Y-%m-%d\").alias(\"date\")))\n",
    "    .group_by(\"date\")\n",
    "    .agg(pl.col(\"date\").count().alias(\"trip_numbers\"))\n",
    "    .sort(by=\"date\")\n",
    "    .select([\"date\", \"trip_numbers\"])\n",
    ")\n",
    "\n",
    "plt.figure(figsize=(12, 5))\n",
    "\n",
    "plt.plot(\n",
    "    trips_per_day_df[\"date\"], trips_per_day_df[\"trip_numbers\"], marker=\"o\", c=\"orange\"\n",
    ")\n",
    "plt.title(\"Total number of trips per day\")\n",
    "plt.xlabel(\"Date\")\n",
    "plt.xticks(rotation=45)\n",
    "plt.ylabel(\"Number of trips\")\n",
    "plt.grid()\n",
    "plt.show()"
   ]
  },
  {
   "cell_type": "markdown",
   "id": "fb239c61-d23c-4c5a-a521-91111bdc5fe1",
   "metadata": {},
   "source": [
    "## Data cleaning and prepreprocessing"
   ]
  },
  {
   "cell_type": "markdown",
   "id": "f8b9867f-1372-40d2-828e-fc7673cd8c0f",
   "metadata": {},
   "source": [
    "Many operations of data cleaning, transforming, merging, deduplication etc. are done on the level of DataFrame processing. Others, like scaling or filling missing values (e.g. with mean or median) in ML, are more frequently implemented as scikit-learn pipelines. It depends on a use case, but many times we need to preprocess data as an integral part of creating the resulting dataset.\n",
    "\n",
    "Important Polars functions related to data cleaning\n",
    "- `.describe()` - summarize column statistics\n",
    "- `.is_null()`, `.is_not_null()` - checking and filtering missing values\n",
    "- `.drop_nulls()` - removing rows with missing values\n",
    "- `.drop()` - removing columns\n",
    "- `.fill_null()` - fills missing values\n",
    "- `.cast()` - change column data type\n",
    "- `.to_dummies()` - use one-hot encoding with dummy variables for categorical column\n",
    "- `.unique()` - drops duplicate rows by a given column\n",
    "\n",
    "As an example, let's see the date range in out data. It should be only January 2024."
   ]
  },
  {
   "cell_type": "code",
   "execution_count": 27,
   "id": "a430ac2f-8a91-453d-bc7c-07a9bca0d9ab",
   "metadata": {
    "scrolled": true
   },
   "outputs": [
    {
     "data": {
      "text/html": [
       "<div><style>\n",
       ".dataframe > thead > tr,\n",
       ".dataframe > tbody > tr {\n",
       "  text-align: right;\n",
       "  white-space: pre-wrap;\n",
       "}\n",
       "</style>\n",
       "<small>shape: (1, 4)</small><table border=\"1\" class=\"dataframe\"><thead><tr><th>pickup_time_min</th><th>pickup_time_max</th><th>dropoff_time_min</th><th>dropoff_time_max</th></tr><tr><td>datetime[ns]</td><td>datetime[ns]</td><td>datetime[ns]</td><td>datetime[ns]</td></tr></thead><tbody><tr><td>2002-12-31 22:59:39</td><td>2024-02-01 00:01:15</td><td>2002-12-31 23:05:41</td><td>2024-02-02 13:56:52</td></tr></tbody></table></div>"
      ],
      "text/plain": [
       "shape: (1, 4)\n",
       "┌─────────────────────┬─────────────────────┬─────────────────────┬─────────────────────┐\n",
       "│ pickup_time_min     ┆ pickup_time_max     ┆ dropoff_time_min    ┆ dropoff_time_max    │\n",
       "│ ---                 ┆ ---                 ┆ ---                 ┆ ---                 │\n",
       "│ datetime[ns]        ┆ datetime[ns]        ┆ datetime[ns]        ┆ datetime[ns]        │\n",
       "╞═════════════════════╪═════════════════════╪═════════════════════╪═════════════════════╡\n",
       "│ 2002-12-31 22:59:39 ┆ 2024-02-01 00:01:15 ┆ 2002-12-31 23:05:41 ┆ 2024-02-02 13:56:52 │\n",
       "└─────────────────────┴─────────────────────┴─────────────────────┴─────────────────────┘"
      ]
     },
     "execution_count": 27,
     "metadata": {},
     "output_type": "execute_result"
    }
   ],
   "source": [
    "(\n",
    "    df.select(\n",
    "        pl.col(\"tpep_pickup_datetime\").min().alias(\"pickup_time_min\"),\n",
    "        pl.col(\"tpep_pickup_datetime\").max().alias(\"pickup_time_max\"),\n",
    "        pl.col(\"tpep_dropoff_datetime\").min().alias(\"dropoff_time_min\"),\n",
    "        pl.col(\"tpep_dropoff_datetime\").max().alias(\"dropoff_time_max\"),\n",
    "    )\n",
    ")"
   ]
  },
  {
   "cell_type": "markdown",
   "id": "759a7e00-dec0-44e9-a685-b9dc865a2585",
   "metadata": {},
   "source": [
    "Smallest times are from 2002, that's definitely wrong! End times slightly in February are more acceptable.\n",
    "\n",
    "Let's also check passenger counts. NYC taxis take at most 6 passengers, larger numbers are group rides, provided in another file. This number is written manually by the taxi driver, so we also expect many missing values."
   ]
  },
  {
   "cell_type": "code",
   "execution_count": 28,
   "id": "c04a86a6-5921-43e7-868f-ae3715e740b4",
   "metadata": {},
   "outputs": [
    {
     "name": "stdout",
     "output_type": "stream",
     "text": [
      "Over 6 passengers: 60 (0.002%)\n",
      "Null passengers: 140162 (4.728%)\n"
     ]
    }
   ],
   "source": [
    "over_6_passengers_count = len(df.filter(pl.col(\"passenger_count\") > 6))\n",
    "null_passengers_count = len(df.filter(pl.col(\"passenger_count\").is_null()))\n",
    "\n",
    "over_6_passengers_perc = over_6_passengers_count / len(df)\n",
    "null_passengers_perc = null_passengers_count / len(df)\n",
    "\n",
    "print(f\"Over 6 passengers: {over_6_passengers_count} ({over_6_passengers_perc:.3%})\")\n",
    "print(f\"Null passengers: {null_passengers_count} ({null_passengers_perc:.3%})\")"
   ]
  },
  {
   "cell_type": "markdown",
   "id": "753e401b-27d6-4972-895d-c187bdf0b572",
   "metadata": {},
   "source": [
    "To check null values in all columns, `.describe()` works really well:"
   ]
  },
  {
   "cell_type": "code",
   "execution_count": 29,
   "id": "90845d01-125b-4b55-a139-9522f082ce8c",
   "metadata": {},
   "outputs": [
    {
     "data": {
      "text/html": [
       "<div><style>\n",
       ".dataframe > thead > tr,\n",
       ".dataframe > tbody > tr {\n",
       "  text-align: right;\n",
       "  white-space: pre-wrap;\n",
       "}\n",
       "</style>\n",
       "<small>shape: (9, 20)</small><table border=\"1\" class=\"dataframe\"><thead><tr><th>statistic</th><th>VendorID</th><th>tpep_pickup_datetime</th><th>tpep_dropoff_datetime</th><th>passenger_count</th><th>trip_distance</th><th>RatecodeID</th><th>store_and_fwd_flag</th><th>PULocationID</th><th>DOLocationID</th><th>payment_type</th><th>fare_amount</th><th>extra</th><th>mta_tax</th><th>tip_amount</th><th>tolls_amount</th><th>improvement_surcharge</th><th>total_amount</th><th>congestion_surcharge</th><th>airport_fee</th></tr><tr><td>str</td><td>f64</td><td>str</td><td>str</td><td>f64</td><td>f64</td><td>f64</td><td>str</td><td>f64</td><td>f64</td><td>f64</td><td>f64</td><td>f64</td><td>f64</td><td>f64</td><td>f64</td><td>f64</td><td>f64</td><td>f64</td><td>f64</td></tr></thead><tbody><tr><td>&quot;count&quot;</td><td>2.964624e6</td><td>&quot;2964624&quot;</td><td>&quot;2964624&quot;</td><td>2.824462e6</td><td>2.964624e6</td><td>2.824462e6</td><td>&quot;2824462&quot;</td><td>2.964624e6</td><td>2.964624e6</td><td>2.964624e6</td><td>2.964624e6</td><td>2.964624e6</td><td>2.964624e6</td><td>2.964624e6</td><td>2.964624e6</td><td>2.964624e6</td><td>2.964624e6</td><td>2.824462e6</td><td>2.824462e6</td></tr><tr><td>&quot;null_count&quot;</td><td>0.0</td><td>&quot;0&quot;</td><td>&quot;0&quot;</td><td>140162.0</td><td>0.0</td><td>140162.0</td><td>&quot;140162&quot;</td><td>0.0</td><td>0.0</td><td>0.0</td><td>0.0</td><td>0.0</td><td>0.0</td><td>0.0</td><td>0.0</td><td>0.0</td><td>0.0</td><td>140162.0</td><td>140162.0</td></tr><tr><td>&quot;mean&quot;</td><td>1.754204</td><td>&quot;2024-01-17 00:46:36.431093&quot;</td><td>&quot;2024-01-17 01:02:13.208130&quot;</td><td>1.339281</td><td>3.652169</td><td>2.069359</td><td>null</td><td>166.017884</td><td>165.116712</td><td>1.161271</td><td>18.175062</td><td>1.451598</td><td>0.483382</td><td>3.33587</td><td>0.527021</td><td>0.975632</td><td>26.801505</td><td>2.256122</td><td>0.141161</td></tr><tr><td>&quot;std&quot;</td><td>0.43259</td><td>null</td><td>null</td><td>0.850282</td><td>225.462572</td><td>9.823219</td><td>null</td><td>63.623914</td><td>69.31535</td><td>0.580869</td><td>18.949548</td><td>1.804102</td><td>0.11776</td><td>3.896551</td><td>2.12831</td><td>0.218364</td><td>23.385577</td><td>0.823275</td><td>0.487624</td></tr><tr><td>&quot;min&quot;</td><td>1.0</td><td>&quot;2002-12-31 22:59:39&quot;</td><td>&quot;2002-12-31 23:05:41&quot;</td><td>0.0</td><td>0.0</td><td>1.0</td><td>&quot;N&quot;</td><td>1.0</td><td>1.0</td><td>0.0</td><td>-899.0</td><td>-7.5</td><td>-0.5</td><td>-80.0</td><td>-80.0</td><td>-1.0</td><td>-900.0</td><td>-2.5</td><td>-1.75</td></tr><tr><td>&quot;25%&quot;</td><td>2.0</td><td>&quot;2024-01-09 15:59:20&quot;</td><td>&quot;2024-01-09 16:16:23&quot;</td><td>1.0</td><td>1.0</td><td>1.0</td><td>null</td><td>132.0</td><td>114.0</td><td>1.0</td><td>8.6</td><td>0.0</td><td>0.5</td><td>1.0</td><td>0.0</td><td>1.0</td><td>15.38</td><td>2.5</td><td>0.0</td></tr><tr><td>&quot;50%&quot;</td><td>2.0</td><td>&quot;2024-01-17 10:45:38&quot;</td><td>&quot;2024-01-17 11:03:52&quot;</td><td>1.0</td><td>1.68</td><td>1.0</td><td>null</td><td>162.0</td><td>162.0</td><td>1.0</td><td>12.8</td><td>1.0</td><td>0.5</td><td>2.7</td><td>0.0</td><td>1.0</td><td>20.1</td><td>2.5</td><td>0.0</td></tr><tr><td>&quot;75%&quot;</td><td>2.0</td><td>&quot;2024-01-24 18:23:52&quot;</td><td>&quot;2024-01-24 18:40:29&quot;</td><td>1.0</td><td>3.11</td><td>1.0</td><td>null</td><td>234.0</td><td>234.0</td><td>1.0</td><td>20.5</td><td>2.5</td><td>0.5</td><td>4.12</td><td>0.0</td><td>1.0</td><td>28.56</td><td>2.5</td><td>0.0</td></tr><tr><td>&quot;max&quot;</td><td>6.0</td><td>&quot;2024-02-01 00:01:15&quot;</td><td>&quot;2024-02-02 13:56:52&quot;</td><td>9.0</td><td>312722.3</td><td>99.0</td><td>&quot;Y&quot;</td><td>265.0</td><td>265.0</td><td>4.0</td><td>5000.0</td><td>14.25</td><td>4.0</td><td>428.0</td><td>115.92</td><td>1.0</td><td>5000.0</td><td>2.5</td><td>1.75</td></tr></tbody></table></div>"
      ],
      "text/plain": [
       "shape: (9, 20)\n",
       "┌───────────┬───────────┬───────────┬───────────┬───┬───────────┬───────────┬───────────┬──────────┐\n",
       "│ statistic ┆ VendorID  ┆ tpep_pick ┆ tpep_drop ┆ … ┆ improveme ┆ total_amo ┆ congestio ┆ airport_ │\n",
       "│ ---       ┆ ---       ┆ up_dateti ┆ off_datet ┆   ┆ nt_surcha ┆ unt       ┆ n_surchar ┆ fee      │\n",
       "│ str       ┆ f64       ┆ me        ┆ ime       ┆   ┆ rge       ┆ ---       ┆ ge        ┆ ---      │\n",
       "│           ┆           ┆ ---       ┆ ---       ┆   ┆ ---       ┆ f64       ┆ ---       ┆ f64      │\n",
       "│           ┆           ┆ str       ┆ str       ┆   ┆ f64       ┆           ┆ f64       ┆          │\n",
       "╞═══════════╪═══════════╪═══════════╪═══════════╪═══╪═══════════╪═══════════╪═══════════╪══════════╡\n",
       "│ count     ┆ 2.964624e ┆ 2964624   ┆ 2964624   ┆ … ┆ 2.964624e ┆ 2.964624e ┆ 2.824462e ┆ 2.824462 │\n",
       "│           ┆ 6         ┆           ┆           ┆   ┆ 6         ┆ 6         ┆ 6         ┆ e6       │\n",
       "│ null_coun ┆ 0.0       ┆ 0         ┆ 0         ┆ … ┆ 0.0       ┆ 0.0       ┆ 140162.0  ┆ 140162.0 │\n",
       "│ t         ┆           ┆           ┆           ┆   ┆           ┆           ┆           ┆          │\n",
       "│ mean      ┆ 1.754204  ┆ 2024-01-1 ┆ 2024-01-1 ┆ … ┆ 0.975632  ┆ 26.801505 ┆ 2.256122  ┆ 0.141161 │\n",
       "│           ┆           ┆ 7 00:46:3 ┆ 7 01:02:1 ┆   ┆           ┆           ┆           ┆          │\n",
       "│           ┆           ┆ 6.431093  ┆ 3.208130  ┆   ┆           ┆           ┆           ┆          │\n",
       "│ std       ┆ 0.43259   ┆ null      ┆ null      ┆ … ┆ 0.218364  ┆ 23.385577 ┆ 0.823275  ┆ 0.487624 │\n",
       "│ min       ┆ 1.0       ┆ 2002-12-3 ┆ 2002-12-3 ┆ … ┆ -1.0      ┆ -900.0    ┆ -2.5      ┆ -1.75    │\n",
       "│           ┆           ┆ 1         ┆ 1         ┆   ┆           ┆           ┆           ┆          │\n",
       "│           ┆           ┆ 22:59:39  ┆ 23:05:41  ┆   ┆           ┆           ┆           ┆          │\n",
       "│ 25%       ┆ 2.0       ┆ 2024-01-0 ┆ 2024-01-0 ┆ … ┆ 1.0       ┆ 15.38     ┆ 2.5       ┆ 0.0      │\n",
       "│           ┆           ┆ 9         ┆ 9         ┆   ┆           ┆           ┆           ┆          │\n",
       "│           ┆           ┆ 15:59:20  ┆ 16:16:23  ┆   ┆           ┆           ┆           ┆          │\n",
       "│ 50%       ┆ 2.0       ┆ 2024-01-1 ┆ 2024-01-1 ┆ … ┆ 1.0       ┆ 20.1      ┆ 2.5       ┆ 0.0      │\n",
       "│           ┆           ┆ 7         ┆ 7         ┆   ┆           ┆           ┆           ┆          │\n",
       "│           ┆           ┆ 10:45:38  ┆ 11:03:52  ┆   ┆           ┆           ┆           ┆          │\n",
       "│ 75%       ┆ 2.0       ┆ 2024-01-2 ┆ 2024-01-2 ┆ … ┆ 1.0       ┆ 28.56     ┆ 2.5       ┆ 0.0      │\n",
       "│           ┆           ┆ 4         ┆ 4         ┆   ┆           ┆           ┆           ┆          │\n",
       "│           ┆           ┆ 18:23:52  ┆ 18:40:29  ┆   ┆           ┆           ┆           ┆          │\n",
       "│ max       ┆ 6.0       ┆ 2024-02-0 ┆ 2024-02-0 ┆ … ┆ 1.0       ┆ 5000.0    ┆ 2.5       ┆ 1.75     │\n",
       "│           ┆           ┆ 1         ┆ 2         ┆   ┆           ┆           ┆           ┆          │\n",
       "│           ┆           ┆ 00:01:15  ┆ 13:56:52  ┆   ┆           ┆           ┆           ┆          │\n",
       "└───────────┴───────────┴───────────┴───────────┴───┴───────────┴───────────┴───────────┴──────────┘"
      ]
     },
     "execution_count": 29,
     "metadata": {},
     "output_type": "execute_result"
    }
   ],
   "source": [
    "df.describe()"
   ]
  },
  {
   "cell_type": "markdown",
   "id": "1a11e9d4-548f-4fc9-9585-8acec35bab96",
   "metadata": {},
   "source": [
    "Note that there is exactly the same number of NULL values in all columns. This can also indicate more systematic problem and deeper real-life investigation. Here, we should probably remove that data.\n",
    "\n",
    "If we wanted to use this data in machine learning pipelines, e.g. for forecasting number of taxi rides, the borough information could be very useful. However, it's a categorical variable, and very few algorithms support them natively (notably XGBoost, LightGBM, CatBoost). Encoding with dummy variables would be useful here."
   ]
  },
  {
   "cell_type": "code",
   "execution_count": 30,
   "id": "121ddbc8-4d73-4993-9d7a-2e373d18016d",
   "metadata": {},
   "outputs": [
    {
     "data": {
      "text/html": [
       "<div><style>\n",
       ".dataframe > thead > tr,\n",
       ".dataframe > tbody > tr {\n",
       "  text-align: right;\n",
       "  white-space: pre-wrap;\n",
       "}\n",
       "</style>\n",
       "<small>shape: (265, 4)</small><table border=\"1\" class=\"dataframe\"><thead><tr><th>LocationID</th><th>Borough</th><th>Zone</th><th>service_zone</th></tr><tr><td>i64</td><td>str</td><td>str</td><td>str</td></tr></thead><tbody><tr><td>1</td><td>&quot;EWR&quot;</td><td>&quot;Newark Airport&quot;</td><td>&quot;EWR&quot;</td></tr><tr><td>2</td><td>&quot;Queens&quot;</td><td>&quot;Jamaica Bay&quot;</td><td>&quot;Boro Zone&quot;</td></tr><tr><td>3</td><td>&quot;Bronx&quot;</td><td>&quot;Allerton/Pelham Gardens&quot;</td><td>&quot;Boro Zone&quot;</td></tr><tr><td>4</td><td>&quot;Manhattan&quot;</td><td>&quot;Alphabet City&quot;</td><td>&quot;Yellow Zone&quot;</td></tr><tr><td>5</td><td>&quot;Staten Island&quot;</td><td>&quot;Arden Heights&quot;</td><td>&quot;Boro Zone&quot;</td></tr><tr><td>&hellip;</td><td>&hellip;</td><td>&hellip;</td><td>&hellip;</td></tr><tr><td>261</td><td>&quot;Manhattan&quot;</td><td>&quot;World Trade Center&quot;</td><td>&quot;Yellow Zone&quot;</td></tr><tr><td>262</td><td>&quot;Manhattan&quot;</td><td>&quot;Yorkville East&quot;</td><td>&quot;Yellow Zone&quot;</td></tr><tr><td>263</td><td>&quot;Manhattan&quot;</td><td>&quot;Yorkville West&quot;</td><td>&quot;Yellow Zone&quot;</td></tr><tr><td>264</td><td>&quot;Unknown&quot;</td><td>&quot;N/A&quot;</td><td>&quot;N/A&quot;</td></tr><tr><td>265</td><td>&quot;N/A&quot;</td><td>&quot;Outside of NYC&quot;</td><td>&quot;N/A&quot;</td></tr></tbody></table></div>"
      ],
      "text/plain": [
       "shape: (265, 4)\n",
       "┌────────────┬───────────────┬─────────────────────────┬──────────────┐\n",
       "│ LocationID ┆ Borough       ┆ Zone                    ┆ service_zone │\n",
       "│ ---        ┆ ---           ┆ ---                     ┆ ---          │\n",
       "│ i64        ┆ str           ┆ str                     ┆ str          │\n",
       "╞════════════╪═══════════════╪═════════════════════════╪══════════════╡\n",
       "│ 1          ┆ EWR           ┆ Newark Airport          ┆ EWR          │\n",
       "│ 2          ┆ Queens        ┆ Jamaica Bay             ┆ Boro Zone    │\n",
       "│ 3          ┆ Bronx         ┆ Allerton/Pelham Gardens ┆ Boro Zone    │\n",
       "│ 4          ┆ Manhattan     ┆ Alphabet City           ┆ Yellow Zone  │\n",
       "│ 5          ┆ Staten Island ┆ Arden Heights           ┆ Boro Zone    │\n",
       "│ …          ┆ …             ┆ …                       ┆ …            │\n",
       "│ 261        ┆ Manhattan     ┆ World Trade Center      ┆ Yellow Zone  │\n",
       "│ 262        ┆ Manhattan     ┆ Yorkville East          ┆ Yellow Zone  │\n",
       "│ 263        ┆ Manhattan     ┆ Yorkville West          ┆ Yellow Zone  │\n",
       "│ 264        ┆ Unknown       ┆ N/A                     ┆ N/A          │\n",
       "│ 265        ┆ N/A           ┆ Outside of NYC          ┆ N/A          │\n",
       "└────────────┴───────────────┴─────────────────────────┴──────────────┘"
      ]
     },
     "execution_count": 30,
     "metadata": {},
     "output_type": "execute_result"
    }
   ],
   "source": [
    "df_taxi_zones"
   ]
  },
  {
   "cell_type": "code",
   "execution_count": 31,
   "id": "fe3054c8-a6e7-4c60-954f-1f768ef6f23c",
   "metadata": {},
   "outputs": [
    {
     "data": {
      "text/html": [
       "<div><style>\n",
       ".dataframe > thead > tr,\n",
       ".dataframe > tbody > tr {\n",
       "  text-align: right;\n",
       "  white-space: pre-wrap;\n",
       "}\n",
       "</style>\n",
       "<small>shape: (265, 9)</small><table border=\"1\" class=\"dataframe\"><thead><tr><th>LocationID</th><th>Borough_Bronx</th><th>Borough_Brooklyn</th><th>Borough_EWR</th><th>Borough_Manhattan</th><th>Borough_N/A</th><th>Borough_Queens</th><th>Borough_Staten Island</th><th>Borough_Unknown</th></tr><tr><td>i64</td><td>u8</td><td>u8</td><td>u8</td><td>u8</td><td>u8</td><td>u8</td><td>u8</td><td>u8</td></tr></thead><tbody><tr><td>1</td><td>0</td><td>0</td><td>1</td><td>0</td><td>0</td><td>0</td><td>0</td><td>0</td></tr><tr><td>2</td><td>0</td><td>0</td><td>0</td><td>0</td><td>0</td><td>1</td><td>0</td><td>0</td></tr><tr><td>3</td><td>1</td><td>0</td><td>0</td><td>0</td><td>0</td><td>0</td><td>0</td><td>0</td></tr><tr><td>4</td><td>0</td><td>0</td><td>0</td><td>1</td><td>0</td><td>0</td><td>0</td><td>0</td></tr><tr><td>5</td><td>0</td><td>0</td><td>0</td><td>0</td><td>0</td><td>0</td><td>1</td><td>0</td></tr><tr><td>&hellip;</td><td>&hellip;</td><td>&hellip;</td><td>&hellip;</td><td>&hellip;</td><td>&hellip;</td><td>&hellip;</td><td>&hellip;</td><td>&hellip;</td></tr><tr><td>261</td><td>0</td><td>0</td><td>0</td><td>1</td><td>0</td><td>0</td><td>0</td><td>0</td></tr><tr><td>262</td><td>0</td><td>0</td><td>0</td><td>1</td><td>0</td><td>0</td><td>0</td><td>0</td></tr><tr><td>263</td><td>0</td><td>0</td><td>0</td><td>1</td><td>0</td><td>0</td><td>0</td><td>0</td></tr><tr><td>264</td><td>0</td><td>0</td><td>0</td><td>0</td><td>0</td><td>0</td><td>0</td><td>1</td></tr><tr><td>265</td><td>0</td><td>0</td><td>0</td><td>0</td><td>1</td><td>0</td><td>0</td><td>0</td></tr></tbody></table></div>"
      ],
      "text/plain": [
       "shape: (265, 9)\n",
       "┌───────────┬───────────┬───────────┬───────────┬───┬───────────┬───────────┬───────────┬──────────┐\n",
       "│ LocationI ┆ Borough_B ┆ Borough_B ┆ Borough_E ┆ … ┆ Borough_N ┆ Borough_Q ┆ Borough_S ┆ Borough_ │\n",
       "│ D         ┆ ronx      ┆ rooklyn   ┆ WR        ┆   ┆ /A        ┆ ueens     ┆ taten     ┆ Unknown  │\n",
       "│ ---       ┆ ---       ┆ ---       ┆ ---       ┆   ┆ ---       ┆ ---       ┆ Island    ┆ ---      │\n",
       "│ i64       ┆ u8        ┆ u8        ┆ u8        ┆   ┆ u8        ┆ u8        ┆ ---       ┆ u8       │\n",
       "│           ┆           ┆           ┆           ┆   ┆           ┆           ┆ u8        ┆          │\n",
       "╞═══════════╪═══════════╪═══════════╪═══════════╪═══╪═══════════╪═══════════╪═══════════╪══════════╡\n",
       "│ 1         ┆ 0         ┆ 0         ┆ 1         ┆ … ┆ 0         ┆ 0         ┆ 0         ┆ 0        │\n",
       "│ 2         ┆ 0         ┆ 0         ┆ 0         ┆ … ┆ 0         ┆ 1         ┆ 0         ┆ 0        │\n",
       "│ 3         ┆ 1         ┆ 0         ┆ 0         ┆ … ┆ 0         ┆ 0         ┆ 0         ┆ 0        │\n",
       "│ 4         ┆ 0         ┆ 0         ┆ 0         ┆ … ┆ 0         ┆ 0         ┆ 0         ┆ 0        │\n",
       "│ 5         ┆ 0         ┆ 0         ┆ 0         ┆ … ┆ 0         ┆ 0         ┆ 1         ┆ 0        │\n",
       "│ …         ┆ …         ┆ …         ┆ …         ┆ … ┆ …         ┆ …         ┆ …         ┆ …        │\n",
       "│ 261       ┆ 0         ┆ 0         ┆ 0         ┆ … ┆ 0         ┆ 0         ┆ 0         ┆ 0        │\n",
       "│ 262       ┆ 0         ┆ 0         ┆ 0         ┆ … ┆ 0         ┆ 0         ┆ 0         ┆ 0        │\n",
       "│ 263       ┆ 0         ┆ 0         ┆ 0         ┆ … ┆ 0         ┆ 0         ┆ 0         ┆ 0        │\n",
       "│ 264       ┆ 0         ┆ 0         ┆ 0         ┆ … ┆ 0         ┆ 0         ┆ 0         ┆ 1        │\n",
       "│ 265       ┆ 0         ┆ 0         ┆ 0         ┆ … ┆ 1         ┆ 0         ┆ 0         ┆ 0        │\n",
       "└───────────┴───────────┴───────────┴───────────┴───┴───────────┴───────────┴───────────┴──────────┘"
      ]
     },
     "execution_count": 31,
     "metadata": {},
     "output_type": "execute_result"
    }
   ],
   "source": [
    "(df_taxi_zones.select([\"LocationID\", \"Borough\"]).to_dummies(\"Borough\"))"
   ]
  },
  {
   "cell_type": "markdown",
   "id": "181c401e-95bc-42bb-a62d-c0bb98c11b9f",
   "metadata": {},
   "source": [
    "For selecting columns after dummy encoding, e.g. for grouping aggregations, you can use [regular expressions](https://regex101.com/) to [select columns](https://docs.pola.rs/api/python/version/0.18/reference/expressions/api/polars.col.html) in `pl.col()`. Regular expressions need to start with `^` and end with `$`. You can also pass such general expressions as aggregations directly.\n",
    "\n",
    "As an example, let's compute a total number of rides from different borough for each day."
   ]
  },
  {
   "cell_type": "code",
   "execution_count": 32,
   "id": "81232b13-7206-4b5d-8d1b-2fdcf46820f4",
   "metadata": {
    "scrolled": true
   },
   "outputs": [
    {
     "data": {
      "text/html": [
       "<div><style>\n",
       ".dataframe > thead > tr,\n",
       ".dataframe > tbody > tr {\n",
       "  text-align: right;\n",
       "  white-space: pre-wrap;\n",
       "}\n",
       "</style>\n",
       "<small>shape: (35, 9)</small><table border=\"1\" class=\"dataframe\"><thead><tr><th>date</th><th>Borough_Bronx</th><th>Borough_Brooklyn</th><th>Borough_EWR</th><th>Borough_Manhattan</th><th>Borough_N/A</th><th>Borough_Queens</th><th>Borough_Staten Island</th><th>Borough_Unknown</th></tr><tr><td>date</td><td>i64</td><td>i64</td><td>i64</td><td>i64</td><td>i64</td><td>i64</td><td>i64</td><td>i64</td></tr></thead><tbody><tr><td>2024-01-11</td><td>262</td><td>850</td><td>7</td><td>93784</td><td>74</td><td>9667</td><td>0</td><td>366</td></tr><tr><td>2024-01-31</td><td>252</td><td>820</td><td>7</td><td>93409</td><td>24</td><td>7317</td><td>1</td><td>290</td></tr><tr><td>2024-01-24</td><td>268</td><td>795</td><td>5</td><td>96072</td><td>37</td><td>7648</td><td>2</td><td>293</td></tr><tr><td>2024-01-29</td><td>223</td><td>834</td><td>7</td><td>73581</td><td>38</td><td>9598</td><td>7</td><td>259</td></tr><tr><td>2024-01-02</td><td>205</td><td>836</td><td>20</td><td>62923</td><td>66</td><td>11185</td><td>2</td><td>282</td></tr><tr><td>&hellip;</td><td>&hellip;</td><td>&hellip;</td><td>&hellip;</td><td>&hellip;</td><td>&hellip;</td><td>&hellip;</td><td>&hellip;</td><td>&hellip;</td></tr><tr><td>2024-01-07</td><td>143</td><td>430</td><td>15</td><td>57166</td><td>79</td><td>9465</td><td>2</td><td>243</td></tr><tr><td>2024-01-08</td><td>197</td><td>767</td><td>10</td><td>69512</td><td>55</td><td>9217</td><td>2</td><td>274</td></tr><tr><td>2024-01-20</td><td>198</td><td>817</td><td>8</td><td>100554</td><td>42</td><td>6753</td><td>3</td><td>393</td></tr><tr><td>2024-01-12</td><td>273</td><td>931</td><td>15</td><td>92299</td><td>61</td><td>9779</td><td>3</td><td>294</td></tr><tr><td>2002-12-31</td><td>0</td><td>0</td><td>0</td><td>2</td><td>0</td><td>0</td><td>0</td><td>0</td></tr></tbody></table></div>"
      ],
      "text/plain": [
       "shape: (35, 9)\n",
       "┌───────────┬───────────┬───────────┬───────────┬───┬───────────┬───────────┬───────────┬──────────┐\n",
       "│ date      ┆ Borough_B ┆ Borough_B ┆ Borough_E ┆ … ┆ Borough_N ┆ Borough_Q ┆ Borough_S ┆ Borough_ │\n",
       "│ ---       ┆ ronx      ┆ rooklyn   ┆ WR        ┆   ┆ /A        ┆ ueens     ┆ taten     ┆ Unknown  │\n",
       "│ date      ┆ ---       ┆ ---       ┆ ---       ┆   ┆ ---       ┆ ---       ┆ Island    ┆ ---      │\n",
       "│           ┆ i64       ┆ i64       ┆ i64       ┆   ┆ i64       ┆ i64       ┆ ---       ┆ i64      │\n",
       "│           ┆           ┆           ┆           ┆   ┆           ┆           ┆ i64       ┆          │\n",
       "╞═══════════╪═══════════╪═══════════╪═══════════╪═══╪═══════════╪═══════════╪═══════════╪══════════╡\n",
       "│ 2024-01-1 ┆ 262       ┆ 850       ┆ 7         ┆ … ┆ 74        ┆ 9667      ┆ 0         ┆ 366      │\n",
       "│ 1         ┆           ┆           ┆           ┆   ┆           ┆           ┆           ┆          │\n",
       "│ 2024-01-3 ┆ 252       ┆ 820       ┆ 7         ┆ … ┆ 24        ┆ 7317      ┆ 1         ┆ 290      │\n",
       "│ 1         ┆           ┆           ┆           ┆   ┆           ┆           ┆           ┆          │\n",
       "│ 2024-01-2 ┆ 268       ┆ 795       ┆ 5         ┆ … ┆ 37        ┆ 7648      ┆ 2         ┆ 293      │\n",
       "│ 4         ┆           ┆           ┆           ┆   ┆           ┆           ┆           ┆          │\n",
       "│ 2024-01-2 ┆ 223       ┆ 834       ┆ 7         ┆ … ┆ 38        ┆ 9598      ┆ 7         ┆ 259      │\n",
       "│ 9         ┆           ┆           ┆           ┆   ┆           ┆           ┆           ┆          │\n",
       "│ 2024-01-0 ┆ 205       ┆ 836       ┆ 20        ┆ … ┆ 66        ┆ 11185     ┆ 2         ┆ 282      │\n",
       "│ 2         ┆           ┆           ┆           ┆   ┆           ┆           ┆           ┆          │\n",
       "│ …         ┆ …         ┆ …         ┆ …         ┆ … ┆ …         ┆ …         ┆ …         ┆ …        │\n",
       "│ 2024-01-0 ┆ 143       ┆ 430       ┆ 15        ┆ … ┆ 79        ┆ 9465      ┆ 2         ┆ 243      │\n",
       "│ 7         ┆           ┆           ┆           ┆   ┆           ┆           ┆           ┆          │\n",
       "│ 2024-01-0 ┆ 197       ┆ 767       ┆ 10        ┆ … ┆ 55        ┆ 9217      ┆ 2         ┆ 274      │\n",
       "│ 8         ┆           ┆           ┆           ┆   ┆           ┆           ┆           ┆          │\n",
       "│ 2024-01-2 ┆ 198       ┆ 817       ┆ 8         ┆ … ┆ 42        ┆ 6753      ┆ 3         ┆ 393      │\n",
       "│ 0         ┆           ┆           ┆           ┆   ┆           ┆           ┆           ┆          │\n",
       "│ 2024-01-1 ┆ 273       ┆ 931       ┆ 15        ┆ … ┆ 61        ┆ 9779      ┆ 3         ┆ 294      │\n",
       "│ 2         ┆           ┆           ┆           ┆   ┆           ┆           ┆           ┆          │\n",
       "│ 2002-12-3 ┆ 0         ┆ 0         ┆ 0         ┆ … ┆ 0         ┆ 0         ┆ 0         ┆ 0        │\n",
       "│ 1         ┆           ┆           ┆           ┆   ┆           ┆           ┆           ┆          │\n",
       "└───────────┴───────────┴───────────┴───────────┴───┴───────────┴───────────┴───────────┴──────────┘"
      ]
     },
     "execution_count": 32,
     "metadata": {},
     "output_type": "execute_result"
    }
   ],
   "source": [
    "(\n",
    "    df.join(df_taxi_zones, left_on=\"PULocationID\", right_on=\"LocationID\")\n",
    "    .with_columns(pl.col(\"tpep_pickup_datetime\").dt.date().alias(\"date\"))\n",
    "    .select([\"date\", \"passenger_count\", \"Borough\"])\n",
    "    .to_dummies(\"Borough\")\n",
    "    .group_by(\"date\")\n",
    "    # select all columns with name starting with \"Borough_\" and anything further\n",
    "    .agg(pl.col(\"^Borough_.*$\").sum())\n",
    ")"
   ]
  },
  {
   "cell_type": "markdown",
   "id": "094d6ee5-f6ec-4e9c-8a00-854152d06b9d",
   "metadata": {},
   "source": [
    "Lastly, it's often useful to reduce the number of bits. By default, Polars is quite conservative and uses quite large integers. We can use a much smaller number in many cases, e.g. for categorical variables, small counts, or identifiers. This reduces memory usage and also speeds up calculations on modern processors, which can pack more data for vector operations this way.\n",
    "\n",
    "Here, two functions are useful:\n",
    "- `.schema()` to get column names and types\n",
    "- `.describe()` to get minimal and maximal values of all columns"
   ]
  },
  {
   "cell_type": "code",
   "execution_count": 33,
   "id": "dc95aeee-0281-412d-a592-3393bb90d971",
   "metadata": {},
   "outputs": [
    {
     "data": {
      "text/plain": [
       "Schema([('VendorID', Int32),\n",
       "        ('tpep_pickup_datetime', Datetime(time_unit='ns', time_zone=None)),\n",
       "        ('tpep_dropoff_datetime', Datetime(time_unit='ns', time_zone=None)),\n",
       "        ('passenger_count', Int64),\n",
       "        ('trip_distance', Float64),\n",
       "        ('RatecodeID', Int64),\n",
       "        ('store_and_fwd_flag', String),\n",
       "        ('PULocationID', Int32),\n",
       "        ('DOLocationID', Int32),\n",
       "        ('payment_type', Int64),\n",
       "        ('fare_amount', Float64),\n",
       "        ('extra', Float64),\n",
       "        ('mta_tax', Float64),\n",
       "        ('tip_amount', Float64),\n",
       "        ('tolls_amount', Float64),\n",
       "        ('improvement_surcharge', Float64),\n",
       "        ('total_amount', Float64),\n",
       "        ('congestion_surcharge', Float64),\n",
       "        ('airport_fee', Float64)])"
      ]
     },
     "execution_count": 33,
     "metadata": {},
     "output_type": "execute_result"
    }
   ],
   "source": [
    "df.schema"
   ]
  },
  {
   "cell_type": "markdown",
   "id": "0f7647c3-969e-4318-8f81-ec75e76ca470",
   "metadata": {},
   "source": [
    "For example, we see that `passenger_count` could be a small unsigned integer, as it's surely under 255. See [documentation](https://docs.pola.rs/api/python/stable/reference/datatypes.html) for a list of data types."
   ]
  },
  {
   "cell_type": "code",
   "execution_count": 34,
   "id": "cecabfc0-56a8-47ca-aaca-7210f69ed7be",
   "metadata": {
    "scrolled": true
   },
   "outputs": [
    {
     "data": {
      "text/html": [
       "<div><style>\n",
       ".dataframe > thead > tr,\n",
       ".dataframe > tbody > tr {\n",
       "  text-align: right;\n",
       "  white-space: pre-wrap;\n",
       "}\n",
       "</style>\n",
       "<small>shape: (2_964_624, 19)</small><table border=\"1\" class=\"dataframe\"><thead><tr><th>VendorID</th><th>tpep_pickup_datetime</th><th>tpep_dropoff_datetime</th><th>passenger_count</th><th>trip_distance</th><th>RatecodeID</th><th>store_and_fwd_flag</th><th>PULocationID</th><th>DOLocationID</th><th>payment_type</th><th>fare_amount</th><th>extra</th><th>mta_tax</th><th>tip_amount</th><th>tolls_amount</th><th>improvement_surcharge</th><th>total_amount</th><th>congestion_surcharge</th><th>airport_fee</th></tr><tr><td>i32</td><td>datetime[ns]</td><td>datetime[ns]</td><td>u8</td><td>f64</td><td>i64</td><td>str</td><td>i32</td><td>i32</td><td>i64</td><td>f64</td><td>f64</td><td>f64</td><td>f64</td><td>f64</td><td>f64</td><td>f64</td><td>f64</td><td>f64</td></tr></thead><tbody><tr><td>2</td><td>2024-01-01 00:57:55</td><td>2024-01-01 01:17:43</td><td>1</td><td>1.72</td><td>1</td><td>&quot;N&quot;</td><td>186</td><td>79</td><td>2</td><td>17.7</td><td>1.0</td><td>0.5</td><td>0.0</td><td>0.0</td><td>1.0</td><td>22.7</td><td>2.5</td><td>0.0</td></tr><tr><td>1</td><td>2024-01-01 00:03:00</td><td>2024-01-01 00:09:36</td><td>1</td><td>1.8</td><td>1</td><td>&quot;N&quot;</td><td>140</td><td>236</td><td>1</td><td>10.0</td><td>3.5</td><td>0.5</td><td>3.75</td><td>0.0</td><td>1.0</td><td>18.75</td><td>2.5</td><td>0.0</td></tr><tr><td>1</td><td>2024-01-01 00:17:06</td><td>2024-01-01 00:35:01</td><td>1</td><td>4.7</td><td>1</td><td>&quot;N&quot;</td><td>236</td><td>79</td><td>1</td><td>23.3</td><td>3.5</td><td>0.5</td><td>3.0</td><td>0.0</td><td>1.0</td><td>31.3</td><td>2.5</td><td>0.0</td></tr><tr><td>1</td><td>2024-01-01 00:36:38</td><td>2024-01-01 00:44:56</td><td>1</td><td>1.4</td><td>1</td><td>&quot;N&quot;</td><td>79</td><td>211</td><td>1</td><td>10.0</td><td>3.5</td><td>0.5</td><td>2.0</td><td>0.0</td><td>1.0</td><td>17.0</td><td>2.5</td><td>0.0</td></tr><tr><td>1</td><td>2024-01-01 00:46:51</td><td>2024-01-01 00:52:57</td><td>1</td><td>0.8</td><td>1</td><td>&quot;N&quot;</td><td>211</td><td>148</td><td>1</td><td>7.9</td><td>3.5</td><td>0.5</td><td>3.2</td><td>0.0</td><td>1.0</td><td>16.1</td><td>2.5</td><td>0.0</td></tr><tr><td>&hellip;</td><td>&hellip;</td><td>&hellip;</td><td>&hellip;</td><td>&hellip;</td><td>&hellip;</td><td>&hellip;</td><td>&hellip;</td><td>&hellip;</td><td>&hellip;</td><td>&hellip;</td><td>&hellip;</td><td>&hellip;</td><td>&hellip;</td><td>&hellip;</td><td>&hellip;</td><td>&hellip;</td><td>&hellip;</td><td>&hellip;</td></tr><tr><td>2</td><td>2024-01-31 23:45:59</td><td>2024-01-31 23:54:36</td><td>null</td><td>3.18</td><td>null</td><td>null</td><td>107</td><td>263</td><td>0</td><td>15.77</td><td>0.0</td><td>0.5</td><td>2.0</td><td>0.0</td><td>1.0</td><td>21.77</td><td>null</td><td>null</td></tr><tr><td>1</td><td>2024-01-31 23:13:07</td><td>2024-01-31 23:27:52</td><td>null</td><td>4.0</td><td>null</td><td>null</td><td>114</td><td>236</td><td>0</td><td>18.4</td><td>1.0</td><td>0.5</td><td>2.34</td><td>0.0</td><td>1.0</td><td>25.74</td><td>null</td><td>null</td></tr><tr><td>2</td><td>2024-01-31 23:19:00</td><td>2024-01-31 23:38:00</td><td>null</td><td>3.33</td><td>null</td><td>null</td><td>211</td><td>25</td><td>0</td><td>19.97</td><td>0.0</td><td>0.5</td><td>0.0</td><td>0.0</td><td>1.0</td><td>23.97</td><td>null</td><td>null</td></tr><tr><td>2</td><td>2024-01-31 23:07:23</td><td>2024-01-31 23:25:14</td><td>null</td><td>3.06</td><td>null</td><td>null</td><td>107</td><td>13</td><td>0</td><td>23.88</td><td>0.0</td><td>0.5</td><td>5.58</td><td>0.0</td><td>1.0</td><td>33.46</td><td>null</td><td>null</td></tr><tr><td>1</td><td>2024-01-31 23:58:25</td><td>2024-02-01 00:13:30</td><td>null</td><td>8.1</td><td>null</td><td>null</td><td>138</td><td>75</td><td>0</td><td>32.4</td><td>7.75</td><td>0.5</td><td>7.29</td><td>6.94</td><td>1.0</td><td>55.88</td><td>null</td><td>null</td></tr></tbody></table></div>"
      ],
      "text/plain": [
       "shape: (2_964_624, 19)\n",
       "┌──────────┬───────────┬───────────┬───────────┬───┬───────────┬───────────┬───────────┬───────────┐\n",
       "│ VendorID ┆ tpep_pick ┆ tpep_drop ┆ passenger ┆ … ┆ improveme ┆ total_amo ┆ congestio ┆ airport_f │\n",
       "│ ---      ┆ up_dateti ┆ off_datet ┆ _count    ┆   ┆ nt_surcha ┆ unt       ┆ n_surchar ┆ ee        │\n",
       "│ i32      ┆ me        ┆ ime       ┆ ---       ┆   ┆ rge       ┆ ---       ┆ ge        ┆ ---       │\n",
       "│          ┆ ---       ┆ ---       ┆ u8        ┆   ┆ ---       ┆ f64       ┆ ---       ┆ f64       │\n",
       "│          ┆ datetime[ ┆ datetime[ ┆           ┆   ┆ f64       ┆           ┆ f64       ┆           │\n",
       "│          ┆ ns]       ┆ ns]       ┆           ┆   ┆           ┆           ┆           ┆           │\n",
       "╞══════════╪═══════════╪═══════════╪═══════════╪═══╪═══════════╪═══════════╪═══════════╪═══════════╡\n",
       "│ 2        ┆ 2024-01-0 ┆ 2024-01-0 ┆ 1         ┆ … ┆ 1.0       ┆ 22.7      ┆ 2.5       ┆ 0.0       │\n",
       "│          ┆ 1         ┆ 1         ┆           ┆   ┆           ┆           ┆           ┆           │\n",
       "│          ┆ 00:57:55  ┆ 01:17:43  ┆           ┆   ┆           ┆           ┆           ┆           │\n",
       "│ 1        ┆ 2024-01-0 ┆ 2024-01-0 ┆ 1         ┆ … ┆ 1.0       ┆ 18.75     ┆ 2.5       ┆ 0.0       │\n",
       "│          ┆ 1         ┆ 1         ┆           ┆   ┆           ┆           ┆           ┆           │\n",
       "│          ┆ 00:03:00  ┆ 00:09:36  ┆           ┆   ┆           ┆           ┆           ┆           │\n",
       "│ 1        ┆ 2024-01-0 ┆ 2024-01-0 ┆ 1         ┆ … ┆ 1.0       ┆ 31.3      ┆ 2.5       ┆ 0.0       │\n",
       "│          ┆ 1         ┆ 1         ┆           ┆   ┆           ┆           ┆           ┆           │\n",
       "│          ┆ 00:17:06  ┆ 00:35:01  ┆           ┆   ┆           ┆           ┆           ┆           │\n",
       "│ 1        ┆ 2024-01-0 ┆ 2024-01-0 ┆ 1         ┆ … ┆ 1.0       ┆ 17.0      ┆ 2.5       ┆ 0.0       │\n",
       "│          ┆ 1         ┆ 1         ┆           ┆   ┆           ┆           ┆           ┆           │\n",
       "│          ┆ 00:36:38  ┆ 00:44:56  ┆           ┆   ┆           ┆           ┆           ┆           │\n",
       "│ 1        ┆ 2024-01-0 ┆ 2024-01-0 ┆ 1         ┆ … ┆ 1.0       ┆ 16.1      ┆ 2.5       ┆ 0.0       │\n",
       "│          ┆ 1         ┆ 1         ┆           ┆   ┆           ┆           ┆           ┆           │\n",
       "│          ┆ 00:46:51  ┆ 00:52:57  ┆           ┆   ┆           ┆           ┆           ┆           │\n",
       "│ …        ┆ …         ┆ …         ┆ …         ┆ … ┆ …         ┆ …         ┆ …         ┆ …         │\n",
       "│ 2        ┆ 2024-01-3 ┆ 2024-01-3 ┆ null      ┆ … ┆ 1.0       ┆ 21.77     ┆ null      ┆ null      │\n",
       "│          ┆ 1         ┆ 1         ┆           ┆   ┆           ┆           ┆           ┆           │\n",
       "│          ┆ 23:45:59  ┆ 23:54:36  ┆           ┆   ┆           ┆           ┆           ┆           │\n",
       "│ 1        ┆ 2024-01-3 ┆ 2024-01-3 ┆ null      ┆ … ┆ 1.0       ┆ 25.74     ┆ null      ┆ null      │\n",
       "│          ┆ 1         ┆ 1         ┆           ┆   ┆           ┆           ┆           ┆           │\n",
       "│          ┆ 23:13:07  ┆ 23:27:52  ┆           ┆   ┆           ┆           ┆           ┆           │\n",
       "│ 2        ┆ 2024-01-3 ┆ 2024-01-3 ┆ null      ┆ … ┆ 1.0       ┆ 23.97     ┆ null      ┆ null      │\n",
       "│          ┆ 1         ┆ 1         ┆           ┆   ┆           ┆           ┆           ┆           │\n",
       "│          ┆ 23:19:00  ┆ 23:38:00  ┆           ┆   ┆           ┆           ┆           ┆           │\n",
       "│ 2        ┆ 2024-01-3 ┆ 2024-01-3 ┆ null      ┆ … ┆ 1.0       ┆ 33.46     ┆ null      ┆ null      │\n",
       "│          ┆ 1         ┆ 1         ┆           ┆   ┆           ┆           ┆           ┆           │\n",
       "│          ┆ 23:07:23  ┆ 23:25:14  ┆           ┆   ┆           ┆           ┆           ┆           │\n",
       "│ 1        ┆ 2024-01-3 ┆ 2024-02-0 ┆ null      ┆ … ┆ 1.0       ┆ 55.88     ┆ null      ┆ null      │\n",
       "│          ┆ 1         ┆ 1         ┆           ┆   ┆           ┆           ┆           ┆           │\n",
       "│          ┆ 23:58:25  ┆ 00:13:30  ┆           ┆   ┆           ┆           ┆           ┆           │\n",
       "└──────────┴───────────┴───────────┴───────────┴───┴───────────┴───────────┴───────────┴───────────┘"
      ]
     },
     "execution_count": 34,
     "metadata": {},
     "output_type": "execute_result"
    }
   ],
   "source": [
    "df.with_columns(pl.col(\"passenger_count\").cast(pl.UInt8))"
   ]
  },
  {
   "cell_type": "markdown",
   "id": "63fee5c1-4c9d-414b-9f15-b1059c4f44e7",
   "metadata": {
    "execution": {
     "iopub.execute_input": "2025-03-09T19:28:46.618583Z",
     "iopub.status.busy": "2025-03-09T19:28:46.618418Z",
     "iopub.status.idle": "2025-03-09T19:28:46.624733Z",
     "shell.execute_reply": "2025-03-09T19:28:46.624340Z",
     "shell.execute_reply.started": "2025-03-09T19:28:46.618574Z"
    }
   },
   "source": [
    "**Exercises**\n",
    "\n",
    "1. Keep only rows from 2024.\n",
    "2. Check how many rows have zero passengers. Keep rows that have between 1 and 6 passengers (inclusive).\n",
    "3. Remove trips lasting over two hours.\n",
    "4. Check value ranges of `PULocationID` and `DOLocationID`, and optimize their data types."
   ]
  },
  {
   "cell_type": "markdown",
   "id": "06315edd",
   "metadata": {},
   "source": [
    "### Ex. 1\n",
    "\n",
    "Keep only rows from 2024"
   ]
  },
  {
   "cell_type": "code",
   "execution_count": 36,
   "id": "b6577b11-c4df-4c30-bdd7-23bb1544c0f7",
   "metadata": {},
   "outputs": [
    {
     "data": {
      "text/html": [
       "<div><style>\n",
       ".dataframe > thead > tr,\n",
       ".dataframe > tbody > tr {\n",
       "  text-align: right;\n",
       "  white-space: pre-wrap;\n",
       "}\n",
       "</style>\n",
       "<small>shape: (3, 19)</small><table border=\"1\" class=\"dataframe\"><thead><tr><th>VendorID</th><th>tpep_pickup_datetime</th><th>tpep_dropoff_datetime</th><th>passenger_count</th><th>trip_distance</th><th>RatecodeID</th><th>store_and_fwd_flag</th><th>PULocationID</th><th>DOLocationID</th><th>payment_type</th><th>fare_amount</th><th>extra</th><th>mta_tax</th><th>tip_amount</th><th>tolls_amount</th><th>improvement_surcharge</th><th>total_amount</th><th>congestion_surcharge</th><th>airport_fee</th></tr><tr><td>i32</td><td>datetime[ns]</td><td>datetime[ns]</td><td>i64</td><td>f64</td><td>i64</td><td>str</td><td>i32</td><td>i32</td><td>i64</td><td>f64</td><td>f64</td><td>f64</td><td>f64</td><td>f64</td><td>f64</td><td>f64</td><td>f64</td><td>f64</td></tr></thead><tbody><tr><td>2</td><td>2024-01-01 00:57:55</td><td>2024-01-01 01:17:43</td><td>1</td><td>1.72</td><td>1</td><td>&quot;N&quot;</td><td>186</td><td>79</td><td>2</td><td>17.7</td><td>1.0</td><td>0.5</td><td>0.0</td><td>0.0</td><td>1.0</td><td>22.7</td><td>2.5</td><td>0.0</td></tr><tr><td>1</td><td>2024-01-01 00:03:00</td><td>2024-01-01 00:09:36</td><td>1</td><td>1.8</td><td>1</td><td>&quot;N&quot;</td><td>140</td><td>236</td><td>1</td><td>10.0</td><td>3.5</td><td>0.5</td><td>3.75</td><td>0.0</td><td>1.0</td><td>18.75</td><td>2.5</td><td>0.0</td></tr><tr><td>1</td><td>2024-01-01 00:17:06</td><td>2024-01-01 00:35:01</td><td>1</td><td>4.7</td><td>1</td><td>&quot;N&quot;</td><td>236</td><td>79</td><td>1</td><td>23.3</td><td>3.5</td><td>0.5</td><td>3.0</td><td>0.0</td><td>1.0</td><td>31.3</td><td>2.5</td><td>0.0</td></tr></tbody></table></div>"
      ],
      "text/plain": [
       "shape: (3, 19)\n",
       "┌──────────┬───────────┬───────────┬───────────┬───┬───────────┬───────────┬───────────┬───────────┐\n",
       "│ VendorID ┆ tpep_pick ┆ tpep_drop ┆ passenger ┆ … ┆ improveme ┆ total_amo ┆ congestio ┆ airport_f │\n",
       "│ ---      ┆ up_dateti ┆ off_datet ┆ _count    ┆   ┆ nt_surcha ┆ unt       ┆ n_surchar ┆ ee        │\n",
       "│ i32      ┆ me        ┆ ime       ┆ ---       ┆   ┆ rge       ┆ ---       ┆ ge        ┆ ---       │\n",
       "│          ┆ ---       ┆ ---       ┆ i64       ┆   ┆ ---       ┆ f64       ┆ ---       ┆ f64       │\n",
       "│          ┆ datetime[ ┆ datetime[ ┆           ┆   ┆ f64       ┆           ┆ f64       ┆           │\n",
       "│          ┆ ns]       ┆ ns]       ┆           ┆   ┆           ┆           ┆           ┆           │\n",
       "╞══════════╪═══════════╪═══════════╪═══════════╪═══╪═══════════╪═══════════╪═══════════╪═══════════╡\n",
       "│ 2        ┆ 2024-01-0 ┆ 2024-01-0 ┆ 1         ┆ … ┆ 1.0       ┆ 22.7      ┆ 2.5       ┆ 0.0       │\n",
       "│          ┆ 1         ┆ 1         ┆           ┆   ┆           ┆           ┆           ┆           │\n",
       "│          ┆ 00:57:55  ┆ 01:17:43  ┆           ┆   ┆           ┆           ┆           ┆           │\n",
       "│ 1        ┆ 2024-01-0 ┆ 2024-01-0 ┆ 1         ┆ … ┆ 1.0       ┆ 18.75     ┆ 2.5       ┆ 0.0       │\n",
       "│          ┆ 1         ┆ 1         ┆           ┆   ┆           ┆           ┆           ┆           │\n",
       "│          ┆ 00:03:00  ┆ 00:09:36  ┆           ┆   ┆           ┆           ┆           ┆           │\n",
       "│ 1        ┆ 2024-01-0 ┆ 2024-01-0 ┆ 1         ┆ … ┆ 1.0       ┆ 31.3      ┆ 2.5       ┆ 0.0       │\n",
       "│          ┆ 1         ┆ 1         ┆           ┆   ┆           ┆           ┆           ┆           │\n",
       "│          ┆ 00:17:06  ┆ 00:35:01  ┆           ┆   ┆           ┆           ┆           ┆           │\n",
       "└──────────┴───────────┴───────────┴───────────┴───┴───────────┴───────────┴───────────┴───────────┘"
      ]
     },
     "execution_count": 36,
     "metadata": {},
     "output_type": "execute_result"
    }
   ],
   "source": [
    "df_2024 = df.filter(pl.col(\"tpep_pickup_datetime\").dt.year() == 2024)\n",
    "df.head(3)"
   ]
  },
  {
   "cell_type": "markdown",
   "id": "cdf3d72c",
   "metadata": {},
   "source": [
    "### Ex. 2\n",
    "\n",
    "2. Check how many rows have zero passengers. Keep rows that have between 1 and 6 passengers (inclusive).\n"
   ]
  },
  {
   "cell_type": "code",
   "execution_count": 38,
   "id": "8b8b5d69",
   "metadata": {},
   "outputs": [
    {
     "data": {
      "text/plain": [
       "31465"
      ]
     },
     "execution_count": 38,
     "metadata": {},
     "output_type": "execute_result"
    }
   ],
   "source": [
    "df_2024.filter(pl.col(\"passenger_count\") == 0).height"
   ]
  },
  {
   "cell_type": "code",
   "execution_count": 40,
   "id": "c33bb1fb",
   "metadata": {},
   "outputs": [
    {
     "data": {
      "text/html": [
       "<div><style>\n",
       ".dataframe > thead > tr,\n",
       ".dataframe > tbody > tr {\n",
       "  text-align: right;\n",
       "  white-space: pre-wrap;\n",
       "}\n",
       "</style>\n",
       "<small>shape: (3, 19)</small><table border=\"1\" class=\"dataframe\"><thead><tr><th>VendorID</th><th>tpep_pickup_datetime</th><th>tpep_dropoff_datetime</th><th>passenger_count</th><th>trip_distance</th><th>RatecodeID</th><th>store_and_fwd_flag</th><th>PULocationID</th><th>DOLocationID</th><th>payment_type</th><th>fare_amount</th><th>extra</th><th>mta_tax</th><th>tip_amount</th><th>tolls_amount</th><th>improvement_surcharge</th><th>total_amount</th><th>congestion_surcharge</th><th>airport_fee</th></tr><tr><td>i32</td><td>datetime[ns]</td><td>datetime[ns]</td><td>i64</td><td>f64</td><td>i64</td><td>str</td><td>i32</td><td>i32</td><td>i64</td><td>f64</td><td>f64</td><td>f64</td><td>f64</td><td>f64</td><td>f64</td><td>f64</td><td>f64</td><td>f64</td></tr></thead><tbody><tr><td>2</td><td>2024-01-01 00:57:55</td><td>2024-01-01 01:17:43</td><td>1</td><td>1.72</td><td>1</td><td>&quot;N&quot;</td><td>186</td><td>79</td><td>2</td><td>17.7</td><td>1.0</td><td>0.5</td><td>0.0</td><td>0.0</td><td>1.0</td><td>22.7</td><td>2.5</td><td>0.0</td></tr><tr><td>1</td><td>2024-01-01 00:03:00</td><td>2024-01-01 00:09:36</td><td>1</td><td>1.8</td><td>1</td><td>&quot;N&quot;</td><td>140</td><td>236</td><td>1</td><td>10.0</td><td>3.5</td><td>0.5</td><td>3.75</td><td>0.0</td><td>1.0</td><td>18.75</td><td>2.5</td><td>0.0</td></tr><tr><td>1</td><td>2024-01-01 00:17:06</td><td>2024-01-01 00:35:01</td><td>1</td><td>4.7</td><td>1</td><td>&quot;N&quot;</td><td>236</td><td>79</td><td>1</td><td>23.3</td><td>3.5</td><td>0.5</td><td>3.0</td><td>0.0</td><td>1.0</td><td>31.3</td><td>2.5</td><td>0.0</td></tr></tbody></table></div>"
      ],
      "text/plain": [
       "shape: (3, 19)\n",
       "┌──────────┬───────────┬───────────┬───────────┬───┬───────────┬───────────┬───────────┬───────────┐\n",
       "│ VendorID ┆ tpep_pick ┆ tpep_drop ┆ passenger ┆ … ┆ improveme ┆ total_amo ┆ congestio ┆ airport_f │\n",
       "│ ---      ┆ up_dateti ┆ off_datet ┆ _count    ┆   ┆ nt_surcha ┆ unt       ┆ n_surchar ┆ ee        │\n",
       "│ i32      ┆ me        ┆ ime       ┆ ---       ┆   ┆ rge       ┆ ---       ┆ ge        ┆ ---       │\n",
       "│          ┆ ---       ┆ ---       ┆ i64       ┆   ┆ ---       ┆ f64       ┆ ---       ┆ f64       │\n",
       "│          ┆ datetime[ ┆ datetime[ ┆           ┆   ┆ f64       ┆           ┆ f64       ┆           │\n",
       "│          ┆ ns]       ┆ ns]       ┆           ┆   ┆           ┆           ┆           ┆           │\n",
       "╞══════════╪═══════════╪═══════════╪═══════════╪═══╪═══════════╪═══════════╪═══════════╪═══════════╡\n",
       "│ 2        ┆ 2024-01-0 ┆ 2024-01-0 ┆ 1         ┆ … ┆ 1.0       ┆ 22.7      ┆ 2.5       ┆ 0.0       │\n",
       "│          ┆ 1         ┆ 1         ┆           ┆   ┆           ┆           ┆           ┆           │\n",
       "│          ┆ 00:57:55  ┆ 01:17:43  ┆           ┆   ┆           ┆           ┆           ┆           │\n",
       "│ 1        ┆ 2024-01-0 ┆ 2024-01-0 ┆ 1         ┆ … ┆ 1.0       ┆ 18.75     ┆ 2.5       ┆ 0.0       │\n",
       "│          ┆ 1         ┆ 1         ┆           ┆   ┆           ┆           ┆           ┆           │\n",
       "│          ┆ 00:03:00  ┆ 00:09:36  ┆           ┆   ┆           ┆           ┆           ┆           │\n",
       "│ 1        ┆ 2024-01-0 ┆ 2024-01-0 ┆ 1         ┆ … ┆ 1.0       ┆ 31.3      ┆ 2.5       ┆ 0.0       │\n",
       "│          ┆ 1         ┆ 1         ┆           ┆   ┆           ┆           ┆           ┆           │\n",
       "│          ┆ 00:17:06  ┆ 00:35:01  ┆           ┆   ┆           ┆           ┆           ┆           │\n",
       "└──────────┴───────────┴───────────┴───────────┴───┴───────────┴───────────┴───────────┴───────────┘"
      ]
     },
     "execution_count": 40,
     "metadata": {},
     "output_type": "execute_result"
    }
   ],
   "source": [
    "df_2024_with_passengers = df_2024.filter(\n",
    "    (pl.col(\"passenger_count\") >= 1) & (pl.col(\"passenger_count\") <= 6)\n",
    ")\n",
    "\n",
    "df_2024_with_passengers.head(3)"
   ]
  },
  {
   "cell_type": "markdown",
   "id": "e0c53ea9",
   "metadata": {},
   "source": [
    "### Ex. 3\n",
    "\n",
    "Remove trips lasting over two hours.\n"
   ]
  },
  {
   "cell_type": "code",
   "execution_count": 41,
   "id": "e584ac16",
   "metadata": {},
   "outputs": [
    {
     "data": {
      "text/html": [
       "<div><style>\n",
       ".dataframe > thead > tr,\n",
       ".dataframe > tbody > tr {\n",
       "  text-align: right;\n",
       "  white-space: pre-wrap;\n",
       "}\n",
       "</style>\n",
       "<small>shape: (3, 19)</small><table border=\"1\" class=\"dataframe\"><thead><tr><th>VendorID</th><th>tpep_pickup_datetime</th><th>tpep_dropoff_datetime</th><th>passenger_count</th><th>trip_distance</th><th>RatecodeID</th><th>store_and_fwd_flag</th><th>PULocationID</th><th>DOLocationID</th><th>payment_type</th><th>fare_amount</th><th>extra</th><th>mta_tax</th><th>tip_amount</th><th>tolls_amount</th><th>improvement_surcharge</th><th>total_amount</th><th>congestion_surcharge</th><th>airport_fee</th></tr><tr><td>i32</td><td>datetime[ns]</td><td>datetime[ns]</td><td>i64</td><td>f64</td><td>i64</td><td>str</td><td>i32</td><td>i32</td><td>i64</td><td>f64</td><td>f64</td><td>f64</td><td>f64</td><td>f64</td><td>f64</td><td>f64</td><td>f64</td><td>f64</td></tr></thead><tbody><tr><td>2</td><td>2024-01-01 00:57:55</td><td>2024-01-01 01:17:43</td><td>1</td><td>1.72</td><td>1</td><td>&quot;N&quot;</td><td>186</td><td>79</td><td>2</td><td>17.7</td><td>1.0</td><td>0.5</td><td>0.0</td><td>0.0</td><td>1.0</td><td>22.7</td><td>2.5</td><td>0.0</td></tr><tr><td>1</td><td>2024-01-01 00:03:00</td><td>2024-01-01 00:09:36</td><td>1</td><td>1.8</td><td>1</td><td>&quot;N&quot;</td><td>140</td><td>236</td><td>1</td><td>10.0</td><td>3.5</td><td>0.5</td><td>3.75</td><td>0.0</td><td>1.0</td><td>18.75</td><td>2.5</td><td>0.0</td></tr><tr><td>1</td><td>2024-01-01 00:17:06</td><td>2024-01-01 00:35:01</td><td>1</td><td>4.7</td><td>1</td><td>&quot;N&quot;</td><td>236</td><td>79</td><td>1</td><td>23.3</td><td>3.5</td><td>0.5</td><td>3.0</td><td>0.0</td><td>1.0</td><td>31.3</td><td>2.5</td><td>0.0</td></tr></tbody></table></div>"
      ],
      "text/plain": [
       "shape: (3, 19)\n",
       "┌──────────┬───────────┬───────────┬───────────┬───┬───────────┬───────────┬───────────┬───────────┐\n",
       "│ VendorID ┆ tpep_pick ┆ tpep_drop ┆ passenger ┆ … ┆ improveme ┆ total_amo ┆ congestio ┆ airport_f │\n",
       "│ ---      ┆ up_dateti ┆ off_datet ┆ _count    ┆   ┆ nt_surcha ┆ unt       ┆ n_surchar ┆ ee        │\n",
       "│ i32      ┆ me        ┆ ime       ┆ ---       ┆   ┆ rge       ┆ ---       ┆ ge        ┆ ---       │\n",
       "│          ┆ ---       ┆ ---       ┆ i64       ┆   ┆ ---       ┆ f64       ┆ ---       ┆ f64       │\n",
       "│          ┆ datetime[ ┆ datetime[ ┆           ┆   ┆ f64       ┆           ┆ f64       ┆           │\n",
       "│          ┆ ns]       ┆ ns]       ┆           ┆   ┆           ┆           ┆           ┆           │\n",
       "╞══════════╪═══════════╪═══════════╪═══════════╪═══╪═══════════╪═══════════╪═══════════╪═══════════╡\n",
       "│ 2        ┆ 2024-01-0 ┆ 2024-01-0 ┆ 1         ┆ … ┆ 1.0       ┆ 22.7      ┆ 2.5       ┆ 0.0       │\n",
       "│          ┆ 1         ┆ 1         ┆           ┆   ┆           ┆           ┆           ┆           │\n",
       "│          ┆ 00:57:55  ┆ 01:17:43  ┆           ┆   ┆           ┆           ┆           ┆           │\n",
       "│ 1        ┆ 2024-01-0 ┆ 2024-01-0 ┆ 1         ┆ … ┆ 1.0       ┆ 18.75     ┆ 2.5       ┆ 0.0       │\n",
       "│          ┆ 1         ┆ 1         ┆           ┆   ┆           ┆           ┆           ┆           │\n",
       "│          ┆ 00:03:00  ┆ 00:09:36  ┆           ┆   ┆           ┆           ┆           ┆           │\n",
       "│ 1        ┆ 2024-01-0 ┆ 2024-01-0 ┆ 1         ┆ … ┆ 1.0       ┆ 31.3      ┆ 2.5       ┆ 0.0       │\n",
       "│          ┆ 1         ┆ 1         ┆           ┆   ┆           ┆           ┆           ┆           │\n",
       "│          ┆ 00:17:06  ┆ 00:35:01  ┆           ┆   ┆           ┆           ┆           ┆           │\n",
       "└──────────┴───────────┴───────────┴───────────┴───┴───────────┴───────────┴───────────┴───────────┘"
      ]
     },
     "execution_count": 41,
     "metadata": {},
     "output_type": "execute_result"
    }
   ],
   "source": [
    "trips_below_two_hours_df = df_2024.filter(\n",
    "    (\n",
    "        pl.col(\"tpep_dropoff_datetime\") - pl.col(\"tpep_pickup_datetime\")\n",
    "    ).dt.total_minutes()\n",
    "    <= 120\n",
    ")\n",
    "\n",
    "trips_below_two_hours_df.head(3)"
   ]
  },
  {
   "cell_type": "markdown",
   "id": "60a64ff6",
   "metadata": {},
   "source": [
    "### Ex. 4\n",
    "Check value ranges of `PULocationID` and `DOLocationID`, and optimize their data types."
   ]
  },
  {
   "cell_type": "code",
   "execution_count": 48,
   "id": "1dd9cae1",
   "metadata": {},
   "outputs": [
    {
     "data": {
      "text/plain": [
       "Schema([('PULocationID', Int32), ('DOLocationID', Int32)])"
      ]
     },
     "execution_count": 48,
     "metadata": {},
     "output_type": "execute_result"
    }
   ],
   "source": [
    "df_2024.select([\"PULocationID\", \"DOLocationID\"]).schema"
   ]
  },
  {
   "cell_type": "code",
   "execution_count": null,
   "id": "02005d51",
   "metadata": {},
   "outputs": [
    {
     "data": {
      "text/html": [
       "<div><style>\n",
       ".dataframe > thead > tr,\n",
       ".dataframe > tbody > tr {\n",
       "  text-align: right;\n",
       "  white-space: pre-wrap;\n",
       "}\n",
       "</style>\n",
       "<small>shape: (1, 4)</small><table border=\"1\" class=\"dataframe\"><thead><tr><th>DOLocationID_min</th><th>DOLocationID_max</th><th>PULocationIDmin</th><th>PULocationID_max</th></tr><tr><td>i32</td><td>i32</td><td>i32</td><td>i32</td></tr></thead><tbody><tr><td>1</td><td>265</td><td>1</td><td>265</td></tr></tbody></table></div>"
      ],
      "text/plain": [
       "shape: (1, 4)\n",
       "┌──────────────────┬──────────────────┬─────────────────┬──────────────────┐\n",
       "│ DOLocationID_min ┆ DOLocationID_max ┆ PULocationIDmin ┆ PULocationID_max │\n",
       "│ ---              ┆ ---              ┆ ---             ┆ ---              │\n",
       "│ i32              ┆ i32              ┆ i32             ┆ i32              │\n",
       "╞══════════════════╪══════════════════╪═════════════════╪══════════════════╡\n",
       "│ 1                ┆ 265              ┆ 1               ┆ 265              │\n",
       "└──────────────────┴──────────────────┴─────────────────┴──────────────────┘"
      ]
     },
     "execution_count": 49,
     "metadata": {},
     "output_type": "execute_result"
    }
   ],
   "source": [
    "df_2024.select(\n",
    "    pl.col(\"DOLocationID\").min().alias(\"DOLocationID_min\"),\n",
    "    pl.col(\"DOLocationID\").max().alias(\"DOLocationID_max\"),\n",
    "    pl.col(\"PULocationID\").min().alias(\"PULocationIDmin\"),\n",
    "    pl.col(\"PULocationID\").max().alias(\"PULocationID_max\"),\n",
    ")"
   ]
  },
  {
   "cell_type": "code",
   "execution_count": 50,
   "id": "7a91e9b7",
   "metadata": {},
   "outputs": [
    {
     "data": {
      "text/html": [
       "<div><style>\n",
       ".dataframe > thead > tr,\n",
       ".dataframe > tbody > tr {\n",
       "  text-align: right;\n",
       "  white-space: pre-wrap;\n",
       "}\n",
       "</style>\n",
       "<small>shape: (2_964_624, 19)</small><table border=\"1\" class=\"dataframe\"><thead><tr><th>VendorID</th><th>tpep_pickup_datetime</th><th>tpep_dropoff_datetime</th><th>passenger_count</th><th>trip_distance</th><th>RatecodeID</th><th>store_and_fwd_flag</th><th>PULocationID</th><th>DOLocationID</th><th>payment_type</th><th>fare_amount</th><th>extra</th><th>mta_tax</th><th>tip_amount</th><th>tolls_amount</th><th>improvement_surcharge</th><th>total_amount</th><th>congestion_surcharge</th><th>airport_fee</th></tr><tr><td>i32</td><td>datetime[ns]</td><td>datetime[ns]</td><td>i64</td><td>f64</td><td>i64</td><td>str</td><td>u16</td><td>i32</td><td>i64</td><td>f64</td><td>f64</td><td>f64</td><td>f64</td><td>f64</td><td>f64</td><td>f64</td><td>f64</td><td>f64</td></tr></thead><tbody><tr><td>2</td><td>2024-01-01 00:57:55</td><td>2024-01-01 01:17:43</td><td>1</td><td>1.72</td><td>1</td><td>&quot;N&quot;</td><td>186</td><td>79</td><td>2</td><td>17.7</td><td>1.0</td><td>0.5</td><td>0.0</td><td>0.0</td><td>1.0</td><td>22.7</td><td>2.5</td><td>0.0</td></tr><tr><td>1</td><td>2024-01-01 00:03:00</td><td>2024-01-01 00:09:36</td><td>1</td><td>1.8</td><td>1</td><td>&quot;N&quot;</td><td>140</td><td>236</td><td>1</td><td>10.0</td><td>3.5</td><td>0.5</td><td>3.75</td><td>0.0</td><td>1.0</td><td>18.75</td><td>2.5</td><td>0.0</td></tr><tr><td>1</td><td>2024-01-01 00:17:06</td><td>2024-01-01 00:35:01</td><td>1</td><td>4.7</td><td>1</td><td>&quot;N&quot;</td><td>236</td><td>79</td><td>1</td><td>23.3</td><td>3.5</td><td>0.5</td><td>3.0</td><td>0.0</td><td>1.0</td><td>31.3</td><td>2.5</td><td>0.0</td></tr><tr><td>1</td><td>2024-01-01 00:36:38</td><td>2024-01-01 00:44:56</td><td>1</td><td>1.4</td><td>1</td><td>&quot;N&quot;</td><td>79</td><td>211</td><td>1</td><td>10.0</td><td>3.5</td><td>0.5</td><td>2.0</td><td>0.0</td><td>1.0</td><td>17.0</td><td>2.5</td><td>0.0</td></tr><tr><td>1</td><td>2024-01-01 00:46:51</td><td>2024-01-01 00:52:57</td><td>1</td><td>0.8</td><td>1</td><td>&quot;N&quot;</td><td>211</td><td>148</td><td>1</td><td>7.9</td><td>3.5</td><td>0.5</td><td>3.2</td><td>0.0</td><td>1.0</td><td>16.1</td><td>2.5</td><td>0.0</td></tr><tr><td>&hellip;</td><td>&hellip;</td><td>&hellip;</td><td>&hellip;</td><td>&hellip;</td><td>&hellip;</td><td>&hellip;</td><td>&hellip;</td><td>&hellip;</td><td>&hellip;</td><td>&hellip;</td><td>&hellip;</td><td>&hellip;</td><td>&hellip;</td><td>&hellip;</td><td>&hellip;</td><td>&hellip;</td><td>&hellip;</td><td>&hellip;</td></tr><tr><td>2</td><td>2024-01-31 23:45:59</td><td>2024-01-31 23:54:36</td><td>null</td><td>3.18</td><td>null</td><td>null</td><td>107</td><td>263</td><td>0</td><td>15.77</td><td>0.0</td><td>0.5</td><td>2.0</td><td>0.0</td><td>1.0</td><td>21.77</td><td>null</td><td>null</td></tr><tr><td>1</td><td>2024-01-31 23:13:07</td><td>2024-01-31 23:27:52</td><td>null</td><td>4.0</td><td>null</td><td>null</td><td>114</td><td>236</td><td>0</td><td>18.4</td><td>1.0</td><td>0.5</td><td>2.34</td><td>0.0</td><td>1.0</td><td>25.74</td><td>null</td><td>null</td></tr><tr><td>2</td><td>2024-01-31 23:19:00</td><td>2024-01-31 23:38:00</td><td>null</td><td>3.33</td><td>null</td><td>null</td><td>211</td><td>25</td><td>0</td><td>19.97</td><td>0.0</td><td>0.5</td><td>0.0</td><td>0.0</td><td>1.0</td><td>23.97</td><td>null</td><td>null</td></tr><tr><td>2</td><td>2024-01-31 23:07:23</td><td>2024-01-31 23:25:14</td><td>null</td><td>3.06</td><td>null</td><td>null</td><td>107</td><td>13</td><td>0</td><td>23.88</td><td>0.0</td><td>0.5</td><td>5.58</td><td>0.0</td><td>1.0</td><td>33.46</td><td>null</td><td>null</td></tr><tr><td>1</td><td>2024-01-31 23:58:25</td><td>2024-02-01 00:13:30</td><td>null</td><td>8.1</td><td>null</td><td>null</td><td>138</td><td>75</td><td>0</td><td>32.4</td><td>7.75</td><td>0.5</td><td>7.29</td><td>6.94</td><td>1.0</td><td>55.88</td><td>null</td><td>null</td></tr></tbody></table></div>"
      ],
      "text/plain": [
       "shape: (2_964_624, 19)\n",
       "┌──────────┬───────────┬───────────┬───────────┬───┬───────────┬───────────┬───────────┬───────────┐\n",
       "│ VendorID ┆ tpep_pick ┆ tpep_drop ┆ passenger ┆ … ┆ improveme ┆ total_amo ┆ congestio ┆ airport_f │\n",
       "│ ---      ┆ up_dateti ┆ off_datet ┆ _count    ┆   ┆ nt_surcha ┆ unt       ┆ n_surchar ┆ ee        │\n",
       "│ i32      ┆ me        ┆ ime       ┆ ---       ┆   ┆ rge       ┆ ---       ┆ ge        ┆ ---       │\n",
       "│          ┆ ---       ┆ ---       ┆ i64       ┆   ┆ ---       ┆ f64       ┆ ---       ┆ f64       │\n",
       "│          ┆ datetime[ ┆ datetime[ ┆           ┆   ┆ f64       ┆           ┆ f64       ┆           │\n",
       "│          ┆ ns]       ┆ ns]       ┆           ┆   ┆           ┆           ┆           ┆           │\n",
       "╞══════════╪═══════════╪═══════════╪═══════════╪═══╪═══════════╪═══════════╪═══════════╪═══════════╡\n",
       "│ 2        ┆ 2024-01-0 ┆ 2024-01-0 ┆ 1         ┆ … ┆ 1.0       ┆ 22.7      ┆ 2.5       ┆ 0.0       │\n",
       "│          ┆ 1         ┆ 1         ┆           ┆   ┆           ┆           ┆           ┆           │\n",
       "│          ┆ 00:57:55  ┆ 01:17:43  ┆           ┆   ┆           ┆           ┆           ┆           │\n",
       "│ 1        ┆ 2024-01-0 ┆ 2024-01-0 ┆ 1         ┆ … ┆ 1.0       ┆ 18.75     ┆ 2.5       ┆ 0.0       │\n",
       "│          ┆ 1         ┆ 1         ┆           ┆   ┆           ┆           ┆           ┆           │\n",
       "│          ┆ 00:03:00  ┆ 00:09:36  ┆           ┆   ┆           ┆           ┆           ┆           │\n",
       "│ 1        ┆ 2024-01-0 ┆ 2024-01-0 ┆ 1         ┆ … ┆ 1.0       ┆ 31.3      ┆ 2.5       ┆ 0.0       │\n",
       "│          ┆ 1         ┆ 1         ┆           ┆   ┆           ┆           ┆           ┆           │\n",
       "│          ┆ 00:17:06  ┆ 00:35:01  ┆           ┆   ┆           ┆           ┆           ┆           │\n",
       "│ 1        ┆ 2024-01-0 ┆ 2024-01-0 ┆ 1         ┆ … ┆ 1.0       ┆ 17.0      ┆ 2.5       ┆ 0.0       │\n",
       "│          ┆ 1         ┆ 1         ┆           ┆   ┆           ┆           ┆           ┆           │\n",
       "│          ┆ 00:36:38  ┆ 00:44:56  ┆           ┆   ┆           ┆           ┆           ┆           │\n",
       "│ 1        ┆ 2024-01-0 ┆ 2024-01-0 ┆ 1         ┆ … ┆ 1.0       ┆ 16.1      ┆ 2.5       ┆ 0.0       │\n",
       "│          ┆ 1         ┆ 1         ┆           ┆   ┆           ┆           ┆           ┆           │\n",
       "│          ┆ 00:46:51  ┆ 00:52:57  ┆           ┆   ┆           ┆           ┆           ┆           │\n",
       "│ …        ┆ …         ┆ …         ┆ …         ┆ … ┆ …         ┆ …         ┆ …         ┆ …         │\n",
       "│ 2        ┆ 2024-01-3 ┆ 2024-01-3 ┆ null      ┆ … ┆ 1.0       ┆ 21.77     ┆ null      ┆ null      │\n",
       "│          ┆ 1         ┆ 1         ┆           ┆   ┆           ┆           ┆           ┆           │\n",
       "│          ┆ 23:45:59  ┆ 23:54:36  ┆           ┆   ┆           ┆           ┆           ┆           │\n",
       "│ 1        ┆ 2024-01-3 ┆ 2024-01-3 ┆ null      ┆ … ┆ 1.0       ┆ 25.74     ┆ null      ┆ null      │\n",
       "│          ┆ 1         ┆ 1         ┆           ┆   ┆           ┆           ┆           ┆           │\n",
       "│          ┆ 23:13:07  ┆ 23:27:52  ┆           ┆   ┆           ┆           ┆           ┆           │\n",
       "│ 2        ┆ 2024-01-3 ┆ 2024-01-3 ┆ null      ┆ … ┆ 1.0       ┆ 23.97     ┆ null      ┆ null      │\n",
       "│          ┆ 1         ┆ 1         ┆           ┆   ┆           ┆           ┆           ┆           │\n",
       "│          ┆ 23:19:00  ┆ 23:38:00  ┆           ┆   ┆           ┆           ┆           ┆           │\n",
       "│ 2        ┆ 2024-01-3 ┆ 2024-01-3 ┆ null      ┆ … ┆ 1.0       ┆ 33.46     ┆ null      ┆ null      │\n",
       "│          ┆ 1         ┆ 1         ┆           ┆   ┆           ┆           ┆           ┆           │\n",
       "│          ┆ 23:07:23  ┆ 23:25:14  ┆           ┆   ┆           ┆           ┆           ┆           │\n",
       "│ 1        ┆ 2024-01-3 ┆ 2024-02-0 ┆ null      ┆ … ┆ 1.0       ┆ 55.88     ┆ null      ┆ null      │\n",
       "│          ┆ 1         ┆ 1         ┆           ┆   ┆           ┆           ┆           ┆           │\n",
       "│          ┆ 23:58:25  ┆ 00:13:30  ┆           ┆   ┆           ┆           ┆           ┆           │\n",
       "└──────────┴───────────┴───────────┴───────────┴───┴───────────┴───────────┴───────────┴───────────┘"
      ]
     },
     "execution_count": 50,
     "metadata": {},
     "output_type": "execute_result"
    }
   ],
   "source": [
    "df.with_columns(pl.col(\"DOLocationID\").cast(pl.UInt16))\n",
    "df.with_columns(pl.col(\"PULocationID\").cast(pl.UInt16))"
   ]
  },
  {
   "cell_type": "markdown",
   "id": "e91e73ea-3cd9-4286-988d-17434bbc0606",
   "metadata": {},
   "source": [
    "## Lazy execution"
   ]
  },
  {
   "cell_type": "markdown",
   "id": "f55680d5-d433-4732-a601-2b541d729675",
   "metadata": {},
   "source": [
    "We used the **eager** execution mode before. Now, let's use the **lazy** mode, which is very useful for operating on larger data. Let's read all Parquet files for 2024. Polars allows glob syntax with wildcard `*` to read many files.\n",
    "\n",
    "Let's see what happens for eager `.read_parquet()`."
   ]
  },
  {
   "cell_type": "code",
   "execution_count": 51,
   "id": "d5e4a9fd-7619-436f-a337-cec2eac42456",
   "metadata": {
    "scrolled": true
   },
   "outputs": [
    {
     "ename": "SchemaError",
     "evalue": "data type mismatch for column tpep_pickup_datetime: incoming: Datetime('μs') != target: Datetime('ns')",
     "output_type": "error",
     "traceback": [
      "\u001b[31m---------------------------------------------------------------------------\u001b[39m",
      "\u001b[31mSchemaError\u001b[39m                               Traceback (most recent call last)",
      "\u001b[36mCell\u001b[39m\u001b[36m \u001b[39m\u001b[32mIn[51]\u001b[39m\u001b[32m, line 1\u001b[39m\n\u001b[32m----> \u001b[39m\u001b[32m1\u001b[39m df = \u001b[43mpl\u001b[49m\u001b[43m.\u001b[49m\u001b[43mread_parquet\u001b[49m\u001b[43m(\u001b[49m\u001b[33;43mf\u001b[39;49m\u001b[33;43m\"\u001b[39;49m\u001b[38;5;132;43;01m{\u001b[39;49;00m\u001b[43mDATA_DIR\u001b[49m\u001b[38;5;132;43;01m}\u001b[39;49;00m\u001b[33;43m/*.parquet\u001b[39;49m\u001b[33;43m\"\u001b[39;49m\u001b[43m)\u001b[49m\n",
      "\u001b[36mFile \u001b[39m\u001b[32m~/Programming/projects/university/semestr3/ml_ops/labs/mlops_lab3/.venv/lib/python3.12/site-packages/polars/_utils/deprecation.py:128\u001b[39m, in \u001b[36mdeprecate_renamed_parameter.<locals>.decorate.<locals>.wrapper\u001b[39m\u001b[34m(*args, **kwargs)\u001b[39m\n\u001b[32m    123\u001b[39m \u001b[38;5;129m@wraps\u001b[39m(function)\n\u001b[32m    124\u001b[39m \u001b[38;5;28;01mdef\u001b[39;00m\u001b[38;5;250m \u001b[39m\u001b[34mwrapper\u001b[39m(*args: P.args, **kwargs: P.kwargs) -> T:\n\u001b[32m    125\u001b[39m     _rename_keyword_argument(\n\u001b[32m    126\u001b[39m         old_name, new_name, kwargs, function.\u001b[34m__qualname__\u001b[39m, version\n\u001b[32m    127\u001b[39m     )\n\u001b[32m--> \u001b[39m\u001b[32m128\u001b[39m     \u001b[38;5;28;01mreturn\u001b[39;00m \u001b[43mfunction\u001b[49m\u001b[43m(\u001b[49m\u001b[43m*\u001b[49m\u001b[43margs\u001b[49m\u001b[43m,\u001b[49m\u001b[43m \u001b[49m\u001b[43m*\u001b[49m\u001b[43m*\u001b[49m\u001b[43mkwargs\u001b[49m\u001b[43m)\u001b[49m\n",
      "\u001b[36mFile \u001b[39m\u001b[32m~/Programming/projects/university/semestr3/ml_ops/labs/mlops_lab3/.venv/lib/python3.12/site-packages/polars/_utils/deprecation.py:128\u001b[39m, in \u001b[36mdeprecate_renamed_parameter.<locals>.decorate.<locals>.wrapper\u001b[39m\u001b[34m(*args, **kwargs)\u001b[39m\n\u001b[32m    123\u001b[39m \u001b[38;5;129m@wraps\u001b[39m(function)\n\u001b[32m    124\u001b[39m \u001b[38;5;28;01mdef\u001b[39;00m\u001b[38;5;250m \u001b[39m\u001b[34mwrapper\u001b[39m(*args: P.args, **kwargs: P.kwargs) -> T:\n\u001b[32m    125\u001b[39m     _rename_keyword_argument(\n\u001b[32m    126\u001b[39m         old_name, new_name, kwargs, function.\u001b[34m__qualname__\u001b[39m, version\n\u001b[32m    127\u001b[39m     )\n\u001b[32m--> \u001b[39m\u001b[32m128\u001b[39m     \u001b[38;5;28;01mreturn\u001b[39;00m \u001b[43mfunction\u001b[49m\u001b[43m(\u001b[49m\u001b[43m*\u001b[49m\u001b[43margs\u001b[49m\u001b[43m,\u001b[49m\u001b[43m \u001b[49m\u001b[43m*\u001b[49m\u001b[43m*\u001b[49m\u001b[43mkwargs\u001b[49m\u001b[43m)\u001b[49m\n",
      "\u001b[36mFile \u001b[39m\u001b[32m~/Programming/projects/university/semestr3/ml_ops/labs/mlops_lab3/.venv/lib/python3.12/site-packages/polars/io/parquet/functions.py:289\u001b[39m, in \u001b[36mread_parquet\u001b[39m\u001b[34m(source, columns, n_rows, row_index_name, row_index_offset, parallel, use_statistics, hive_partitioning, glob, schema, hive_schema, try_parse_hive_dates, rechunk, low_memory, storage_options, credential_provider, retries, use_pyarrow, pyarrow_options, memory_map, include_file_paths, missing_columns, allow_missing_columns)\u001b[39m\n\u001b[32m    286\u001b[39m     \u001b[38;5;28;01melse\u001b[39;00m:\n\u001b[32m    287\u001b[39m         lf = lf.select(columns)\n\u001b[32m--> \u001b[39m\u001b[32m289\u001b[39m \u001b[38;5;28;01mreturn\u001b[39;00m \u001b[43mlf\u001b[49m\u001b[43m.\u001b[49m\u001b[43mcollect\u001b[49m\u001b[43m(\u001b[49m\u001b[43m)\u001b[49m\n",
      "\u001b[36mFile \u001b[39m\u001b[32m~/Programming/projects/university/semestr3/ml_ops/labs/mlops_lab3/.venv/lib/python3.12/site-packages/polars/_utils/deprecation.py:97\u001b[39m, in \u001b[36mdeprecate_streaming_parameter.<locals>.decorate.<locals>.wrapper\u001b[39m\u001b[34m(*args, **kwargs)\u001b[39m\n\u001b[32m     93\u001b[39m         kwargs[\u001b[33m\"\u001b[39m\u001b[33mengine\u001b[39m\u001b[33m\"\u001b[39m] = \u001b[33m\"\u001b[39m\u001b[33min-memory\u001b[39m\u001b[33m\"\u001b[39m\n\u001b[32m     95\u001b[39m     \u001b[38;5;28;01mdel\u001b[39;00m kwargs[\u001b[33m\"\u001b[39m\u001b[33mstreaming\u001b[39m\u001b[33m\"\u001b[39m]\n\u001b[32m---> \u001b[39m\u001b[32m97\u001b[39m \u001b[38;5;28;01mreturn\u001b[39;00m \u001b[43mfunction\u001b[49m\u001b[43m(\u001b[49m\u001b[43m*\u001b[49m\u001b[43margs\u001b[49m\u001b[43m,\u001b[49m\u001b[43m \u001b[49m\u001b[43m*\u001b[49m\u001b[43m*\u001b[49m\u001b[43mkwargs\u001b[49m\u001b[43m)\u001b[49m\n",
      "\u001b[36mFile \u001b[39m\u001b[32m~/Programming/projects/university/semestr3/ml_ops/labs/mlops_lab3/.venv/lib/python3.12/site-packages/polars/lazyframe/opt_flags.py:328\u001b[39m, in \u001b[36mforward_old_opt_flags.<locals>.decorate.<locals>.wrapper\u001b[39m\u001b[34m(*args, **kwargs)\u001b[39m\n\u001b[32m    325\u001b[39m         optflags = cb(optflags, kwargs.pop(key))  \u001b[38;5;66;03m# type: ignore[no-untyped-call,unused-ignore]\u001b[39;00m\n\u001b[32m    327\u001b[39m kwargs[\u001b[33m\"\u001b[39m\u001b[33moptimizations\u001b[39m\u001b[33m\"\u001b[39m] = optflags\n\u001b[32m--> \u001b[39m\u001b[32m328\u001b[39m \u001b[38;5;28;01mreturn\u001b[39;00m \u001b[43mfunction\u001b[49m\u001b[43m(\u001b[49m\u001b[43m*\u001b[49m\u001b[43margs\u001b[49m\u001b[43m,\u001b[49m\u001b[43m \u001b[49m\u001b[43m*\u001b[49m\u001b[43m*\u001b[49m\u001b[43mkwargs\u001b[49m\u001b[43m)\u001b[49m\n",
      "\u001b[36mFile \u001b[39m\u001b[32m~/Programming/projects/university/semestr3/ml_ops/labs/mlops_lab3/.venv/lib/python3.12/site-packages/polars/lazyframe/frame.py:2415\u001b[39m, in \u001b[36mLazyFrame.collect\u001b[39m\u001b[34m(self, type_coercion, predicate_pushdown, projection_pushdown, simplify_expression, slice_pushdown, comm_subplan_elim, comm_subexpr_elim, cluster_with_columns, collapse_joins, no_optimization, engine, background, optimizations, **_kwargs)\u001b[39m\n\u001b[32m   2413\u001b[39m \u001b[38;5;66;03m# Only for testing purposes\u001b[39;00m\n\u001b[32m   2414\u001b[39m callback = _kwargs.get(\u001b[33m\"\u001b[39m\u001b[33mpost_opt_callback\u001b[39m\u001b[33m\"\u001b[39m, callback)\n\u001b[32m-> \u001b[39m\u001b[32m2415\u001b[39m \u001b[38;5;28;01mreturn\u001b[39;00m wrap_df(\u001b[43mldf\u001b[49m\u001b[43m.\u001b[49m\u001b[43mcollect\u001b[49m\u001b[43m(\u001b[49m\u001b[43mengine\u001b[49m\u001b[43m,\u001b[49m\u001b[43m \u001b[49m\u001b[43mcallback\u001b[49m\u001b[43m)\u001b[49m)\n",
      "\u001b[31mSchemaError\u001b[39m: data type mismatch for column tpep_pickup_datetime: incoming: Datetime('μs') != target: Datetime('ns')"
     ]
    }
   ],
   "source": [
    "df = pl.read_parquet(f\"{DATA_DIR}/*.parquet\")"
   ]
  },
  {
   "cell_type": "markdown",
   "id": "87782d08-fd6b-45e8-88a3-9c3f296d1ca7",
   "metadata": {
    "execution": {
     "iopub.execute_input": "2025-03-08T18:21:03.086747Z",
     "iopub.status.busy": "2025-03-08T18:21:03.085980Z",
     "iopub.status.idle": "2025-03-08T18:21:03.142663Z",
     "shell.execute_reply": "2025-03-08T18:21:03.141045Z",
     "shell.execute_reply.started": "2025-03-08T18:21:03.086695Z"
    }
   },
   "source": [
    "We have an error - some files have column `tpep_pickup_datetime` encoded as nanosecond integers, and others as microseconds. This can be fixed with manually casting this column. With eager mode, we would have to:\n",
    "- read list of DataFrames\n",
    "- cast every one\n",
    "- concatenate them\n",
    "\n",
    "However, this is very suboptimal, e.g. DataFrames will be read sequentially, when they could be read in parallel. So let's use the lazy API, with `.scan_parquet()` instead of `.read_parquet()`. It returns a `LazyFrame` object."
   ]
  },
  {
   "cell_type": "code",
   "execution_count": 4,
   "id": "0bb8b29c-bf60-4a33-b2c1-27ad7c095700",
   "metadata": {},
   "outputs": [
    {
     "name": "stdout",
     "output_type": "stream",
     "text": [
      "<class 'polars.lazyframe.frame.LazyFrame'>\n"
     ]
    },
    {
     "data": {
      "text/html": [
       "<i>naive plan: (run <b>LazyFrame.explain(optimized=True)</b> to see the optimized plan)</i>\n",
       "    <p></p>\n",
       "    <div>Parquet SCAN [data/1.parquet]<p></p>PROJECT */19 COLUMNS</div>"
      ],
      "text/plain": [
       "<LazyFrame at 0x7D7A782C52E0>"
      ]
     },
     "execution_count": 4,
     "metadata": {},
     "output_type": "execute_result"
    }
   ],
   "source": [
    "df = pl.scan_parquet(f\"{DATA_DIR}/1.parquet\")\n",
    "print(type(df))\n",
    "df"
   ]
  },
  {
   "cell_type": "markdown",
   "id": "eed5212b-c0f5-46a1-9cc0-7d20cb1c9ac7",
   "metadata": {},
   "source": [
    "No computation has happened yet - we just created a computation graph with a single operation. It's not even optimized yet. Let's build a larger graph, reading all Parquet files and casting the columns appropriately.\n",
    "\n",
    "General type casting uses `.cast()` method. Changing time units like here uses `.dt.cast_time_unit()` instead, as this can be done much faster as a specialized function.\n",
    "\n",
    "We will also call `.explain()` to print the computation graph."
   ]
  },
  {
   "cell_type": "code",
   "execution_count": 5,
   "id": "a3aa2b36-9360-4126-836f-3b22bf1a51ff",
   "metadata": {
    "scrolled": true
   },
   "outputs": [
    {
     "name": "stdout",
     "output_type": "stream",
     "text": [
      "UNION\n",
      "  PLAN 0:\n",
      "     WITH_COLUMNS:\n",
      "     [col(\"tpep_pickup_datetime\").dt.cast_time_unit(), col(\"tpep_dropoff_datetime\").dt.cast_time_unit()] \n",
      "      Parquet SCAN [data/1.parquet]\n",
      "      PROJECT */19 COLUMNS\n",
      "  PLAN 1:\n",
      "     WITH_COLUMNS:\n",
      "     [col(\"tpep_pickup_datetime\").dt.cast_time_unit(), col(\"tpep_dropoff_datetime\").dt.cast_time_unit()] \n",
      "      Parquet SCAN [data/2.parquet]\n",
      "      PROJECT */19 COLUMNS\n",
      "  PLAN 2:\n",
      "     WITH_COLUMNS:\n",
      "     [col(\"tpep_pickup_datetime\").dt.cast_time_unit(), col(\"tpep_dropoff_datetime\").dt.cast_time_unit()] \n",
      "      Parquet SCAN [data/3.parquet]\n",
      "      PROJECT */19 COLUMNS\n",
      "  PLAN 3:\n",
      "     WITH_COLUMNS:\n",
      "     [col(\"tpep_pickup_datetime\").dt.cast_time_unit(), col(\"tpep_dropoff_datetime\").dt.cast_time_unit()] \n",
      "      Parquet SCAN [data/4.parquet]\n",
      "      PROJECT */19 COLUMNS\n",
      "  PLAN 4:\n",
      "     WITH_COLUMNS:\n",
      "     [col(\"tpep_pickup_datetime\").dt.cast_time_unit(), col(\"tpep_dropoff_datetime\").dt.cast_time_unit()] \n",
      "      Parquet SCAN [data/5.parquet]\n",
      "      PROJECT */19 COLUMNS\n",
      "  PLAN 5:\n",
      "     WITH_COLUMNS:\n",
      "     [col(\"tpep_pickup_datetime\").dt.cast_time_unit(), col(\"tpep_dropoff_datetime\").dt.cast_time_unit()] \n",
      "      Parquet SCAN [data/6.parquet]\n",
      "      PROJECT */19 COLUMNS\n",
      "  PLAN 6:\n",
      "     WITH_COLUMNS:\n",
      "     [col(\"tpep_pickup_datetime\").dt.cast_time_unit(), col(\"tpep_dropoff_datetime\").dt.cast_time_unit()] \n",
      "      Parquet SCAN [data/7.parquet]\n",
      "      PROJECT */19 COLUMNS\n",
      "  PLAN 7:\n",
      "     WITH_COLUMNS:\n",
      "     [col(\"tpep_pickup_datetime\").dt.cast_time_unit(), col(\"tpep_dropoff_datetime\").dt.cast_time_unit()] \n",
      "      Parquet SCAN [data/8.parquet]\n",
      "      PROJECT */19 COLUMNS\n",
      "  PLAN 8:\n",
      "     WITH_COLUMNS:\n",
      "     [col(\"tpep_pickup_datetime\").dt.cast_time_unit(), col(\"tpep_dropoff_datetime\").dt.cast_time_unit()] \n",
      "      Parquet SCAN [data/9.parquet]\n",
      "      PROJECT */19 COLUMNS\n",
      "  PLAN 9:\n",
      "     WITH_COLUMNS:\n",
      "     [col(\"tpep_pickup_datetime\").dt.cast_time_unit(), col(\"tpep_dropoff_datetime\").dt.cast_time_unit()] \n",
      "      Parquet SCAN [data/10.parquet]\n",
      "      PROJECT */19 COLUMNS\n",
      "  PLAN 10:\n",
      "     WITH_COLUMNS:\n",
      "     [col(\"tpep_pickup_datetime\").dt.cast_time_unit(), col(\"tpep_dropoff_datetime\").dt.cast_time_unit()] \n",
      "      Parquet SCAN [data/11.parquet]\n",
      "      PROJECT */19 COLUMNS\n",
      "  PLAN 11:\n",
      "     WITH_COLUMNS:\n",
      "     [col(\"tpep_pickup_datetime\").dt.cast_time_unit(), col(\"tpep_dropoff_datetime\").dt.cast_time_unit()] \n",
      "      Parquet SCAN [data/12.parquet]\n",
      "      PROJECT */19 COLUMNS\n",
      "END UNION\n"
     ]
    }
   ],
   "source": [
    "dfs = []\n",
    "for month in range(1, 13):\n",
    "    df = pl.scan_parquet(f\"{DATA_DIR}/{month}.parquet\")\n",
    "    df = df.with_columns(\n",
    "        pl.col(\"tpep_pickup_datetime\").dt.cast_time_unit(\"ms\"),\n",
    "        pl.col(\"tpep_dropoff_datetime\").dt.cast_time_unit(\"ms\"),\n",
    "    )\n",
    "    dfs.append(df)\n",
    "\n",
    "df_2024: pl.DataFrame = pl.concat(dfs)\n",
    "print(df_2024.explain())"
   ]
  },
  {
   "cell_type": "markdown",
   "id": "ba97a771-48f7-4463-91be-ead6f60aeca4",
   "metadata": {},
   "source": [
    "Nothing happened yet, and nothing will happen until we call `.collect()` or a lazy output function like e.g. `.sink_parquet()` (that would use streaming mode). Let's do it then. Note that this will load the entire 2024 data into memory."
   ]
  },
  {
   "cell_type": "code",
   "execution_count": 6,
   "id": "f2855fbc-2316-422a-94d4-b9b7b655f32a",
   "metadata": {
    "scrolled": true
   },
   "outputs": [
    {
     "data": {
      "text/html": [
       "<div><style>\n",
       ".dataframe > thead > tr,\n",
       ".dataframe > tbody > tr {\n",
       "  text-align: right;\n",
       "  white-space: pre-wrap;\n",
       "}\n",
       "</style>\n",
       "<small>shape: (41_169_720, 19)</small><table border=\"1\" class=\"dataframe\"><thead><tr><th>VendorID</th><th>tpep_pickup_datetime</th><th>tpep_dropoff_datetime</th><th>passenger_count</th><th>trip_distance</th><th>RatecodeID</th><th>store_and_fwd_flag</th><th>PULocationID</th><th>DOLocationID</th><th>payment_type</th><th>fare_amount</th><th>extra</th><th>mta_tax</th><th>tip_amount</th><th>tolls_amount</th><th>improvement_surcharge</th><th>total_amount</th><th>congestion_surcharge</th><th>Airport_fee</th></tr><tr><td>i32</td><td>datetime[ms]</td><td>datetime[ms]</td><td>i64</td><td>f64</td><td>i64</td><td>str</td><td>i32</td><td>i32</td><td>i64</td><td>f64</td><td>f64</td><td>f64</td><td>f64</td><td>f64</td><td>f64</td><td>f64</td><td>f64</td><td>f64</td></tr></thead><tbody><tr><td>2</td><td>2024-01-01 00:57:55</td><td>2024-01-01 01:17:43</td><td>1</td><td>1.72</td><td>1</td><td>&quot;N&quot;</td><td>186</td><td>79</td><td>2</td><td>17.7</td><td>1.0</td><td>0.5</td><td>0.0</td><td>0.0</td><td>1.0</td><td>22.7</td><td>2.5</td><td>0.0</td></tr><tr><td>1</td><td>2024-01-01 00:03:00</td><td>2024-01-01 00:09:36</td><td>1</td><td>1.8</td><td>1</td><td>&quot;N&quot;</td><td>140</td><td>236</td><td>1</td><td>10.0</td><td>3.5</td><td>0.5</td><td>3.75</td><td>0.0</td><td>1.0</td><td>18.75</td><td>2.5</td><td>0.0</td></tr><tr><td>1</td><td>2024-01-01 00:17:06</td><td>2024-01-01 00:35:01</td><td>1</td><td>4.7</td><td>1</td><td>&quot;N&quot;</td><td>236</td><td>79</td><td>1</td><td>23.3</td><td>3.5</td><td>0.5</td><td>3.0</td><td>0.0</td><td>1.0</td><td>31.3</td><td>2.5</td><td>0.0</td></tr><tr><td>1</td><td>2024-01-01 00:36:38</td><td>2024-01-01 00:44:56</td><td>1</td><td>1.4</td><td>1</td><td>&quot;N&quot;</td><td>79</td><td>211</td><td>1</td><td>10.0</td><td>3.5</td><td>0.5</td><td>2.0</td><td>0.0</td><td>1.0</td><td>17.0</td><td>2.5</td><td>0.0</td></tr><tr><td>1</td><td>2024-01-01 00:46:51</td><td>2024-01-01 00:52:57</td><td>1</td><td>0.8</td><td>1</td><td>&quot;N&quot;</td><td>211</td><td>148</td><td>1</td><td>7.9</td><td>3.5</td><td>0.5</td><td>3.2</td><td>0.0</td><td>1.0</td><td>16.1</td><td>2.5</td><td>0.0</td></tr><tr><td>&hellip;</td><td>&hellip;</td><td>&hellip;</td><td>&hellip;</td><td>&hellip;</td><td>&hellip;</td><td>&hellip;</td><td>&hellip;</td><td>&hellip;</td><td>&hellip;</td><td>&hellip;</td><td>&hellip;</td><td>&hellip;</td><td>&hellip;</td><td>&hellip;</td><td>&hellip;</td><td>&hellip;</td><td>&hellip;</td><td>&hellip;</td></tr><tr><td>2</td><td>2024-12-31 23:32:00</td><td>2024-12-31 23:56:00</td><td>null</td><td>10.71</td><td>null</td><td>null</td><td>16</td><td>7</td><td>0</td><td>-4.13</td><td>0.0</td><td>0.5</td><td>0.0</td><td>0.0</td><td>1.0</td><td>-2.63</td><td>null</td><td>null</td></tr><tr><td>2</td><td>2024-12-31 23:05:00</td><td>2024-12-31 23:18:00</td><td>null</td><td>4.56</td><td>null</td><td>null</td><td>252</td><td>16</td><td>0</td><td>-1.68</td><td>0.0</td><td>0.5</td><td>0.0</td><td>0.0</td><td>1.0</td><td>-0.18</td><td>null</td><td>null</td></tr><tr><td>2</td><td>2024-12-31 23:03:16</td><td>2024-12-31 23:28:35</td><td>null</td><td>3.94</td><td>null</td><td>null</td><td>181</td><td>255</td><td>0</td><td>4.46</td><td>0.0</td><td>0.5</td><td>5.19</td><td>0.0</td><td>1.0</td><td>11.15</td><td>null</td><td>null</td></tr><tr><td>1</td><td>2024-12-31 23:15:33</td><td>2024-12-31 23:36:29</td><td>null</td><td>4.2</td><td>null</td><td>null</td><td>165</td><td>61</td><td>0</td><td>27.07</td><td>0.0</td><td>0.5</td><td>0.0</td><td>0.0</td><td>1.0</td><td>28.57</td><td>null</td><td>null</td></tr><tr><td>2</td><td>2024-12-31 23:04:36</td><td>2024-12-31 23:33:34</td><td>null</td><td>5.76</td><td>null</td><td>null</td><td>225</td><td>114</td><td>0</td><td>2.17</td><td>0.0</td><td>0.5</td><td>0.0</td><td>0.0</td><td>1.0</td><td>6.17</td><td>null</td><td>null</td></tr></tbody></table></div>"
      ],
      "text/plain": [
       "shape: (41_169_720, 19)\n",
       "┌──────────┬───────────┬───────────┬───────────┬───┬───────────┬───────────┬───────────┬───────────┐\n",
       "│ VendorID ┆ tpep_pick ┆ tpep_drop ┆ passenger ┆ … ┆ improveme ┆ total_amo ┆ congestio ┆ Airport_f │\n",
       "│ ---      ┆ up_dateti ┆ off_datet ┆ _count    ┆   ┆ nt_surcha ┆ unt       ┆ n_surchar ┆ ee        │\n",
       "│ i32      ┆ me        ┆ ime       ┆ ---       ┆   ┆ rge       ┆ ---       ┆ ge        ┆ ---       │\n",
       "│          ┆ ---       ┆ ---       ┆ i64       ┆   ┆ ---       ┆ f64       ┆ ---       ┆ f64       │\n",
       "│          ┆ datetime[ ┆ datetime[ ┆           ┆   ┆ f64       ┆           ┆ f64       ┆           │\n",
       "│          ┆ ms]       ┆ ms]       ┆           ┆   ┆           ┆           ┆           ┆           │\n",
       "╞══════════╪═══════════╪═══════════╪═══════════╪═══╪═══════════╪═══════════╪═══════════╪═══════════╡\n",
       "│ 2        ┆ 2024-01-0 ┆ 2024-01-0 ┆ 1         ┆ … ┆ 1.0       ┆ 22.7      ┆ 2.5       ┆ 0.0       │\n",
       "│          ┆ 1         ┆ 1         ┆           ┆   ┆           ┆           ┆           ┆           │\n",
       "│          ┆ 00:57:55  ┆ 01:17:43  ┆           ┆   ┆           ┆           ┆           ┆           │\n",
       "│ 1        ┆ 2024-01-0 ┆ 2024-01-0 ┆ 1         ┆ … ┆ 1.0       ┆ 18.75     ┆ 2.5       ┆ 0.0       │\n",
       "│          ┆ 1         ┆ 1         ┆           ┆   ┆           ┆           ┆           ┆           │\n",
       "│          ┆ 00:03:00  ┆ 00:09:36  ┆           ┆   ┆           ┆           ┆           ┆           │\n",
       "│ 1        ┆ 2024-01-0 ┆ 2024-01-0 ┆ 1         ┆ … ┆ 1.0       ┆ 31.3      ┆ 2.5       ┆ 0.0       │\n",
       "│          ┆ 1         ┆ 1         ┆           ┆   ┆           ┆           ┆           ┆           │\n",
       "│          ┆ 00:17:06  ┆ 00:35:01  ┆           ┆   ┆           ┆           ┆           ┆           │\n",
       "│ 1        ┆ 2024-01-0 ┆ 2024-01-0 ┆ 1         ┆ … ┆ 1.0       ┆ 17.0      ┆ 2.5       ┆ 0.0       │\n",
       "│          ┆ 1         ┆ 1         ┆           ┆   ┆           ┆           ┆           ┆           │\n",
       "│          ┆ 00:36:38  ┆ 00:44:56  ┆           ┆   ┆           ┆           ┆           ┆           │\n",
       "│ 1        ┆ 2024-01-0 ┆ 2024-01-0 ┆ 1         ┆ … ┆ 1.0       ┆ 16.1      ┆ 2.5       ┆ 0.0       │\n",
       "│          ┆ 1         ┆ 1         ┆           ┆   ┆           ┆           ┆           ┆           │\n",
       "│          ┆ 00:46:51  ┆ 00:52:57  ┆           ┆   ┆           ┆           ┆           ┆           │\n",
       "│ …        ┆ …         ┆ …         ┆ …         ┆ … ┆ …         ┆ …         ┆ …         ┆ …         │\n",
       "│ 2        ┆ 2024-12-3 ┆ 2024-12-3 ┆ null      ┆ … ┆ 1.0       ┆ -2.63     ┆ null      ┆ null      │\n",
       "│          ┆ 1         ┆ 1         ┆           ┆   ┆           ┆           ┆           ┆           │\n",
       "│          ┆ 23:32:00  ┆ 23:56:00  ┆           ┆   ┆           ┆           ┆           ┆           │\n",
       "│ 2        ┆ 2024-12-3 ┆ 2024-12-3 ┆ null      ┆ … ┆ 1.0       ┆ -0.18     ┆ null      ┆ null      │\n",
       "│          ┆ 1         ┆ 1         ┆           ┆   ┆           ┆           ┆           ┆           │\n",
       "│          ┆ 23:05:00  ┆ 23:18:00  ┆           ┆   ┆           ┆           ┆           ┆           │\n",
       "│ 2        ┆ 2024-12-3 ┆ 2024-12-3 ┆ null      ┆ … ┆ 1.0       ┆ 11.15     ┆ null      ┆ null      │\n",
       "│          ┆ 1         ┆ 1         ┆           ┆   ┆           ┆           ┆           ┆           │\n",
       "│          ┆ 23:03:16  ┆ 23:28:35  ┆           ┆   ┆           ┆           ┆           ┆           │\n",
       "│ 1        ┆ 2024-12-3 ┆ 2024-12-3 ┆ null      ┆ … ┆ 1.0       ┆ 28.57     ┆ null      ┆ null      │\n",
       "│          ┆ 1         ┆ 1         ┆           ┆   ┆           ┆           ┆           ┆           │\n",
       "│          ┆ 23:15:33  ┆ 23:36:29  ┆           ┆   ┆           ┆           ┆           ┆           │\n",
       "│ 2        ┆ 2024-12-3 ┆ 2024-12-3 ┆ null      ┆ … ┆ 1.0       ┆ 6.17      ┆ null      ┆ null      │\n",
       "│          ┆ 1         ┆ 1         ┆           ┆   ┆           ┆           ┆           ┆           │\n",
       "│          ┆ 23:04:36  ┆ 23:33:34  ┆           ┆   ┆           ┆           ┆           ┆           │\n",
       "└──────────┴───────────┴───────────┴───────────┴───┴───────────┴───────────┴───────────┴───────────┘"
      ]
     },
     "execution_count": 6,
     "metadata": {},
     "output_type": "execute_result"
    }
   ],
   "source": [
    "df_2024.collect()"
   ]
  },
  {
   "cell_type": "markdown",
   "id": "4a27205e-99b1-4d36-9c30-a59cbaf2fe7e",
   "metadata": {},
   "source": [
    "You can all most operations on a LazyFrame, except for the ones that require [knowledge of data schema](https://docs.pola.rs/user-guide/lazy/schemas/#the-lazy-api-must-know-the-schema). It is known only based on materialized data. This is e.g. `.to_dummies()` ([documentation](https://docs.pola.rs/api/python/stable/reference/dataframe/api/polars.DataFrame.to_dummies.html)), which applies one-hot encoding to a categorical column. It needs to read the data and know the actual possible categories to create columns. Other examples include `.pivot()` and `.columns` attribute.\n",
    "\n",
    "Let's see an example of a lazy query that also heavily filters the data. This will also nicely utilize the ability of Parquet to read only certain columns and rows from files."
   ]
  },
  {
   "cell_type": "code",
   "execution_count": 7,
   "id": "292bfcf2-80d3-4e6e-a14d-86360b6deeb5",
   "metadata": {},
   "outputs": [
    {
     "data": {
      "text/html": [
       "<div><style>\n",
       ".dataframe > thead > tr,\n",
       ".dataframe > tbody > tr {\n",
       "  text-align: right;\n",
       "  white-space: pre-wrap;\n",
       "}\n",
       "</style>\n",
       "<small>shape: (1, 1)</small><table border=\"1\" class=\"dataframe\"><thead><tr><th>total_amount</th></tr><tr><td>f64</td></tr></thead><tbody><tr><td>81.109959</td></tr></tbody></table></div>"
      ],
      "text/plain": [
       "shape: (1, 1)\n",
       "┌──────────────┐\n",
       "│ total_amount │\n",
       "│ ---          │\n",
       "│ f64          │\n",
       "╞══════════════╡\n",
       "│ 81.109959    │\n",
       "└──────────────┘"
      ]
     },
     "execution_count": 7,
     "metadata": {},
     "output_type": "execute_result"
    }
   ],
   "source": [
    "# average total taxi fare from the airport among tipping customers\n",
    "(\n",
    "    df_2024.filter(\n",
    "        pl.col(\"Airport_fee\").is_not_null(),\n",
    "        pl.col(\"Airport_fee\") > 0,\n",
    "        pl.col(\"tip_amount\") > 0,\n",
    "    )\n",
    "    .select(\"total_amount\")\n",
    "    .mean()\n",
    "    .collect()\n",
    ")"
   ]
  },
  {
   "cell_type": "markdown",
   "id": "be8f7b9e-a59c-4104-b2a7-f0102601c308",
   "metadata": {},
   "source": [
    "**Exercises**\n",
    "\n",
    "1. Compare the speed of the above query in eager and lazy modes.\n",
    "2. Using lazy execution, compare the median taxi are in the first and fourth quarters of 2024.\n",
    "3. Using lazy execution, calculate the median daily values of total amount of taxi fares. Then calculate their rolling sum with a weekly window. Plot the result on a line plot."
   ]
  },
  {
   "cell_type": "markdown",
   "id": "36a2ae79",
   "metadata": {},
   "source": [
    "### Ex 1.\n",
    "\n",
    "Compare the speed of the above query in eager and lazy modes.\n"
   ]
  },
  {
   "cell_type": "code",
   "execution_count": 8,
   "id": "eb07f3cc",
   "metadata": {},
   "outputs": [],
   "source": [
    "import time"
   ]
  },
  {
   "cell_type": "markdown",
   "id": "8c14e523",
   "metadata": {},
   "source": [
    "**Eager**"
   ]
  },
  {
   "cell_type": "code",
   "execution_count": 20,
   "id": "1ea1f2cc",
   "metadata": {},
   "outputs": [
    {
     "name": "stdout",
     "output_type": "stream",
     "text": [
      "Average Execution time: 0.1877ms\n"
     ]
    }
   ],
   "source": [
    "start_time = time.perf_counter()\n",
    "\n",
    "(\n",
    "    df_2024.filter(\n",
    "        pl.col(\"Airport_fee\").is_not_null(),\n",
    "        pl.col(\"Airport_fee\") > 0,\n",
    "        pl.col(\"tip_amount\") > 0,\n",
    "    )\n",
    "    .select(\"total_amount\")\n",
    "    .mean()\n",
    ")\n",
    "\n",
    "end_time = time.perf_counter()\n",
    "duration_ms = (end_time - start_time) * 1000\n",
    "avg_duration_ms = duration_ms\n",
    "print(f\"Average Execution time: {avg_duration_ms:.4f}ms\")\n"
   ]
  },
  {
   "cell_type": "markdown",
   "id": "8b4e7b5c",
   "metadata": {},
   "source": [
    "**Lazy**"
   ]
  },
  {
   "cell_type": "code",
   "execution_count": 21,
   "id": "d6c84a65-916c-43ee-b4fc-b7cf3008d2e8",
   "metadata": {},
   "outputs": [
    {
     "name": "stdout",
     "output_type": "stream",
     "text": [
      "Average Execution time: 204.4179ms\n"
     ]
    }
   ],
   "source": [
    "start_time = time.perf_counter()\n",
    "\n",
    "(\n",
    "    df_2024.lazy()\n",
    "    .filter(\n",
    "        pl.col(\"Airport_fee\").is_not_null(),\n",
    "        pl.col(\"Airport_fee\") > 0,\n",
    "        pl.col(\"tip_amount\") > 0,\n",
    "    )\n",
    "    .select(\"total_amount\")\n",
    "    .mean()\n",
    "    .collect()\n",
    ")\n",
    "\n",
    "end_time = time.perf_counter()\n",
    "duration_ms = (end_time - start_time) * 1000\n",
    "avg_duration_ms = duration_ms\n",
    "print(f\"Average Execution time: {avg_duration_ms:.4f}ms\")\n"
   ]
  },
  {
   "cell_type": "markdown",
   "id": "226b2815",
   "metadata": {},
   "source": [
    "### Ex. 2\n",
    "\n",
    "Using lazy execution, compare the median taxi are in the first and fourth quarters of 2024.\n"
   ]
  },
  {
   "cell_type": "code",
   "execution_count": 23,
   "id": "adfdb66c",
   "metadata": {},
   "outputs": [
    {
     "data": {
      "text/html": [
       "<div><style>\n",
       ".dataframe > thead > tr,\n",
       ".dataframe > tbody > tr {\n",
       "  text-align: right;\n",
       "  white-space: pre-wrap;\n",
       "}\n",
       "</style>\n",
       "<small>shape: (3, 19)</small><table border=\"1\" class=\"dataframe\"><thead><tr><th>VendorID</th><th>tpep_pickup_datetime</th><th>tpep_dropoff_datetime</th><th>passenger_count</th><th>trip_distance</th><th>RatecodeID</th><th>store_and_fwd_flag</th><th>PULocationID</th><th>DOLocationID</th><th>payment_type</th><th>fare_amount</th><th>extra</th><th>mta_tax</th><th>tip_amount</th><th>tolls_amount</th><th>improvement_surcharge</th><th>total_amount</th><th>congestion_surcharge</th><th>Airport_fee</th></tr><tr><td>i32</td><td>datetime[ms]</td><td>datetime[ms]</td><td>i64</td><td>f64</td><td>i64</td><td>str</td><td>i32</td><td>i32</td><td>i64</td><td>f64</td><td>f64</td><td>f64</td><td>f64</td><td>f64</td><td>f64</td><td>f64</td><td>f64</td><td>f64</td></tr></thead><tbody><tr><td>2</td><td>2024-01-01 00:57:55</td><td>2024-01-01 01:17:43</td><td>1</td><td>1.72</td><td>1</td><td>&quot;N&quot;</td><td>186</td><td>79</td><td>2</td><td>17.7</td><td>1.0</td><td>0.5</td><td>0.0</td><td>0.0</td><td>1.0</td><td>22.7</td><td>2.5</td><td>0.0</td></tr><tr><td>1</td><td>2024-01-01 00:03:00</td><td>2024-01-01 00:09:36</td><td>1</td><td>1.8</td><td>1</td><td>&quot;N&quot;</td><td>140</td><td>236</td><td>1</td><td>10.0</td><td>3.5</td><td>0.5</td><td>3.75</td><td>0.0</td><td>1.0</td><td>18.75</td><td>2.5</td><td>0.0</td></tr><tr><td>1</td><td>2024-01-01 00:17:06</td><td>2024-01-01 00:35:01</td><td>1</td><td>4.7</td><td>1</td><td>&quot;N&quot;</td><td>236</td><td>79</td><td>1</td><td>23.3</td><td>3.5</td><td>0.5</td><td>3.0</td><td>0.0</td><td>1.0</td><td>31.3</td><td>2.5</td><td>0.0</td></tr></tbody></table></div>"
      ],
      "text/plain": [
       "shape: (3, 19)\n",
       "┌──────────┬───────────┬───────────┬───────────┬───┬───────────┬───────────┬───────────┬───────────┐\n",
       "│ VendorID ┆ tpep_pick ┆ tpep_drop ┆ passenger ┆ … ┆ improveme ┆ total_amo ┆ congestio ┆ Airport_f │\n",
       "│ ---      ┆ up_dateti ┆ off_datet ┆ _count    ┆   ┆ nt_surcha ┆ unt       ┆ n_surchar ┆ ee        │\n",
       "│ i32      ┆ me        ┆ ime       ┆ ---       ┆   ┆ rge       ┆ ---       ┆ ge        ┆ ---       │\n",
       "│          ┆ ---       ┆ ---       ┆ i64       ┆   ┆ ---       ┆ f64       ┆ ---       ┆ f64       │\n",
       "│          ┆ datetime[ ┆ datetime[ ┆           ┆   ┆ f64       ┆           ┆ f64       ┆           │\n",
       "│          ┆ ms]       ┆ ms]       ┆           ┆   ┆           ┆           ┆           ┆           │\n",
       "╞══════════╪═══════════╪═══════════╪═══════════╪═══╪═══════════╪═══════════╪═══════════╪═══════════╡\n",
       "│ 2        ┆ 2024-01-0 ┆ 2024-01-0 ┆ 1         ┆ … ┆ 1.0       ┆ 22.7      ┆ 2.5       ┆ 0.0       │\n",
       "│          ┆ 1         ┆ 1         ┆           ┆   ┆           ┆           ┆           ┆           │\n",
       "│          ┆ 00:57:55  ┆ 01:17:43  ┆           ┆   ┆           ┆           ┆           ┆           │\n",
       "│ 1        ┆ 2024-01-0 ┆ 2024-01-0 ┆ 1         ┆ … ┆ 1.0       ┆ 18.75     ┆ 2.5       ┆ 0.0       │\n",
       "│          ┆ 1         ┆ 1         ┆           ┆   ┆           ┆           ┆           ┆           │\n",
       "│          ┆ 00:03:00  ┆ 00:09:36  ┆           ┆   ┆           ┆           ┆           ┆           │\n",
       "│ 1        ┆ 2024-01-0 ┆ 2024-01-0 ┆ 1         ┆ … ┆ 1.0       ┆ 31.3      ┆ 2.5       ┆ 0.0       │\n",
       "│          ┆ 1         ┆ 1         ┆           ┆   ┆           ┆           ┆           ┆           │\n",
       "│          ┆ 00:17:06  ┆ 00:35:01  ┆           ┆   ┆           ┆           ┆           ┆           │\n",
       "└──────────┴───────────┴───────────┴───────────┴───┴───────────┴───────────┴───────────┴───────────┘"
      ]
     },
     "execution_count": 23,
     "metadata": {},
     "output_type": "execute_result"
    }
   ],
   "source": [
    "df_2024.head(3).collect()"
   ]
  },
  {
   "cell_type": "code",
   "execution_count": 37,
   "id": "9341b31c",
   "metadata": {},
   "outputs": [
    {
     "data": {
      "text/html": [
       "<div><style>\n",
       ".dataframe > thead > tr,\n",
       ".dataframe > tbody > tr {\n",
       "  text-align: right;\n",
       "  white-space: pre-wrap;\n",
       "}\n",
       "</style>\n",
       "<small>shape: (2, 2)</small><table border=\"1\" class=\"dataframe\"><thead><tr><th>quarter</th><th>fare_amount_med</th></tr><tr><td>str</td><td>f64</td></tr></thead><tbody><tr><td>&quot;fourth&quot;</td><td>14.2</td></tr><tr><td>&quot;first&quot;</td><td>12.8</td></tr></tbody></table></div>"
      ],
      "text/plain": [
       "shape: (2, 2)\n",
       "┌─────────┬─────────────────┐\n",
       "│ quarter ┆ fare_amount_med │\n",
       "│ ---     ┆ ---             │\n",
       "│ str     ┆ f64             │\n",
       "╞═════════╪═════════════════╡\n",
       "│ fourth  ┆ 14.2            │\n",
       "│ first   ┆ 12.8            │\n",
       "└─────────┴─────────────────┘"
      ]
     },
     "execution_count": 37,
     "metadata": {},
     "output_type": "execute_result"
    }
   ],
   "source": [
    "median_query = (\n",
    "    df_2024.lazy()\n",
    "    .filter((pl.col(\"tpep_pickup_datetime\").dt.year()) == 2024)\n",
    "    .with_columns(pl.col(\"tpep_pickup_datetime\").dt.month().alias(\"month\"))\n",
    "    .filter((pl.col(\"month\") <= 3) | (pl.col(\"month\") > 9))\n",
    "    .with_columns(\n",
    "        pl.when(pl.col(\"month\") <= 3)\n",
    "        .then(pl.lit(\"first\"))\n",
    "        .otherwise(pl.lit(\"fourth\"))\n",
    "        .alias(\"quarter\")\n",
    "    )\n",
    "    .group_by(\"quarter\")\n",
    "    .agg(pl.col(\"fare_amount\").median().alias(\"fare_amount_med\"))\n",
    ")\n",
    "\n",
    "median_query.collect()"
   ]
  },
  {
   "cell_type": "markdown",
   "id": "e037664b",
   "metadata": {},
   "source": [
    "### Ex. 3\n",
    "\n",
    "Using lazy execution, calculate the median daily values of total amount of taxi fares. Then calculate their rolling sum with a weekly window. Plot the result on a line plot."
   ]
  },
  {
   "cell_type": "code",
   "execution_count": 38,
   "id": "8b5dca64",
   "metadata": {},
   "outputs": [
    {
     "data": {
      "image/png": "[encoded data removed]",
      "text/plain": [
       "<Figure size 640x480 with 1 Axes>"
      ]
     },
     "metadata": {},
     "output_type": "display_data"
    }
   ],
   "source": [
    "daily_median_query = (\n",
    "    df_2024.lazy()\n",
    "    .filter((pl.col(\"tpep_pickup_datetime\").dt.year()) == 2024)\n",
    "    .with_columns(pl.col(\"tpep_pickup_datetime\").dt.date().alias(\"date\"))\n",
    "    .group_by(\"date\")\n",
    "    .agg(pl.col(\"total_amount\").median().alias(\"median_total\"))\n",
    "    .select([\"date\", \"median_total\"])\n",
    "    .sort(\"date\")\n",
    "    .with_columns(\n",
    "        pl.col(\"median_total\")\n",
    "        .rolling_sum(window_size=7, min_samples=1)\n",
    "        .alias(\"weekly_sum\")\n",
    "    )\n",
    "    .collect()\n",
    "    .to_pandas()\n",
    "    .plot.line(x=\"date\", y=\"weekly_sum\")\n",
    ")"
   ]
  }
 ],
 "metadata": {
  "kernelspec": {
   "display_name": "Python 3 (ipykernel)",
   "language": "python",
   "name": "python3"
  },
  "language_info": {
   "codemirror_mode": {
    "name": "ipython",
    "version": 3
   },
   "file_extension": ".py",
   "mimetype": "text/x-python",
   "name": "python",
   "nbconvert_exporter": "python",
   "pygments_lexer": "ipython3",
   "version": "3.12.3"
  }
 },
 "nbformat": 4,
 "nbformat_minor": 5
}
