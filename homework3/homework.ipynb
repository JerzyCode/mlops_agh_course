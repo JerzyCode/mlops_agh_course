{
 "cells": [
  {
   "cell_type": "markdown",
   "id": "ca049ee6",
   "metadata": {},
   "source": [
    "## Imports"
   ]
  },
  {
   "cell_type": "code",
   "execution_count": 1,
   "id": "f50f1251",
   "metadata": {},
   "outputs": [],
   "source": [
    "import polars as pl\n",
    "import os"
   ]
  },
  {
   "cell_type": "markdown",
   "id": "a0296b4d",
   "metadata": {},
   "source": [
    "### Preparation"
   ]
  },
  {
   "cell_type": "code",
   "execution_count": 2,
   "id": "fa7e3659",
   "metadata": {},
   "outputs": [],
   "source": [
    "DATA_DIR = \"labs/mlops_lab3/data\"\n",
    "if not os.path.exists(DATA_DIR):\n",
    "    os.mkdir(DATA_DIR)"
   ]
  },
  {
   "cell_type": "markdown",
   "id": "ea607e1f",
   "metadata": {},
   "source": [
    "## 1. Data Reading"
   ]
  },
  {
   "cell_type": "markdown",
   "id": "720bdfab",
   "metadata": {},
   "source": [
    "### Taxi Data"
   ]
  },
  {
   "cell_type": "code",
   "execution_count": 3,
   "id": "31e75209",
   "metadata": {},
   "outputs": [
    {
     "data": {
      "text/html": [
       "<div><style>\n",
       ".dataframe > thead > tr,\n",
       ".dataframe > tbody > tr {\n",
       "  text-align: right;\n",
       "  white-space: pre-wrap;\n",
       "}\n",
       "</style>\n",
       "<small>shape: (9, 20)</small><table border=\"1\" class=\"dataframe\"><thead><tr><th>statistic</th><th>VendorID</th><th>tpep_pickup_datetime</th><th>tpep_dropoff_datetime</th><th>passenger_count</th><th>trip_distance</th><th>RatecodeID</th><th>store_and_fwd_flag</th><th>PULocationID</th><th>DOLocationID</th><th>payment_type</th><th>fare_amount</th><th>extra</th><th>mta_tax</th><th>tip_amount</th><th>tolls_amount</th><th>improvement_surcharge</th><th>total_amount</th><th>congestion_surcharge</th><th>Airport_fee</th></tr><tr><td>str</td><td>f64</td><td>str</td><td>str</td><td>f64</td><td>f64</td><td>f64</td><td>str</td><td>f64</td><td>f64</td><td>f64</td><td>f64</td><td>f64</td><td>f64</td><td>f64</td><td>f64</td><td>f64</td><td>f64</td><td>f64</td><td>f64</td></tr></thead><tbody><tr><td>&quot;count&quot;</td><td>4.116972e7</td><td>&quot;41169720&quot;</td><td>&quot;41169720&quot;</td><td>3.7078488e7</td><td>4.116972e7</td><td>3.7078488e7</td><td>&quot;37078488&quot;</td><td>4.116972e7</td><td>4.116972e7</td><td>4.116972e7</td><td>4.116972e7</td><td>4.116972e7</td><td>4.116972e7</td><td>4.116972e7</td><td>4.116972e7</td><td>4.116972e7</td><td>4.116972e7</td><td>3.7078488e7</td><td>3.7078488e7</td></tr><tr><td>&quot;null_count&quot;</td><td>0.0</td><td>&quot;0&quot;</td><td>&quot;0&quot;</td><td>4.091232e6</td><td>0.0</td><td>4.091232e6</td><td>&quot;4091232&quot;</td><td>0.0</td><td>0.0</td><td>0.0</td><td>0.0</td><td>0.0</td><td>0.0</td><td>0.0</td><td>0.0</td><td>0.0</td><td>0.0</td><td>4.091232e6</td><td>4.091232e6</td></tr><tr><td>&quot;mean&quot;</td><td>1.764232</td><td>&quot;2024-07-06 10:01:25.051000&quot;</td><td>&quot;2024-07-06 10:18:53.125000&quot;</td><td>1.333931</td><td>4.976101</td><td>2.32215</td><td>null</td><td>164.242786</td><td>163.447453</td><td>1.107259</td><td>19.26851</td><td>1.385953</td><td>0.479777</td><td>3.307884</td><td>0.561527</td><td>0.962993</td><td>27.832813</td><td>2.232144</td><td>0.147006</td></tr><tr><td>&quot;std&quot;</td><td>0.425857</td><td>null</td><td>null</td><td>0.815824</td><td>419.230497</td><td>10.928049</td><td>null</td><td>64.340689</td><td>69.60009</td><td>0.651511</td><td>76.71984</td><td>1.815878</td><td>0.130183</td><td>4.090523</td><td>2.240545</td><td>0.255055</td><td>78.053586</td><td>0.874653</td><td>0.502041</td></tr><tr><td>&quot;min&quot;</td><td>1.0</td><td>&quot;2002-12-31 16:46:07&quot;</td><td>&quot;2002-12-31 17:24:07&quot;</td><td>0.0</td><td>0.0</td><td>1.0</td><td>&quot;N&quot;</td><td>1.0</td><td>1.0</td><td>0.0</td><td>-2261.2</td><td>-9.25</td><td>-0.5</td><td>-300.0</td><td>-140.63</td><td>-1.0</td><td>-2265.45</td><td>-2.5</td><td>-1.75</td></tr><tr><td>&quot;25%&quot;</td><td>2.0</td><td>&quot;2024-04-06 20:07:28&quot;</td><td>&quot;2024-04-06 20:23:52&quot;</td><td>1.0</td><td>1.01</td><td>1.0</td><td>null</td><td>132.0</td><td>113.0</td><td>1.0</td><td>9.3</td><td>0.0</td><td>0.5</td><td>0.0</td><td>0.0</td><td>1.0</td><td>15.75</td><td>2.5</td><td>0.0</td></tr><tr><td>&quot;50%&quot;</td><td>2.0</td><td>&quot;2024-07-03 23:35:16&quot;</td><td>&quot;2024-07-03 23:50:35&quot;</td><td>1.0</td><td>1.76</td><td>1.0</td><td>null</td><td>161.0</td><td>162.0</td><td>1.0</td><td>13.5</td><td>1.0</td><td>0.5</td><td>2.6</td><td>0.0</td><td>1.0</td><td>21.0</td><td>2.5</td><td>0.0</td></tr><tr><td>&quot;75%&quot;</td><td>2.0</td><td>&quot;2024-10-08 17:33:35&quot;</td><td>&quot;2024-10-08 17:53:27&quot;</td><td>1.0</td><td>3.36</td><td>1.0</td><td>null</td><td>233.0</td><td>234.0</td><td>1.0</td><td>22.6</td><td>2.5</td><td>0.5</td><td>4.25</td><td>0.0</td><td>1.0</td><td>30.6</td><td>2.5</td><td>0.0</td></tr><tr><td>&quot;max&quot;</td><td>7.0</td><td>&quot;2026-06-26 23:53:12&quot;</td><td>&quot;2026-06-27 20:59:10&quot;</td><td>9.0</td><td>398608.62</td><td>99.0</td><td>&quot;Y&quot;</td><td>265.0</td><td>265.0</td><td>5.0</td><td>335544.44</td><td>65.99</td><td>41.3</td><td>999.99</td><td>1702.88</td><td>2.0</td><td>335550.94</td><td>2.52</td><td>1.75</td></tr></tbody></table></div>"
      ],
      "text/plain": [
       "shape: (9, 20)\n",
       "┌───────────┬───────────┬───────────┬───────────┬───┬───────────┬───────────┬───────────┬──────────┐\n",
       "│ statistic ┆ VendorID  ┆ tpep_pick ┆ tpep_drop ┆ … ┆ improveme ┆ total_amo ┆ congestio ┆ Airport_ │\n",
       "│ ---       ┆ ---       ┆ up_dateti ┆ off_datet ┆   ┆ nt_surcha ┆ unt       ┆ n_surchar ┆ fee      │\n",
       "│ str       ┆ f64       ┆ me        ┆ ime       ┆   ┆ rge       ┆ ---       ┆ ge        ┆ ---      │\n",
       "│           ┆           ┆ ---       ┆ ---       ┆   ┆ ---       ┆ f64       ┆ ---       ┆ f64      │\n",
       "│           ┆           ┆ str       ┆ str       ┆   ┆ f64       ┆           ┆ f64       ┆          │\n",
       "╞═══════════╪═══════════╪═══════════╪═══════════╪═══╪═══════════╪═══════════╪═══════════╪══════════╡\n",
       "│ count     ┆ 4.116972e ┆ 41169720  ┆ 41169720  ┆ … ┆ 4.116972e ┆ 4.116972e ┆ 3.7078488 ┆ 3.707848 │\n",
       "│           ┆ 7         ┆           ┆           ┆   ┆ 7         ┆ 7         ┆ e7        ┆ 8e7      │\n",
       "│ null_coun ┆ 0.0       ┆ 0         ┆ 0         ┆ … ┆ 0.0       ┆ 0.0       ┆ 4.091232e ┆ 4.091232 │\n",
       "│ t         ┆           ┆           ┆           ┆   ┆           ┆           ┆ 6         ┆ e6       │\n",
       "│ mean      ┆ 1.764232  ┆ 2024-07-0 ┆ 2024-07-0 ┆ … ┆ 0.962993  ┆ 27.832813 ┆ 2.232144  ┆ 0.147006 │\n",
       "│           ┆           ┆ 6 10:01:2 ┆ 6 10:18:5 ┆   ┆           ┆           ┆           ┆          │\n",
       "│           ┆           ┆ 5.051000  ┆ 3.125000  ┆   ┆           ┆           ┆           ┆          │\n",
       "│ std       ┆ 0.425857  ┆ null      ┆ null      ┆ … ┆ 0.255055  ┆ 78.053586 ┆ 0.874653  ┆ 0.502041 │\n",
       "│ min       ┆ 1.0       ┆ 2002-12-3 ┆ 2002-12-3 ┆ … ┆ -1.0      ┆ -2265.45  ┆ -2.5      ┆ -1.75    │\n",
       "│           ┆           ┆ 1         ┆ 1         ┆   ┆           ┆           ┆           ┆          │\n",
       "│           ┆           ┆ 16:46:07  ┆ 17:24:07  ┆   ┆           ┆           ┆           ┆          │\n",
       "│ 25%       ┆ 2.0       ┆ 2024-04-0 ┆ 2024-04-0 ┆ … ┆ 1.0       ┆ 15.75     ┆ 2.5       ┆ 0.0      │\n",
       "│           ┆           ┆ 6         ┆ 6         ┆   ┆           ┆           ┆           ┆          │\n",
       "│           ┆           ┆ 20:07:28  ┆ 20:23:52  ┆   ┆           ┆           ┆           ┆          │\n",
       "│ 50%       ┆ 2.0       ┆ 2024-07-0 ┆ 2024-07-0 ┆ … ┆ 1.0       ┆ 21.0      ┆ 2.5       ┆ 0.0      │\n",
       "│           ┆           ┆ 3         ┆ 3         ┆   ┆           ┆           ┆           ┆          │\n",
       "│           ┆           ┆ 23:35:16  ┆ 23:50:35  ┆   ┆           ┆           ┆           ┆          │\n",
       "│ 75%       ┆ 2.0       ┆ 2024-10-0 ┆ 2024-10-0 ┆ … ┆ 1.0       ┆ 30.6      ┆ 2.5       ┆ 0.0      │\n",
       "│           ┆           ┆ 8         ┆ 8         ┆   ┆           ┆           ┆           ┆          │\n",
       "│           ┆           ┆ 17:33:35  ┆ 17:53:27  ┆   ┆           ┆           ┆           ┆          │\n",
       "│ max       ┆ 7.0       ┆ 2026-06-2 ┆ 2026-06-2 ┆ … ┆ 2.0       ┆ 335550.94 ┆ 2.52      ┆ 1.75     │\n",
       "│           ┆           ┆ 6         ┆ 7         ┆   ┆           ┆           ┆           ┆          │\n",
       "│           ┆           ┆ 23:53:12  ┆ 20:59:10  ┆   ┆           ┆           ┆           ┆          │\n",
       "└───────────┴───────────┴───────────┴───────────┴───┴───────────┴───────────┴───────────┴──────────┘"
      ]
     },
     "execution_count": 3,
     "metadata": {},
     "output_type": "execute_result"
    }
   ],
   "source": [
    "dfs = []\n",
    "for month in range(1, 13):\n",
    "    taxi_df = pl.scan_parquet(f\"{DATA_DIR}/{month}.parquet\")\n",
    "    taxi_df = taxi_df.with_columns(\n",
    "        pl.col(\"tpep_pickup_datetime\").dt.cast_time_unit(\"ms\"),\n",
    "        pl.col(\"tpep_dropoff_datetime\").dt.cast_time_unit(\"ms\"),\n",
    "    )\n",
    "    dfs.append(taxi_df)\n",
    "\n",
    "taxi_df_lazy: pl.DataFrame = pl.concat(dfs)\n",
    "taxi_df_lazy.describe()"
   ]
  },
  {
   "cell_type": "code",
   "execution_count": 4,
   "id": "99ce9ae7",
   "metadata": {},
   "outputs": [
    {
     "data": {
      "text/html": [
       "<div><style>\n",
       ".dataframe > thead > tr,\n",
       ".dataframe > tbody > tr {\n",
       "  text-align: right;\n",
       "  white-space: pre-wrap;\n",
       "}\n",
       "</style>\n",
       "<small>shape: (3, 19)</small><table border=\"1\" class=\"dataframe\"><thead><tr><th>VendorID</th><th>tpep_pickup_datetime</th><th>tpep_dropoff_datetime</th><th>passenger_count</th><th>trip_distance</th><th>RatecodeID</th><th>store_and_fwd_flag</th><th>PULocationID</th><th>DOLocationID</th><th>payment_type</th><th>fare_amount</th><th>extra</th><th>mta_tax</th><th>tip_amount</th><th>tolls_amount</th><th>improvement_surcharge</th><th>total_amount</th><th>congestion_surcharge</th><th>Airport_fee</th></tr><tr><td>i32</td><td>datetime[ms]</td><td>datetime[ms]</td><td>i64</td><td>f64</td><td>i64</td><td>str</td><td>i32</td><td>i32</td><td>i64</td><td>f64</td><td>f64</td><td>f64</td><td>f64</td><td>f64</td><td>f64</td><td>f64</td><td>f64</td><td>f64</td></tr></thead><tbody><tr><td>2</td><td>2024-01-01 00:57:55</td><td>2024-01-01 01:17:43</td><td>1</td><td>1.72</td><td>1</td><td>&quot;N&quot;</td><td>186</td><td>79</td><td>2</td><td>17.7</td><td>1.0</td><td>0.5</td><td>0.0</td><td>0.0</td><td>1.0</td><td>22.7</td><td>2.5</td><td>0.0</td></tr><tr><td>1</td><td>2024-01-01 00:03:00</td><td>2024-01-01 00:09:36</td><td>1</td><td>1.8</td><td>1</td><td>&quot;N&quot;</td><td>140</td><td>236</td><td>1</td><td>10.0</td><td>3.5</td><td>0.5</td><td>3.75</td><td>0.0</td><td>1.0</td><td>18.75</td><td>2.5</td><td>0.0</td></tr><tr><td>1</td><td>2024-01-01 00:17:06</td><td>2024-01-01 00:35:01</td><td>1</td><td>4.7</td><td>1</td><td>&quot;N&quot;</td><td>236</td><td>79</td><td>1</td><td>23.3</td><td>3.5</td><td>0.5</td><td>3.0</td><td>0.0</td><td>1.0</td><td>31.3</td><td>2.5</td><td>0.0</td></tr></tbody></table></div>"
      ],
      "text/plain": [
       "shape: (3, 19)\n",
       "┌──────────┬───────────┬───────────┬───────────┬───┬───────────┬───────────┬───────────┬───────────┐\n",
       "│ VendorID ┆ tpep_pick ┆ tpep_drop ┆ passenger ┆ … ┆ improveme ┆ total_amo ┆ congestio ┆ Airport_f │\n",
       "│ ---      ┆ up_dateti ┆ off_datet ┆ _count    ┆   ┆ nt_surcha ┆ unt       ┆ n_surchar ┆ ee        │\n",
       "│ i32      ┆ me        ┆ ime       ┆ ---       ┆   ┆ rge       ┆ ---       ┆ ge        ┆ ---       │\n",
       "│          ┆ ---       ┆ ---       ┆ i64       ┆   ┆ ---       ┆ f64       ┆ ---       ┆ f64       │\n",
       "│          ┆ datetime[ ┆ datetime[ ┆           ┆   ┆ f64       ┆           ┆ f64       ┆           │\n",
       "│          ┆ ms]       ┆ ms]       ┆           ┆   ┆           ┆           ┆           ┆           │\n",
       "╞══════════╪═══════════╪═══════════╪═══════════╪═══╪═══════════╪═══════════╪═══════════╪═══════════╡\n",
       "│ 2        ┆ 2024-01-0 ┆ 2024-01-0 ┆ 1         ┆ … ┆ 1.0       ┆ 22.7      ┆ 2.5       ┆ 0.0       │\n",
       "│          ┆ 1         ┆ 1         ┆           ┆   ┆           ┆           ┆           ┆           │\n",
       "│          ┆ 00:57:55  ┆ 01:17:43  ┆           ┆   ┆           ┆           ┆           ┆           │\n",
       "│ 1        ┆ 2024-01-0 ┆ 2024-01-0 ┆ 1         ┆ … ┆ 1.0       ┆ 18.75     ┆ 2.5       ┆ 0.0       │\n",
       "│          ┆ 1         ┆ 1         ┆           ┆   ┆           ┆           ┆           ┆           │\n",
       "│          ┆ 00:03:00  ┆ 00:09:36  ┆           ┆   ┆           ┆           ┆           ┆           │\n",
       "│ 1        ┆ 2024-01-0 ┆ 2024-01-0 ┆ 1         ┆ … ┆ 1.0       ┆ 31.3      ┆ 2.5       ┆ 0.0       │\n",
       "│          ┆ 1         ┆ 1         ┆           ┆   ┆           ┆           ┆           ┆           │\n",
       "│          ┆ 00:17:06  ┆ 00:35:01  ┆           ┆   ┆           ┆           ┆           ┆           │\n",
       "└──────────┴───────────┴───────────┴───────────┴───┴───────────┴───────────┴───────────┴───────────┘"
      ]
     },
     "execution_count": 4,
     "metadata": {},
     "output_type": "execute_result"
    }
   ],
   "source": [
    "taxi_df = taxi_df_lazy.collect()\n",
    "taxi_df.head(3)"
   ]
  },
  {
   "cell_type": "markdown",
   "id": "d242846d",
   "metadata": {},
   "source": [
    "### Taxi Zone Data"
   ]
  },
  {
   "cell_type": "code",
   "execution_count": 5,
   "id": "6a11f258",
   "metadata": {},
   "outputs": [
    {
     "data": {
      "text/html": [
       "<div><style>\n",
       ".dataframe > thead > tr,\n",
       ".dataframe > tbody > tr {\n",
       "  text-align: right;\n",
       "  white-space: pre-wrap;\n",
       "}\n",
       "</style>\n",
       "<small>shape: (9, 5)</small><table border=\"1\" class=\"dataframe\"><thead><tr><th>statistic</th><th>LocationID</th><th>Borough</th><th>Zone</th><th>service_zone</th></tr><tr><td>str</td><td>f64</td><td>str</td><td>str</td><td>str</td></tr></thead><tbody><tr><td>&quot;count&quot;</td><td>265.0</td><td>&quot;265&quot;</td><td>&quot;265&quot;</td><td>&quot;265&quot;</td></tr><tr><td>&quot;null_count&quot;</td><td>0.0</td><td>&quot;0&quot;</td><td>&quot;0&quot;</td><td>&quot;0&quot;</td></tr><tr><td>&quot;mean&quot;</td><td>133.0</td><td>null</td><td>null</td><td>null</td></tr><tr><td>&quot;std&quot;</td><td>76.643112</td><td>null</td><td>null</td><td>null</td></tr><tr><td>&quot;min&quot;</td><td>1.0</td><td>&quot;Bronx&quot;</td><td>&quot;Allerton/Pelham Gardens&quot;</td><td>&quot;Airports&quot;</td></tr><tr><td>&quot;25%&quot;</td><td>67.0</td><td>null</td><td>null</td><td>null</td></tr><tr><td>&quot;50%&quot;</td><td>133.0</td><td>null</td><td>null</td><td>null</td></tr><tr><td>&quot;75%&quot;</td><td>199.0</td><td>null</td><td>null</td><td>null</td></tr><tr><td>&quot;max&quot;</td><td>265.0</td><td>&quot;Unknown&quot;</td><td>&quot;Yorkville West&quot;</td><td>&quot;Yellow Zone&quot;</td></tr></tbody></table></div>"
      ],
      "text/plain": [
       "shape: (9, 5)\n",
       "┌────────────┬────────────┬─────────┬─────────────────────────┬──────────────┐\n",
       "│ statistic  ┆ LocationID ┆ Borough ┆ Zone                    ┆ service_zone │\n",
       "│ ---        ┆ ---        ┆ ---     ┆ ---                     ┆ ---          │\n",
       "│ str        ┆ f64        ┆ str     ┆ str                     ┆ str          │\n",
       "╞════════════╪════════════╪═════════╪═════════════════════════╪══════════════╡\n",
       "│ count      ┆ 265.0      ┆ 265     ┆ 265                     ┆ 265          │\n",
       "│ null_count ┆ 0.0        ┆ 0       ┆ 0                       ┆ 0            │\n",
       "│ mean       ┆ 133.0      ┆ null    ┆ null                    ┆ null         │\n",
       "│ std        ┆ 76.643112  ┆ null    ┆ null                    ┆ null         │\n",
       "│ min        ┆ 1.0        ┆ Bronx   ┆ Allerton/Pelham Gardens ┆ Airports     │\n",
       "│ 25%        ┆ 67.0       ┆ null    ┆ null                    ┆ null         │\n",
       "│ 50%        ┆ 133.0      ┆ null    ┆ null                    ┆ null         │\n",
       "│ 75%        ┆ 199.0      ┆ null    ┆ null                    ┆ null         │\n",
       "│ max        ┆ 265.0      ┆ Unknown ┆ Yorkville West          ┆ Yellow Zone  │\n",
       "└────────────┴────────────┴─────────┴─────────────────────────┴──────────────┘"
      ]
     },
     "execution_count": 5,
     "metadata": {},
     "output_type": "execute_result"
    }
   ],
   "source": [
    "taxi_zone_df = pl.read_csv(os.path.join(DATA_DIR, \"taxi_zone_lookup.csv\"))\n",
    "taxi_zone_df.describe()"
   ]
  },
  {
   "cell_type": "markdown",
   "id": "20ed2b10",
   "metadata": {},
   "source": [
    "### Filter data to 2024 year only"
   ]
  },
  {
   "cell_type": "code",
   "execution_count": 6,
   "id": "de9927cf",
   "metadata": {},
   "outputs": [
    {
     "data": {
      "text/html": [
       "<div><style>\n",
       ".dataframe > thead > tr,\n",
       ".dataframe > tbody > tr {\n",
       "  text-align: right;\n",
       "  white-space: pre-wrap;\n",
       "}\n",
       "</style>\n",
       "<small>shape: (9, 20)</small><table border=\"1\" class=\"dataframe\"><thead><tr><th>statistic</th><th>VendorID</th><th>tpep_pickup_datetime</th><th>tpep_dropoff_datetime</th><th>passenger_count</th><th>trip_distance</th><th>RatecodeID</th><th>store_and_fwd_flag</th><th>PULocationID</th><th>DOLocationID</th><th>payment_type</th><th>fare_amount</th><th>extra</th><th>mta_tax</th><th>tip_amount</th><th>tolls_amount</th><th>improvement_surcharge</th><th>total_amount</th><th>congestion_surcharge</th><th>Airport_fee</th></tr><tr><td>str</td><td>f64</td><td>str</td><td>str</td><td>f64</td><td>f64</td><td>f64</td><td>str</td><td>f64</td><td>f64</td><td>f64</td><td>f64</td><td>f64</td><td>f64</td><td>f64</td><td>f64</td><td>f64</td><td>f64</td><td>f64</td><td>f64</td></tr></thead><tbody><tr><td>&quot;count&quot;</td><td>4.1169664e7</td><td>&quot;41169664&quot;</td><td>&quot;41169664&quot;</td><td>3.7078432e7</td><td>4.1169664e7</td><td>3.7078432e7</td><td>&quot;37078432&quot;</td><td>4.1169664e7</td><td>4.1169664e7</td><td>4.1169664e7</td><td>4.1169664e7</td><td>4.1169664e7</td><td>4.1169664e7</td><td>4.1169664e7</td><td>4.1169664e7</td><td>4.1169664e7</td><td>4.1169664e7</td><td>3.7078432e7</td><td>3.7078432e7</td></tr><tr><td>&quot;null_count&quot;</td><td>0.0</td><td>&quot;0&quot;</td><td>&quot;0&quot;</td><td>4.091232e6</td><td>0.0</td><td>4.091232e6</td><td>&quot;4091232&quot;</td><td>0.0</td><td>0.0</td><td>0.0</td><td>0.0</td><td>0.0</td><td>0.0</td><td>0.0</td><td>0.0</td><td>0.0</td><td>0.0</td><td>4.091232e6</td><td>4.091232e6</td></tr><tr><td>&quot;mean&quot;</td><td>1.764232</td><td>&quot;2024-07-06 10:09:57.955000&quot;</td><td>&quot;2024-07-06 10:27:25.996000&quot;</td><td>1.33393</td><td>4.976099</td><td>2.322152</td><td>null</td><td>164.242801</td><td>163.447443</td><td>1.107259</td><td>19.268497</td><td>1.385952</td><td>0.479777</td><td>3.307883</td><td>0.561525</td><td>0.962993</td><td>27.832796</td><td>2.232145</td><td>0.147005</td></tr><tr><td>&quot;std&quot;</td><td>0.425857</td><td>null</td><td>null</td><td>0.815824</td><td>419.230782</td><td>10.928057</td><td>null</td><td>64.340696</td><td>69.60009</td><td>0.651511</td><td>76.719887</td><td>1.815878</td><td>0.130183</td><td>4.090522</td><td>2.240541</td><td>0.255055</td><td>78.05363</td><td>0.874652</td><td>0.50204</td></tr><tr><td>&quot;min&quot;</td><td>1.0</td><td>&quot;2024-01-01 00:00:00&quot;</td><td>&quot;2024-01-01 00:02:42&quot;</td><td>0.0</td><td>0.0</td><td>1.0</td><td>&quot;N&quot;</td><td>1.0</td><td>1.0</td><td>0.0</td><td>-2261.2</td><td>-9.25</td><td>-0.5</td><td>-300.0</td><td>-140.63</td><td>-1.0</td><td>-2265.45</td><td>-2.5</td><td>-1.75</td></tr><tr><td>&quot;25%&quot;</td><td>2.0</td><td>&quot;2024-04-06 20:07:55&quot;</td><td>&quot;2024-04-06 20:24:09&quot;</td><td>1.0</td><td>1.01</td><td>1.0</td><td>null</td><td>132.0</td><td>113.0</td><td>1.0</td><td>9.3</td><td>0.0</td><td>0.5</td><td>0.0</td><td>0.0</td><td>1.0</td><td>15.75</td><td>2.5</td><td>0.0</td></tr><tr><td>&quot;50%&quot;</td><td>2.0</td><td>&quot;2024-07-03 23:35:39&quot;</td><td>&quot;2024-07-03 23:51:00&quot;</td><td>1.0</td><td>1.76</td><td>1.0</td><td>null</td><td>161.0</td><td>162.0</td><td>1.0</td><td>13.5</td><td>1.0</td><td>0.5</td><td>2.6</td><td>0.0</td><td>1.0</td><td>21.0</td><td>2.5</td><td>0.0</td></tr><tr><td>&quot;75%&quot;</td><td>2.0</td><td>&quot;2024-10-08 17:33:37&quot;</td><td>&quot;2024-10-08 17:53:30&quot;</td><td>1.0</td><td>3.36</td><td>1.0</td><td>null</td><td>233.0</td><td>234.0</td><td>1.0</td><td>22.6</td><td>2.5</td><td>0.5</td><td>4.25</td><td>0.0</td><td>1.0</td><td>30.6</td><td>2.5</td><td>0.0</td></tr><tr><td>&quot;max&quot;</td><td>7.0</td><td>&quot;2024-12-31 23:59:58&quot;</td><td>&quot;2025-01-01 22:59:33&quot;</td><td>9.0</td><td>398608.62</td><td>99.0</td><td>&quot;Y&quot;</td><td>265.0</td><td>265.0</td><td>5.0</td><td>335544.44</td><td>65.99</td><td>41.3</td><td>999.99</td><td>1702.88</td><td>2.0</td><td>335550.94</td><td>2.52</td><td>1.75</td></tr></tbody></table></div>"
      ],
      "text/plain": [
       "shape: (9, 20)\n",
       "┌───────────┬───────────┬───────────┬───────────┬───┬───────────┬───────────┬───────────┬──────────┐\n",
       "│ statistic ┆ VendorID  ┆ tpep_pick ┆ tpep_drop ┆ … ┆ improveme ┆ total_amo ┆ congestio ┆ Airport_ │\n",
       "│ ---       ┆ ---       ┆ up_dateti ┆ off_datet ┆   ┆ nt_surcha ┆ unt       ┆ n_surchar ┆ fee      │\n",
       "│ str       ┆ f64       ┆ me        ┆ ime       ┆   ┆ rge       ┆ ---       ┆ ge        ┆ ---      │\n",
       "│           ┆           ┆ ---       ┆ ---       ┆   ┆ ---       ┆ f64       ┆ ---       ┆ f64      │\n",
       "│           ┆           ┆ str       ┆ str       ┆   ┆ f64       ┆           ┆ f64       ┆          │\n",
       "╞═══════════╪═══════════╪═══════════╪═══════════╪═══╪═══════════╪═══════════╪═══════════╪══════════╡\n",
       "│ count     ┆ 4.1169664 ┆ 41169664  ┆ 41169664  ┆ … ┆ 4.1169664 ┆ 4.1169664 ┆ 3.7078432 ┆ 3.707843 │\n",
       "│           ┆ e7        ┆           ┆           ┆   ┆ e7        ┆ e7        ┆ e7        ┆ 2e7      │\n",
       "│ null_coun ┆ 0.0       ┆ 0         ┆ 0         ┆ … ┆ 0.0       ┆ 0.0       ┆ 4.091232e ┆ 4.091232 │\n",
       "│ t         ┆           ┆           ┆           ┆   ┆           ┆           ┆ 6         ┆ e6       │\n",
       "│ mean      ┆ 1.764232  ┆ 2024-07-0 ┆ 2024-07-0 ┆ … ┆ 0.962993  ┆ 27.832796 ┆ 2.232145  ┆ 0.147005 │\n",
       "│           ┆           ┆ 6 10:09:5 ┆ 6 10:27:2 ┆   ┆           ┆           ┆           ┆          │\n",
       "│           ┆           ┆ 7.955000  ┆ 5.996000  ┆   ┆           ┆           ┆           ┆          │\n",
       "│ std       ┆ 0.425857  ┆ null      ┆ null      ┆ … ┆ 0.255055  ┆ 78.05363  ┆ 0.874652  ┆ 0.50204  │\n",
       "│ min       ┆ 1.0       ┆ 2024-01-0 ┆ 2024-01-0 ┆ … ┆ -1.0      ┆ -2265.45  ┆ -2.5      ┆ -1.75    │\n",
       "│           ┆           ┆ 1         ┆ 1         ┆   ┆           ┆           ┆           ┆          │\n",
       "│           ┆           ┆ 00:00:00  ┆ 00:02:42  ┆   ┆           ┆           ┆           ┆          │\n",
       "│ 25%       ┆ 2.0       ┆ 2024-04-0 ┆ 2024-04-0 ┆ … ┆ 1.0       ┆ 15.75     ┆ 2.5       ┆ 0.0      │\n",
       "│           ┆           ┆ 6         ┆ 6         ┆   ┆           ┆           ┆           ┆          │\n",
       "│           ┆           ┆ 20:07:55  ┆ 20:24:09  ┆   ┆           ┆           ┆           ┆          │\n",
       "│ 50%       ┆ 2.0       ┆ 2024-07-0 ┆ 2024-07-0 ┆ … ┆ 1.0       ┆ 21.0      ┆ 2.5       ┆ 0.0      │\n",
       "│           ┆           ┆ 3         ┆ 3         ┆   ┆           ┆           ┆           ┆          │\n",
       "│           ┆           ┆ 23:35:39  ┆ 23:51:00  ┆   ┆           ┆           ┆           ┆          │\n",
       "│ 75%       ┆ 2.0       ┆ 2024-10-0 ┆ 2024-10-0 ┆ … ┆ 1.0       ┆ 30.6      ┆ 2.5       ┆ 0.0      │\n",
       "│           ┆           ┆ 8         ┆ 8         ┆   ┆           ┆           ┆           ┆          │\n",
       "│           ┆           ┆ 17:33:37  ┆ 17:53:30  ┆   ┆           ┆           ┆           ┆          │\n",
       "│ max       ┆ 7.0       ┆ 2024-12-3 ┆ 2025-01-0 ┆ … ┆ 2.0       ┆ 335550.94 ┆ 2.52      ┆ 1.75     │\n",
       "│           ┆           ┆ 1         ┆ 1         ┆   ┆           ┆           ┆           ┆          │\n",
       "│           ┆           ┆ 23:59:58  ┆ 22:59:33  ┆   ┆           ┆           ┆           ┆          │\n",
       "└───────────┴───────────┴───────────┴───────────┴───┴───────────┴───────────┴───────────┴──────────┘"
      ]
     },
     "execution_count": 6,
     "metadata": {},
     "output_type": "execute_result"
    }
   ],
   "source": [
    "taxi_df = taxi_df.filter(\n",
    "    (\n",
    "        (pl.col(\"tpep_pickup_datetime\").dt.year() == 2024)\n",
    "        | (\n",
    "            (pl.col(\"tpep_pickup_datetime\").dt.year() == 2025)\n",
    "            & (pl.col(\"tpep_dropoff_datetime\") <= pl.datetime(2025, 1, 1))\n",
    "        )\n",
    "    )\n",
    ")\n",
    "taxi_df.describe()"
   ]
  },
  {
   "cell_type": "code",
   "execution_count": 7,
   "id": "1bd6a778",
   "metadata": {},
   "outputs": [
    {
     "data": {
      "text/html": [
       "<div><style>\n",
       ".dataframe > thead > tr,\n",
       ".dataframe > tbody > tr {\n",
       "  text-align: right;\n",
       "  white-space: pre-wrap;\n",
       "}\n",
       "</style>\n",
       "<small>shape: (3, 19)</small><table border=\"1\" class=\"dataframe\"><thead><tr><th>VendorID</th><th>tpep_pickup_datetime</th><th>tpep_dropoff_datetime</th><th>passenger_count</th><th>trip_distance</th><th>RatecodeID</th><th>store_and_fwd_flag</th><th>PULocationID</th><th>DOLocationID</th><th>payment_type</th><th>fare_amount</th><th>extra</th><th>mta_tax</th><th>tip_amount</th><th>tolls_amount</th><th>improvement_surcharge</th><th>total_amount</th><th>congestion_surcharge</th><th>Airport_fee</th></tr><tr><td>i32</td><td>datetime[ms]</td><td>datetime[ms]</td><td>i64</td><td>f64</td><td>i64</td><td>str</td><td>i32</td><td>i32</td><td>i64</td><td>f64</td><td>f64</td><td>f64</td><td>f64</td><td>f64</td><td>f64</td><td>f64</td><td>f64</td><td>f64</td></tr></thead><tbody><tr><td>2</td><td>2024-01-01 00:57:55</td><td>2024-01-01 01:17:43</td><td>1</td><td>1.72</td><td>1</td><td>&quot;N&quot;</td><td>186</td><td>79</td><td>2</td><td>17.7</td><td>1.0</td><td>0.5</td><td>0.0</td><td>0.0</td><td>1.0</td><td>22.7</td><td>2.5</td><td>0.0</td></tr><tr><td>1</td><td>2024-01-01 00:03:00</td><td>2024-01-01 00:09:36</td><td>1</td><td>1.8</td><td>1</td><td>&quot;N&quot;</td><td>140</td><td>236</td><td>1</td><td>10.0</td><td>3.5</td><td>0.5</td><td>3.75</td><td>0.0</td><td>1.0</td><td>18.75</td><td>2.5</td><td>0.0</td></tr><tr><td>1</td><td>2024-01-01 00:17:06</td><td>2024-01-01 00:35:01</td><td>1</td><td>4.7</td><td>1</td><td>&quot;N&quot;</td><td>236</td><td>79</td><td>1</td><td>23.3</td><td>3.5</td><td>0.5</td><td>3.0</td><td>0.0</td><td>1.0</td><td>31.3</td><td>2.5</td><td>0.0</td></tr></tbody></table></div>"
      ],
      "text/plain": [
       "shape: (3, 19)\n",
       "┌──────────┬───────────┬───────────┬───────────┬───┬───────────┬───────────┬───────────┬───────────┐\n",
       "│ VendorID ┆ tpep_pick ┆ tpep_drop ┆ passenger ┆ … ┆ improveme ┆ total_amo ┆ congestio ┆ Airport_f │\n",
       "│ ---      ┆ up_dateti ┆ off_datet ┆ _count    ┆   ┆ nt_surcha ┆ unt       ┆ n_surchar ┆ ee        │\n",
       "│ i32      ┆ me        ┆ ime       ┆ ---       ┆   ┆ rge       ┆ ---       ┆ ge        ┆ ---       │\n",
       "│          ┆ ---       ┆ ---       ┆ i64       ┆   ┆ ---       ┆ f64       ┆ ---       ┆ f64       │\n",
       "│          ┆ datetime[ ┆ datetime[ ┆           ┆   ┆ f64       ┆           ┆ f64       ┆           │\n",
       "│          ┆ ms]       ┆ ms]       ┆           ┆   ┆           ┆           ┆           ┆           │\n",
       "╞══════════╪═══════════╪═══════════╪═══════════╪═══╪═══════════╪═══════════╪═══════════╪═══════════╡\n",
       "│ 2        ┆ 2024-01-0 ┆ 2024-01-0 ┆ 1         ┆ … ┆ 1.0       ┆ 22.7      ┆ 2.5       ┆ 0.0       │\n",
       "│          ┆ 1         ┆ 1         ┆           ┆   ┆           ┆           ┆           ┆           │\n",
       "│          ┆ 00:57:55  ┆ 01:17:43  ┆           ┆   ┆           ┆           ┆           ┆           │\n",
       "│ 1        ┆ 2024-01-0 ┆ 2024-01-0 ┆ 1         ┆ … ┆ 1.0       ┆ 18.75     ┆ 2.5       ┆ 0.0       │\n",
       "│          ┆ 1         ┆ 1         ┆           ┆   ┆           ┆           ┆           ┆           │\n",
       "│          ┆ 00:03:00  ┆ 00:09:36  ┆           ┆   ┆           ┆           ┆           ┆           │\n",
       "│ 1        ┆ 2024-01-0 ┆ 2024-01-0 ┆ 1         ┆ … ┆ 1.0       ┆ 31.3      ┆ 2.5       ┆ 0.0       │\n",
       "│          ┆ 1         ┆ 1         ┆           ┆   ┆           ┆           ┆           ┆           │\n",
       "│          ┆ 00:17:06  ┆ 00:35:01  ┆           ┆   ┆           ┆           ┆           ┆           │\n",
       "└──────────┴───────────┴───────────┴───────────┴───┴───────────┴───────────┴───────────┴───────────┘"
      ]
     },
     "execution_count": 7,
     "metadata": {},
     "output_type": "execute_result"
    }
   ],
   "source": [
    "taxi_df.head(3)"
   ]
  },
  {
   "cell_type": "code",
   "execution_count": 8,
   "id": "ef2875f6",
   "metadata": {},
   "outputs": [
    {
     "data": {
      "text/html": [
       "<div><style>\n",
       ".dataframe > thead > tr,\n",
       ".dataframe > tbody > tr {\n",
       "  text-align: right;\n",
       "  white-space: pre-wrap;\n",
       "}\n",
       "</style>\n",
       "<small>shape: (5, 1)</small><table border=\"1\" class=\"dataframe\"><thead><tr><th>service_zone</th></tr><tr><td>str</td></tr></thead><tbody><tr><td>&quot;Airports&quot;</td></tr><tr><td>&quot;Yellow Zone&quot;</td></tr><tr><td>&quot;N/A&quot;</td></tr><tr><td>&quot;EWR&quot;</td></tr><tr><td>&quot;Boro Zone&quot;</td></tr></tbody></table></div>"
      ],
      "text/plain": [
       "shape: (5, 1)\n",
       "┌──────────────┐\n",
       "│ service_zone │\n",
       "│ ---          │\n",
       "│ str          │\n",
       "╞══════════════╡\n",
       "│ Airports     │\n",
       "│ Yellow Zone  │\n",
       "│ N/A          │\n",
       "│ EWR          │\n",
       "│ Boro Zone    │\n",
       "└──────────────┘"
      ]
     },
     "execution_count": 8,
     "metadata": {},
     "output_type": "execute_result"
    }
   ],
   "source": [
    "taxi_zone_df.select(\"service_zone\").unique()"
   ]
  },
  {
   "cell_type": "markdown",
   "id": "878eebe1",
   "metadata": {},
   "source": [
    "### Optimizing data"
   ]
  },
  {
   "cell_type": "markdown",
   "id": "30d8f39e",
   "metadata": {},
   "source": [
    "**taxi_df**\n",
    "\n",
    "Changes:\n",
    "- vendorId -> Categorical\n",
    "- passenger_count -> uint8\n",
    "- RatecodeId -> uint8\n",
    "- store_and_fwd_flag -> Categorical\n",
    "- PULocationID -> uint16\n",
    "- DOLocationID -> uint16\n",
    "- payment_type -> Categorical\n",
    "\n",
    "\n",
    "**taxi_zone**\n",
    "\n",
    "Changes:\n",
    "- locationId -> uint16\n",
    "- Borough -> Categorical\n",
    "- service_zone -> Categorical"
   ]
  },
  {
   "cell_type": "code",
   "execution_count": 13,
   "id": "de9b452a",
   "metadata": {},
   "outputs": [
    {
     "data": {
      "text/html": [
       "<div><style>\n",
       ".dataframe > thead > tr,\n",
       ".dataframe > tbody > tr {\n",
       "  text-align: right;\n",
       "  white-space: pre-wrap;\n",
       "}\n",
       "</style>\n",
       "<small>shape: (6, 1)</small><table border=\"1\" class=\"dataframe\"><thead><tr><th>payment_type</th></tr><tr><td>i64</td></tr></thead><tbody><tr><td>3</td></tr><tr><td>0</td></tr><tr><td>4</td></tr><tr><td>1</td></tr><tr><td>2</td></tr><tr><td>5</td></tr></tbody></table></div>"
      ],
      "text/plain": [
       "shape: (6, 1)\n",
       "┌──────────────┐\n",
       "│ payment_type │\n",
       "│ ---          │\n",
       "│ i64          │\n",
       "╞══════════════╡\n",
       "│ 3            │\n",
       "│ 0            │\n",
       "│ 4            │\n",
       "│ 1            │\n",
       "│ 2            │\n",
       "│ 5            │\n",
       "└──────────────┘"
      ]
     },
     "execution_count": 13,
     "metadata": {},
     "output_type": "execute_result"
    }
   ],
   "source": [
    "taxi_df.select(\"payment_type\").unique()"
   ]
  },
  {
   "cell_type": "code",
   "execution_count": 14,
   "id": "865dc9d9",
   "metadata": {},
   "outputs": [
    {
     "data": {
      "text/html": [
       "<div><style>\n",
       ".dataframe > thead > tr,\n",
       ".dataframe > tbody > tr {\n",
       "  text-align: right;\n",
       "  white-space: pre-wrap;\n",
       "}\n",
       "</style>\n",
       "<small>shape: (3, 19)</small><table border=\"1\" class=\"dataframe\"><thead><tr><th>VendorID</th><th>tpep_pickup_datetime</th><th>tpep_dropoff_datetime</th><th>passenger_count</th><th>trip_distance</th><th>RatecodeID</th><th>store_and_fwd_flag</th><th>PULocationID</th><th>DOLocationID</th><th>payment_type</th><th>fare_amount</th><th>extra</th><th>mta_tax</th><th>tip_amount</th><th>tolls_amount</th><th>improvement_surcharge</th><th>total_amount</th><th>congestion_surcharge</th><th>Airport_fee</th></tr><tr><td>u8</td><td>datetime[ms]</td><td>datetime[ms]</td><td>u8</td><td>f64</td><td>u8</td><td>cat</td><td>u16</td><td>u16</td><td>u8</td><td>f64</td><td>f64</td><td>f64</td><td>f64</td><td>f64</td><td>f64</td><td>f64</td><td>f64</td><td>f64</td></tr></thead><tbody><tr><td>2</td><td>2024-01-01 00:57:55</td><td>2024-01-01 01:17:43</td><td>1</td><td>1.72</td><td>1</td><td>&quot;N&quot;</td><td>186</td><td>79</td><td>2</td><td>17.7</td><td>1.0</td><td>0.5</td><td>0.0</td><td>0.0</td><td>1.0</td><td>22.7</td><td>2.5</td><td>0.0</td></tr><tr><td>1</td><td>2024-01-01 00:03:00</td><td>2024-01-01 00:09:36</td><td>1</td><td>1.8</td><td>1</td><td>&quot;N&quot;</td><td>140</td><td>236</td><td>1</td><td>10.0</td><td>3.5</td><td>0.5</td><td>3.75</td><td>0.0</td><td>1.0</td><td>18.75</td><td>2.5</td><td>0.0</td></tr><tr><td>1</td><td>2024-01-01 00:17:06</td><td>2024-01-01 00:35:01</td><td>1</td><td>4.7</td><td>1</td><td>&quot;N&quot;</td><td>236</td><td>79</td><td>1</td><td>23.3</td><td>3.5</td><td>0.5</td><td>3.0</td><td>0.0</td><td>1.0</td><td>31.3</td><td>2.5</td><td>0.0</td></tr></tbody></table></div>"
      ],
      "text/plain": [
       "shape: (3, 19)\n",
       "┌──────────┬───────────┬───────────┬───────────┬───┬───────────┬───────────┬───────────┬───────────┐\n",
       "│ VendorID ┆ tpep_pick ┆ tpep_drop ┆ passenger ┆ … ┆ improveme ┆ total_amo ┆ congestio ┆ Airport_f │\n",
       "│ ---      ┆ up_dateti ┆ off_datet ┆ _count    ┆   ┆ nt_surcha ┆ unt       ┆ n_surchar ┆ ee        │\n",
       "│ u8       ┆ me        ┆ ime       ┆ ---       ┆   ┆ rge       ┆ ---       ┆ ge        ┆ ---       │\n",
       "│          ┆ ---       ┆ ---       ┆ u8        ┆   ┆ ---       ┆ f64       ┆ ---       ┆ f64       │\n",
       "│          ┆ datetime[ ┆ datetime[ ┆           ┆   ┆ f64       ┆           ┆ f64       ┆           │\n",
       "│          ┆ ms]       ┆ ms]       ┆           ┆   ┆           ┆           ┆           ┆           │\n",
       "╞══════════╪═══════════╪═══════════╪═══════════╪═══╪═══════════╪═══════════╪═══════════╪═══════════╡\n",
       "│ 2        ┆ 2024-01-0 ┆ 2024-01-0 ┆ 1         ┆ … ┆ 1.0       ┆ 22.7      ┆ 2.5       ┆ 0.0       │\n",
       "│          ┆ 1         ┆ 1         ┆           ┆   ┆           ┆           ┆           ┆           │\n",
       "│          ┆ 00:57:55  ┆ 01:17:43  ┆           ┆   ┆           ┆           ┆           ┆           │\n",
       "│ 1        ┆ 2024-01-0 ┆ 2024-01-0 ┆ 1         ┆ … ┆ 1.0       ┆ 18.75     ┆ 2.5       ┆ 0.0       │\n",
       "│          ┆ 1         ┆ 1         ┆           ┆   ┆           ┆           ┆           ┆           │\n",
       "│          ┆ 00:03:00  ┆ 00:09:36  ┆           ┆   ┆           ┆           ┆           ┆           │\n",
       "│ 1        ┆ 2024-01-0 ┆ 2024-01-0 ┆ 1         ┆ … ┆ 1.0       ┆ 31.3      ┆ 2.5       ┆ 0.0       │\n",
       "│          ┆ 1         ┆ 1         ┆           ┆   ┆           ┆           ┆           ┆           │\n",
       "│          ┆ 00:17:06  ┆ 00:35:01  ┆           ┆   ┆           ┆           ┆           ┆           │\n",
       "└──────────┴───────────┴───────────┴───────────┴───┴───────────┴───────────┴───────────┴───────────┘"
      ]
     },
     "execution_count": 14,
     "metadata": {},
     "output_type": "execute_result"
    }
   ],
   "source": [
    "taxi_df = taxi_df.with_columns(\n",
    "    pl.col(\"VendorID\").cast(pl.UInt8),\n",
    "    pl.col(\"passenger_count\").cast(pl.UInt8),\n",
    "    pl.col(\"RatecodeID\").cast(pl.UInt8),\n",
    "    pl.col(\"store_and_fwd_flag\").cast(pl.Categorical),\n",
    "    pl.col(\"PULocationID\").cast(pl.UInt16),\n",
    "    pl.col(\"DOLocationID\").cast(pl.UInt16),\n",
    "    pl.col(\"payment_type\").cast(pl.UInt8),\n",
    ")\n",
    "\n",
    "\n",
    "taxi_df.head(3)"
   ]
  },
  {
   "cell_type": "code",
   "execution_count": 15,
   "id": "c80fd8d0",
   "metadata": {},
   "outputs": [
    {
     "name": "stdout",
     "output_type": "stream",
     "text": [
      "[UInt8, Datetime(time_unit='ms', time_zone=None), Datetime(time_unit='ms', time_zone=None), UInt8, Float64, UInt8, Categorical, UInt16, UInt16, UInt8, Float64, Float64, Float64, Float64, Float64, Float64, Float64, Float64, Float64]\n"
     ]
    }
   ],
   "source": [
    "print(taxi_df.dtypes)"
   ]
  },
  {
   "cell_type": "markdown",
   "id": "f6e69558",
   "metadata": {},
   "source": [
    "After .describe() the types in table are f64, but for dtypes, there are UInt8. "
   ]
  },
  {
   "cell_type": "markdown",
   "id": "4431c11e",
   "metadata": {},
   "source": [
    "### "
   ]
  },
  {
   "cell_type": "code",
   "execution_count": 16,
   "id": "dfb1bb20",
   "metadata": {},
   "outputs": [
    {
     "data": {
      "text/html": [
       "<div><style>\n",
       ".dataframe > thead > tr,\n",
       ".dataframe > tbody > tr {\n",
       "  text-align: right;\n",
       "  white-space: pre-wrap;\n",
       "}\n",
       "</style>\n",
       "<small>shape: (9, 5)</small><table border=\"1\" class=\"dataframe\"><thead><tr><th>statistic</th><th>LocationID</th><th>Borough</th><th>Zone</th><th>service_zone</th></tr><tr><td>str</td><td>f64</td><td>str</td><td>str</td><td>str</td></tr></thead><tbody><tr><td>&quot;count&quot;</td><td>265.0</td><td>&quot;265&quot;</td><td>&quot;265&quot;</td><td>&quot;265&quot;</td></tr><tr><td>&quot;null_count&quot;</td><td>0.0</td><td>&quot;0&quot;</td><td>&quot;0&quot;</td><td>&quot;0&quot;</td></tr><tr><td>&quot;mean&quot;</td><td>133.0</td><td>null</td><td>null</td><td>null</td></tr><tr><td>&quot;std&quot;</td><td>76.643112</td><td>null</td><td>null</td><td>null</td></tr><tr><td>&quot;min&quot;</td><td>1.0</td><td>null</td><td>&quot;Allerton/Pelham Gardens&quot;</td><td>null</td></tr><tr><td>&quot;25%&quot;</td><td>67.0</td><td>null</td><td>null</td><td>null</td></tr><tr><td>&quot;50%&quot;</td><td>133.0</td><td>null</td><td>null</td><td>null</td></tr><tr><td>&quot;75%&quot;</td><td>199.0</td><td>null</td><td>null</td><td>null</td></tr><tr><td>&quot;max&quot;</td><td>265.0</td><td>null</td><td>&quot;Yorkville West&quot;</td><td>null</td></tr></tbody></table></div>"
      ],
      "text/plain": [
       "shape: (9, 5)\n",
       "┌────────────┬────────────┬─────────┬─────────────────────────┬──────────────┐\n",
       "│ statistic  ┆ LocationID ┆ Borough ┆ Zone                    ┆ service_zone │\n",
       "│ ---        ┆ ---        ┆ ---     ┆ ---                     ┆ ---          │\n",
       "│ str        ┆ f64        ┆ str     ┆ str                     ┆ str          │\n",
       "╞════════════╪════════════╪═════════╪═════════════════════════╪══════════════╡\n",
       "│ count      ┆ 265.0      ┆ 265     ┆ 265                     ┆ 265          │\n",
       "│ null_count ┆ 0.0        ┆ 0       ┆ 0                       ┆ 0            │\n",
       "│ mean       ┆ 133.0      ┆ null    ┆ null                    ┆ null         │\n",
       "│ std        ┆ 76.643112  ┆ null    ┆ null                    ┆ null         │\n",
       "│ min        ┆ 1.0        ┆ null    ┆ Allerton/Pelham Gardens ┆ null         │\n",
       "│ 25%        ┆ 67.0       ┆ null    ┆ null                    ┆ null         │\n",
       "│ 50%        ┆ 133.0      ┆ null    ┆ null                    ┆ null         │\n",
       "│ 75%        ┆ 199.0      ┆ null    ┆ null                    ┆ null         │\n",
       "│ max        ┆ 265.0      ┆ null    ┆ Yorkville West          ┆ null         │\n",
       "└────────────┴────────────┴─────────┴─────────────────────────┴──────────────┘"
      ]
     },
     "execution_count": 16,
     "metadata": {},
     "output_type": "execute_result"
    }
   ],
   "source": [
    "taxi_zone_df = taxi_zone_df.with_columns(\n",
    "    pl.col(\"LocationID\").cast(pl.UInt16),\n",
    "    pl.col(\"Borough\").cast(pl.Categorical),\n",
    "    pl.col(\"service_zone\").cast(pl.Categorical),\n",
    ")\n",
    "\n",
    "taxi_zone_df.describe()"
   ]
  },
  {
   "cell_type": "markdown",
   "id": "d16f63ef",
   "metadata": {},
   "source": [
    "## 2. Data filtering and cleaning"
   ]
  },
  {
   "cell_type": "markdown",
   "id": "34f9ee9a",
   "metadata": {},
   "source": [
    "### Fill null passenger_count with 1"
   ]
  },
  {
   "cell_type": "code",
   "execution_count": 17,
   "id": "a98184ac",
   "metadata": {},
   "outputs": [],
   "source": [
    "taxi_df = taxi_df.with_columns(pl.col(\"passenger_count\").fill_null(1))"
   ]
  },
  {
   "cell_type": "markdown",
   "id": "7d601cce",
   "metadata": {},
   "source": [
    "### remove rides with zero passengers\n"
   ]
  },
  {
   "cell_type": "code",
   "execution_count": 18,
   "id": "98cead83",
   "metadata": {},
   "outputs": [],
   "source": [
    "taxi_df = taxi_df.filter(pl.col(\"passenger_count\") > 0)"
   ]
  },
  {
   "cell_type": "markdown",
   "id": "51aa89df",
   "metadata": {},
   "source": [
    "### if a ride has over 6 passengers, replace the value with 6"
   ]
  },
  {
   "cell_type": "code",
   "execution_count": 19,
   "id": "9d905064",
   "metadata": {},
   "outputs": [],
   "source": [
    "taxi_df = taxi_df.with_columns(\n",
    "    pl.when(pl.col(\"passenger_count\") > 6)\n",
    "    .then(6)\n",
    "    .otherwise(pl.col(\"passenger_count\"))\n",
    "    .alias(\"passenger_count\")\n",
    ")"
   ]
  },
  {
   "cell_type": "markdown",
   "id": "ceb10685",
   "metadata": {},
   "source": [
    "### remove rides lasting over 2 hours\n"
   ]
  },
  {
   "cell_type": "code",
   "execution_count": 20,
   "id": "5c14bc58",
   "metadata": {},
   "outputs": [],
   "source": [
    "taxi_df = taxi_df.filter(\n",
    "    (pl.col(\"tpep_dropoff_datetime\") - pl.col(\"tpep_pickup_datetime\")).dt.total_hours()\n",
    "    <= 2\n",
    ")"
   ]
  },
  {
   "cell_type": "markdown",
   "id": "1a881d5f",
   "metadata": {},
   "source": [
    "### in all money-related columns, replace values with absolute value to fix negative amounts\n"
   ]
  },
  {
   "cell_type": "code",
   "execution_count": 21,
   "id": "b45cf9e0",
   "metadata": {},
   "outputs": [],
   "source": [
    "money_cols = [\n",
    "    \"fare_amount\",\n",
    "    \"extra\",\n",
    "    \"mta_tax\",\n",
    "    \"tip_amount\",\n",
    "    \"tolls_amount\",\n",
    "    \"improvement_surcharge\",\n",
    "    \"total_amount\",\n",
    "    \"congestion_surcharge\",\n",
    "    \"Airport_fee\",\n",
    "]\n",
    "\n",
    "for col in money_cols:\n",
    "    taxi_df = taxi_df.with_columns(pl.col(col).abs())"
   ]
  },
  {
   "cell_type": "markdown",
   "id": "448ec28d",
   "metadata": {},
   "source": [
    "### remove rides with over 1000 dollars in any money-related column"
   ]
  },
  {
   "cell_type": "code",
   "execution_count": 22,
   "id": "c935164f",
   "metadata": {},
   "outputs": [],
   "source": [
    "for col in money_cols:\n",
    "    taxi_df = taxi_df.filter(pl.col(col) < 1000)"
   ]
  },
  {
   "cell_type": "markdown",
   "id": "4d3c9558",
   "metadata": {},
   "source": [
    "### remove rows with values of RatecodeID or VendorID missing or outside those defined in the data dictionary\n"
   ]
  },
  {
   "cell_type": "code",
   "execution_count": 23,
   "id": "ba420bd2",
   "metadata": {},
   "outputs": [],
   "source": [
    "rate_codes = [1, 2, 3, 4, 5, 6, 99]\n",
    "vendor_ids = [1, 2, 6, 7]\n",
    "\n",
    "taxi_df = taxi_df.filter(\n",
    "    (\n",
    "        (\n",
    "            (pl.col(\"RatecodeID\").is_not_null())\n",
    "            & (pl.col(\"RatecodeID\").is_in(rate_codes))\n",
    "        )\n",
    "        & ((pl.col(\"VendorID\").is_not_null()) & (pl.col(\"VendorID\").is_in(vendor_ids)))\n",
    "    )\n",
    ")\n"
   ]
  },
  {
   "cell_type": "markdown",
   "id": "98e680ae",
   "metadata": {},
   "source": [
    "### After Cleaning data"
   ]
  },
  {
   "cell_type": "code",
   "execution_count": 24,
   "id": "737200f7",
   "metadata": {},
   "outputs": [
    {
     "data": {
      "text/plain": [
       "Schema([('VendorID', UInt8),\n",
       "        ('tpep_pickup_datetime', Datetime(time_unit='ms', time_zone=None)),\n",
       "        ('tpep_dropoff_datetime', Datetime(time_unit='ms', time_zone=None)),\n",
       "        ('passenger_count', UInt8),\n",
       "        ('trip_distance', Float64),\n",
       "        ('RatecodeID', UInt8),\n",
       "        ('store_and_fwd_flag', Categorical),\n",
       "        ('PULocationID', UInt16),\n",
       "        ('DOLocationID', UInt16),\n",
       "        ('payment_type', UInt8),\n",
       "        ('fare_amount', Float64),\n",
       "        ('extra', Float64),\n",
       "        ('mta_tax', Float64),\n",
       "        ('tip_amount', Float64),\n",
       "        ('tolls_amount', Float64),\n",
       "        ('improvement_surcharge', Float64),\n",
       "        ('total_amount', Float64),\n",
       "        ('congestion_surcharge', Float64),\n",
       "        ('Airport_fee', Float64)])"
      ]
     },
     "execution_count": 24,
     "metadata": {},
     "output_type": "execute_result"
    }
   ],
   "source": [
    "taxi_df.schema"
   ]
  },
  {
   "cell_type": "markdown",
   "id": "f0653ba4",
   "metadata": {},
   "source": [
    "### Saving as parquet to not process it again\n",
    "\n",
    "Purpose of this is to start on the next time, to just load cleaned."
   ]
  },
  {
   "cell_type": "code",
   "execution_count": 25,
   "id": "d8c71c6e",
   "metadata": {},
   "outputs": [
    {
     "data": {
      "text/html": [
       "<div><style>\n",
       ".dataframe > thead > tr,\n",
       ".dataframe > tbody > tr {\n",
       "  text-align: right;\n",
       "  white-space: pre-wrap;\n",
       "}\n",
       "</style>\n",
       "<small>shape: (3, 19)</small><table border=\"1\" class=\"dataframe\"><thead><tr><th>VendorID</th><th>tpep_pickup_datetime</th><th>tpep_dropoff_datetime</th><th>passenger_count</th><th>trip_distance</th><th>RatecodeID</th><th>store_and_fwd_flag</th><th>PULocationID</th><th>DOLocationID</th><th>payment_type</th><th>fare_amount</th><th>extra</th><th>mta_tax</th><th>tip_amount</th><th>tolls_amount</th><th>improvement_surcharge</th><th>total_amount</th><th>congestion_surcharge</th><th>Airport_fee</th></tr><tr><td>u8</td><td>datetime[ms]</td><td>datetime[ms]</td><td>u8</td><td>f64</td><td>u8</td><td>cat</td><td>u16</td><td>u16</td><td>u8</td><td>f64</td><td>f64</td><td>f64</td><td>f64</td><td>f64</td><td>f64</td><td>f64</td><td>f64</td><td>f64</td></tr></thead><tbody><tr><td>2</td><td>2024-01-01 00:57:55</td><td>2024-01-01 01:17:43</td><td>1</td><td>1.72</td><td>1</td><td>&quot;N&quot;</td><td>186</td><td>79</td><td>2</td><td>17.7</td><td>1.0</td><td>0.5</td><td>0.0</td><td>0.0</td><td>1.0</td><td>22.7</td><td>2.5</td><td>0.0</td></tr><tr><td>1</td><td>2024-01-01 00:03:00</td><td>2024-01-01 00:09:36</td><td>1</td><td>1.8</td><td>1</td><td>&quot;N&quot;</td><td>140</td><td>236</td><td>1</td><td>10.0</td><td>3.5</td><td>0.5</td><td>3.75</td><td>0.0</td><td>1.0</td><td>18.75</td><td>2.5</td><td>0.0</td></tr><tr><td>1</td><td>2024-01-01 00:17:06</td><td>2024-01-01 00:35:01</td><td>1</td><td>4.7</td><td>1</td><td>&quot;N&quot;</td><td>236</td><td>79</td><td>1</td><td>23.3</td><td>3.5</td><td>0.5</td><td>3.0</td><td>0.0</td><td>1.0</td><td>31.3</td><td>2.5</td><td>0.0</td></tr></tbody></table></div>"
      ],
      "text/plain": [
       "shape: (3, 19)\n",
       "┌──────────┬───────────┬───────────┬───────────┬───┬───────────┬───────────┬───────────┬───────────┐\n",
       "│ VendorID ┆ tpep_pick ┆ tpep_drop ┆ passenger ┆ … ┆ improveme ┆ total_amo ┆ congestio ┆ Airport_f │\n",
       "│ ---      ┆ up_dateti ┆ off_datet ┆ _count    ┆   ┆ nt_surcha ┆ unt       ┆ n_surchar ┆ ee        │\n",
       "│ u8       ┆ me        ┆ ime       ┆ ---       ┆   ┆ rge       ┆ ---       ┆ ge        ┆ ---       │\n",
       "│          ┆ ---       ┆ ---       ┆ u8        ┆   ┆ ---       ┆ f64       ┆ ---       ┆ f64       │\n",
       "│          ┆ datetime[ ┆ datetime[ ┆           ┆   ┆ f64       ┆           ┆ f64       ┆           │\n",
       "│          ┆ ms]       ┆ ms]       ┆           ┆   ┆           ┆           ┆           ┆           │\n",
       "╞══════════╪═══════════╪═══════════╪═══════════╪═══╪═══════════╪═══════════╪═══════════╪═══════════╡\n",
       "│ 2        ┆ 2024-01-0 ┆ 2024-01-0 ┆ 1         ┆ … ┆ 1.0       ┆ 22.7      ┆ 2.5       ┆ 0.0       │\n",
       "│          ┆ 1         ┆ 1         ┆           ┆   ┆           ┆           ┆           ┆           │\n",
       "│          ┆ 00:57:55  ┆ 01:17:43  ┆           ┆   ┆           ┆           ┆           ┆           │\n",
       "│ 1        ┆ 2024-01-0 ┆ 2024-01-0 ┆ 1         ┆ … ┆ 1.0       ┆ 18.75     ┆ 2.5       ┆ 0.0       │\n",
       "│          ┆ 1         ┆ 1         ┆           ┆   ┆           ┆           ┆           ┆           │\n",
       "│          ┆ 00:03:00  ┆ 00:09:36  ┆           ┆   ┆           ┆           ┆           ┆           │\n",
       "│ 1        ┆ 2024-01-0 ┆ 2024-01-0 ┆ 1         ┆ … ┆ 1.0       ┆ 31.3      ┆ 2.5       ┆ 0.0       │\n",
       "│          ┆ 1         ┆ 1         ┆           ┆   ┆           ┆           ┆           ┆           │\n",
       "│          ┆ 00:17:06  ┆ 00:35:01  ┆           ┆   ┆           ┆           ┆           ┆           │\n",
       "└──────────┴───────────┴───────────┴───────────┴───┴───────────┴───────────┴───────────┴───────────┘"
      ]
     },
     "execution_count": 25,
     "metadata": {},
     "output_type": "execute_result"
    }
   ],
   "source": [
    "taxi_df.head(3)"
   ]
  },
  {
   "cell_type": "code",
   "execution_count": 4,
   "id": "5d3cdcd9",
   "metadata": {},
   "outputs": [],
   "source": [
    "CLEAN_TAXI_DF_PATH = \"labs/mlops_homework3/data/taxi_df.parquet\"\n",
    "CLEAN_TAXI_ZONES_DF_PATH = \"labs/mlops_homework3/data/taxi_zones.parquet\""
   ]
  },
  {
   "cell_type": "code",
   "execution_count": null,
   "id": "8325f092",
   "metadata": {},
   "outputs": [],
   "source": [
    "taxi_df.write_parquet(CLEAN_TAXI_DF_PATH)\n",
    "taxi_zone_df.write_parquet(CLEAN_TAXI_ZONES_DF_PATH)"
   ]
  },
  {
   "cell_type": "code",
   "execution_count": 6,
   "id": "78f7296c",
   "metadata": {},
   "outputs": [],
   "source": [
    "taxi_zone_df = pl.read_parquet(CLEAN_TAXI_ZONES_DF_PATH)\n",
    "taxi_df = pl.read_parquet(CLEAN_TAXI_DF_PATH)"
   ]
  },
  {
   "cell_type": "code",
   "execution_count": 30,
   "id": "ebe7c2d9",
   "metadata": {},
   "outputs": [
    {
     "data": {
      "text/html": [
       "<div><style>\n",
       ".dataframe > thead > tr,\n",
       ".dataframe > tbody > tr {\n",
       "  text-align: right;\n",
       "  white-space: pre-wrap;\n",
       "}\n",
       "</style>\n",
       "<small>shape: (3, 19)</small><table border=\"1\" class=\"dataframe\"><thead><tr><th>VendorID</th><th>tpep_pickup_datetime</th><th>tpep_dropoff_datetime</th><th>passenger_count</th><th>trip_distance</th><th>RatecodeID</th><th>store_and_fwd_flag</th><th>PULocationID</th><th>DOLocationID</th><th>payment_type</th><th>fare_amount</th><th>extra</th><th>mta_tax</th><th>tip_amount</th><th>tolls_amount</th><th>improvement_surcharge</th><th>total_amount</th><th>congestion_surcharge</th><th>Airport_fee</th></tr><tr><td>u8</td><td>datetime[ms]</td><td>datetime[ms]</td><td>u8</td><td>f64</td><td>u8</td><td>cat</td><td>u16</td><td>u16</td><td>u8</td><td>f64</td><td>f64</td><td>f64</td><td>f64</td><td>f64</td><td>f64</td><td>f64</td><td>f64</td><td>f64</td></tr></thead><tbody><tr><td>2</td><td>2024-01-01 00:57:55</td><td>2024-01-01 01:17:43</td><td>1</td><td>1.72</td><td>1</td><td>&quot;N&quot;</td><td>186</td><td>79</td><td>2</td><td>17.7</td><td>1.0</td><td>0.5</td><td>0.0</td><td>0.0</td><td>1.0</td><td>22.7</td><td>2.5</td><td>0.0</td></tr><tr><td>1</td><td>2024-01-01 00:03:00</td><td>2024-01-01 00:09:36</td><td>1</td><td>1.8</td><td>1</td><td>&quot;N&quot;</td><td>140</td><td>236</td><td>1</td><td>10.0</td><td>3.5</td><td>0.5</td><td>3.75</td><td>0.0</td><td>1.0</td><td>18.75</td><td>2.5</td><td>0.0</td></tr><tr><td>1</td><td>2024-01-01 00:17:06</td><td>2024-01-01 00:35:01</td><td>1</td><td>4.7</td><td>1</td><td>&quot;N&quot;</td><td>236</td><td>79</td><td>1</td><td>23.3</td><td>3.5</td><td>0.5</td><td>3.0</td><td>0.0</td><td>1.0</td><td>31.3</td><td>2.5</td><td>0.0</td></tr></tbody></table></div>"
      ],
      "text/plain": [
       "shape: (3, 19)\n",
       "┌──────────┬───────────┬───────────┬───────────┬───┬───────────┬───────────┬───────────┬───────────┐\n",
       "│ VendorID ┆ tpep_pick ┆ tpep_drop ┆ passenger ┆ … ┆ improveme ┆ total_amo ┆ congestio ┆ Airport_f │\n",
       "│ ---      ┆ up_dateti ┆ off_datet ┆ _count    ┆   ┆ nt_surcha ┆ unt       ┆ n_surchar ┆ ee        │\n",
       "│ u8       ┆ me        ┆ ime       ┆ ---       ┆   ┆ rge       ┆ ---       ┆ ge        ┆ ---       │\n",
       "│          ┆ ---       ┆ ---       ┆ u8        ┆   ┆ ---       ┆ f64       ┆ ---       ┆ f64       │\n",
       "│          ┆ datetime[ ┆ datetime[ ┆           ┆   ┆ f64       ┆           ┆ f64       ┆           │\n",
       "│          ┆ ms]       ┆ ms]       ┆           ┆   ┆           ┆           ┆           ┆           │\n",
       "╞══════════╪═══════════╪═══════════╪═══════════╪═══╪═══════════╪═══════════╪═══════════╪═══════════╡\n",
       "│ 2        ┆ 2024-01-0 ┆ 2024-01-0 ┆ 1         ┆ … ┆ 1.0       ┆ 22.7      ┆ 2.5       ┆ 0.0       │\n",
       "│          ┆ 1         ┆ 1         ┆           ┆   ┆           ┆           ┆           ┆           │\n",
       "│          ┆ 00:57:55  ┆ 01:17:43  ┆           ┆   ┆           ┆           ┆           ┆           │\n",
       "│ 1        ┆ 2024-01-0 ┆ 2024-01-0 ┆ 1         ┆ … ┆ 1.0       ┆ 18.75     ┆ 2.5       ┆ 0.0       │\n",
       "│          ┆ 1         ┆ 1         ┆           ┆   ┆           ┆           ┆           ┆           │\n",
       "│          ┆ 00:03:00  ┆ 00:09:36  ┆           ┆   ┆           ┆           ┆           ┆           │\n",
       "│ 1        ┆ 2024-01-0 ┆ 2024-01-0 ┆ 1         ┆ … ┆ 1.0       ┆ 31.3      ┆ 2.5       ┆ 0.0       │\n",
       "│          ┆ 1         ┆ 1         ┆           ┆   ┆           ┆           ┆           ┆           │\n",
       "│          ┆ 00:17:06  ┆ 00:35:01  ┆           ┆   ┆           ┆           ┆           ┆           │\n",
       "└──────────┴───────────┴───────────┴───────────┴───┴───────────┴───────────┴───────────┴───────────┘"
      ]
     },
     "execution_count": 30,
     "metadata": {},
     "output_type": "execute_result"
    }
   ],
   "source": [
    "taxi_df.head(3)"
   ]
  },
  {
   "cell_type": "markdown",
   "id": "bbcb40bc",
   "metadata": {},
   "source": [
    "## 3. Data transformation"
   ]
  },
  {
   "cell_type": "markdown",
   "id": "6e32b44b",
   "metadata": {},
   "source": [
    "### combine payment type values for \"No charge\", \"Dispute\", \"Unknown\" and \"Voided trip\" into one type, so we have only credit card, cash, or other"
   ]
  },
  {
   "cell_type": "code",
   "execution_count": 7,
   "id": "15abaac1",
   "metadata": {},
   "outputs": [
    {
     "data": {
      "text/html": [
       "<div><style>\n",
       ".dataframe > thead > tr,\n",
       ".dataframe > tbody > tr {\n",
       "  text-align: right;\n",
       "  white-space: pre-wrap;\n",
       "}\n",
       "</style>\n",
       "<small>shape: (3, 1)</small><table border=\"1\" class=\"dataframe\"><thead><tr><th>payment_type</th></tr><tr><td>str</td></tr></thead><tbody><tr><td>&quot;Cash&quot;</td></tr><tr><td>&quot;Credit card&quot;</td></tr><tr><td>&quot;Other&quot;</td></tr></tbody></table></div>"
      ],
      "text/plain": [
       "shape: (3, 1)\n",
       "┌──────────────┐\n",
       "│ payment_type │\n",
       "│ ---          │\n",
       "│ str          │\n",
       "╞══════════════╡\n",
       "│ Cash         │\n",
       "│ Credit card  │\n",
       "│ Other        │\n",
       "└──────────────┘"
      ]
     },
     "execution_count": 7,
     "metadata": {},
     "output_type": "execute_result"
    }
   ],
   "source": [
    "taxi_df = taxi_df.with_columns(\n",
    "    pl.when(pl.col(\"payment_type\") == 1)\n",
    "    .then(pl.lit(\"Credit card\"))\n",
    "    .when(pl.col(\"payment_type\") == 2)\n",
    "    .then(pl.lit(\"Cash\"))\n",
    "    .otherwise(pl.lit(\"Other\"))\n",
    "    .alias(\"payment_type\")\n",
    ")\n",
    "\n",
    "taxi_df.select(\"payment_type\").unique()"
   ]
  },
  {
   "cell_type": "markdown",
   "id": "e040a961",
   "metadata": {},
   "source": [
    "### replace PULocationID and DOLocationID with borough names by joining taxi zone lookup and removing unnecessary columns\n"
   ]
  },
  {
   "cell_type": "code",
   "execution_count": 8,
   "id": "afaa895d",
   "metadata": {},
   "outputs": [
    {
     "data": {
      "text/html": [
       "<div><style>\n",
       ".dataframe > thead > tr,\n",
       ".dataframe > tbody > tr {\n",
       "  text-align: right;\n",
       "  white-space: pre-wrap;\n",
       "}\n",
       "</style>\n",
       "<small>shape: (3, 19)</small><table border=\"1\" class=\"dataframe\"><thead><tr><th>VendorID</th><th>tpep_pickup_datetime</th><th>tpep_dropoff_datetime</th><th>passenger_count</th><th>trip_distance</th><th>RatecodeID</th><th>store_and_fwd_flag</th><th>payment_type</th><th>fare_amount</th><th>extra</th><th>mta_tax</th><th>tip_amount</th><th>tolls_amount</th><th>improvement_surcharge</th><th>total_amount</th><th>congestion_surcharge</th><th>Airport_fee</th><th>FromBorough</th><th>ToBorough</th></tr><tr><td>u8</td><td>datetime[ms]</td><td>datetime[ms]</td><td>u8</td><td>f64</td><td>u8</td><td>cat</td><td>str</td><td>f64</td><td>f64</td><td>f64</td><td>f64</td><td>f64</td><td>f64</td><td>f64</td><td>f64</td><td>f64</td><td>cat</td><td>cat</td></tr></thead><tbody><tr><td>2</td><td>2024-01-01 00:57:55</td><td>2024-01-01 01:17:43</td><td>1</td><td>1.72</td><td>1</td><td>&quot;N&quot;</td><td>&quot;Cash&quot;</td><td>17.7</td><td>1.0</td><td>0.5</td><td>0.0</td><td>0.0</td><td>1.0</td><td>22.7</td><td>2.5</td><td>0.0</td><td>&quot;Manhattan&quot;</td><td>&quot;Manhattan&quot;</td></tr><tr><td>1</td><td>2024-01-01 00:03:00</td><td>2024-01-01 00:09:36</td><td>1</td><td>1.8</td><td>1</td><td>&quot;N&quot;</td><td>&quot;Credit card&quot;</td><td>10.0</td><td>3.5</td><td>0.5</td><td>3.75</td><td>0.0</td><td>1.0</td><td>18.75</td><td>2.5</td><td>0.0</td><td>&quot;Manhattan&quot;</td><td>&quot;Manhattan&quot;</td></tr><tr><td>1</td><td>2024-01-01 00:17:06</td><td>2024-01-01 00:35:01</td><td>1</td><td>4.7</td><td>1</td><td>&quot;N&quot;</td><td>&quot;Credit card&quot;</td><td>23.3</td><td>3.5</td><td>0.5</td><td>3.0</td><td>0.0</td><td>1.0</td><td>31.3</td><td>2.5</td><td>0.0</td><td>&quot;Manhattan&quot;</td><td>&quot;Manhattan&quot;</td></tr></tbody></table></div>"
      ],
      "text/plain": [
       "shape: (3, 19)\n",
       "┌──────────┬───────────┬───────────┬───────────┬───┬───────────┬───────────┬───────────┬───────────┐\n",
       "│ VendorID ┆ tpep_pick ┆ tpep_drop ┆ passenger ┆ … ┆ congestio ┆ Airport_f ┆ FromBorou ┆ ToBorough │\n",
       "│ ---      ┆ up_dateti ┆ off_datet ┆ _count    ┆   ┆ n_surchar ┆ ee        ┆ gh        ┆ ---       │\n",
       "│ u8       ┆ me        ┆ ime       ┆ ---       ┆   ┆ ge        ┆ ---       ┆ ---       ┆ cat       │\n",
       "│          ┆ ---       ┆ ---       ┆ u8        ┆   ┆ ---       ┆ f64       ┆ cat       ┆           │\n",
       "│          ┆ datetime[ ┆ datetime[ ┆           ┆   ┆ f64       ┆           ┆           ┆           │\n",
       "│          ┆ ms]       ┆ ms]       ┆           ┆   ┆           ┆           ┆           ┆           │\n",
       "╞══════════╪═══════════╪═══════════╪═══════════╪═══╪═══════════╪═══════════╪═══════════╪═══════════╡\n",
       "│ 2        ┆ 2024-01-0 ┆ 2024-01-0 ┆ 1         ┆ … ┆ 2.5       ┆ 0.0       ┆ Manhattan ┆ Manhattan │\n",
       "│          ┆ 1         ┆ 1         ┆           ┆   ┆           ┆           ┆           ┆           │\n",
       "│          ┆ 00:57:55  ┆ 01:17:43  ┆           ┆   ┆           ┆           ┆           ┆           │\n",
       "│ 1        ┆ 2024-01-0 ┆ 2024-01-0 ┆ 1         ┆ … ┆ 2.5       ┆ 0.0       ┆ Manhattan ┆ Manhattan │\n",
       "│          ┆ 1         ┆ 1         ┆           ┆   ┆           ┆           ┆           ┆           │\n",
       "│          ┆ 00:03:00  ┆ 00:09:36  ┆           ┆   ┆           ┆           ┆           ┆           │\n",
       "│ 1        ┆ 2024-01-0 ┆ 2024-01-0 ┆ 1         ┆ … ┆ 2.5       ┆ 0.0       ┆ Manhattan ┆ Manhattan │\n",
       "│          ┆ 1         ┆ 1         ┆           ┆   ┆           ┆           ┆           ┆           │\n",
       "│          ┆ 00:17:06  ┆ 00:35:01  ┆           ┆   ┆           ┆           ┆           ┆           │\n",
       "└──────────┴───────────┴───────────┴───────────┴───┴───────────┴───────────┴───────────┴───────────┘"
      ]
     },
     "execution_count": 8,
     "metadata": {},
     "output_type": "execute_result"
    }
   ],
   "source": [
    "taxi_df = (\n",
    "    taxi_df.join(\n",
    "        taxi_zone_df.select([\"LocationID\", \"Borough\"]),\n",
    "        left_on=\"PULocationID\",\n",
    "        right_on=\"LocationID\",\n",
    "        how=\"left\",\n",
    "    )\n",
    "    .rename({\"Borough\": \"FromBorough\"})\n",
    "    .drop(\"PULocationID\")\n",
    "    .join(\n",
    "        taxi_zone_df.select([\"LocationID\", \"Borough\"]),\n",
    "        left_on=\"DOLocationID\",\n",
    "        right_on=\"LocationID\",\n",
    "        how=\"left\",\n",
    "    )\n",
    "    .rename({\"Borough\": \"ToBorough\"})\n",
    "    .drop(\"DOLocationID\")\n",
    ")\n",
    "\n",
    "taxi_df.head(3)"
   ]
  },
  {
   "cell_type": "markdown",
   "id": "88f020a0",
   "metadata": {},
   "source": [
    "### add boolean variable is_airport_ride, true if there is non-zero airport fee"
   ]
  },
  {
   "cell_type": "code",
   "execution_count": 9,
   "id": "858bfb85",
   "metadata": {},
   "outputs": [
    {
     "data": {
      "text/html": [
       "<div><style>\n",
       ".dataframe > thead > tr,\n",
       ".dataframe > tbody > tr {\n",
       "  text-align: right;\n",
       "  white-space: pre-wrap;\n",
       "}\n",
       "</style>\n",
       "<small>shape: (2, 20)</small><table border=\"1\" class=\"dataframe\"><thead><tr><th>VendorID</th><th>tpep_pickup_datetime</th><th>tpep_dropoff_datetime</th><th>passenger_count</th><th>trip_distance</th><th>RatecodeID</th><th>store_and_fwd_flag</th><th>payment_type</th><th>fare_amount</th><th>extra</th><th>mta_tax</th><th>tip_amount</th><th>tolls_amount</th><th>improvement_surcharge</th><th>total_amount</th><th>congestion_surcharge</th><th>Airport_fee</th><th>FromBorough</th><th>ToBorough</th><th>is_airport_ride</th></tr><tr><td>u8</td><td>datetime[ms]</td><td>datetime[ms]</td><td>u8</td><td>f64</td><td>u8</td><td>cat</td><td>str</td><td>f64</td><td>f64</td><td>f64</td><td>f64</td><td>f64</td><td>f64</td><td>f64</td><td>f64</td><td>f64</td><td>cat</td><td>cat</td><td>bool</td></tr></thead><tbody><tr><td>2</td><td>2024-01-01 00:57:55</td><td>2024-01-01 01:17:43</td><td>1</td><td>1.72</td><td>1</td><td>&quot;N&quot;</td><td>&quot;Cash&quot;</td><td>17.7</td><td>1.0</td><td>0.5</td><td>0.0</td><td>0.0</td><td>1.0</td><td>22.7</td><td>2.5</td><td>0.0</td><td>&quot;Manhattan&quot;</td><td>&quot;Manhattan&quot;</td><td>false</td></tr><tr><td>1</td><td>2024-01-01 00:03:00</td><td>2024-01-01 00:09:36</td><td>1</td><td>1.8</td><td>1</td><td>&quot;N&quot;</td><td>&quot;Credit card&quot;</td><td>10.0</td><td>3.5</td><td>0.5</td><td>3.75</td><td>0.0</td><td>1.0</td><td>18.75</td><td>2.5</td><td>0.0</td><td>&quot;Manhattan&quot;</td><td>&quot;Manhattan&quot;</td><td>false</td></tr></tbody></table></div>"
      ],
      "text/plain": [
       "shape: (2, 20)\n",
       "┌──────────┬───────────┬───────────┬───────────┬───┬───────────┬───────────┬───────────┬───────────┐\n",
       "│ VendorID ┆ tpep_pick ┆ tpep_drop ┆ passenger ┆ … ┆ Airport_f ┆ FromBorou ┆ ToBorough ┆ is_airpor │\n",
       "│ ---      ┆ up_dateti ┆ off_datet ┆ _count    ┆   ┆ ee        ┆ gh        ┆ ---       ┆ t_ride    │\n",
       "│ u8       ┆ me        ┆ ime       ┆ ---       ┆   ┆ ---       ┆ ---       ┆ cat       ┆ ---       │\n",
       "│          ┆ ---       ┆ ---       ┆ u8        ┆   ┆ f64       ┆ cat       ┆           ┆ bool      │\n",
       "│          ┆ datetime[ ┆ datetime[ ┆           ┆   ┆           ┆           ┆           ┆           │\n",
       "│          ┆ ms]       ┆ ms]       ┆           ┆   ┆           ┆           ┆           ┆           │\n",
       "╞══════════╪═══════════╪═══════════╪═══════════╪═══╪═══════════╪═══════════╪═══════════╪═══════════╡\n",
       "│ 2        ┆ 2024-01-0 ┆ 2024-01-0 ┆ 1         ┆ … ┆ 0.0       ┆ Manhattan ┆ Manhattan ┆ false     │\n",
       "│          ┆ 1         ┆ 1         ┆           ┆   ┆           ┆           ┆           ┆           │\n",
       "│          ┆ 00:57:55  ┆ 01:17:43  ┆           ┆   ┆           ┆           ┆           ┆           │\n",
       "│ 1        ┆ 2024-01-0 ┆ 2024-01-0 ┆ 1         ┆ … ┆ 0.0       ┆ Manhattan ┆ Manhattan ┆ false     │\n",
       "│          ┆ 1         ┆ 1         ┆           ┆   ┆           ┆           ┆           ┆           │\n",
       "│          ┆ 00:03:00  ┆ 00:09:36  ┆           ┆   ┆           ┆           ┆           ┆           │\n",
       "└──────────┴───────────┴───────────┴───────────┴───┴───────────┴───────────┴───────────┴───────────┘"
      ]
     },
     "execution_count": 9,
     "metadata": {},
     "output_type": "execute_result"
    }
   ],
   "source": [
    "taxi_df = taxi_df.with_columns(\n",
    "    pl.when(pl.col(\"Airport_fee\") > 0)\n",
    "    .then(True)\n",
    "    .otherwise(False)\n",
    "    .alias(\"is_airport_ride\")\n",
    ")\n",
    "\n",
    "taxi_df.head(2)"
   ]
  },
  {
   "cell_type": "markdown",
   "id": "2a9aa518",
   "metadata": {},
   "source": [
    "### add boolean variable is_rush_hour, rush hours are defined as 6:30–9:30 and 15:30-20:00 during weekdays\n"
   ]
  },
  {
   "cell_type": "code",
   "execution_count": 10,
   "id": "3110b0f0",
   "metadata": {},
   "outputs": [
    {
     "data": {
      "text/html": [
       "<div><style>\n",
       ".dataframe > thead > tr,\n",
       ".dataframe > tbody > tr {\n",
       "  text-align: right;\n",
       "  white-space: pre-wrap;\n",
       "}\n",
       "</style>\n",
       "<small>shape: (2, 21)</small><table border=\"1\" class=\"dataframe\"><thead><tr><th>VendorID</th><th>tpep_pickup_datetime</th><th>tpep_dropoff_datetime</th><th>passenger_count</th><th>trip_distance</th><th>RatecodeID</th><th>store_and_fwd_flag</th><th>payment_type</th><th>fare_amount</th><th>extra</th><th>mta_tax</th><th>tip_amount</th><th>tolls_amount</th><th>improvement_surcharge</th><th>total_amount</th><th>congestion_surcharge</th><th>Airport_fee</th><th>FromBorough</th><th>ToBorough</th><th>is_airport_ride</th><th>is_rush_hour</th></tr><tr><td>u8</td><td>datetime[ms]</td><td>datetime[ms]</td><td>u8</td><td>f64</td><td>u8</td><td>cat</td><td>str</td><td>f64</td><td>f64</td><td>f64</td><td>f64</td><td>f64</td><td>f64</td><td>f64</td><td>f64</td><td>f64</td><td>cat</td><td>cat</td><td>bool</td><td>bool</td></tr></thead><tbody><tr><td>2</td><td>2024-01-01 00:57:55</td><td>2024-01-01 01:17:43</td><td>1</td><td>1.72</td><td>1</td><td>&quot;N&quot;</td><td>&quot;Cash&quot;</td><td>17.7</td><td>1.0</td><td>0.5</td><td>0.0</td><td>0.0</td><td>1.0</td><td>22.7</td><td>2.5</td><td>0.0</td><td>&quot;Manhattan&quot;</td><td>&quot;Manhattan&quot;</td><td>false</td><td>false</td></tr><tr><td>1</td><td>2024-01-01 00:03:00</td><td>2024-01-01 00:09:36</td><td>1</td><td>1.8</td><td>1</td><td>&quot;N&quot;</td><td>&quot;Credit card&quot;</td><td>10.0</td><td>3.5</td><td>0.5</td><td>3.75</td><td>0.0</td><td>1.0</td><td>18.75</td><td>2.5</td><td>0.0</td><td>&quot;Manhattan&quot;</td><td>&quot;Manhattan&quot;</td><td>false</td><td>false</td></tr></tbody></table></div>"
      ],
      "text/plain": [
       "shape: (2, 21)\n",
       "┌──────────┬───────────┬───────────┬───────────┬───┬───────────┬───────────┬───────────┬───────────┐\n",
       "│ VendorID ┆ tpep_pick ┆ tpep_drop ┆ passenger ┆ … ┆ FromBorou ┆ ToBorough ┆ is_airpor ┆ is_rush_h │\n",
       "│ ---      ┆ up_dateti ┆ off_datet ┆ _count    ┆   ┆ gh        ┆ ---       ┆ t_ride    ┆ our       │\n",
       "│ u8       ┆ me        ┆ ime       ┆ ---       ┆   ┆ ---       ┆ cat       ┆ ---       ┆ ---       │\n",
       "│          ┆ ---       ┆ ---       ┆ u8        ┆   ┆ cat       ┆           ┆ bool      ┆ bool      │\n",
       "│          ┆ datetime[ ┆ datetime[ ┆           ┆   ┆           ┆           ┆           ┆           │\n",
       "│          ┆ ms]       ┆ ms]       ┆           ┆   ┆           ┆           ┆           ┆           │\n",
       "╞══════════╪═══════════╪═══════════╪═══════════╪═══╪═══════════╪═══════════╪═══════════╪═══════════╡\n",
       "│ 2        ┆ 2024-01-0 ┆ 2024-01-0 ┆ 1         ┆ … ┆ Manhattan ┆ Manhattan ┆ false     ┆ false     │\n",
       "│          ┆ 1         ┆ 1         ┆           ┆   ┆           ┆           ┆           ┆           │\n",
       "│          ┆ 00:57:55  ┆ 01:17:43  ┆           ┆   ┆           ┆           ┆           ┆           │\n",
       "│ 1        ┆ 2024-01-0 ┆ 2024-01-0 ┆ 1         ┆ … ┆ Manhattan ┆ Manhattan ┆ false     ┆ false     │\n",
       "│          ┆ 1         ┆ 1         ┆           ┆   ┆           ┆           ┆           ┆           │\n",
       "│          ┆ 00:03:00  ┆ 00:09:36  ┆           ┆   ┆           ┆           ┆           ┆           │\n",
       "└──────────┴───────────┴───────────┴───────────┴───┴───────────┴───────────┴───────────┴───────────┘"
      ]
     },
     "execution_count": 10,
     "metadata": {},
     "output_type": "execute_result"
    }
   ],
   "source": [
    "taxi_df = taxi_df.with_columns(\n",
    "    pl.when(pl.col(\"tpep_pickup_datetime\").dt.weekday() < 5)\n",
    "    .then(\n",
    "        (\n",
    "            (\n",
    "                (\n",
    "                    pl.col(\"tpep_pickup_datetime\").dt.hour() * 60\n",
    "                    + pl.col(\"tpep_pickup_datetime\").dt.minute()\n",
    "                ).is_between(6 * 60 + 30, 9 * 60 + 30)\n",
    "            )\n",
    "            | (\n",
    "                (\n",
    "                    pl.col(\"tpep_pickup_datetime\").dt.hour() * 60\n",
    "                    + pl.col(\"tpep_pickup_datetime\").dt.minute()\n",
    "                ).is_between(15 * 60 + 30, 20 * 60)\n",
    "            )\n",
    "        )\n",
    "    )\n",
    "    .otherwise(False)\n",
    "    .alias(\"is_rush_hour\")\n",
    ")\n",
    "\n",
    "taxi_df.head(2)"
   ]
  },
  {
   "cell_type": "markdown",
   "id": "52b0b8b1",
   "metadata": {},
   "source": [
    "## 4. Feature extraction\n"
   ]
  },
  {
   "cell_type": "markdown",
   "id": "2ddf9200",
   "metadata": {},
   "source": [
    "### Renaming cols for consistence"
   ]
  },
  {
   "cell_type": "code",
   "execution_count": 14,
   "id": "423e2327",
   "metadata": {},
   "outputs": [
    {
     "data": {
      "text/html": [
       "<div><style>\n",
       ".dataframe > thead > tr,\n",
       ".dataframe > tbody > tr {\n",
       "  text-align: right;\n",
       "  white-space: pre-wrap;\n",
       "}\n",
       "</style>\n",
       "<small>shape: (2, 21)</small><table border=\"1\" class=\"dataframe\"><thead><tr><th>vendor_id</th><th>pickup_datetime</th><th>dropoff_datetime</th><th>passenger_count</th><th>trip_distance</th><th>rate_code</th><th>store_and_forward_flag</th><th>payment_type</th><th>fare_amount</th><th>extra</th><th>mta_tax</th><th>tip_amount</th><th>tolls_amount</th><th>improvement_surcharge</th><th>total_amount</th><th>congestion_surcharge</th><th>airport_fee</th><th>from_borough</th><th>to_borough</th><th>is_airport_ride</th><th>is_rush_hour</th></tr><tr><td>u8</td><td>datetime[ms]</td><td>datetime[ms]</td><td>u8</td><td>f64</td><td>u8</td><td>cat</td><td>str</td><td>f64</td><td>f64</td><td>f64</td><td>f64</td><td>f64</td><td>f64</td><td>f64</td><td>f64</td><td>f64</td><td>cat</td><td>cat</td><td>bool</td><td>bool</td></tr></thead><tbody><tr><td>2</td><td>2024-01-01 00:57:55</td><td>2024-01-01 01:17:43</td><td>1</td><td>1.72</td><td>1</td><td>&quot;N&quot;</td><td>&quot;Cash&quot;</td><td>17.7</td><td>1.0</td><td>0.5</td><td>0.0</td><td>0.0</td><td>1.0</td><td>22.7</td><td>2.5</td><td>0.0</td><td>&quot;Manhattan&quot;</td><td>&quot;Manhattan&quot;</td><td>false</td><td>false</td></tr><tr><td>1</td><td>2024-01-01 00:03:00</td><td>2024-01-01 00:09:36</td><td>1</td><td>1.8</td><td>1</td><td>&quot;N&quot;</td><td>&quot;Credit card&quot;</td><td>10.0</td><td>3.5</td><td>0.5</td><td>3.75</td><td>0.0</td><td>1.0</td><td>18.75</td><td>2.5</td><td>0.0</td><td>&quot;Manhattan&quot;</td><td>&quot;Manhattan&quot;</td><td>false</td><td>false</td></tr></tbody></table></div>"
      ],
      "text/plain": [
       "shape: (2, 21)\n",
       "┌───────────┬───────────┬───────────┬───────────┬───┬───────────┬───────────┬───────────┬──────────┐\n",
       "│ vendor_id ┆ pickup_da ┆ dropoff_d ┆ passenger ┆ … ┆ from_boro ┆ to_boroug ┆ is_airpor ┆ is_rush_ │\n",
       "│ ---       ┆ tetime    ┆ atetime   ┆ _count    ┆   ┆ ugh       ┆ h         ┆ t_ride    ┆ hour     │\n",
       "│ u8        ┆ ---       ┆ ---       ┆ ---       ┆   ┆ ---       ┆ ---       ┆ ---       ┆ ---      │\n",
       "│           ┆ datetime[ ┆ datetime[ ┆ u8        ┆   ┆ cat       ┆ cat       ┆ bool      ┆ bool     │\n",
       "│           ┆ ms]       ┆ ms]       ┆           ┆   ┆           ┆           ┆           ┆          │\n",
       "╞═══════════╪═══════════╪═══════════╪═══════════╪═══╪═══════════╪═══════════╪═══════════╪══════════╡\n",
       "│ 2         ┆ 2024-01-0 ┆ 2024-01-0 ┆ 1         ┆ … ┆ Manhattan ┆ Manhattan ┆ false     ┆ false    │\n",
       "│           ┆ 1         ┆ 1         ┆           ┆   ┆           ┆           ┆           ┆          │\n",
       "│           ┆ 00:57:55  ┆ 01:17:43  ┆           ┆   ┆           ┆           ┆           ┆          │\n",
       "│ 1         ┆ 2024-01-0 ┆ 2024-01-0 ┆ 1         ┆ … ┆ Manhattan ┆ Manhattan ┆ false     ┆ false    │\n",
       "│           ┆ 1         ┆ 1         ┆           ┆   ┆           ┆           ┆           ┆          │\n",
       "│           ┆ 00:03:00  ┆ 00:09:36  ┆           ┆   ┆           ┆           ┆           ┆          │\n",
       "└───────────┴───────────┴───────────┴───────────┴───┴───────────┴───────────┴───────────┴──────────┘"
      ]
     },
     "execution_count": 14,
     "metadata": {},
     "output_type": "execute_result"
    }
   ],
   "source": [
    "taxi_dataset = taxi_df.rename(\n",
    "    {\n",
    "        \"VendorID\": \"vendor_id\",\n",
    "        \"tpep_pickup_datetime\": \"pickup_datetime\",\n",
    "        \"tpep_dropoff_datetime\": \"dropoff_datetime\",\n",
    "        \"passenger_count\": \"passenger_count\",\n",
    "        \"trip_distance\": \"trip_distance\",\n",
    "        \"RatecodeID\": \"rate_code\",\n",
    "        \"store_and_fwd_flag\": \"store_and_forward_flag\",\n",
    "        \"payment_type\": \"payment_type\",\n",
    "        \"fare_amount\": \"fare_amount\",\n",
    "        \"extra\": \"extra\",\n",
    "        \"mta_tax\": \"mta_tax\",\n",
    "        \"tip_amount\": \"tip_amount\",\n",
    "        \"tolls_amount\": \"tolls_amount\",\n",
    "        \"improvement_surcharge\": \"improvement_surcharge\",\n",
    "        \"total_amount\": \"total_amount\",\n",
    "        \"congestion_surcharge\": \"congestion_surcharge\",\n",
    "        \"Airport_fee\": \"airport_fee\",\n",
    "        \"FromBorough\": \"from_borough\",\n",
    "        \"ToBorough\": \"to_borough\",\n",
    "        \"is_airport_ride\": \"is_airport_ride\",\n",
    "        \"is_rush_hour\": \"is_rush_hour\",\n",
    "    }\n",
    ")\n",
    "\n",
    "taxi_dataset.head(2)"
   ]
  },
  {
   "cell_type": "markdown",
   "id": "e1a323cb",
   "metadata": {},
   "source": [
    "### apply dummy encoding to features\n",
    "- payment type\n",
    "- pickup borough\n",
    "- dropoff borough\n"
   ]
  },
  {
   "cell_type": "code",
   "execution_count": null,
   "id": "b13768b6",
   "metadata": {},
   "outputs": [
    {
     "data": {
      "text/html": [
       "<div><style>\n",
       ".dataframe > thead > tr,\n",
       ".dataframe > tbody > tr {\n",
       "  text-align: right;\n",
       "  white-space: pre-wrap;\n",
       "}\n",
       "</style>\n",
       "<small>shape: (3, 37)</small><table border=\"1\" class=\"dataframe\"><thead><tr><th>vendor_id</th><th>pickup_datetime</th><th>dropoff_datetime</th><th>passenger_count</th><th>trip_distance</th><th>rate_code</th><th>store_and_forward_flag</th><th>payment_type_Cash</th><th>payment_type_Credit card</th><th>payment_type_Other</th><th>fare_amount</th><th>extra</th><th>mta_tax</th><th>tip_amount</th><th>tolls_amount</th><th>improvement_surcharge</th><th>total_amount</th><th>congestion_surcharge</th><th>airport_fee</th><th>from_borough_Bronx</th><th>from_borough_Brooklyn</th><th>from_borough_EWR</th><th>from_borough_Manhattan</th><th>from_borough_N/A</th><th>from_borough_Queens</th><th>from_borough_Staten Island</th><th>from_borough_Unknown</th><th>to_borough_Bronx</th><th>to_borough_Brooklyn</th><th>to_borough_EWR</th><th>to_borough_Manhattan</th><th>to_borough_N/A</th><th>to_borough_Queens</th><th>to_borough_Staten Island</th><th>to_borough_Unknown</th><th>is_airport_ride</th><th>is_rush_hour</th></tr><tr><td>u8</td><td>datetime[ms]</td><td>datetime[ms]</td><td>u8</td><td>f64</td><td>u8</td><td>cat</td><td>u8</td><td>u8</td><td>u8</td><td>f64</td><td>f64</td><td>f64</td><td>f64</td><td>f64</td><td>f64</td><td>f64</td><td>f64</td><td>f64</td><td>u8</td><td>u8</td><td>u8</td><td>u8</td><td>u8</td><td>u8</td><td>u8</td><td>u8</td><td>u8</td><td>u8</td><td>u8</td><td>u8</td><td>u8</td><td>u8</td><td>u8</td><td>u8</td><td>bool</td><td>bool</td></tr></thead><tbody><tr><td>2</td><td>2024-01-01 00:57:55</td><td>2024-01-01 01:17:43</td><td>1</td><td>1.72</td><td>1</td><td>&quot;N&quot;</td><td>1</td><td>0</td><td>0</td><td>17.7</td><td>1.0</td><td>0.5</td><td>0.0</td><td>0.0</td><td>1.0</td><td>22.7</td><td>2.5</td><td>0.0</td><td>0</td><td>0</td><td>0</td><td>1</td><td>0</td><td>0</td><td>0</td><td>0</td><td>0</td><td>0</td><td>0</td><td>1</td><td>0</td><td>0</td><td>0</td><td>0</td><td>false</td><td>false</td></tr><tr><td>1</td><td>2024-01-01 00:03:00</td><td>2024-01-01 00:09:36</td><td>1</td><td>1.8</td><td>1</td><td>&quot;N&quot;</td><td>0</td><td>1</td><td>0</td><td>10.0</td><td>3.5</td><td>0.5</td><td>3.75</td><td>0.0</td><td>1.0</td><td>18.75</td><td>2.5</td><td>0.0</td><td>0</td><td>0</td><td>0</td><td>1</td><td>0</td><td>0</td><td>0</td><td>0</td><td>0</td><td>0</td><td>0</td><td>1</td><td>0</td><td>0</td><td>0</td><td>0</td><td>false</td><td>false</td></tr><tr><td>1</td><td>2024-01-01 00:17:06</td><td>2024-01-01 00:35:01</td><td>1</td><td>4.7</td><td>1</td><td>&quot;N&quot;</td><td>0</td><td>1</td><td>0</td><td>23.3</td><td>3.5</td><td>0.5</td><td>3.0</td><td>0.0</td><td>1.0</td><td>31.3</td><td>2.5</td><td>0.0</td><td>0</td><td>0</td><td>0</td><td>1</td><td>0</td><td>0</td><td>0</td><td>0</td><td>0</td><td>0</td><td>0</td><td>1</td><td>0</td><td>0</td><td>0</td><td>0</td><td>false</td><td>false</td></tr></tbody></table></div>"
      ],
      "text/plain": [
       "shape: (3, 37)\n",
       "┌───────────┬───────────┬───────────┬───────────┬───┬───────────┬───────────┬───────────┬──────────┐\n",
       "│ vendor_id ┆ pickup_da ┆ dropoff_d ┆ passenger ┆ … ┆ to_boroug ┆ to_boroug ┆ is_airpor ┆ is_rush_ │\n",
       "│ ---       ┆ tetime    ┆ atetime   ┆ _count    ┆   ┆ h_Staten  ┆ h_Unknown ┆ t_ride    ┆ hour     │\n",
       "│ u8        ┆ ---       ┆ ---       ┆ ---       ┆   ┆ Island    ┆ ---       ┆ ---       ┆ ---      │\n",
       "│           ┆ datetime[ ┆ datetime[ ┆ u8        ┆   ┆ ---       ┆ u8        ┆ bool      ┆ bool     │\n",
       "│           ┆ ms]       ┆ ms]       ┆           ┆   ┆ u8        ┆           ┆           ┆          │\n",
       "╞═══════════╪═══════════╪═══════════╪═══════════╪═══╪═══════════╪═══════════╪═══════════╪══════════╡\n",
       "│ 2         ┆ 2024-01-0 ┆ 2024-01-0 ┆ 1         ┆ … ┆ 0         ┆ 0         ┆ false     ┆ false    │\n",
       "│           ┆ 1         ┆ 1         ┆           ┆   ┆           ┆           ┆           ┆          │\n",
       "│           ┆ 00:57:55  ┆ 01:17:43  ┆           ┆   ┆           ┆           ┆           ┆          │\n",
       "│ 1         ┆ 2024-01-0 ┆ 2024-01-0 ┆ 1         ┆ … ┆ 0         ┆ 0         ┆ false     ┆ false    │\n",
       "│           ┆ 1         ┆ 1         ┆           ┆   ┆           ┆           ┆           ┆          │\n",
       "│           ┆ 00:03:00  ┆ 00:09:36  ┆           ┆   ┆           ┆           ┆           ┆          │\n",
       "│ 1         ┆ 2024-01-0 ┆ 2024-01-0 ┆ 1         ┆ … ┆ 0         ┆ 0         ┆ false     ┆ false    │\n",
       "│           ┆ 1         ┆ 1         ┆           ┆   ┆           ┆           ┆           ┆          │\n",
       "│           ┆ 00:17:06  ┆ 00:35:01  ┆           ┆   ┆           ┆           ┆           ┆          │\n",
       "└───────────┴───────────┴───────────┴───────────┴───┴───────────┴───────────┴───────────┴──────────┘"
      ]
     },
     "execution_count": 15,
     "metadata": {},
     "output_type": "execute_result"
    }
   ],
   "source": [
    "taxi_dataset = taxi_dataset.to_dummies(\n",
    "    columns=[\"payment_type\", \"from_borough\", \"to_borough\"]\n",
    ")\n",
    "taxi_dataset.head(3)"
   ]
  },
  {
   "cell_type": "markdown",
   "id": "8c6a0e66",
   "metadata": {},
   "source": [
    "### add integer variables for counting daily events and add features aggregating daily rides information:\n",
    "\n",
    "\n",
    "- total number of rides (target variable)\n",
    "- number of airport rides\n",
    "- number of rush hour rides\n"
   ]
  },
  {
   "cell_type": "code",
   "execution_count": 23,
   "id": "52660355",
   "metadata": {},
   "outputs": [
    {
     "data": {
      "text/html": [
       "<div><style>\n",
       ".dataframe > thead > tr,\n",
       ".dataframe > tbody > tr {\n",
       "  text-align: right;\n",
       "  white-space: pre-wrap;\n",
       "}\n",
       "</style>\n",
       "<small>shape: (3, 12)</small><table border=\"1\" class=\"dataframe\"><thead><tr><th>ride_date</th><th>total_rides</th><th>airport_rides</th><th>rush_hour_rides</th><th>average_fare_amount</th><th>average_distance</th><th>total_amounts</th><th>total_congestion_surcharge</th><th>total_passengers</th><th>total_amount_by_cash</th><th>total_amount_by_card</th><th>total_amount_by_other</th></tr><tr><td>date</td><td>u32</td><td>u32</td><td>u32</td><td>f64</td><td>f64</td><td>f64</td><td>f64</td><td>i64</td><td>f64</td><td>f64</td><td>f64</td></tr></thead><tbody><tr><td>2024-10-29</td><td>115205</td><td>9852</td><td>0</td><td>20.378804</td><td>3.295926</td><td>3.4397e6</td><td>265773.5</td><td>145849</td><td>402115.11</td><td>2.9432e6</td><td>94387.08</td></tr><tr><td>2024-02-13</td><td>65972</td><td>5260</td><td>0</td><td>16.778934</td><td>3.072934</td><td>1.6873e6</td><td>153185.0</td><td>87060</td><td>240729.07</td><td>1.4046e6</td><td>41988.65</td></tr><tr><td>2024-02-16</td><td>97238</td><td>7820</td><td>0</td><td>19.080597</td><td>3.222458</td><td>2.7544e6</td><td>224397.5</td><td>132654</td><td>369485.31</td><td>2.3253e6</td><td>59696.58</td></tr></tbody></table></div>"
      ],
      "text/plain": [
       "shape: (3, 12)\n",
       "┌───────────┬───────────┬───────────┬───────────┬───┬───────────┬───────────┬───────────┬──────────┐\n",
       "│ ride_date ┆ total_rid ┆ airport_r ┆ rush_hour ┆ … ┆ total_pas ┆ total_amo ┆ total_amo ┆ total_am │\n",
       "│ ---       ┆ es        ┆ ides      ┆ _rides    ┆   ┆ sengers   ┆ unt_by_ca ┆ unt_by_ca ┆ ount_by_ │\n",
       "│ date      ┆ ---       ┆ ---       ┆ ---       ┆   ┆ ---       ┆ sh        ┆ rd        ┆ other    │\n",
       "│           ┆ u32       ┆ u32       ┆ u32       ┆   ┆ i64       ┆ ---       ┆ ---       ┆ ---      │\n",
       "│           ┆           ┆           ┆           ┆   ┆           ┆ f64       ┆ f64       ┆ f64      │\n",
       "╞═══════════╪═══════════╪═══════════╪═══════════╪═══╪═══════════╪═══════════╪═══════════╪══════════╡\n",
       "│ 2024-10-2 ┆ 115205    ┆ 9852      ┆ 0         ┆ … ┆ 145849    ┆ 402115.11 ┆ 2.9432e6  ┆ 94387.08 │\n",
       "│ 9         ┆           ┆           ┆           ┆   ┆           ┆           ┆           ┆          │\n",
       "│ 2024-02-1 ┆ 65972     ┆ 5260      ┆ 0         ┆ … ┆ 87060     ┆ 240729.07 ┆ 1.4046e6  ┆ 41988.65 │\n",
       "│ 3         ┆           ┆           ┆           ┆   ┆           ┆           ┆           ┆          │\n",
       "│ 2024-02-1 ┆ 97238     ┆ 7820      ┆ 0         ┆ … ┆ 132654    ┆ 369485.31 ┆ 2.3253e6  ┆ 59696.58 │\n",
       "│ 6         ┆           ┆           ┆           ┆   ┆           ┆           ┆           ┆          │\n",
       "└───────────┴───────────┴───────────┴───────────┴───┴───────────┴───────────┴───────────┴──────────┘"
      ]
     },
     "execution_count": 23,
     "metadata": {},
     "output_type": "execute_result"
    }
   ],
   "source": [
    "daily_data_df = (\n",
    "    taxi_dataset.lazy()\n",
    "    .with_columns(pl.col(\"pickup_datetime\").dt.date().alias(\"ride_date\"))\n",
    "    .group_by(\"ride_date\")\n",
    "    .agg(\n",
    "        pl.len().alias(\"total_rides\"),\n",
    "        pl.col(\"is_airport_ride\").sum().alias(\"airport_rides\"),\n",
    "        pl.col(\"is_rush_hour\").sum().alias(\"rush_hour_rides\"),\n",
    "        pl.col(\"fare_amount\").mean().alias(\"average_fare_amount\"),\n",
    "        pl.col(\"trip_distance\").mean().alias(\"average_distance\"),\n",
    "        pl.col(\"total_amount\").sum().alias(\"total_amounts\"),\n",
    "        pl.col(\"congestion_surcharge\").sum().alias(\"total_congestion_surcharge\"),\n",
    "        pl.col(\"passenger_count\").sum().alias(\"total_passengers\"),\n",
    "        pl.col(\"total_amount\")\n",
    "        .filter(pl.col(\"payment_type_Cash\") == 1)\n",
    "        .sum()\n",
    "        .alias(\"total_amount_by_cash\"),\n",
    "        pl.col(\"total_amount\")\n",
    "        .filter(pl.col(\"payment_type_Credit card\") == 1)\n",
    "        .sum()\n",
    "        .alias(\"total_amount_by_card\"),\n",
    "        pl.col(\"total_amount\")\n",
    "        .filter(pl.col(\"payment_type_Other\") == 1)\n",
    "        .sum()\n",
    "        .alias(\"total_amount_by_other\"),\n",
    "    )\n",
    "    .collect()\n",
    ")\n",
    "\n",
    "daily_data_df.tail(3)"
   ]
  },
  {
   "cell_type": "markdown",
   "id": "45220320",
   "metadata": {},
   "source": [
    "### add time features, add column date, indicating day with given features\n",
    "\n",
    "\n",
    "- quarter\n",
    "- month\n",
    "- day_of_month\n",
    "- day_of_week\n",
    "- is_weekend (boolean)"
   ]
  },
  {
   "cell_type": "code",
   "execution_count": 24,
   "id": "56532c55",
   "metadata": {},
   "outputs": [],
   "source": [
    "taxi_dataset = (\n",
    "    taxi_dataset.lazy()\n",
    "    .with_columns(\n",
    "        [\n",
    "            pl.col(\"pickup_datetime\").dt.date().alias(\"ride_date\"),\n",
    "            pl.col(\"pickup_datetime\").dt.quarter().alias(\"quarter\"),\n",
    "            pl.col(\"pickup_datetime\").dt.month().alias(\"month\"),\n",
    "            pl.col(\"pickup_datetime\").dt.day().alias(\"day_of_month\"),\n",
    "            pl.col(\"pickup_datetime\").dt.weekday().alias(\"day_of_week\"),\n",
    "            (pl.col(\"pickup_datetime\").dt.weekday() >= 5).alias(\"is_weekend\"),\n",
    "        ]\n",
    "    )\n",
    "    .collect()\n",
    ")"
   ]
  },
  {
   "cell_type": "code",
   "execution_count": 25,
   "id": "3daf4943",
   "metadata": {},
   "outputs": [
    {
     "data": {
      "text/html": [
       "<div><style>\n",
       ".dataframe > thead > tr,\n",
       ".dataframe > tbody > tr {\n",
       "  text-align: right;\n",
       "  white-space: pre-wrap;\n",
       "}\n",
       "</style>\n",
       "<small>shape: (3, 43)</small><table border=\"1\" class=\"dataframe\"><thead><tr><th>vendor_id</th><th>pickup_datetime</th><th>dropoff_datetime</th><th>passenger_count</th><th>trip_distance</th><th>rate_code</th><th>store_and_forward_flag</th><th>payment_type_Cash</th><th>payment_type_Credit card</th><th>payment_type_Other</th><th>fare_amount</th><th>extra</th><th>mta_tax</th><th>tip_amount</th><th>tolls_amount</th><th>improvement_surcharge</th><th>total_amount</th><th>congestion_surcharge</th><th>airport_fee</th><th>from_borough_Bronx</th><th>from_borough_Brooklyn</th><th>from_borough_EWR</th><th>from_borough_Manhattan</th><th>from_borough_N/A</th><th>from_borough_Queens</th><th>from_borough_Staten Island</th><th>from_borough_Unknown</th><th>to_borough_Bronx</th><th>to_borough_Brooklyn</th><th>to_borough_EWR</th><th>to_borough_Manhattan</th><th>to_borough_N/A</th><th>to_borough_Queens</th><th>to_borough_Staten Island</th><th>to_borough_Unknown</th><th>is_airport_ride</th><th>is_rush_hour</th><th>ride_date</th><th>quarter</th><th>month</th><th>day_of_month</th><th>day_of_week</th><th>is_weekend</th></tr><tr><td>u8</td><td>datetime[ms]</td><td>datetime[ms]</td><td>u8</td><td>f64</td><td>u8</td><td>cat</td><td>u8</td><td>u8</td><td>u8</td><td>f64</td><td>f64</td><td>f64</td><td>f64</td><td>f64</td><td>f64</td><td>f64</td><td>f64</td><td>f64</td><td>u8</td><td>u8</td><td>u8</td><td>u8</td><td>u8</td><td>u8</td><td>u8</td><td>u8</td><td>u8</td><td>u8</td><td>u8</td><td>u8</td><td>u8</td><td>u8</td><td>u8</td><td>u8</td><td>bool</td><td>bool</td><td>date</td><td>i8</td><td>i8</td><td>i8</td><td>i8</td><td>bool</td></tr></thead><tbody><tr><td>2</td><td>2024-01-01 00:57:55</td><td>2024-01-01 01:17:43</td><td>1</td><td>1.72</td><td>1</td><td>&quot;N&quot;</td><td>1</td><td>0</td><td>0</td><td>17.7</td><td>1.0</td><td>0.5</td><td>0.0</td><td>0.0</td><td>1.0</td><td>22.7</td><td>2.5</td><td>0.0</td><td>0</td><td>0</td><td>0</td><td>1</td><td>0</td><td>0</td><td>0</td><td>0</td><td>0</td><td>0</td><td>0</td><td>1</td><td>0</td><td>0</td><td>0</td><td>0</td><td>false</td><td>false</td><td>2024-01-01</td><td>1</td><td>1</td><td>1</td><td>1</td><td>false</td></tr><tr><td>1</td><td>2024-01-01 00:03:00</td><td>2024-01-01 00:09:36</td><td>1</td><td>1.8</td><td>1</td><td>&quot;N&quot;</td><td>0</td><td>1</td><td>0</td><td>10.0</td><td>3.5</td><td>0.5</td><td>3.75</td><td>0.0</td><td>1.0</td><td>18.75</td><td>2.5</td><td>0.0</td><td>0</td><td>0</td><td>0</td><td>1</td><td>0</td><td>0</td><td>0</td><td>0</td><td>0</td><td>0</td><td>0</td><td>1</td><td>0</td><td>0</td><td>0</td><td>0</td><td>false</td><td>false</td><td>2024-01-01</td><td>1</td><td>1</td><td>1</td><td>1</td><td>false</td></tr><tr><td>1</td><td>2024-01-01 00:17:06</td><td>2024-01-01 00:35:01</td><td>1</td><td>4.7</td><td>1</td><td>&quot;N&quot;</td><td>0</td><td>1</td><td>0</td><td>23.3</td><td>3.5</td><td>0.5</td><td>3.0</td><td>0.0</td><td>1.0</td><td>31.3</td><td>2.5</td><td>0.0</td><td>0</td><td>0</td><td>0</td><td>1</td><td>0</td><td>0</td><td>0</td><td>0</td><td>0</td><td>0</td><td>0</td><td>1</td><td>0</td><td>0</td><td>0</td><td>0</td><td>false</td><td>false</td><td>2024-01-01</td><td>1</td><td>1</td><td>1</td><td>1</td><td>false</td></tr></tbody></table></div>"
      ],
      "text/plain": [
       "shape: (3, 43)\n",
       "┌───────────┬────────────┬────────────┬────────────┬───┬───────┬───────────┬───────────┬───────────┐\n",
       "│ vendor_id ┆ pickup_dat ┆ dropoff_da ┆ passenger_ ┆ … ┆ month ┆ day_of_mo ┆ day_of_we ┆ is_weeken │\n",
       "│ ---       ┆ etime      ┆ tetime     ┆ count      ┆   ┆ ---   ┆ nth       ┆ ek        ┆ d         │\n",
       "│ u8        ┆ ---        ┆ ---        ┆ ---        ┆   ┆ i8    ┆ ---       ┆ ---       ┆ ---       │\n",
       "│           ┆ datetime[m ┆ datetime[m ┆ u8         ┆   ┆       ┆ i8        ┆ i8        ┆ bool      │\n",
       "│           ┆ s]         ┆ s]         ┆            ┆   ┆       ┆           ┆           ┆           │\n",
       "╞═══════════╪════════════╪════════════╪════════════╪═══╪═══════╪═══════════╪═══════════╪═══════════╡\n",
       "│ 2         ┆ 2024-01-01 ┆ 2024-01-01 ┆ 1          ┆ … ┆ 1     ┆ 1         ┆ 1         ┆ false     │\n",
       "│           ┆ 00:57:55   ┆ 01:17:43   ┆            ┆   ┆       ┆           ┆           ┆           │\n",
       "│ 1         ┆ 2024-01-01 ┆ 2024-01-01 ┆ 1          ┆ … ┆ 1     ┆ 1         ┆ 1         ┆ false     │\n",
       "│           ┆ 00:03:00   ┆ 00:09:36   ┆            ┆   ┆       ┆           ┆           ┆           │\n",
       "│ 1         ┆ 2024-01-01 ┆ 2024-01-01 ┆ 1          ┆ … ┆ 1     ┆ 1         ┆ 1         ┆ false     │\n",
       "│           ┆ 00:17:06   ┆ 00:35:01   ┆            ┆   ┆       ┆           ┆           ┆           │\n",
       "└───────────┴────────────┴────────────┴────────────┴───┴───────┴───────────┴───────────┴───────────┘"
      ]
     },
     "execution_count": 25,
     "metadata": {},
     "output_type": "execute_result"
    }
   ],
   "source": [
    "taxi_dataset.head(3)"
   ]
  },
  {
   "cell_type": "markdown",
   "id": "61a6a7fb",
   "metadata": {},
   "source": [
    "### make sure to exclude other columns, unnecessary for machine learning, e.g. IDs, timestamps, unused financial information\n"
   ]
  },
  {
   "cell_type": "code",
   "execution_count": 28,
   "id": "2cac5a87",
   "metadata": {},
   "outputs": [
    {
     "data": {
      "text/html": [
       "<div><style>\n",
       ".dataframe > thead > tr,\n",
       ".dataframe > tbody > tr {\n",
       "  text-align: right;\n",
       "  white-space: pre-wrap;\n",
       "}\n",
       "</style>\n",
       "<small>shape: (3, 33)</small><table border=\"1\" class=\"dataframe\"><thead><tr><th>passenger_count</th><th>trip_distance</th><th>rate_code</th><th>store_and_forward_flag</th><th>payment_type_Cash</th><th>payment_type_Credit card</th><th>payment_type_Other</th><th>tip_amount</th><th>total_amount</th><th>from_borough_Bronx</th><th>from_borough_Brooklyn</th><th>from_borough_EWR</th><th>from_borough_Manhattan</th><th>from_borough_N/A</th><th>from_borough_Queens</th><th>from_borough_Staten Island</th><th>from_borough_Unknown</th><th>to_borough_Bronx</th><th>to_borough_Brooklyn</th><th>to_borough_EWR</th><th>to_borough_Manhattan</th><th>to_borough_N/A</th><th>to_borough_Queens</th><th>to_borough_Staten Island</th><th>to_borough_Unknown</th><th>is_airport_ride</th><th>is_rush_hour</th><th>ride_date</th><th>quarter</th><th>month</th><th>day_of_month</th><th>day_of_week</th><th>is_weekend</th></tr><tr><td>u8</td><td>f64</td><td>u8</td><td>cat</td><td>u8</td><td>u8</td><td>u8</td><td>f64</td><td>f64</td><td>u8</td><td>u8</td><td>u8</td><td>u8</td><td>u8</td><td>u8</td><td>u8</td><td>u8</td><td>u8</td><td>u8</td><td>u8</td><td>u8</td><td>u8</td><td>u8</td><td>u8</td><td>u8</td><td>bool</td><td>bool</td><td>date</td><td>i8</td><td>i8</td><td>i8</td><td>i8</td><td>bool</td></tr></thead><tbody><tr><td>1</td><td>1.72</td><td>1</td><td>&quot;N&quot;</td><td>1</td><td>0</td><td>0</td><td>0.0</td><td>22.7</td><td>0</td><td>0</td><td>0</td><td>1</td><td>0</td><td>0</td><td>0</td><td>0</td><td>0</td><td>0</td><td>0</td><td>1</td><td>0</td><td>0</td><td>0</td><td>0</td><td>false</td><td>false</td><td>2024-01-01</td><td>1</td><td>1</td><td>1</td><td>1</td><td>false</td></tr><tr><td>1</td><td>1.8</td><td>1</td><td>&quot;N&quot;</td><td>0</td><td>1</td><td>0</td><td>3.75</td><td>18.75</td><td>0</td><td>0</td><td>0</td><td>1</td><td>0</td><td>0</td><td>0</td><td>0</td><td>0</td><td>0</td><td>0</td><td>1</td><td>0</td><td>0</td><td>0</td><td>0</td><td>false</td><td>false</td><td>2024-01-01</td><td>1</td><td>1</td><td>1</td><td>1</td><td>false</td></tr><tr><td>1</td><td>4.7</td><td>1</td><td>&quot;N&quot;</td><td>0</td><td>1</td><td>0</td><td>3.0</td><td>31.3</td><td>0</td><td>0</td><td>0</td><td>1</td><td>0</td><td>0</td><td>0</td><td>0</td><td>0</td><td>0</td><td>0</td><td>1</td><td>0</td><td>0</td><td>0</td><td>0</td><td>false</td><td>false</td><td>2024-01-01</td><td>1</td><td>1</td><td>1</td><td>1</td><td>false</td></tr></tbody></table></div>"
      ],
      "text/plain": [
       "shape: (3, 33)\n",
       "┌────────────┬────────────┬───────────┬────────────┬───┬───────┬───────────┬───────────┬───────────┐\n",
       "│ passenger_ ┆ trip_dista ┆ rate_code ┆ store_and_ ┆ … ┆ month ┆ day_of_mo ┆ day_of_we ┆ is_weeken │\n",
       "│ count      ┆ nce        ┆ ---       ┆ forward_fl ┆   ┆ ---   ┆ nth       ┆ ek        ┆ d         │\n",
       "│ ---        ┆ ---        ┆ u8        ┆ ag         ┆   ┆ i8    ┆ ---       ┆ ---       ┆ ---       │\n",
       "│ u8         ┆ f64        ┆           ┆ ---        ┆   ┆       ┆ i8        ┆ i8        ┆ bool      │\n",
       "│            ┆            ┆           ┆ cat        ┆   ┆       ┆           ┆           ┆           │\n",
       "╞════════════╪════════════╪═══════════╪════════════╪═══╪═══════╪═══════════╪═══════════╪═══════════╡\n",
       "│ 1          ┆ 1.72       ┆ 1         ┆ N          ┆ … ┆ 1     ┆ 1         ┆ 1         ┆ false     │\n",
       "│ 1          ┆ 1.8        ┆ 1         ┆ N          ┆ … ┆ 1     ┆ 1         ┆ 1         ┆ false     │\n",
       "│ 1          ┆ 4.7        ┆ 1         ┆ N          ┆ … ┆ 1     ┆ 1         ┆ 1         ┆ false     │\n",
       "└────────────┴────────────┴───────────┴────────────┴───┴───────┴───────────┴───────────┴───────────┘"
      ]
     },
     "execution_count": 28,
     "metadata": {},
     "output_type": "execute_result"
    }
   ],
   "source": [
    "taxi_dataset = taxi_dataset.drop(\n",
    "    [\n",
    "        \"vendor_id\",\n",
    "        \"pickup_datetime\",\n",
    "        \"dropoff_datetime\",\n",
    "        \"fare_amount\",\n",
    "        \"extra\",\n",
    "        \"mta_tax\",\n",
    "        \"tolls_amount\",\n",
    "        \"improvement_surcharge\",\n",
    "        \"airport_fee\",\n",
    "        \"congestion_surcharge\",\n",
    "    ]\n",
    ")\n",
    "\n",
    "taxi_dataset.head(3)"
   ]
  },
  {
   "cell_type": "markdown",
   "id": "9cbfec60",
   "metadata": {},
   "source": [
    "### properly name all columns\n",
    "\n",
    "Done above"
   ]
  },
  {
   "cell_type": "markdown",
   "id": "5f7fbb74",
   "metadata": {},
   "source": [
    "### save results as dataset.parquet file\n"
   ]
  },
  {
   "cell_type": "code",
   "execution_count": null,
   "id": "1c0737bf",
   "metadata": {},
   "outputs": [],
   "source": [
    "TAXI_DATASET = os.path.join(DATA_DIR, \"dataset.parquet\")\n",
    "TAXI_DAILY_DATASET = os.path.join(DATA_DIR, \"daily_dataset.parquet\")\n",
    "\n",
    "taxi_dataset.write_parquet(TAXI_DATASET)\n",
    "daily_data_df.write_parquet(TAXI_DAILY_DATASET)\n",
    "\n",
    "# NOTE That 2 datasets, one daily aggregated, another per ride"
   ]
  },
  {
   "cell_type": "markdown",
   "id": "94bab1dd",
   "metadata": {},
   "source": [
    "## 5. Data analysis"
   ]
  },
  {
   "cell_type": "code",
   "execution_count": 34,
   "id": "b10df2e9",
   "metadata": {},
   "outputs": [
    {
     "name": "stdout",
     "output_type": "stream",
     "text": [
      "taxi_dataset.shape=(36651941, 33)\n",
      "daily_data_df.shape=(366, 12)\n"
     ]
    }
   ],
   "source": [
    "print(f\"taxi_dataset.shape={taxi_dataset.shape}\")\n",
    "print(f\"daily_data_df.shape={daily_data_df.shape}\")"
   ]
  },
  {
   "cell_type": "code",
   "execution_count": 35,
   "id": "2aa8e31e",
   "metadata": {},
   "outputs": [
    {
     "data": {
      "text/html": [
       "<div><style>\n",
       ".dataframe > thead > tr,\n",
       ".dataframe > tbody > tr {\n",
       "  text-align: right;\n",
       "  white-space: pre-wrap;\n",
       "}\n",
       "</style>\n",
       "<small>shape: (5, 12)</small><table border=\"1\" class=\"dataframe\"><thead><tr><th>ride_date</th><th>total_rides</th><th>airport_rides</th><th>rush_hour_rides</th><th>average_fare_amount</th><th>average_distance</th><th>total_amounts</th><th>total_congestion_surcharge</th><th>total_passengers</th><th>total_amount_by_cash</th><th>total_amount_by_card</th><th>total_amount_by_other</th></tr><tr><td>date</td><td>u32</td><td>u32</td><td>u32</td><td>f64</td><td>f64</td><td>f64</td><td>f64</td><td>i64</td><td>f64</td><td>f64</td><td>f64</td></tr></thead><tbody><tr><td>2024-12-13</td><td>141501</td><td>10044</td><td>0</td><td>19.908724</td><td>3.071592</td><td>4.1609e6</td><td>330525.0</td><td>189881</td><td>425204.44</td><td>3.6191e6</td><td>116579.13</td></tr><tr><td>2024-08-04</td><td>77023</td><td>10778</td><td>0</td><td>22.115171</td><td>6.798165</td><td>2.3990e6</td><td>170932.5</td><td>111685</td><td>333662.49</td><td>1.9793e6</td><td>86016.1</td></tr><tr><td>2024-04-16</td><td>101734</td><td>8729</td><td>0</td><td>19.789107</td><td>3.319102</td><td>2.9674e6</td><td>234442.5</td><td>130878</td><td>381459.7</td><td>2.5219e6</td><td>64008.03</td></tr><tr><td>2024-12-07</td><td>130675</td><td>7820</td><td>0</td><td>19.474376</td><td>2.988881</td><td>3.6329e6</td><td>306916.0</td><td>189293</td><td>429783.76</td><td>3.0791e6</td><td>123977.41</td></tr><tr><td>2024-03-17</td><td>88215</td><td>10124</td><td>0</td><td>21.239526</td><td>3.968873</td><td>2.6896e6</td><td>201272.5</td><td>123739</td><td>354618.88</td><td>2.2685e6</td><td>66452.97</td></tr></tbody></table></div>"
      ],
      "text/plain": [
       "shape: (5, 12)\n",
       "┌───────────┬───────────┬───────────┬───────────┬───┬───────────┬───────────┬───────────┬──────────┐\n",
       "│ ride_date ┆ total_rid ┆ airport_r ┆ rush_hour ┆ … ┆ total_pas ┆ total_amo ┆ total_amo ┆ total_am │\n",
       "│ ---       ┆ es        ┆ ides      ┆ _rides    ┆   ┆ sengers   ┆ unt_by_ca ┆ unt_by_ca ┆ ount_by_ │\n",
       "│ date      ┆ ---       ┆ ---       ┆ ---       ┆   ┆ ---       ┆ sh        ┆ rd        ┆ other    │\n",
       "│           ┆ u32       ┆ u32       ┆ u32       ┆   ┆ i64       ┆ ---       ┆ ---       ┆ ---      │\n",
       "│           ┆           ┆           ┆           ┆   ┆           ┆ f64       ┆ f64       ┆ f64      │\n",
       "╞═══════════╪═══════════╪═══════════╪═══════════╪═══╪═══════════╪═══════════╪═══════════╪══════════╡\n",
       "│ 2024-12-1 ┆ 141501    ┆ 10044     ┆ 0         ┆ … ┆ 189881    ┆ 425204.44 ┆ 3.6191e6  ┆ 116579.1 │\n",
       "│ 3         ┆           ┆           ┆           ┆   ┆           ┆           ┆           ┆ 3        │\n",
       "│ 2024-08-0 ┆ 77023     ┆ 10778     ┆ 0         ┆ … ┆ 111685    ┆ 333662.49 ┆ 1.9793e6  ┆ 86016.1  │\n",
       "│ 4         ┆           ┆           ┆           ┆   ┆           ┆           ┆           ┆          │\n",
       "│ 2024-04-1 ┆ 101734    ┆ 8729      ┆ 0         ┆ … ┆ 130878    ┆ 381459.7  ┆ 2.5219e6  ┆ 64008.03 │\n",
       "│ 6         ┆           ┆           ┆           ┆   ┆           ┆           ┆           ┆          │\n",
       "│ 2024-12-0 ┆ 130675    ┆ 7820      ┆ 0         ┆ … ┆ 189293    ┆ 429783.76 ┆ 3.0791e6  ┆ 123977.4 │\n",
       "│ 7         ┆           ┆           ┆           ┆   ┆           ┆           ┆           ┆ 1        │\n",
       "│ 2024-03-1 ┆ 88215     ┆ 10124     ┆ 0         ┆ … ┆ 123739    ┆ 354618.88 ┆ 2.2685e6  ┆ 66452.97 │\n",
       "│ 7         ┆           ┆           ┆           ┆   ┆           ┆           ┆           ┆          │\n",
       "└───────────┴───────────┴───────────┴───────────┴───┴───────────┴───────────┴───────────┴──────────┘"
      ]
     },
     "execution_count": 35,
     "metadata": {},
     "output_type": "execute_result"
    }
   ],
   "source": [
    "daily_data_df.head(5)"
   ]
  },
  {
   "cell_type": "code",
   "execution_count": 31,
   "id": "ad2173bd",
   "metadata": {},
   "outputs": [
    {
     "data": {
      "text/html": [
       "<div><style>\n",
       ".dataframe > thead > tr,\n",
       ".dataframe > tbody > tr {\n",
       "  text-align: right;\n",
       "  white-space: pre-wrap;\n",
       "}\n",
       "</style>\n",
       "<small>shape: (5, 33)</small><table border=\"1\" class=\"dataframe\"><thead><tr><th>passenger_count</th><th>trip_distance</th><th>rate_code</th><th>store_and_forward_flag</th><th>payment_type_Cash</th><th>payment_type_Credit card</th><th>payment_type_Other</th><th>tip_amount</th><th>total_amount</th><th>from_borough_Bronx</th><th>from_borough_Brooklyn</th><th>from_borough_EWR</th><th>from_borough_Manhattan</th><th>from_borough_N/A</th><th>from_borough_Queens</th><th>from_borough_Staten Island</th><th>from_borough_Unknown</th><th>to_borough_Bronx</th><th>to_borough_Brooklyn</th><th>to_borough_EWR</th><th>to_borough_Manhattan</th><th>to_borough_N/A</th><th>to_borough_Queens</th><th>to_borough_Staten Island</th><th>to_borough_Unknown</th><th>is_airport_ride</th><th>is_rush_hour</th><th>ride_date</th><th>quarter</th><th>month</th><th>day_of_month</th><th>day_of_week</th><th>is_weekend</th></tr><tr><td>u8</td><td>f64</td><td>u8</td><td>cat</td><td>u8</td><td>u8</td><td>u8</td><td>f64</td><td>f64</td><td>u8</td><td>u8</td><td>u8</td><td>u8</td><td>u8</td><td>u8</td><td>u8</td><td>u8</td><td>u8</td><td>u8</td><td>u8</td><td>u8</td><td>u8</td><td>u8</td><td>u8</td><td>u8</td><td>bool</td><td>bool</td><td>date</td><td>i8</td><td>i8</td><td>i8</td><td>i8</td><td>bool</td></tr></thead><tbody><tr><td>1</td><td>1.72</td><td>1</td><td>&quot;N&quot;</td><td>1</td><td>0</td><td>0</td><td>0.0</td><td>22.7</td><td>0</td><td>0</td><td>0</td><td>1</td><td>0</td><td>0</td><td>0</td><td>0</td><td>0</td><td>0</td><td>0</td><td>1</td><td>0</td><td>0</td><td>0</td><td>0</td><td>false</td><td>false</td><td>2024-01-01</td><td>1</td><td>1</td><td>1</td><td>1</td><td>false</td></tr><tr><td>1</td><td>1.8</td><td>1</td><td>&quot;N&quot;</td><td>0</td><td>1</td><td>0</td><td>3.75</td><td>18.75</td><td>0</td><td>0</td><td>0</td><td>1</td><td>0</td><td>0</td><td>0</td><td>0</td><td>0</td><td>0</td><td>0</td><td>1</td><td>0</td><td>0</td><td>0</td><td>0</td><td>false</td><td>false</td><td>2024-01-01</td><td>1</td><td>1</td><td>1</td><td>1</td><td>false</td></tr><tr><td>1</td><td>4.7</td><td>1</td><td>&quot;N&quot;</td><td>0</td><td>1</td><td>0</td><td>3.0</td><td>31.3</td><td>0</td><td>0</td><td>0</td><td>1</td><td>0</td><td>0</td><td>0</td><td>0</td><td>0</td><td>0</td><td>0</td><td>1</td><td>0</td><td>0</td><td>0</td><td>0</td><td>false</td><td>false</td><td>2024-01-01</td><td>1</td><td>1</td><td>1</td><td>1</td><td>false</td></tr><tr><td>1</td><td>1.4</td><td>1</td><td>&quot;N&quot;</td><td>0</td><td>1</td><td>0</td><td>2.0</td><td>17.0</td><td>0</td><td>0</td><td>0</td><td>1</td><td>0</td><td>0</td><td>0</td><td>0</td><td>0</td><td>0</td><td>0</td><td>1</td><td>0</td><td>0</td><td>0</td><td>0</td><td>false</td><td>false</td><td>2024-01-01</td><td>1</td><td>1</td><td>1</td><td>1</td><td>false</td></tr><tr><td>1</td><td>0.8</td><td>1</td><td>&quot;N&quot;</td><td>0</td><td>1</td><td>0</td><td>3.2</td><td>16.1</td><td>0</td><td>0</td><td>0</td><td>1</td><td>0</td><td>0</td><td>0</td><td>0</td><td>0</td><td>0</td><td>0</td><td>1</td><td>0</td><td>0</td><td>0</td><td>0</td><td>false</td><td>false</td><td>2024-01-01</td><td>1</td><td>1</td><td>1</td><td>1</td><td>false</td></tr></tbody></table></div>"
      ],
      "text/plain": [
       "shape: (5, 33)\n",
       "┌────────────┬────────────┬───────────┬────────────┬───┬───────┬───────────┬───────────┬───────────┐\n",
       "│ passenger_ ┆ trip_dista ┆ rate_code ┆ store_and_ ┆ … ┆ month ┆ day_of_mo ┆ day_of_we ┆ is_weeken │\n",
       "│ count      ┆ nce        ┆ ---       ┆ forward_fl ┆   ┆ ---   ┆ nth       ┆ ek        ┆ d         │\n",
       "│ ---        ┆ ---        ┆ u8        ┆ ag         ┆   ┆ i8    ┆ ---       ┆ ---       ┆ ---       │\n",
       "│ u8         ┆ f64        ┆           ┆ ---        ┆   ┆       ┆ i8        ┆ i8        ┆ bool      │\n",
       "│            ┆            ┆           ┆ cat        ┆   ┆       ┆           ┆           ┆           │\n",
       "╞════════════╪════════════╪═══════════╪════════════╪═══╪═══════╪═══════════╪═══════════╪═══════════╡\n",
       "│ 1          ┆ 1.72       ┆ 1         ┆ N          ┆ … ┆ 1     ┆ 1         ┆ 1         ┆ false     │\n",
       "│ 1          ┆ 1.8        ┆ 1         ┆ N          ┆ … ┆ 1     ┆ 1         ┆ 1         ┆ false     │\n",
       "│ 1          ┆ 4.7        ┆ 1         ┆ N          ┆ … ┆ 1     ┆ 1         ┆ 1         ┆ false     │\n",
       "│ 1          ┆ 1.4        ┆ 1         ┆ N          ┆ … ┆ 1     ┆ 1         ┆ 1         ┆ false     │\n",
       "│ 1          ┆ 0.8        ┆ 1         ┆ N          ┆ … ┆ 1     ┆ 1         ┆ 1         ┆ false     │\n",
       "└────────────┴────────────┴───────────┴────────────┴───┴───────┴───────────┴───────────┴───────────┘"
      ]
     },
     "execution_count": 31,
     "metadata": {},
     "output_type": "execute_result"
    }
   ],
   "source": [
    "taxi_dataset.head(5)"
   ]
  },
  {
   "cell_type": "code",
   "execution_count": 32,
   "id": "d04e67d3",
   "metadata": {},
   "outputs": [
    {
     "data": {
      "text/html": [
       "<div><style>\n",
       ".dataframe > thead > tr,\n",
       ".dataframe > tbody > tr {\n",
       "  text-align: right;\n",
       "  white-space: pre-wrap;\n",
       "}\n",
       "</style>\n",
       "<small>shape: (9, 34)</small><table border=\"1\" class=\"dataframe\"><thead><tr><th>statistic</th><th>passenger_count</th><th>trip_distance</th><th>rate_code</th><th>store_and_forward_flag</th><th>payment_type_Cash</th><th>payment_type_Credit card</th><th>payment_type_Other</th><th>tip_amount</th><th>total_amount</th><th>from_borough_Bronx</th><th>from_borough_Brooklyn</th><th>from_borough_EWR</th><th>from_borough_Manhattan</th><th>from_borough_N/A</th><th>from_borough_Queens</th><th>from_borough_Staten Island</th><th>from_borough_Unknown</th><th>to_borough_Bronx</th><th>to_borough_Brooklyn</th><th>to_borough_EWR</th><th>to_borough_Manhattan</th><th>to_borough_N/A</th><th>to_borough_Queens</th><th>to_borough_Staten Island</th><th>to_borough_Unknown</th><th>is_airport_ride</th><th>is_rush_hour</th><th>ride_date</th><th>quarter</th><th>month</th><th>day_of_month</th><th>day_of_week</th><th>is_weekend</th></tr><tr><td>str</td><td>f64</td><td>f64</td><td>f64</td><td>str</td><td>f64</td><td>f64</td><td>f64</td><td>f64</td><td>f64</td><td>f64</td><td>f64</td><td>f64</td><td>f64</td><td>f64</td><td>f64</td><td>f64</td><td>f64</td><td>f64</td><td>f64</td><td>f64</td><td>f64</td><td>f64</td><td>f64</td><td>f64</td><td>f64</td><td>f64</td><td>f64</td><td>str</td><td>f64</td><td>f64</td><td>f64</td><td>f64</td><td>f64</td></tr></thead><tbody><tr><td>&quot;count&quot;</td><td>3.6651941e7</td><td>3.6651941e7</td><td>3.6651941e7</td><td>&quot;36651941&quot;</td><td>3.6651941e7</td><td>3.6651941e7</td><td>3.6651941e7</td><td>3.6651941e7</td><td>3.6651941e7</td><td>3.6651941e7</td><td>3.6651941e7</td><td>3.6651941e7</td><td>3.6651941e7</td><td>3.6651941e7</td><td>3.6651941e7</td><td>3.6651941e7</td><td>3.6651941e7</td><td>3.6651941e7</td><td>3.6651941e7</td><td>3.6651941e7</td><td>3.6651941e7</td><td>3.6651941e7</td><td>3.6651941e7</td><td>3.6651941e7</td><td>3.6651941e7</td><td>3.6651941e7</td><td>3.6651941e7</td><td>&quot;36651941&quot;</td><td>3.6651941e7</td><td>3.6651941e7</td><td>3.6651941e7</td><td>3.6651941e7</td><td>3.6651941e7</td></tr><tr><td>&quot;null_count&quot;</td><td>0.0</td><td>0.0</td><td>0.0</td><td>&quot;0&quot;</td><td>0.0</td><td>0.0</td><td>0.0</td><td>0.0</td><td>0.0</td><td>0.0</td><td>0.0</td><td>0.0</td><td>0.0</td><td>0.0</td><td>0.0</td><td>0.0</td><td>0.0</td><td>0.0</td><td>0.0</td><td>0.0</td><td>0.0</td><td>0.0</td><td>0.0</td><td>0.0</td><td>0.0</td><td>0.0</td><td>0.0</td><td>&quot;0&quot;</td><td>0.0</td><td>0.0</td><td>0.0</td><td>0.0</td><td>0.0</td></tr><tr><td>&quot;mean&quot;</td><td>1.348256</td><td>3.508593</td><td>2.314405</td><td>null</td><td>0.149105</td><td>0.821602</td><td>0.029294</td><td>3.596618</td><td>29.113593</td><td>0.002094</td><td>0.00889</td><td>0.00016</td><td>0.884001</td><td>0.000602</td><td>0.101105</td><td>0.000026</td><td>0.003123</td><td>0.005932</td><td>0.040117</td><td>0.002846</td><td>0.889345</td><td>0.004885</td><td>0.052136</td><td>0.000253</td><td>0.004485</td><td>0.089775</td><td>0.0</td><td>&quot;2024-07-05 02:44:45.786425&quot;</td><td>2.540021</td><td>6.636625</td><td>15.621464</td><td>3.989754</td><td>0.419645</td></tr><tr><td>&quot;std&quot;</td><td>0.807448</td><td>85.840687</td><td>10.893353</td><td>null</td><td>0.356192</td><td>0.382848</td><td>0.168629</td><td>4.148354</td><td>23.639274</td><td>0.045716</td><td>0.093867</td><td>0.012634</td><td>0.320224</td><td>0.02453</td><td>0.301467</td><td>0.005086</td><td>0.055795</td><td>0.07679</td><td>0.196233</td><td>0.053268</td><td>0.313704</td><td>0.069722</td><td>0.222302</td><td>0.015917</td><td>0.066822</td><td>null</td><td>null</td><td>null</td><td>1.125072</td><td>3.461932</td><td>8.697241</td><td>1.933215</td><td>null</td></tr><tr><td>&quot;min&quot;</td><td>1.0</td><td>0.0</td><td>1.0</td><td>null</td><td>0.0</td><td>0.0</td><td>0.0</td><td>0.0</td><td>0.0</td><td>0.0</td><td>0.0</td><td>0.0</td><td>0.0</td><td>0.0</td><td>0.0</td><td>0.0</td><td>0.0</td><td>0.0</td><td>0.0</td><td>0.0</td><td>0.0</td><td>0.0</td><td>0.0</td><td>0.0</td><td>0.0</td><td>0.0</td><td>0.0</td><td>&quot;2024-01-01&quot;</td><td>1.0</td><td>1.0</td><td>1.0</td><td>1.0</td><td>0.0</td></tr><tr><td>&quot;25%&quot;</td><td>1.0</td><td>1.0</td><td>1.0</td><td>null</td><td>0.0</td><td>1.0</td><td>0.0</td><td>1.0</td><td>15.96</td><td>0.0</td><td>0.0</td><td>0.0</td><td>1.0</td><td>0.0</td><td>0.0</td><td>0.0</td><td>0.0</td><td>0.0</td><td>0.0</td><td>0.0</td><td>1.0</td><td>0.0</td><td>0.0</td><td>0.0</td><td>0.0</td><td>null</td><td>null</td><td>&quot;2024-04-05&quot;</td><td>2.0</td><td>4.0</td><td>8.0</td><td>2.0</td><td>null</td></tr><tr><td>&quot;50%&quot;</td><td>1.0</td><td>1.7</td><td>1.0</td><td>null</td><td>0.0</td><td>1.0</td><td>0.0</td><td>2.86</td><td>21.0</td><td>0.0</td><td>0.0</td><td>0.0</td><td>1.0</td><td>0.0</td><td>0.0</td><td>0.0</td><td>0.0</td><td>0.0</td><td>0.0</td><td>0.0</td><td>1.0</td><td>0.0</td><td>0.0</td><td>0.0</td><td>0.0</td><td>null</td><td>null</td><td>&quot;2024-07-03&quot;</td><td>3.0</td><td>7.0</td><td>16.0</td><td>4.0</td><td>null</td></tr><tr><td>&quot;75%&quot;</td><td>1.0</td><td>3.28</td><td>1.0</td><td>null</td><td>0.0</td><td>1.0</td><td>0.0</td><td>4.45</td><td>31.0</td><td>0.0</td><td>0.0</td><td>0.0</td><td>1.0</td><td>0.0</td><td>0.0</td><td>0.0</td><td>0.0</td><td>0.0</td><td>0.0</td><td>0.0</td><td>1.0</td><td>0.0</td><td>0.0</td><td>0.0</td><td>0.0</td><td>null</td><td>null</td><td>&quot;2024-10-08&quot;</td><td>4.0</td><td>10.0</td><td>23.0</td><td>6.0</td><td>null</td></tr><tr><td>&quot;max&quot;</td><td>6.0</td><td>160244.91</td><td>99.0</td><td>null</td><td>1.0</td><td>1.0</td><td>1.0</td><td>747.47</td><td>999.0</td><td>1.0</td><td>1.0</td><td>1.0</td><td>1.0</td><td>1.0</td><td>1.0</td><td>1.0</td><td>1.0</td><td>1.0</td><td>1.0</td><td>1.0</td><td>1.0</td><td>1.0</td><td>1.0</td><td>1.0</td><td>1.0</td><td>1.0</td><td>0.0</td><td>&quot;2024-12-31&quot;</td><td>4.0</td><td>12.0</td><td>31.0</td><td>7.0</td><td>1.0</td></tr></tbody></table></div>"
      ],
      "text/plain": [
       "shape: (9, 34)\n",
       "┌───────────┬───────────┬───────────┬───────────┬───┬───────────┬───────────┬───────────┬──────────┐\n",
       "│ statistic ┆ passenger ┆ trip_dist ┆ rate_code ┆ … ┆ month     ┆ day_of_mo ┆ day_of_we ┆ is_weeke │\n",
       "│ ---       ┆ _count    ┆ ance      ┆ ---       ┆   ┆ ---       ┆ nth       ┆ ek        ┆ nd       │\n",
       "│ str       ┆ ---       ┆ ---       ┆ f64       ┆   ┆ f64       ┆ ---       ┆ ---       ┆ ---      │\n",
       "│           ┆ f64       ┆ f64       ┆           ┆   ┆           ┆ f64       ┆ f64       ┆ f64      │\n",
       "╞═══════════╪═══════════╪═══════════╪═══════════╪═══╪═══════════╪═══════════╪═══════════╪══════════╡\n",
       "│ count     ┆ 3.6651941 ┆ 3.6651941 ┆ 3.6651941 ┆ … ┆ 3.6651941 ┆ 3.6651941 ┆ 3.6651941 ┆ 3.665194 │\n",
       "│           ┆ e7        ┆ e7        ┆ e7        ┆   ┆ e7        ┆ e7        ┆ e7        ┆ 1e7      │\n",
       "│ null_coun ┆ 0.0       ┆ 0.0       ┆ 0.0       ┆ … ┆ 0.0       ┆ 0.0       ┆ 0.0       ┆ 0.0      │\n",
       "│ t         ┆           ┆           ┆           ┆   ┆           ┆           ┆           ┆          │\n",
       "│ mean      ┆ 1.348256  ┆ 3.508593  ┆ 2.314405  ┆ … ┆ 6.636625  ┆ 15.621464 ┆ 3.989754  ┆ 0.419645 │\n",
       "│ std       ┆ 0.807448  ┆ 85.840687 ┆ 10.893353 ┆ … ┆ 3.461932  ┆ 8.697241  ┆ 1.933215  ┆ null     │\n",
       "│ min       ┆ 1.0       ┆ 0.0       ┆ 1.0       ┆ … ┆ 1.0       ┆ 1.0       ┆ 1.0       ┆ 0.0      │\n",
       "│ 25%       ┆ 1.0       ┆ 1.0       ┆ 1.0       ┆ … ┆ 4.0       ┆ 8.0       ┆ 2.0       ┆ null     │\n",
       "│ 50%       ┆ 1.0       ┆ 1.7       ┆ 1.0       ┆ … ┆ 7.0       ┆ 16.0      ┆ 4.0       ┆ null     │\n",
       "│ 75%       ┆ 1.0       ┆ 3.28      ┆ 1.0       ┆ … ┆ 10.0      ┆ 23.0      ┆ 6.0       ┆ null     │\n",
       "│ max       ┆ 6.0       ┆ 160244.91 ┆ 99.0      ┆ … ┆ 12.0      ┆ 31.0      ┆ 7.0       ┆ 1.0      │\n",
       "└───────────┴───────────┴───────────┴───────────┴───┴───────────┴───────────┴───────────┴──────────┘"
      ]
     },
     "execution_count": 32,
     "metadata": {},
     "output_type": "execute_result"
    }
   ],
   "source": [
    "taxi_dataset.describe()"
   ]
  },
  {
   "cell_type": "code",
   "execution_count": 36,
   "id": "1fea5338",
   "metadata": {},
   "outputs": [
    {
     "data": {
      "text/html": [
       "<div><style>\n",
       ".dataframe > thead > tr,\n",
       ".dataframe > tbody > tr {\n",
       "  text-align: right;\n",
       "  white-space: pre-wrap;\n",
       "}\n",
       "</style>\n",
       "<small>shape: (9, 13)</small><table border=\"1\" class=\"dataframe\"><thead><tr><th>statistic</th><th>ride_date</th><th>total_rides</th><th>airport_rides</th><th>rush_hour_rides</th><th>average_fare_amount</th><th>average_distance</th><th>total_amounts</th><th>total_congestion_surcharge</th><th>total_passengers</th><th>total_amount_by_cash</th><th>total_amount_by_card</th><th>total_amount_by_other</th></tr><tr><td>str</td><td>str</td><td>f64</td><td>f64</td><td>f64</td><td>f64</td><td>f64</td><td>f64</td><td>f64</td><td>f64</td><td>f64</td><td>f64</td><td>f64</td></tr></thead><tbody><tr><td>&quot;count&quot;</td><td>&quot;366&quot;</td><td>366.0</td><td>366.0</td><td>366.0</td><td>366.0</td><td>366.0</td><td>366.0</td><td>366.0</td><td>366.0</td><td>366.0</td><td>366.0</td><td>366.0</td></tr><tr><td>&quot;null_count&quot;</td><td>&quot;0&quot;</td><td>0.0</td><td>0.0</td><td>0.0</td><td>0.0</td><td>0.0</td><td>0.0</td><td>0.0</td><td>0.0</td><td>0.0</td><td>0.0</td><td>0.0</td></tr><tr><td>&quot;mean&quot;</td><td>&quot;2024-07-01 12:00:00&quot;</td><td>100141.915301</td><td>8990.199454</td><td>0.0</td><td>19.980507</td><td>3.54219</td><td>2.9155e6</td><td>230239.359344</td><td>135016.945355</td><td>373328.374754</td><td>2.4637e6</td><td>78429.164945</td></tr><tr><td>&quot;std&quot;</td><td>null</td><td>15389.315534</td><td>1720.291197</td><td>0.0</td><td>1.210568</td><td>0.551708</td><td>463485.679415</td><td>37878.95429</td><td>18739.908913</td><td>36500.436851</td><td>430470.311473</td><td>17405.019591</td></tr><tr><td>&quot;min&quot;</td><td>&quot;2024-01-01&quot;</td><td>47394.0</td><td>3356.0</td><td>0.0</td><td>16.691075</td><td>2.767982</td><td>1.3262e6</td><td>107827.5</td><td>74202.0</td><td>240729.07</td><td>996620.34</td><td>41303.84</td></tr><tr><td>&quot;25%&quot;</td><td>&quot;2024-04-01&quot;</td><td>89621.0</td><td>7871.0</td><td>0.0</td><td>19.139729</td><td>3.226801</td><td>2.5851e6</td><td>203506.0</td><td>122264.0</td><td>352859.1</td><td>2.1718e6</td><td>65782.48</td></tr><tr><td>&quot;50%&quot;</td><td>&quot;2024-07-02&quot;</td><td>100793.0</td><td>9033.0</td><td>0.0</td><td>20.001156</td><td>3.38899</td><td>2.9217e6</td><td>232892.5</td><td>134113.0</td><td>376665.61</td><td>2.4668e6</td><td>79736.24</td></tr><tr><td>&quot;75%&quot;</td><td>&quot;2024-10-01&quot;</td><td>110862.0</td><td>10147.0</td><td>0.0</td><td>20.731037</td><td>3.753691</td><td>3.2249e6</td><td>256977.0</td><td>147295.0</td><td>400186.16</td><td>2.7469e6</td><td>90710.19</td></tr><tr><td>&quot;max&quot;</td><td>&quot;2024-12-31&quot;</td><td>141966.0</td><td>14929.0</td><td>0.0</td><td>24.476789</td><td>7.92771</td><td>4.4927e6</td><td>330525.0</td><td>199496.0</td><td>451228.63</td><td>3.9404e6</td><td>123977.41</td></tr></tbody></table></div>"
      ],
      "text/plain": [
       "shape: (9, 13)\n",
       "┌───────────┬───────────┬───────────┬───────────┬───┬───────────┬───────────┬───────────┬──────────┐\n",
       "│ statistic ┆ ride_date ┆ total_rid ┆ airport_r ┆ … ┆ total_pas ┆ total_amo ┆ total_amo ┆ total_am │\n",
       "│ ---       ┆ ---       ┆ es        ┆ ides      ┆   ┆ sengers   ┆ unt_by_ca ┆ unt_by_ca ┆ ount_by_ │\n",
       "│ str       ┆ str       ┆ ---       ┆ ---       ┆   ┆ ---       ┆ sh        ┆ rd        ┆ other    │\n",
       "│           ┆           ┆ f64       ┆ f64       ┆   ┆ f64       ┆ ---       ┆ ---       ┆ ---      │\n",
       "│           ┆           ┆           ┆           ┆   ┆           ┆ f64       ┆ f64       ┆ f64      │\n",
       "╞═══════════╪═══════════╪═══════════╪═══════════╪═══╪═══════════╪═══════════╪═══════════╪══════════╡\n",
       "│ count     ┆ 366       ┆ 366.0     ┆ 366.0     ┆ … ┆ 366.0     ┆ 366.0     ┆ 366.0     ┆ 366.0    │\n",
       "│ null_coun ┆ 0         ┆ 0.0       ┆ 0.0       ┆ … ┆ 0.0       ┆ 0.0       ┆ 0.0       ┆ 0.0      │\n",
       "│ t         ┆           ┆           ┆           ┆   ┆           ┆           ┆           ┆          │\n",
       "│ mean      ┆ 2024-07-0 ┆ 100141.91 ┆ 8990.1994 ┆ … ┆ 135016.94 ┆ 373328.37 ┆ 2.4637e6  ┆ 78429.16 │\n",
       "│           ┆ 1         ┆ 5301      ┆ 54        ┆   ┆ 5355      ┆ 4754      ┆           ┆ 4945     │\n",
       "│           ┆ 12:00:00  ┆           ┆           ┆   ┆           ┆           ┆           ┆          │\n",
       "│ std       ┆ null      ┆ 15389.315 ┆ 1720.2911 ┆ … ┆ 18739.908 ┆ 36500.436 ┆ 430470.31 ┆ 17405.01 │\n",
       "│           ┆           ┆ 534       ┆ 97        ┆   ┆ 913       ┆ 851       ┆ 1473      ┆ 9591     │\n",
       "│ min       ┆ 2024-01-0 ┆ 47394.0   ┆ 3356.0    ┆ … ┆ 74202.0   ┆ 240729.07 ┆ 996620.34 ┆ 41303.84 │\n",
       "│           ┆ 1         ┆           ┆           ┆   ┆           ┆           ┆           ┆          │\n",
       "│ 25%       ┆ 2024-04-0 ┆ 89621.0   ┆ 7871.0    ┆ … ┆ 122264.0  ┆ 352859.1  ┆ 2.1718e6  ┆ 65782.48 │\n",
       "│           ┆ 1         ┆           ┆           ┆   ┆           ┆           ┆           ┆          │\n",
       "│ 50%       ┆ 2024-07-0 ┆ 100793.0  ┆ 9033.0    ┆ … ┆ 134113.0  ┆ 376665.61 ┆ 2.4668e6  ┆ 79736.24 │\n",
       "│           ┆ 2         ┆           ┆           ┆   ┆           ┆           ┆           ┆          │\n",
       "│ 75%       ┆ 2024-10-0 ┆ 110862.0  ┆ 10147.0   ┆ … ┆ 147295.0  ┆ 400186.16 ┆ 2.7469e6  ┆ 90710.19 │\n",
       "│           ┆ 1         ┆           ┆           ┆   ┆           ┆           ┆           ┆          │\n",
       "│ max       ┆ 2024-12-3 ┆ 141966.0  ┆ 14929.0   ┆ … ┆ 199496.0  ┆ 451228.63 ┆ 3.9404e6  ┆ 123977.4 │\n",
       "│           ┆ 1         ┆           ┆           ┆   ┆           ┆           ┆           ┆ 1        │\n",
       "└───────────┴───────────┴───────────┴───────────┴───┴───────────┴───────────┴───────────┴──────────┘"
      ]
     },
     "execution_count": 36,
     "metadata": {},
     "output_type": "execute_result"
    }
   ],
   "source": [
    "daily_data_df.describe()"
   ]
  },
  {
   "cell_type": "code",
   "execution_count": 33,
   "id": "cc2ddfbc",
   "metadata": {},
   "outputs": [
    {
     "data": {
      "text/plain": [
       "Schema([('passenger_count', UInt8),\n",
       "        ('trip_distance', Float64),\n",
       "        ('rate_code', UInt8),\n",
       "        ('store_and_forward_flag', Categorical),\n",
       "        ('payment_type_Cash', UInt8),\n",
       "        ('payment_type_Credit card', UInt8),\n",
       "        ('payment_type_Other', UInt8),\n",
       "        ('tip_amount', Float64),\n",
       "        ('total_amount', Float64),\n",
       "        ('from_borough_Bronx', UInt8),\n",
       "        ('from_borough_Brooklyn', UInt8),\n",
       "        ('from_borough_EWR', UInt8),\n",
       "        ('from_borough_Manhattan', UInt8),\n",
       "        ('from_borough_N/A', UInt8),\n",
       "        ('from_borough_Queens', UInt8),\n",
       "        ('from_borough_Staten Island', UInt8),\n",
       "        ('from_borough_Unknown', UInt8),\n",
       "        ('to_borough_Bronx', UInt8),\n",
       "        ('to_borough_Brooklyn', UInt8),\n",
       "        ('to_borough_EWR', UInt8),\n",
       "        ('to_borough_Manhattan', UInt8),\n",
       "        ('to_borough_N/A', UInt8),\n",
       "        ('to_borough_Queens', UInt8),\n",
       "        ('to_borough_Staten Island', UInt8),\n",
       "        ('to_borough_Unknown', UInt8),\n",
       "        ('is_airport_ride', Boolean),\n",
       "        ('is_rush_hour', Boolean),\n",
       "        ('ride_date', Date),\n",
       "        ('quarter', Int8),\n",
       "        ('month', Int8),\n",
       "        ('day_of_month', Int8),\n",
       "        ('day_of_week', Int8),\n",
       "        ('is_weekend', Boolean)])"
      ]
     },
     "execution_count": 33,
     "metadata": {},
     "output_type": "execute_result"
    }
   ],
   "source": [
    "taxi_dataset.schema"
   ]
  },
  {
   "cell_type": "code",
   "execution_count": 37,
   "id": "d5003cbd",
   "metadata": {},
   "outputs": [
    {
     "data": {
      "text/plain": [
       "Schema([('ride_date', Date),\n",
       "        ('total_rides', UInt32),\n",
       "        ('airport_rides', UInt32),\n",
       "        ('rush_hour_rides', UInt32),\n",
       "        ('average_fare_amount', Float64),\n",
       "        ('average_distance', Float64),\n",
       "        ('total_amounts', Float64),\n",
       "        ('total_congestion_surcharge', Float64),\n",
       "        ('total_passengers', Int64),\n",
       "        ('total_amount_by_cash', Float64),\n",
       "        ('total_amount_by_card', Float64),\n",
       "        ('total_amount_by_other', Float64)])"
      ]
     },
     "execution_count": 37,
     "metadata": {},
     "output_type": "execute_result"
    }
   ],
   "source": [
    "daily_data_df.schema"
   ]
  },
  {
   "cell_type": "markdown",
   "id": "19bd8d8e",
   "metadata": {},
   "source": [
    "### Plots"
   ]
  },
  {
   "cell_type": "code",
   "execution_count": 40,
   "id": "3cef2971",
   "metadata": {},
   "outputs": [],
   "source": [
    "import matplotlib.pyplot as plt"
   ]
  },
  {
   "cell_type": "code",
   "execution_count": 39,
   "id": "c705cc0e",
   "metadata": {},
   "outputs": [],
   "source": [
    "daily_data_df = daily_data_df.sort(by=\"ride_date\")"
   ]
  },
  {
   "cell_type": "code",
   "execution_count": 47,
   "id": "dda01237",
   "metadata": {},
   "outputs": [
    {
     "data": {
      "image/png": "[encoded data removed]",
      "text/plain": [
       "<Figure size 800x400 with 1 Axes>"
      ]
     },
     "metadata": {},
     "output_type": "display_data"
    }
   ],
   "source": [
    "plt.figure(figsize=(8, 4))\n",
    "plt.title(\"Histogram of daily courses\")\n",
    "plt.hist(daily_data_df[\"total_rides\"], bins=20, edgecolor=\"black\")\n",
    "plt.xlabel(\"Rides per Day\")\n",
    "plt.ylabel(\"Number of Days\")\n",
    "plt.grid()\n",
    "plt.show()"
   ]
  },
  {
   "cell_type": "code",
   "execution_count": 54,
   "id": "3a97131a",
   "metadata": {},
   "outputs": [
    {
     "data": {
      "image/png": "[encoded data removed]",
      "text/plain": [
       "<Figure size 1000x400 with 1 Axes>"
      ]
     },
     "metadata": {},
     "output_type": "display_data"
    }
   ],
   "source": [
    "plt.figure(figsize=(10, 4))\n",
    "plt.title(\"Date vs Rides\")\n",
    "plt.plot(\n",
    "    daily_data_df[\"ride_date\"],\n",
    "    daily_data_df[\"total_rides\"],\n",
    "    marker=\"o\",\n",
    "    c=\"g\",\n",
    "    markersize=1,\n",
    ")\n",
    "plt.xlabel(\"Total Rides\")\n",
    "plt.ylabel(\"Day\")\n",
    "plt.tick_params(axis=\"x\", rotation=45)\n",
    "plt.grid()\n",
    "plt.show()"
   ]
  }
 ],
 "metadata": {
  "kernelspec": {
   "display_name": "Python 3 (ipykernel)",
   "language": "python",
   "name": "python3"
  },
  "language_info": {
   "codemirror_mode": {
    "name": "ipython",
    "version": 3
   },
   "file_extension": ".py",
   "mimetype": "text/x-python",
   "name": "python",
   "nbconvert_exporter": "python",
   "pygments_lexer": "ipython3",
   "version": "3.12.3"
  }
 },
 "nbformat": 4,
 "nbformat_minor": 5
}
